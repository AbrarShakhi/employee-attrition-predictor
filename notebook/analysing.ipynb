{
 "cells": [
  {
   "cell_type": "code",
   "execution_count": 343,
   "metadata": {
    "_cell_guid": "04ce3127-bebc-4122-9e36-58030ba72497",
    "_uuid": "336ea956-83d7-4c64-8e68-e07189798001",
    "collapsed": false,
    "execution": {
     "iopub.execute_input": "2025-04-29T05:15:26.607247Z",
     "iopub.status.busy": "2025-04-29T05:15:26.606870Z",
     "iopub.status.idle": "2025-04-29T05:15:28.672336Z",
     "shell.execute_reply": "2025-04-29T05:15:28.671373Z",
     "shell.execute_reply.started": "2025-04-29T05:15:26.607217Z"
    },
    "jupyter": {
     "outputs_hidden": false
    },
    "trusted": true
   },
   "outputs": [],
   "source": [
    "import pandas as pd\n",
    "import numpy as np\n",
    "\n",
    "import matplotlib.pyplot as plt\n",
    "import plotly.express as px\n",
    "import seaborn as sns\n",
    "import plotly.graph_objects as go\n",
    "import plotly.figure_factory as ff\n",
    "\n",
    "import kagglehub\n",
    "from kagglehub import KaggleDatasetAdapter\n",
    "\n",
    "from os import path\n",
    "from sys import exit\n",
    "import math"
   ]
  },
  {
   "cell_type": "code",
   "execution_count": 344,
   "metadata": {
    "execution": {
     "iopub.execute_input": "2025-04-29T05:15:40.006005Z",
     "iopub.status.busy": "2025-04-29T05:15:40.005707Z",
     "iopub.status.idle": "2025-04-29T05:15:40.011813Z",
     "shell.execute_reply": "2025-04-29T05:15:40.010840Z",
     "shell.execute_reply.started": "2025-04-29T05:15:40.005980Z"
    },
    "trusted": true
   },
   "outputs": [],
   "source": [
    "class DatasetLoader:\n",
    "    def __init__(self):\n",
    "        self.kaggle_url = \"thedevastator/employee-attrition-and-factors\"\n",
    "        \n",
    "        self.file_name = \"HR_Analytics.csv.csv\"\n",
    "        self.dir_name = \"dataset\"\n",
    "        \n",
    "        self.file_path = path.join(\"..\", self.dir_name, self.file_name)\n",
    "        self.github_url = f'https://raw.githubusercontent.com/AbrarShakhi/employee-attrition-predictor/main/{self.dir_name}/{self.file_name}'\n",
    "    \n",
    "    def load_from_kaggle(self):\n",
    "        try:\n",
    "            return kagglehub.load_dataset(KaggleDatasetAdapter.PANDAS, self.kaggle_url, self.file_name)\n",
    "        except:\n",
    "            return None\n",
    "\n",
    "    def load_from_github(self):\n",
    "        try:\n",
    "            return pd.read_csv(self.github_url)\n",
    "        except:\n",
    "            return None\n",
    "\n",
    "    def load_from_local(self):\n",
    "        try:\n",
    "            return pd.read_csv(self.file_path)\n",
    "        except:\n",
    "            return None"
   ]
  },
  {
   "cell_type": "code",
   "execution_count": 345,
   "metadata": {
    "execution": {
     "iopub.execute_input": "2025-04-29T05:15:44.406899Z",
     "iopub.status.busy": "2025-04-29T05:15:44.406568Z",
     "iopub.status.idle": "2025-04-29T05:16:16.635320Z",
     "shell.execute_reply": "2025-04-29T05:16:16.634547Z",
     "shell.execute_reply.started": "2025-04-29T05:15:44.406868Z"
    },
    "trusted": true
   },
   "outputs": [
    {
     "data": {
      "application/vnd.microsoft.datawrangler.viewer.v0+json": {
       "columns": [
        {
         "name": "index",
         "rawType": "int64",
         "type": "integer"
        },
        {
         "name": "Age",
         "rawType": "int64",
         "type": "integer"
        },
        {
         "name": "Attrition",
         "rawType": "object",
         "type": "string"
        },
        {
         "name": "BusinessTravel",
         "rawType": "object",
         "type": "string"
        },
        {
         "name": "DailyRate",
         "rawType": "int64",
         "type": "integer"
        },
        {
         "name": "Department",
         "rawType": "object",
         "type": "string"
        },
        {
         "name": "DistanceFromHome",
         "rawType": "int64",
         "type": "integer"
        },
        {
         "name": "Education",
         "rawType": "int64",
         "type": "integer"
        },
        {
         "name": "EducationField",
         "rawType": "object",
         "type": "string"
        },
        {
         "name": "EmployeeCount",
         "rawType": "int64",
         "type": "integer"
        },
        {
         "name": "EmployeeNumber",
         "rawType": "int64",
         "type": "integer"
        },
        {
         "name": "EnvironmentSatisfaction",
         "rawType": "int64",
         "type": "integer"
        },
        {
         "name": "Gender",
         "rawType": "object",
         "type": "string"
        },
        {
         "name": "HourlyRate",
         "rawType": "int64",
         "type": "integer"
        },
        {
         "name": "JobInvolvement",
         "rawType": "int64",
         "type": "integer"
        },
        {
         "name": "JobLevel",
         "rawType": "int64",
         "type": "integer"
        },
        {
         "name": "JobRole",
         "rawType": "object",
         "type": "string"
        },
        {
         "name": "JobSatisfaction",
         "rawType": "int64",
         "type": "integer"
        },
        {
         "name": "MaritalStatus",
         "rawType": "object",
         "type": "string"
        },
        {
         "name": "MonthlyIncome",
         "rawType": "int64",
         "type": "integer"
        },
        {
         "name": "MonthlyRate",
         "rawType": "int64",
         "type": "integer"
        },
        {
         "name": "NumCompaniesWorked",
         "rawType": "int64",
         "type": "integer"
        },
        {
         "name": "Over18",
         "rawType": "object",
         "type": "string"
        },
        {
         "name": "OverTime",
         "rawType": "object",
         "type": "string"
        },
        {
         "name": "PercentSalaryHike",
         "rawType": "int64",
         "type": "integer"
        },
        {
         "name": "PerformanceRating",
         "rawType": "int64",
         "type": "integer"
        },
        {
         "name": "RelationshipSatisfaction",
         "rawType": "int64",
         "type": "integer"
        },
        {
         "name": "StandardHours",
         "rawType": "int64",
         "type": "integer"
        },
        {
         "name": "StockOptionLevel",
         "rawType": "int64",
         "type": "integer"
        },
        {
         "name": "TotalWorkingYears",
         "rawType": "int64",
         "type": "integer"
        },
        {
         "name": "TrainingTimesLastYear",
         "rawType": "int64",
         "type": "integer"
        },
        {
         "name": "WorkLifeBalance",
         "rawType": "int64",
         "type": "integer"
        },
        {
         "name": "YearsAtCompany",
         "rawType": "int64",
         "type": "integer"
        },
        {
         "name": "YearsInCurrentRole",
         "rawType": "int64",
         "type": "integer"
        },
        {
         "name": "YearsSinceLastPromotion",
         "rawType": "int64",
         "type": "integer"
        },
        {
         "name": "YearsWithCurrManager",
         "rawType": "int64",
         "type": "integer"
        }
       ],
       "conversionMethod": "pd.DataFrame",
       "ref": "070eb889-3da6-4ca3-bf26-b2a46ba6c1d3",
       "rows": [
        [
         "0",
         "41",
         "Yes",
         "Travel_Rarely",
         "1102",
         "Sales",
         "1",
         "2",
         "Life Sciences",
         "1",
         "1",
         "2",
         "Female",
         "94",
         "3",
         "2",
         "Sales Executive",
         "4",
         "Single",
         "5993",
         "19479",
         "8",
         "Y",
         "Yes",
         "11",
         "3",
         "1",
         "80",
         "0",
         "8",
         "0",
         "1",
         "6",
         "4",
         "0",
         "5"
        ],
        [
         "1",
         "49",
         "No",
         "Travel_Frequently",
         "279",
         "Research & Development",
         "8",
         "1",
         "Life Sciences",
         "1",
         "2",
         "3",
         "Male",
         "61",
         "2",
         "2",
         "Research Scientist",
         "2",
         "Married",
         "5130",
         "24907",
         "1",
         "Y",
         "No",
         "23",
         "4",
         "4",
         "80",
         "1",
         "10",
         "3",
         "3",
         "10",
         "7",
         "1",
         "7"
        ],
        [
         "2",
         "37",
         "Yes",
         "Travel_Rarely",
         "1373",
         "Research & Development",
         "2",
         "2",
         "Other",
         "1",
         "4",
         "4",
         "Male",
         "92",
         "2",
         "1",
         "Laboratory Technician",
         "3",
         "Single",
         "2090",
         "2396",
         "6",
         "Y",
         "Yes",
         "15",
         "3",
         "2",
         "80",
         "0",
         "7",
         "3",
         "3",
         "0",
         "0",
         "0",
         "0"
        ],
        [
         "3",
         "33",
         "No",
         "Travel_Frequently",
         "1392",
         "Research & Development",
         "3",
         "4",
         "Life Sciences",
         "1",
         "5",
         "4",
         "Female",
         "56",
         "3",
         "1",
         "Research Scientist",
         "3",
         "Married",
         "2909",
         "23159",
         "1",
         "Y",
         "Yes",
         "11",
         "3",
         "3",
         "80",
         "0",
         "8",
         "3",
         "3",
         "8",
         "7",
         "3",
         "0"
        ],
        [
         "4",
         "27",
         "No",
         "Travel_Rarely",
         "591",
         "Research & Development",
         "2",
         "1",
         "Medical",
         "1",
         "7",
         "1",
         "Male",
         "40",
         "3",
         "1",
         "Laboratory Technician",
         "2",
         "Married",
         "3468",
         "16632",
         "9",
         "Y",
         "No",
         "12",
         "3",
         "4",
         "80",
         "1",
         "6",
         "3",
         "3",
         "2",
         "2",
         "2",
         "2"
        ]
       ],
       "shape": {
        "columns": 35,
        "rows": 5
       }
      },
      "text/html": [
       "<div>\n",
       "<style scoped>\n",
       "    .dataframe tbody tr th:only-of-type {\n",
       "        vertical-align: middle;\n",
       "    }\n",
       "\n",
       "    .dataframe tbody tr th {\n",
       "        vertical-align: top;\n",
       "    }\n",
       "\n",
       "    .dataframe thead th {\n",
       "        text-align: right;\n",
       "    }\n",
       "</style>\n",
       "<table border=\"1\" class=\"dataframe\">\n",
       "  <thead>\n",
       "    <tr style=\"text-align: right;\">\n",
       "      <th></th>\n",
       "      <th>Age</th>\n",
       "      <th>Attrition</th>\n",
       "      <th>BusinessTravel</th>\n",
       "      <th>DailyRate</th>\n",
       "      <th>Department</th>\n",
       "      <th>DistanceFromHome</th>\n",
       "      <th>Education</th>\n",
       "      <th>EducationField</th>\n",
       "      <th>EmployeeCount</th>\n",
       "      <th>EmployeeNumber</th>\n",
       "      <th>...</th>\n",
       "      <th>RelationshipSatisfaction</th>\n",
       "      <th>StandardHours</th>\n",
       "      <th>StockOptionLevel</th>\n",
       "      <th>TotalWorkingYears</th>\n",
       "      <th>TrainingTimesLastYear</th>\n",
       "      <th>WorkLifeBalance</th>\n",
       "      <th>YearsAtCompany</th>\n",
       "      <th>YearsInCurrentRole</th>\n",
       "      <th>YearsSinceLastPromotion</th>\n",
       "      <th>YearsWithCurrManager</th>\n",
       "    </tr>\n",
       "  </thead>\n",
       "  <tbody>\n",
       "    <tr>\n",
       "      <th>0</th>\n",
       "      <td>41</td>\n",
       "      <td>Yes</td>\n",
       "      <td>Travel_Rarely</td>\n",
       "      <td>1102</td>\n",
       "      <td>Sales</td>\n",
       "      <td>1</td>\n",
       "      <td>2</td>\n",
       "      <td>Life Sciences</td>\n",
       "      <td>1</td>\n",
       "      <td>1</td>\n",
       "      <td>...</td>\n",
       "      <td>1</td>\n",
       "      <td>80</td>\n",
       "      <td>0</td>\n",
       "      <td>8</td>\n",
       "      <td>0</td>\n",
       "      <td>1</td>\n",
       "      <td>6</td>\n",
       "      <td>4</td>\n",
       "      <td>0</td>\n",
       "      <td>5</td>\n",
       "    </tr>\n",
       "    <tr>\n",
       "      <th>1</th>\n",
       "      <td>49</td>\n",
       "      <td>No</td>\n",
       "      <td>Travel_Frequently</td>\n",
       "      <td>279</td>\n",
       "      <td>Research &amp; Development</td>\n",
       "      <td>8</td>\n",
       "      <td>1</td>\n",
       "      <td>Life Sciences</td>\n",
       "      <td>1</td>\n",
       "      <td>2</td>\n",
       "      <td>...</td>\n",
       "      <td>4</td>\n",
       "      <td>80</td>\n",
       "      <td>1</td>\n",
       "      <td>10</td>\n",
       "      <td>3</td>\n",
       "      <td>3</td>\n",
       "      <td>10</td>\n",
       "      <td>7</td>\n",
       "      <td>1</td>\n",
       "      <td>7</td>\n",
       "    </tr>\n",
       "    <tr>\n",
       "      <th>2</th>\n",
       "      <td>37</td>\n",
       "      <td>Yes</td>\n",
       "      <td>Travel_Rarely</td>\n",
       "      <td>1373</td>\n",
       "      <td>Research &amp; Development</td>\n",
       "      <td>2</td>\n",
       "      <td>2</td>\n",
       "      <td>Other</td>\n",
       "      <td>1</td>\n",
       "      <td>4</td>\n",
       "      <td>...</td>\n",
       "      <td>2</td>\n",
       "      <td>80</td>\n",
       "      <td>0</td>\n",
       "      <td>7</td>\n",
       "      <td>3</td>\n",
       "      <td>3</td>\n",
       "      <td>0</td>\n",
       "      <td>0</td>\n",
       "      <td>0</td>\n",
       "      <td>0</td>\n",
       "    </tr>\n",
       "    <tr>\n",
       "      <th>3</th>\n",
       "      <td>33</td>\n",
       "      <td>No</td>\n",
       "      <td>Travel_Frequently</td>\n",
       "      <td>1392</td>\n",
       "      <td>Research &amp; Development</td>\n",
       "      <td>3</td>\n",
       "      <td>4</td>\n",
       "      <td>Life Sciences</td>\n",
       "      <td>1</td>\n",
       "      <td>5</td>\n",
       "      <td>...</td>\n",
       "      <td>3</td>\n",
       "      <td>80</td>\n",
       "      <td>0</td>\n",
       "      <td>8</td>\n",
       "      <td>3</td>\n",
       "      <td>3</td>\n",
       "      <td>8</td>\n",
       "      <td>7</td>\n",
       "      <td>3</td>\n",
       "      <td>0</td>\n",
       "    </tr>\n",
       "    <tr>\n",
       "      <th>4</th>\n",
       "      <td>27</td>\n",
       "      <td>No</td>\n",
       "      <td>Travel_Rarely</td>\n",
       "      <td>591</td>\n",
       "      <td>Research &amp; Development</td>\n",
       "      <td>2</td>\n",
       "      <td>1</td>\n",
       "      <td>Medical</td>\n",
       "      <td>1</td>\n",
       "      <td>7</td>\n",
       "      <td>...</td>\n",
       "      <td>4</td>\n",
       "      <td>80</td>\n",
       "      <td>1</td>\n",
       "      <td>6</td>\n",
       "      <td>3</td>\n",
       "      <td>3</td>\n",
       "      <td>2</td>\n",
       "      <td>2</td>\n",
       "      <td>2</td>\n",
       "      <td>2</td>\n",
       "    </tr>\n",
       "  </tbody>\n",
       "</table>\n",
       "<p>5 rows × 35 columns</p>\n",
       "</div>"
      ],
      "text/plain": [
       "   Age Attrition     BusinessTravel  DailyRate              Department  \\\n",
       "0   41       Yes      Travel_Rarely       1102                   Sales   \n",
       "1   49        No  Travel_Frequently        279  Research & Development   \n",
       "2   37       Yes      Travel_Rarely       1373  Research & Development   \n",
       "3   33        No  Travel_Frequently       1392  Research & Development   \n",
       "4   27        No      Travel_Rarely        591  Research & Development   \n",
       "\n",
       "   DistanceFromHome  Education EducationField  EmployeeCount  EmployeeNumber  \\\n",
       "0                 1          2  Life Sciences              1               1   \n",
       "1                 8          1  Life Sciences              1               2   \n",
       "2                 2          2          Other              1               4   \n",
       "3                 3          4  Life Sciences              1               5   \n",
       "4                 2          1        Medical              1               7   \n",
       "\n",
       "   ...  RelationshipSatisfaction StandardHours  StockOptionLevel  \\\n",
       "0  ...                         1            80                 0   \n",
       "1  ...                         4            80                 1   \n",
       "2  ...                         2            80                 0   \n",
       "3  ...                         3            80                 0   \n",
       "4  ...                         4            80                 1   \n",
       "\n",
       "   TotalWorkingYears  TrainingTimesLastYear WorkLifeBalance  YearsAtCompany  \\\n",
       "0                  8                      0               1               6   \n",
       "1                 10                      3               3              10   \n",
       "2                  7                      3               3               0   \n",
       "3                  8                      3               3               8   \n",
       "4                  6                      3               3               2   \n",
       "\n",
       "  YearsInCurrentRole  YearsSinceLastPromotion  YearsWithCurrManager  \n",
       "0                  4                        0                     5  \n",
       "1                  7                        1                     7  \n",
       "2                  0                        0                     0  \n",
       "3                  7                        3                     0  \n",
       "4                  2                        2                     2  \n",
       "\n",
       "[5 rows x 35 columns]"
      ]
     },
     "execution_count": 345,
     "metadata": {},
     "output_type": "execute_result"
    }
   ],
   "source": [
    "loader = DatasetLoader()\n",
    "df = loader.load_from_local()\n",
    "if df is None:\n",
    "    df = loader.load_from_github()\n",
    "if df is None:\n",
    "    df = loader.load_from_kaggle()\n",
    "if df is None:\n",
    "    print(\"Unable to find data..\")\n",
    "    exit(1)\n",
    "\n",
    "df.head(5)"
   ]
  },
  {
   "cell_type": "code",
   "execution_count": 346,
   "metadata": {
    "execution": {
     "iopub.execute_input": "2025-04-29T05:17:44.039444Z",
     "iopub.status.busy": "2025-04-29T05:17:44.039109Z",
     "iopub.status.idle": "2025-04-29T05:17:44.045844Z",
     "shell.execute_reply": "2025-04-29T05:17:44.045033Z",
     "shell.execute_reply.started": "2025-04-29T05:17:44.039418Z"
    },
    "trusted": true
   },
   "outputs": [
    {
     "name": "stdout",
     "output_type": "stream",
     "text": [
      "total number of null values in dataset:  0\n"
     ]
    }
   ],
   "source": [
    "print(\"total number of null values in dataset: \",\n",
    "      sum(df.isnull().sum().to_numpy())\n",
    "     )"
   ]
  },
  {
   "cell_type": "code",
   "execution_count": 347,
   "metadata": {},
   "outputs": [
    {
     "data": {
      "text/plain": [
       "(1470, 35)"
      ]
     },
     "execution_count": 347,
     "metadata": {},
     "output_type": "execute_result"
    }
   ],
   "source": [
    "df.shape"
   ]
  },
  {
   "cell_type": "code",
   "execution_count": 348,
   "metadata": {
    "execution": {
     "iopub.execute_input": "2025-04-29T05:17:54.704500Z",
     "iopub.status.busy": "2025-04-29T05:17:54.704154Z",
     "iopub.status.idle": "2025-04-29T05:17:54.710452Z",
     "shell.execute_reply": "2025-04-29T05:17:54.709670Z",
     "shell.execute_reply.started": "2025-04-29T05:17:54.704475Z"
    },
    "trusted": true
   },
   "outputs": [
    {
     "data": {
      "text/plain": [
       "0    Yes\n",
       "1     No\n",
       "2    Yes\n",
       "3     No\n",
       "4     No\n",
       "Name: Attrition, dtype: object"
      ]
     },
     "execution_count": 348,
     "metadata": {},
     "output_type": "execute_result"
    }
   ],
   "source": [
    "target_column_name = \"Attrition\"\n",
    "df[target_column_name].head()"
   ]
  },
  {
   "cell_type": "code",
   "execution_count": 349,
   "metadata": {
    "execution": {
     "iopub.execute_input": "2025-04-29T05:24:15.690289Z",
     "iopub.status.busy": "2025-04-29T05:24:15.689918Z",
     "iopub.status.idle": "2025-04-29T05:24:15.783206Z",
     "shell.execute_reply": "2025-04-29T05:24:15.782475Z",
     "shell.execute_reply.started": "2025-04-29T05:24:15.690262Z"
    },
    "trusted": true
   },
   "outputs": [
    {
     "data": {
      "application/vnd.plotly.v1+json": {
       "config": {
        "plotlyServerURL": "https://plot.ly"
       },
       "data": [
        {
         "domain": {
          "x": [
           0,
           1
          ],
          "y": [
           0,
           1
          ]
         },
         "hovertemplate": "Attrition=%{label}<br>Count=%{value}<extra></extra>",
         "labels": [
          "No",
          "Yes"
         ],
         "legendgroup": "",
         "name": "",
         "showlegend": true,
         "type": "pie",
         "values": {
          "bdata": "0QTtAA==",
          "dtype": "i2"
         }
        }
       ],
       "layout": {
        "height": 400,
        "legend": {
         "tracegroupgap": 0
        },
        "template": {
         "data": {
          "bar": [
           {
            "error_x": {
             "color": "#2a3f5f"
            },
            "error_y": {
             "color": "#2a3f5f"
            },
            "marker": {
             "line": {
              "color": "#E5ECF6",
              "width": 0.5
             },
             "pattern": {
              "fillmode": "overlay",
              "size": 10,
              "solidity": 0.2
             }
            },
            "type": "bar"
           }
          ],
          "barpolar": [
           {
            "marker": {
             "line": {
              "color": "#E5ECF6",
              "width": 0.5
             },
             "pattern": {
              "fillmode": "overlay",
              "size": 10,
              "solidity": 0.2
             }
            },
            "type": "barpolar"
           }
          ],
          "carpet": [
           {
            "aaxis": {
             "endlinecolor": "#2a3f5f",
             "gridcolor": "white",
             "linecolor": "white",
             "minorgridcolor": "white",
             "startlinecolor": "#2a3f5f"
            },
            "baxis": {
             "endlinecolor": "#2a3f5f",
             "gridcolor": "white",
             "linecolor": "white",
             "minorgridcolor": "white",
             "startlinecolor": "#2a3f5f"
            },
            "type": "carpet"
           }
          ],
          "choropleth": [
           {
            "colorbar": {
             "outlinewidth": 0,
             "ticks": ""
            },
            "type": "choropleth"
           }
          ],
          "contour": [
           {
            "colorbar": {
             "outlinewidth": 0,
             "ticks": ""
            },
            "colorscale": [
             [
              0,
              "#0d0887"
             ],
             [
              0.1111111111111111,
              "#46039f"
             ],
             [
              0.2222222222222222,
              "#7201a8"
             ],
             [
              0.3333333333333333,
              "#9c179e"
             ],
             [
              0.4444444444444444,
              "#bd3786"
             ],
             [
              0.5555555555555556,
              "#d8576b"
             ],
             [
              0.6666666666666666,
              "#ed7953"
             ],
             [
              0.7777777777777778,
              "#fb9f3a"
             ],
             [
              0.8888888888888888,
              "#fdca26"
             ],
             [
              1,
              "#f0f921"
             ]
            ],
            "type": "contour"
           }
          ],
          "contourcarpet": [
           {
            "colorbar": {
             "outlinewidth": 0,
             "ticks": ""
            },
            "type": "contourcarpet"
           }
          ],
          "heatmap": [
           {
            "colorbar": {
             "outlinewidth": 0,
             "ticks": ""
            },
            "colorscale": [
             [
              0,
              "#0d0887"
             ],
             [
              0.1111111111111111,
              "#46039f"
             ],
             [
              0.2222222222222222,
              "#7201a8"
             ],
             [
              0.3333333333333333,
              "#9c179e"
             ],
             [
              0.4444444444444444,
              "#bd3786"
             ],
             [
              0.5555555555555556,
              "#d8576b"
             ],
             [
              0.6666666666666666,
              "#ed7953"
             ],
             [
              0.7777777777777778,
              "#fb9f3a"
             ],
             [
              0.8888888888888888,
              "#fdca26"
             ],
             [
              1,
              "#f0f921"
             ]
            ],
            "type": "heatmap"
           }
          ],
          "histogram": [
           {
            "marker": {
             "pattern": {
              "fillmode": "overlay",
              "size": 10,
              "solidity": 0.2
             }
            },
            "type": "histogram"
           }
          ],
          "histogram2d": [
           {
            "colorbar": {
             "outlinewidth": 0,
             "ticks": ""
            },
            "colorscale": [
             [
              0,
              "#0d0887"
             ],
             [
              0.1111111111111111,
              "#46039f"
             ],
             [
              0.2222222222222222,
              "#7201a8"
             ],
             [
              0.3333333333333333,
              "#9c179e"
             ],
             [
              0.4444444444444444,
              "#bd3786"
             ],
             [
              0.5555555555555556,
              "#d8576b"
             ],
             [
              0.6666666666666666,
              "#ed7953"
             ],
             [
              0.7777777777777778,
              "#fb9f3a"
             ],
             [
              0.8888888888888888,
              "#fdca26"
             ],
             [
              1,
              "#f0f921"
             ]
            ],
            "type": "histogram2d"
           }
          ],
          "histogram2dcontour": [
           {
            "colorbar": {
             "outlinewidth": 0,
             "ticks": ""
            },
            "colorscale": [
             [
              0,
              "#0d0887"
             ],
             [
              0.1111111111111111,
              "#46039f"
             ],
             [
              0.2222222222222222,
              "#7201a8"
             ],
             [
              0.3333333333333333,
              "#9c179e"
             ],
             [
              0.4444444444444444,
              "#bd3786"
             ],
             [
              0.5555555555555556,
              "#d8576b"
             ],
             [
              0.6666666666666666,
              "#ed7953"
             ],
             [
              0.7777777777777778,
              "#fb9f3a"
             ],
             [
              0.8888888888888888,
              "#fdca26"
             ],
             [
              1,
              "#f0f921"
             ]
            ],
            "type": "histogram2dcontour"
           }
          ],
          "mesh3d": [
           {
            "colorbar": {
             "outlinewidth": 0,
             "ticks": ""
            },
            "type": "mesh3d"
           }
          ],
          "parcoords": [
           {
            "line": {
             "colorbar": {
              "outlinewidth": 0,
              "ticks": ""
             }
            },
            "type": "parcoords"
           }
          ],
          "pie": [
           {
            "automargin": true,
            "type": "pie"
           }
          ],
          "scatter": [
           {
            "fillpattern": {
             "fillmode": "overlay",
             "size": 10,
             "solidity": 0.2
            },
            "type": "scatter"
           }
          ],
          "scatter3d": [
           {
            "line": {
             "colorbar": {
              "outlinewidth": 0,
              "ticks": ""
             }
            },
            "marker": {
             "colorbar": {
              "outlinewidth": 0,
              "ticks": ""
             }
            },
            "type": "scatter3d"
           }
          ],
          "scattercarpet": [
           {
            "marker": {
             "colorbar": {
              "outlinewidth": 0,
              "ticks": ""
             }
            },
            "type": "scattercarpet"
           }
          ],
          "scattergeo": [
           {
            "marker": {
             "colorbar": {
              "outlinewidth": 0,
              "ticks": ""
             }
            },
            "type": "scattergeo"
           }
          ],
          "scattergl": [
           {
            "marker": {
             "colorbar": {
              "outlinewidth": 0,
              "ticks": ""
             }
            },
            "type": "scattergl"
           }
          ],
          "scattermap": [
           {
            "marker": {
             "colorbar": {
              "outlinewidth": 0,
              "ticks": ""
             }
            },
            "type": "scattermap"
           }
          ],
          "scattermapbox": [
           {
            "marker": {
             "colorbar": {
              "outlinewidth": 0,
              "ticks": ""
             }
            },
            "type": "scattermapbox"
           }
          ],
          "scatterpolar": [
           {
            "marker": {
             "colorbar": {
              "outlinewidth": 0,
              "ticks": ""
             }
            },
            "type": "scatterpolar"
           }
          ],
          "scatterpolargl": [
           {
            "marker": {
             "colorbar": {
              "outlinewidth": 0,
              "ticks": ""
             }
            },
            "type": "scatterpolargl"
           }
          ],
          "scatterternary": [
           {
            "marker": {
             "colorbar": {
              "outlinewidth": 0,
              "ticks": ""
             }
            },
            "type": "scatterternary"
           }
          ],
          "surface": [
           {
            "colorbar": {
             "outlinewidth": 0,
             "ticks": ""
            },
            "colorscale": [
             [
              0,
              "#0d0887"
             ],
             [
              0.1111111111111111,
              "#46039f"
             ],
             [
              0.2222222222222222,
              "#7201a8"
             ],
             [
              0.3333333333333333,
              "#9c179e"
             ],
             [
              0.4444444444444444,
              "#bd3786"
             ],
             [
              0.5555555555555556,
              "#d8576b"
             ],
             [
              0.6666666666666666,
              "#ed7953"
             ],
             [
              0.7777777777777778,
              "#fb9f3a"
             ],
             [
              0.8888888888888888,
              "#fdca26"
             ],
             [
              1,
              "#f0f921"
             ]
            ],
            "type": "surface"
           }
          ],
          "table": [
           {
            "cells": {
             "fill": {
              "color": "#EBF0F8"
             },
             "line": {
              "color": "white"
             }
            },
            "header": {
             "fill": {
              "color": "#C8D4E3"
             },
             "line": {
              "color": "white"
             }
            },
            "type": "table"
           }
          ]
         },
         "layout": {
          "annotationdefaults": {
           "arrowcolor": "#2a3f5f",
           "arrowhead": 0,
           "arrowwidth": 1
          },
          "autotypenumbers": "strict",
          "coloraxis": {
           "colorbar": {
            "outlinewidth": 0,
            "ticks": ""
           }
          },
          "colorscale": {
           "diverging": [
            [
             0,
             "#8e0152"
            ],
            [
             0.1,
             "#c51b7d"
            ],
            [
             0.2,
             "#de77ae"
            ],
            [
             0.3,
             "#f1b6da"
            ],
            [
             0.4,
             "#fde0ef"
            ],
            [
             0.5,
             "#f7f7f7"
            ],
            [
             0.6,
             "#e6f5d0"
            ],
            [
             0.7,
             "#b8e186"
            ],
            [
             0.8,
             "#7fbc41"
            ],
            [
             0.9,
             "#4d9221"
            ],
            [
             1,
             "#276419"
            ]
           ],
           "sequential": [
            [
             0,
             "#0d0887"
            ],
            [
             0.1111111111111111,
             "#46039f"
            ],
            [
             0.2222222222222222,
             "#7201a8"
            ],
            [
             0.3333333333333333,
             "#9c179e"
            ],
            [
             0.4444444444444444,
             "#bd3786"
            ],
            [
             0.5555555555555556,
             "#d8576b"
            ],
            [
             0.6666666666666666,
             "#ed7953"
            ],
            [
             0.7777777777777778,
             "#fb9f3a"
            ],
            [
             0.8888888888888888,
             "#fdca26"
            ],
            [
             1,
             "#f0f921"
            ]
           ],
           "sequentialminus": [
            [
             0,
             "#0d0887"
            ],
            [
             0.1111111111111111,
             "#46039f"
            ],
            [
             0.2222222222222222,
             "#7201a8"
            ],
            [
             0.3333333333333333,
             "#9c179e"
            ],
            [
             0.4444444444444444,
             "#bd3786"
            ],
            [
             0.5555555555555556,
             "#d8576b"
            ],
            [
             0.6666666666666666,
             "#ed7953"
            ],
            [
             0.7777777777777778,
             "#fb9f3a"
            ],
            [
             0.8888888888888888,
             "#fdca26"
            ],
            [
             1,
             "#f0f921"
            ]
           ]
          },
          "colorway": [
           "#636efa",
           "#EF553B",
           "#00cc96",
           "#ab63fa",
           "#FFA15A",
           "#19d3f3",
           "#FF6692",
           "#B6E880",
           "#FF97FF",
           "#FECB52"
          ],
          "font": {
           "color": "#2a3f5f"
          },
          "geo": {
           "bgcolor": "white",
           "lakecolor": "white",
           "landcolor": "#E5ECF6",
           "showlakes": true,
           "showland": true,
           "subunitcolor": "white"
          },
          "hoverlabel": {
           "align": "left"
          },
          "hovermode": "closest",
          "mapbox": {
           "style": "light"
          },
          "paper_bgcolor": "white",
          "plot_bgcolor": "#E5ECF6",
          "polar": {
           "angularaxis": {
            "gridcolor": "white",
            "linecolor": "white",
            "ticks": ""
           },
           "bgcolor": "#E5ECF6",
           "radialaxis": {
            "gridcolor": "white",
            "linecolor": "white",
            "ticks": ""
           }
          },
          "scene": {
           "xaxis": {
            "backgroundcolor": "#E5ECF6",
            "gridcolor": "white",
            "gridwidth": 2,
            "linecolor": "white",
            "showbackground": true,
            "ticks": "",
            "zerolinecolor": "white"
           },
           "yaxis": {
            "backgroundcolor": "#E5ECF6",
            "gridcolor": "white",
            "gridwidth": 2,
            "linecolor": "white",
            "showbackground": true,
            "ticks": "",
            "zerolinecolor": "white"
           },
           "zaxis": {
            "backgroundcolor": "#E5ECF6",
            "gridcolor": "white",
            "gridwidth": 2,
            "linecolor": "white",
            "showbackground": true,
            "ticks": "",
            "zerolinecolor": "white"
           }
          },
          "shapedefaults": {
           "line": {
            "color": "#2a3f5f"
           }
          },
          "ternary": {
           "aaxis": {
            "gridcolor": "white",
            "linecolor": "white",
            "ticks": ""
           },
           "baxis": {
            "gridcolor": "white",
            "linecolor": "white",
            "ticks": ""
           },
           "bgcolor": "#E5ECF6",
           "caxis": {
            "gridcolor": "white",
            "linecolor": "white",
            "ticks": ""
           }
          },
          "title": {
           "x": 0.05
          },
          "xaxis": {
           "automargin": true,
           "gridcolor": "white",
           "linecolor": "white",
           "ticks": "",
           "title": {
            "standoff": 15
           },
           "zerolinecolor": "white",
           "zerolinewidth": 2
          },
          "yaxis": {
           "automargin": true,
           "gridcolor": "white",
           "linecolor": "white",
           "ticks": "",
           "title": {
            "standoff": 15
           },
           "zerolinecolor": "white",
           "zerolinewidth": 2
          }
         }
        },
        "title": {
         "text": "Attrition Pie chart"
        },
        "width": 400
       }
      }
     },
     "metadata": {},
     "output_type": "display_data"
    }
   ],
   "source": [
    "attrition_counts = df[target_column_name].value_counts().reset_index()\n",
    "attrition_counts.columns = [target_column_name, 'Count']\n",
    "\n",
    "fig = px.pie(attrition_counts, values='Count', names=target_column_name, \n",
    "             title='Attrition Pie chart', width=400, height=400)\n",
    "fig.show()\n"
   ]
  },
  {
   "cell_type": "markdown",
   "metadata": {},
   "source": [
    "# Remove the columns that has only one value\n"
   ]
  },
  {
   "cell_type": "code",
   "execution_count": 350,
   "metadata": {},
   "outputs": [
    {
     "name": "stdout",
     "output_type": "stream",
     "text": [
      "Removed column: EmployeeCount\n",
      "Removed column: Over18\n",
      "Removed column: StandardHours\n"
     ]
    }
   ],
   "source": [
    "for col in df.columns:\n",
    "    if len(df[col].unique()) == 1:\n",
    "        df.drop(col, axis=1, inplace=True)\n",
    "        print(f\"Removed column: {col}\")"
   ]
  },
  {
   "cell_type": "code",
   "execution_count": 351,
   "metadata": {
    "execution": {
     "iopub.execute_input": "2025-04-29T05:30:04.808404Z",
     "iopub.status.busy": "2025-04-29T05:30:04.808017Z",
     "iopub.status.idle": "2025-04-29T05:30:04.813883Z",
     "shell.execute_reply": "2025-04-29T05:30:04.813094Z",
     "shell.execute_reply.started": "2025-04-29T05:30:04.808373Z"
    },
    "trusted": true
   },
   "outputs": [
    {
     "name": "stdout",
     "output_type": "stream",
     "text": [
      "Nominal columns:  ['Age', 'DailyRate', 'DistanceFromHome', 'Education', 'EmployeeNumber', 'HourlyRate', 'MonthlyIncome', 'MonthlyRate', 'NumCompaniesWorked', 'PercentSalaryHike', 'StockOptionLevel', 'TotalWorkingYears', 'TrainingTimesLastYear', 'YearsAtCompany', 'YearsInCurrentRole', 'YearsSinceLastPromotion', 'YearsWithCurrManager']\n",
      "Ordinal columns:  ['Attrition', 'BusinessTravel', 'Department', 'EducationField', 'Gender', 'JobRole', 'MaritalStatus', 'OverTime', 'EnvironmentSatisfaction', 'JobInvolvement', 'JobLevel', 'JobSatisfaction', 'PerformanceRating', 'RelationshipSatisfaction', 'WorkLifeBalance']\n",
      "Other columns:  []\n",
      "Total nominal columns:  17\n",
      "Total ordinal columns:  15\n",
      "Total other columns:  0\n",
      "Nominal + original + other columns:  32\n",
      "Total columns:  32\n"
     ]
    }
   ],
   "source": [
    "nominal_columns = []\n",
    "ordinal_columns = []\n",
    "other_columns = []\n",
    "\n",
    "for col in df.columns:\n",
    "    if df[col].dtype == \"object\":\n",
    "        ordinal_columns.append(col)\n",
    "    elif df[col].dtype != \"int64\" and df[col].dtype != \"float64\":\n",
    "        other_columns.append(col)\n",
    "\n",
    "for col in [\n",
    "        \"Attrition\",\n",
    "        \"BusinessTravel\",\n",
    "        \"Department\",\n",
    "        \"EducationField\",\n",
    "        \"EnvironmentSatisfaction\",\n",
    "        \"Gender\",\n",
    "        \"JobInvolvement\",\n",
    "        \"JobLevel\",\n",
    "        \"JobRole\",\n",
    "        \"JobSatisfaction\",\n",
    "        \"MaritalStatus\",\n",
    "        \"OverTime\",\n",
    "        \"PerformanceRating\",\n",
    "        \"RelationshipSatisfaction\",\n",
    "        \"WorkLifeBalance\"\n",
    "    ]:\n",
    "    if col not in ordinal_columns:\n",
    "        ordinal_columns.append(col)\n",
    "\n",
    "for col in df.columns:\n",
    "    if col not in ordinal_columns and col not in other_columns:\n",
    "        if df[col].dtype != \"object\":\n",
    "            nominal_columns.append(col)\n",
    "        else:\n",
    "            other_columns.append(col)\n",
    "\n",
    "print(\"Nominal columns: \", nominal_columns)\n",
    "print(\"Ordinal columns: \", ordinal_columns)\n",
    "print(\"Other columns: \", other_columns)\n",
    "\n",
    "print(\"Total nominal columns: \", len(nominal_columns))\n",
    "print(\"Total ordinal columns: \", len(ordinal_columns))\n",
    "print(\"Total other columns: \", len(other_columns))\n",
    "print(\"Nominal + original + other columns: \", len(nominal_columns) + len(ordinal_columns) + len(other_columns))\n",
    "print(\"Total columns: \", len(df.columns))"
   ]
  },
  {
   "cell_type": "code",
   "execution_count": 352,
   "metadata": {
    "execution": {
     "iopub.execute_input": "2025-04-29T05:34:42.100057Z",
     "iopub.status.busy": "2025-04-29T05:34:42.099713Z",
     "iopub.status.idle": "2025-04-29T05:34:42.105019Z",
     "shell.execute_reply": "2025-04-29T05:34:42.104000Z",
     "shell.execute_reply.started": "2025-04-29T05:34:42.100028Z"
    },
    "trusted": true
   },
   "outputs": [],
   "source": [
    "def print_nominal_info(col):\n",
    "    print(\"Column name: \", col)\n",
    "    print(\"Mean: \", df[col].mean())\n",
    "    print(\"Median: \", df[col].median())\n",
    "    print(\"varience: \", df[col].var())\n",
    "    print(\"std-dev: \", df[col].std())\n",
    "\n",
    "def print_ordinal_info(col):\n",
    "    counts = df[col].value_counts()\n",
    "    print(\n",
    "        pd.DataFrame({\n",
    "            \"Frequency\": counts,\n",
    "            \"Percentage\": counts / len(df) * 100\n",
    "        })\n",
    "    )"
   ]
  },
  {
   "cell_type": "code",
   "execution_count": 353,
   "metadata": {},
   "outputs": [
    {
     "data": {
      "application/vnd.microsoft.datawrangler.viewer.v0+json": {
       "columns": [
        {
         "name": "index",
         "rawType": "object",
         "type": "string"
        },
        {
         "name": "count",
         "rawType": "float64",
         "type": "float"
        },
        {
         "name": "mean",
         "rawType": "float64",
         "type": "float"
        },
        {
         "name": "std",
         "rawType": "float64",
         "type": "float"
        },
        {
         "name": "min",
         "rawType": "float64",
         "type": "float"
        },
        {
         "name": "25%",
         "rawType": "float64",
         "type": "float"
        },
        {
         "name": "50%",
         "rawType": "float64",
         "type": "float"
        },
        {
         "name": "75%",
         "rawType": "float64",
         "type": "float"
        },
        {
         "name": "max",
         "rawType": "float64",
         "type": "float"
        }
       ],
       "conversionMethod": "pd.DataFrame",
       "ref": "91724d14-a5db-4c1c-ac24-ff99a3e5d2de",
       "rows": [
        [
         "Age",
         "1470.0",
         "36.923809523809524",
         "9.135373489136732",
         "18.0",
         "30.0",
         "36.0",
         "43.0",
         "60.0"
        ],
        [
         "DailyRate",
         "1470.0",
         "802.4857142857143",
         "403.50909994352816",
         "102.0",
         "465.0",
         "802.0",
         "1157.0",
         "1499.0"
        ],
        [
         "DistanceFromHome",
         "1470.0",
         "9.19251700680272",
         "8.106864435666074",
         "1.0",
         "2.0",
         "7.0",
         "14.0",
         "29.0"
        ],
        [
         "Education",
         "1470.0",
         "2.912925170068027",
         "1.0241649445978729",
         "1.0",
         "2.0",
         "3.0",
         "4.0",
         "5.0"
        ],
        [
         "EmployeeNumber",
         "1470.0",
         "1024.865306122449",
         "602.0243348474751",
         "1.0",
         "491.25",
         "1020.5",
         "1555.75",
         "2068.0"
        ],
        [
         "EnvironmentSatisfaction",
         "1470.0",
         "2.721768707482993",
         "1.0930822146350005",
         "1.0",
         "2.0",
         "3.0",
         "4.0",
         "4.0"
        ],
        [
         "HourlyRate",
         "1470.0",
         "65.89115646258503",
         "20.329427593996165",
         "30.0",
         "48.0",
         "66.0",
         "83.75",
         "100.0"
        ],
        [
         "JobInvolvement",
         "1470.0",
         "2.7299319727891156",
         "0.7115611429632304",
         "1.0",
         "2.0",
         "3.0",
         "3.0",
         "4.0"
        ],
        [
         "JobLevel",
         "1470.0",
         "2.0639455782312925",
         "1.106939898935122",
         "1.0",
         "1.0",
         "2.0",
         "3.0",
         "5.0"
        ],
        [
         "JobSatisfaction",
         "1470.0",
         "2.7285714285714286",
         "1.1028461230547204",
         "1.0",
         "2.0",
         "3.0",
         "4.0",
         "4.0"
        ],
        [
         "MonthlyIncome",
         "1470.0",
         "6502.931292517007",
         "4707.956783097994",
         "1009.0",
         "2911.0",
         "4919.0",
         "8379.0",
         "19999.0"
        ],
        [
         "MonthlyRate",
         "1470.0",
         "14313.103401360544",
         "7117.786044059976",
         "2094.0",
         "8047.0",
         "14235.5",
         "20461.5",
         "26999.0"
        ],
        [
         "NumCompaniesWorked",
         "1470.0",
         "2.6931972789115646",
         "2.498009006070747",
         "0.0",
         "1.0",
         "2.0",
         "4.0",
         "9.0"
        ],
        [
         "PercentSalaryHike",
         "1470.0",
         "15.209523809523809",
         "3.6599377165396407",
         "11.0",
         "12.0",
         "14.0",
         "18.0",
         "25.0"
        ],
        [
         "PerformanceRating",
         "1470.0",
         "3.1537414965986397",
         "0.36082352460434397",
         "3.0",
         "3.0",
         "3.0",
         "3.0",
         "4.0"
        ],
        [
         "RelationshipSatisfaction",
         "1470.0",
         "2.7122448979591836",
         "1.0812088864403524",
         "1.0",
         "2.0",
         "3.0",
         "4.0",
         "4.0"
        ],
        [
         "StockOptionLevel",
         "1470.0",
         "0.7938775510204081",
         "0.852076667930838",
         "0.0",
         "0.0",
         "1.0",
         "1.0",
         "3.0"
        ],
        [
         "TotalWorkingYears",
         "1470.0",
         "11.279591836734694",
         "7.780781675514997",
         "0.0",
         "6.0",
         "10.0",
         "15.0",
         "40.0"
        ],
        [
         "TrainingTimesLastYear",
         "1470.0",
         "2.7993197278911564",
         "1.2892706207958455",
         "0.0",
         "2.0",
         "3.0",
         "3.0",
         "6.0"
        ],
        [
         "WorkLifeBalance",
         "1470.0",
         "2.7612244897959184",
         "0.7064758297141507",
         "1.0",
         "2.0",
         "3.0",
         "3.0",
         "4.0"
        ],
        [
         "YearsAtCompany",
         "1470.0",
         "7.0081632653061225",
         "6.126525152403569",
         "0.0",
         "3.0",
         "5.0",
         "9.0",
         "40.0"
        ],
        [
         "YearsInCurrentRole",
         "1470.0",
         "4.229251700680272",
         "3.623137034670628",
         "0.0",
         "2.0",
         "3.0",
         "7.0",
         "18.0"
        ],
        [
         "YearsSinceLastPromotion",
         "1470.0",
         "2.1877551020408164",
         "3.222430279137967",
         "0.0",
         "0.0",
         "1.0",
         "3.0",
         "15.0"
        ],
        [
         "YearsWithCurrManager",
         "1470.0",
         "4.12312925170068",
         "3.5681361205404376",
         "0.0",
         "2.0",
         "3.0",
         "7.0",
         "17.0"
        ]
       ],
       "shape": {
        "columns": 8,
        "rows": 24
       }
      },
      "text/html": [
       "<div>\n",
       "<style scoped>\n",
       "    .dataframe tbody tr th:only-of-type {\n",
       "        vertical-align: middle;\n",
       "    }\n",
       "\n",
       "    .dataframe tbody tr th {\n",
       "        vertical-align: top;\n",
       "    }\n",
       "\n",
       "    .dataframe thead th {\n",
       "        text-align: right;\n",
       "    }\n",
       "</style>\n",
       "<table border=\"1\" class=\"dataframe\">\n",
       "  <thead>\n",
       "    <tr style=\"text-align: right;\">\n",
       "      <th></th>\n",
       "      <th>count</th>\n",
       "      <th>mean</th>\n",
       "      <th>std</th>\n",
       "      <th>min</th>\n",
       "      <th>25%</th>\n",
       "      <th>50%</th>\n",
       "      <th>75%</th>\n",
       "      <th>max</th>\n",
       "    </tr>\n",
       "  </thead>\n",
       "  <tbody>\n",
       "    <tr>\n",
       "      <th>Age</th>\n",
       "      <td>1470.0</td>\n",
       "      <td>36.923810</td>\n",
       "      <td>9.135373</td>\n",
       "      <td>18.0</td>\n",
       "      <td>30.00</td>\n",
       "      <td>36.0</td>\n",
       "      <td>43.00</td>\n",
       "      <td>60.0</td>\n",
       "    </tr>\n",
       "    <tr>\n",
       "      <th>DailyRate</th>\n",
       "      <td>1470.0</td>\n",
       "      <td>802.485714</td>\n",
       "      <td>403.509100</td>\n",
       "      <td>102.0</td>\n",
       "      <td>465.00</td>\n",
       "      <td>802.0</td>\n",
       "      <td>1157.00</td>\n",
       "      <td>1499.0</td>\n",
       "    </tr>\n",
       "    <tr>\n",
       "      <th>DistanceFromHome</th>\n",
       "      <td>1470.0</td>\n",
       "      <td>9.192517</td>\n",
       "      <td>8.106864</td>\n",
       "      <td>1.0</td>\n",
       "      <td>2.00</td>\n",
       "      <td>7.0</td>\n",
       "      <td>14.00</td>\n",
       "      <td>29.0</td>\n",
       "    </tr>\n",
       "    <tr>\n",
       "      <th>Education</th>\n",
       "      <td>1470.0</td>\n",
       "      <td>2.912925</td>\n",
       "      <td>1.024165</td>\n",
       "      <td>1.0</td>\n",
       "      <td>2.00</td>\n",
       "      <td>3.0</td>\n",
       "      <td>4.00</td>\n",
       "      <td>5.0</td>\n",
       "    </tr>\n",
       "    <tr>\n",
       "      <th>EmployeeNumber</th>\n",
       "      <td>1470.0</td>\n",
       "      <td>1024.865306</td>\n",
       "      <td>602.024335</td>\n",
       "      <td>1.0</td>\n",
       "      <td>491.25</td>\n",
       "      <td>1020.5</td>\n",
       "      <td>1555.75</td>\n",
       "      <td>2068.0</td>\n",
       "    </tr>\n",
       "    <tr>\n",
       "      <th>EnvironmentSatisfaction</th>\n",
       "      <td>1470.0</td>\n",
       "      <td>2.721769</td>\n",
       "      <td>1.093082</td>\n",
       "      <td>1.0</td>\n",
       "      <td>2.00</td>\n",
       "      <td>3.0</td>\n",
       "      <td>4.00</td>\n",
       "      <td>4.0</td>\n",
       "    </tr>\n",
       "    <tr>\n",
       "      <th>HourlyRate</th>\n",
       "      <td>1470.0</td>\n",
       "      <td>65.891156</td>\n",
       "      <td>20.329428</td>\n",
       "      <td>30.0</td>\n",
       "      <td>48.00</td>\n",
       "      <td>66.0</td>\n",
       "      <td>83.75</td>\n",
       "      <td>100.0</td>\n",
       "    </tr>\n",
       "    <tr>\n",
       "      <th>JobInvolvement</th>\n",
       "      <td>1470.0</td>\n",
       "      <td>2.729932</td>\n",
       "      <td>0.711561</td>\n",
       "      <td>1.0</td>\n",
       "      <td>2.00</td>\n",
       "      <td>3.0</td>\n",
       "      <td>3.00</td>\n",
       "      <td>4.0</td>\n",
       "    </tr>\n",
       "    <tr>\n",
       "      <th>JobLevel</th>\n",
       "      <td>1470.0</td>\n",
       "      <td>2.063946</td>\n",
       "      <td>1.106940</td>\n",
       "      <td>1.0</td>\n",
       "      <td>1.00</td>\n",
       "      <td>2.0</td>\n",
       "      <td>3.00</td>\n",
       "      <td>5.0</td>\n",
       "    </tr>\n",
       "    <tr>\n",
       "      <th>JobSatisfaction</th>\n",
       "      <td>1470.0</td>\n",
       "      <td>2.728571</td>\n",
       "      <td>1.102846</td>\n",
       "      <td>1.0</td>\n",
       "      <td>2.00</td>\n",
       "      <td>3.0</td>\n",
       "      <td>4.00</td>\n",
       "      <td>4.0</td>\n",
       "    </tr>\n",
       "    <tr>\n",
       "      <th>MonthlyIncome</th>\n",
       "      <td>1470.0</td>\n",
       "      <td>6502.931293</td>\n",
       "      <td>4707.956783</td>\n",
       "      <td>1009.0</td>\n",
       "      <td>2911.00</td>\n",
       "      <td>4919.0</td>\n",
       "      <td>8379.00</td>\n",
       "      <td>19999.0</td>\n",
       "    </tr>\n",
       "    <tr>\n",
       "      <th>MonthlyRate</th>\n",
       "      <td>1470.0</td>\n",
       "      <td>14313.103401</td>\n",
       "      <td>7117.786044</td>\n",
       "      <td>2094.0</td>\n",
       "      <td>8047.00</td>\n",
       "      <td>14235.5</td>\n",
       "      <td>20461.50</td>\n",
       "      <td>26999.0</td>\n",
       "    </tr>\n",
       "    <tr>\n",
       "      <th>NumCompaniesWorked</th>\n",
       "      <td>1470.0</td>\n",
       "      <td>2.693197</td>\n",
       "      <td>2.498009</td>\n",
       "      <td>0.0</td>\n",
       "      <td>1.00</td>\n",
       "      <td>2.0</td>\n",
       "      <td>4.00</td>\n",
       "      <td>9.0</td>\n",
       "    </tr>\n",
       "    <tr>\n",
       "      <th>PercentSalaryHike</th>\n",
       "      <td>1470.0</td>\n",
       "      <td>15.209524</td>\n",
       "      <td>3.659938</td>\n",
       "      <td>11.0</td>\n",
       "      <td>12.00</td>\n",
       "      <td>14.0</td>\n",
       "      <td>18.00</td>\n",
       "      <td>25.0</td>\n",
       "    </tr>\n",
       "    <tr>\n",
       "      <th>PerformanceRating</th>\n",
       "      <td>1470.0</td>\n",
       "      <td>3.153741</td>\n",
       "      <td>0.360824</td>\n",
       "      <td>3.0</td>\n",
       "      <td>3.00</td>\n",
       "      <td>3.0</td>\n",
       "      <td>3.00</td>\n",
       "      <td>4.0</td>\n",
       "    </tr>\n",
       "    <tr>\n",
       "      <th>RelationshipSatisfaction</th>\n",
       "      <td>1470.0</td>\n",
       "      <td>2.712245</td>\n",
       "      <td>1.081209</td>\n",
       "      <td>1.0</td>\n",
       "      <td>2.00</td>\n",
       "      <td>3.0</td>\n",
       "      <td>4.00</td>\n",
       "      <td>4.0</td>\n",
       "    </tr>\n",
       "    <tr>\n",
       "      <th>StockOptionLevel</th>\n",
       "      <td>1470.0</td>\n",
       "      <td>0.793878</td>\n",
       "      <td>0.852077</td>\n",
       "      <td>0.0</td>\n",
       "      <td>0.00</td>\n",
       "      <td>1.0</td>\n",
       "      <td>1.00</td>\n",
       "      <td>3.0</td>\n",
       "    </tr>\n",
       "    <tr>\n",
       "      <th>TotalWorkingYears</th>\n",
       "      <td>1470.0</td>\n",
       "      <td>11.279592</td>\n",
       "      <td>7.780782</td>\n",
       "      <td>0.0</td>\n",
       "      <td>6.00</td>\n",
       "      <td>10.0</td>\n",
       "      <td>15.00</td>\n",
       "      <td>40.0</td>\n",
       "    </tr>\n",
       "    <tr>\n",
       "      <th>TrainingTimesLastYear</th>\n",
       "      <td>1470.0</td>\n",
       "      <td>2.799320</td>\n",
       "      <td>1.289271</td>\n",
       "      <td>0.0</td>\n",
       "      <td>2.00</td>\n",
       "      <td>3.0</td>\n",
       "      <td>3.00</td>\n",
       "      <td>6.0</td>\n",
       "    </tr>\n",
       "    <tr>\n",
       "      <th>WorkLifeBalance</th>\n",
       "      <td>1470.0</td>\n",
       "      <td>2.761224</td>\n",
       "      <td>0.706476</td>\n",
       "      <td>1.0</td>\n",
       "      <td>2.00</td>\n",
       "      <td>3.0</td>\n",
       "      <td>3.00</td>\n",
       "      <td>4.0</td>\n",
       "    </tr>\n",
       "    <tr>\n",
       "      <th>YearsAtCompany</th>\n",
       "      <td>1470.0</td>\n",
       "      <td>7.008163</td>\n",
       "      <td>6.126525</td>\n",
       "      <td>0.0</td>\n",
       "      <td>3.00</td>\n",
       "      <td>5.0</td>\n",
       "      <td>9.00</td>\n",
       "      <td>40.0</td>\n",
       "    </tr>\n",
       "    <tr>\n",
       "      <th>YearsInCurrentRole</th>\n",
       "      <td>1470.0</td>\n",
       "      <td>4.229252</td>\n",
       "      <td>3.623137</td>\n",
       "      <td>0.0</td>\n",
       "      <td>2.00</td>\n",
       "      <td>3.0</td>\n",
       "      <td>7.00</td>\n",
       "      <td>18.0</td>\n",
       "    </tr>\n",
       "    <tr>\n",
       "      <th>YearsSinceLastPromotion</th>\n",
       "      <td>1470.0</td>\n",
       "      <td>2.187755</td>\n",
       "      <td>3.222430</td>\n",
       "      <td>0.0</td>\n",
       "      <td>0.00</td>\n",
       "      <td>1.0</td>\n",
       "      <td>3.00</td>\n",
       "      <td>15.0</td>\n",
       "    </tr>\n",
       "    <tr>\n",
       "      <th>YearsWithCurrManager</th>\n",
       "      <td>1470.0</td>\n",
       "      <td>4.123129</td>\n",
       "      <td>3.568136</td>\n",
       "      <td>0.0</td>\n",
       "      <td>2.00</td>\n",
       "      <td>3.0</td>\n",
       "      <td>7.00</td>\n",
       "      <td>17.0</td>\n",
       "    </tr>\n",
       "  </tbody>\n",
       "</table>\n",
       "</div>"
      ],
      "text/plain": [
       "                           count          mean          std     min      25%  \\\n",
       "Age                       1470.0     36.923810     9.135373    18.0    30.00   \n",
       "DailyRate                 1470.0    802.485714   403.509100   102.0   465.00   \n",
       "DistanceFromHome          1470.0      9.192517     8.106864     1.0     2.00   \n",
       "Education                 1470.0      2.912925     1.024165     1.0     2.00   \n",
       "EmployeeNumber            1470.0   1024.865306   602.024335     1.0   491.25   \n",
       "EnvironmentSatisfaction   1470.0      2.721769     1.093082     1.0     2.00   \n",
       "HourlyRate                1470.0     65.891156    20.329428    30.0    48.00   \n",
       "JobInvolvement            1470.0      2.729932     0.711561     1.0     2.00   \n",
       "JobLevel                  1470.0      2.063946     1.106940     1.0     1.00   \n",
       "JobSatisfaction           1470.0      2.728571     1.102846     1.0     2.00   \n",
       "MonthlyIncome             1470.0   6502.931293  4707.956783  1009.0  2911.00   \n",
       "MonthlyRate               1470.0  14313.103401  7117.786044  2094.0  8047.00   \n",
       "NumCompaniesWorked        1470.0      2.693197     2.498009     0.0     1.00   \n",
       "PercentSalaryHike         1470.0     15.209524     3.659938    11.0    12.00   \n",
       "PerformanceRating         1470.0      3.153741     0.360824     3.0     3.00   \n",
       "RelationshipSatisfaction  1470.0      2.712245     1.081209     1.0     2.00   \n",
       "StockOptionLevel          1470.0      0.793878     0.852077     0.0     0.00   \n",
       "TotalWorkingYears         1470.0     11.279592     7.780782     0.0     6.00   \n",
       "TrainingTimesLastYear     1470.0      2.799320     1.289271     0.0     2.00   \n",
       "WorkLifeBalance           1470.0      2.761224     0.706476     1.0     2.00   \n",
       "YearsAtCompany            1470.0      7.008163     6.126525     0.0     3.00   \n",
       "YearsInCurrentRole        1470.0      4.229252     3.623137     0.0     2.00   \n",
       "YearsSinceLastPromotion   1470.0      2.187755     3.222430     0.0     0.00   \n",
       "YearsWithCurrManager      1470.0      4.123129     3.568136     0.0     2.00   \n",
       "\n",
       "                              50%       75%      max  \n",
       "Age                          36.0     43.00     60.0  \n",
       "DailyRate                   802.0   1157.00   1499.0  \n",
       "DistanceFromHome              7.0     14.00     29.0  \n",
       "Education                     3.0      4.00      5.0  \n",
       "EmployeeNumber             1020.5   1555.75   2068.0  \n",
       "EnvironmentSatisfaction       3.0      4.00      4.0  \n",
       "HourlyRate                   66.0     83.75    100.0  \n",
       "JobInvolvement                3.0      3.00      4.0  \n",
       "JobLevel                      2.0      3.00      5.0  \n",
       "JobSatisfaction               3.0      4.00      4.0  \n",
       "MonthlyIncome              4919.0   8379.00  19999.0  \n",
       "MonthlyRate               14235.5  20461.50  26999.0  \n",
       "NumCompaniesWorked            2.0      4.00      9.0  \n",
       "PercentSalaryHike            14.0     18.00     25.0  \n",
       "PerformanceRating             3.0      3.00      4.0  \n",
       "RelationshipSatisfaction      3.0      4.00      4.0  \n",
       "StockOptionLevel              1.0      1.00      3.0  \n",
       "TotalWorkingYears            10.0     15.00     40.0  \n",
       "TrainingTimesLastYear         3.0      3.00      6.0  \n",
       "WorkLifeBalance               3.0      3.00      4.0  \n",
       "YearsAtCompany                5.0      9.00     40.0  \n",
       "YearsInCurrentRole            3.0      7.00     18.0  \n",
       "YearsSinceLastPromotion       1.0      3.00     15.0  \n",
       "YearsWithCurrManager          3.0      7.00     17.0  "
      ]
     },
     "execution_count": 353,
     "metadata": {},
     "output_type": "execute_result"
    }
   ],
   "source": [
    "df.describe().transpose()"
   ]
  },
  {
   "cell_type": "code",
   "execution_count": 354,
   "metadata": {},
   "outputs": [
    {
     "data": {
      "application/vnd.microsoft.datawrangler.viewer.v0+json": {
       "columns": [
        {
         "name": "index",
         "rawType": "object",
         "type": "string"
        },
        {
         "name": "count",
         "rawType": "object",
         "type": "unknown"
        },
        {
         "name": "unique",
         "rawType": "object",
         "type": "unknown"
        },
        {
         "name": "top",
         "rawType": "object",
         "type": "string"
        },
        {
         "name": "freq",
         "rawType": "object",
         "type": "unknown"
        }
       ],
       "conversionMethod": "pd.DataFrame",
       "ref": "c035b83e-a8a6-4f7c-b9a9-a0675e05be01",
       "rows": [
        [
         "Attrition",
         "1470",
         "2",
         "No",
         "1233"
        ],
        [
         "BusinessTravel",
         "1470",
         "3",
         "Travel_Rarely",
         "1043"
        ],
        [
         "Department",
         "1470",
         "3",
         "Research & Development",
         "961"
        ],
        [
         "EducationField",
         "1470",
         "6",
         "Life Sciences",
         "606"
        ],
        [
         "Gender",
         "1470",
         "2",
         "Male",
         "882"
        ],
        [
         "JobRole",
         "1470",
         "9",
         "Sales Executive",
         "326"
        ],
        [
         "MaritalStatus",
         "1470",
         "3",
         "Married",
         "673"
        ],
        [
         "OverTime",
         "1470",
         "2",
         "No",
         "1054"
        ]
       ],
       "shape": {
        "columns": 4,
        "rows": 8
       }
      },
      "text/html": [
       "<div>\n",
       "<style scoped>\n",
       "    .dataframe tbody tr th:only-of-type {\n",
       "        vertical-align: middle;\n",
       "    }\n",
       "\n",
       "    .dataframe tbody tr th {\n",
       "        vertical-align: top;\n",
       "    }\n",
       "\n",
       "    .dataframe thead th {\n",
       "        text-align: right;\n",
       "    }\n",
       "</style>\n",
       "<table border=\"1\" class=\"dataframe\">\n",
       "  <thead>\n",
       "    <tr style=\"text-align: right;\">\n",
       "      <th></th>\n",
       "      <th>count</th>\n",
       "      <th>unique</th>\n",
       "      <th>top</th>\n",
       "      <th>freq</th>\n",
       "    </tr>\n",
       "  </thead>\n",
       "  <tbody>\n",
       "    <tr>\n",
       "      <th>Attrition</th>\n",
       "      <td>1470</td>\n",
       "      <td>2</td>\n",
       "      <td>No</td>\n",
       "      <td>1233</td>\n",
       "    </tr>\n",
       "    <tr>\n",
       "      <th>BusinessTravel</th>\n",
       "      <td>1470</td>\n",
       "      <td>3</td>\n",
       "      <td>Travel_Rarely</td>\n",
       "      <td>1043</td>\n",
       "    </tr>\n",
       "    <tr>\n",
       "      <th>Department</th>\n",
       "      <td>1470</td>\n",
       "      <td>3</td>\n",
       "      <td>Research &amp; Development</td>\n",
       "      <td>961</td>\n",
       "    </tr>\n",
       "    <tr>\n",
       "      <th>EducationField</th>\n",
       "      <td>1470</td>\n",
       "      <td>6</td>\n",
       "      <td>Life Sciences</td>\n",
       "      <td>606</td>\n",
       "    </tr>\n",
       "    <tr>\n",
       "      <th>Gender</th>\n",
       "      <td>1470</td>\n",
       "      <td>2</td>\n",
       "      <td>Male</td>\n",
       "      <td>882</td>\n",
       "    </tr>\n",
       "    <tr>\n",
       "      <th>JobRole</th>\n",
       "      <td>1470</td>\n",
       "      <td>9</td>\n",
       "      <td>Sales Executive</td>\n",
       "      <td>326</td>\n",
       "    </tr>\n",
       "    <tr>\n",
       "      <th>MaritalStatus</th>\n",
       "      <td>1470</td>\n",
       "      <td>3</td>\n",
       "      <td>Married</td>\n",
       "      <td>673</td>\n",
       "    </tr>\n",
       "    <tr>\n",
       "      <th>OverTime</th>\n",
       "      <td>1470</td>\n",
       "      <td>2</td>\n",
       "      <td>No</td>\n",
       "      <td>1054</td>\n",
       "    </tr>\n",
       "  </tbody>\n",
       "</table>\n",
       "</div>"
      ],
      "text/plain": [
       "               count unique                     top  freq\n",
       "Attrition       1470      2                      No  1233\n",
       "BusinessTravel  1470      3           Travel_Rarely  1043\n",
       "Department      1470      3  Research & Development   961\n",
       "EducationField  1470      6           Life Sciences   606\n",
       "Gender          1470      2                    Male   882\n",
       "JobRole         1470      9         Sales Executive   326\n",
       "MaritalStatus   1470      3                 Married   673\n",
       "OverTime        1470      2                      No  1054"
      ]
     },
     "execution_count": 354,
     "metadata": {},
     "output_type": "execute_result"
    }
   ],
   "source": [
    "df.describe(include=\"object\").transpose()"
   ]
  },
  {
   "cell_type": "code",
   "execution_count": 355,
   "metadata": {
    "execution": {
     "iopub.execute_input": "2025-04-29T05:34:45.030773Z",
     "iopub.status.busy": "2025-04-29T05:34:45.030447Z",
     "iopub.status.idle": "2025-04-29T05:34:45.067522Z",
     "shell.execute_reply": "2025-04-29T05:34:45.066661Z",
     "shell.execute_reply.started": "2025-04-29T05:34:45.030743Z"
    },
    "trusted": true
   },
   "outputs": [
    {
     "name": "stdout",
     "output_type": "stream",
     "text": [
      "Column name:  Age\n",
      "Mean:  36.923809523809524\n",
      "Median:  36.0\n",
      "varience:  83.45504878602223\n",
      "std-dev:  9.135373489136732\n",
      "\n",
      "Column name:  DailyRate\n",
      "Mean:  802.4857142857143\n",
      "Median:  802.0\n",
      "varience:  162819.5937372362\n",
      "std-dev:  403.50909994352816\n",
      "\n",
      "Column name:  DistanceFromHome\n",
      "Mean:  9.19251700680272\n",
      "Median:  7.0\n",
      "varience:  65.72125097826742\n",
      "std-dev:  8.106864435666074\n",
      "\n",
      "Column name:  Education\n",
      "Mean:  2.912925170068027\n",
      "Median:  3.0\n",
      "varience:  1.0489138337431638\n",
      "std-dev:  1.0241649445978729\n",
      "\n",
      "Column name:  EmployeeNumber\n",
      "Mean:  1024.865306122449\n",
      "Median:  1020.5\n",
      "varience:  362433.29974854476\n",
      "std-dev:  602.0243348474751\n",
      "\n",
      "Column name:  HourlyRate\n",
      "Mean:  65.89115646258503\n",
      "Median:  66.0\n",
      "varience:  413.28562629953274\n",
      "std-dev:  20.329427593996165\n",
      "\n",
      "Column name:  MonthlyIncome\n",
      "Mean:  6502.931292517007\n",
      "Median:  4919.0\n",
      "varience:  22164857.07151841\n",
      "std-dev:  4707.956783097994\n",
      "\n",
      "Column name:  MonthlyRate\n",
      "Mean:  14313.103401360544\n",
      "Median:  14235.5\n",
      "varience:  50662878.16901497\n",
      "std-dev:  7117.786044059976\n",
      "\n",
      "Column name:  NumCompaniesWorked\n",
      "Mean:  2.6931972789115646\n",
      "Median:  2.0\n",
      "varience:  6.240048994410563\n",
      "std-dev:  2.498009006070747\n",
      "\n",
      "Column name:  PercentSalaryHike\n",
      "Mean:  15.209523809523809\n",
      "Median:  14.0\n",
      "varience:  13.3951440889494\n",
      "std-dev:  3.6599377165396407\n",
      "\n",
      "Column name:  StockOptionLevel\n",
      "Mean:  0.7938775510204081\n",
      "Median:  1.0\n",
      "varience:  0.7260346480321197\n",
      "std-dev:  0.852076667930838\n",
      "\n",
      "Column name:  TotalWorkingYears\n",
      "Mean:  11.279591836734694\n",
      "Median:  10.0\n",
      "varience:  60.54056348202997\n",
      "std-dev:  7.780781675514997\n",
      "\n",
      "Column name:  TrainingTimesLastYear\n",
      "Mean:  2.7993197278911564\n",
      "Median:  3.0\n",
      "varience:  1.662218733647305\n",
      "std-dev:  1.2892706207958455\n",
      "\n",
      "Column name:  YearsAtCompany\n",
      "Mean:  7.0081632653061225\n",
      "Median:  5.0\n",
      "varience:  37.534310443033576\n",
      "std-dev:  6.126525152403569\n",
      "\n",
      "Column name:  YearsInCurrentRole\n",
      "Mean:  4.229251700680272\n",
      "Median:  3.0\n",
      "varience:  13.127121972001872\n",
      "std-dev:  3.623137034670628\n",
      "\n",
      "Column name:  YearsSinceLastPromotion\n",
      "Mean:  2.1877551020408164\n",
      "Median:  1.0\n",
      "varience:  10.384056903905197\n",
      "std-dev:  3.222430279137967\n",
      "\n",
      "Column name:  YearsWithCurrManager\n",
      "Mean:  4.12312925170068\n",
      "Median:  3.0\n",
      "varience:  12.731595374705364\n",
      "std-dev:  3.5681361205404376\n",
      "\n"
     ]
    }
   ],
   "source": [
    "for col in nominal_columns:\n",
    "    print_nominal_info(col)\n",
    "    print()"
   ]
  },
  {
   "cell_type": "code",
   "execution_count": 356,
   "metadata": {
    "trusted": true
   },
   "outputs": [
    {
     "name": "stdout",
     "output_type": "stream",
     "text": [
      "           Frequency  Percentage\n",
      "Attrition                       \n",
      "No              1233   83.877551\n",
      "Yes              237   16.122449\n",
      "\n",
      "                   Frequency  Percentage\n",
      "BusinessTravel                          \n",
      "Travel_Rarely           1043   70.952381\n",
      "Travel_Frequently        277   18.843537\n",
      "Non-Travel               150   10.204082\n",
      "\n",
      "                        Frequency  Percentage\n",
      "Department                                   \n",
      "Research & Development        961   65.374150\n",
      "Sales                         446   30.340136\n",
      "Human Resources                63    4.285714\n",
      "\n",
      "                  Frequency  Percentage\n",
      "EducationField                         \n",
      "Life Sciences           606   41.224490\n",
      "Medical                 464   31.564626\n",
      "Marketing               159   10.816327\n",
      "Technical Degree        132    8.979592\n",
      "Other                    82    5.578231\n",
      "Human Resources          27    1.836735\n",
      "\n",
      "        Frequency  Percentage\n",
      "Gender                       \n",
      "Male          882        60.0\n",
      "Female        588        40.0\n",
      "\n",
      "                           Frequency  Percentage\n",
      "JobRole                                         \n",
      "Sales Executive                  326   22.176871\n",
      "Research Scientist               292   19.863946\n",
      "Laboratory Technician            259   17.619048\n",
      "Manufacturing Director           145    9.863946\n",
      "Healthcare Representative        131    8.911565\n",
      "Manager                          102    6.938776\n",
      "Sales Representative              83    5.646259\n",
      "Research Director                 80    5.442177\n",
      "Human Resources                   52    3.537415\n",
      "\n",
      "               Frequency  Percentage\n",
      "MaritalStatus                       \n",
      "Married              673   45.782313\n",
      "Single               470   31.972789\n",
      "Divorced             327   22.244898\n",
      "\n",
      "          Frequency  Percentage\n",
      "OverTime                       \n",
      "No             1054    71.70068\n",
      "Yes             416    28.29932\n",
      "\n",
      "                         Frequency  Percentage\n",
      "EnvironmentSatisfaction                       \n",
      "3                              453   30.816327\n",
      "4                              446   30.340136\n",
      "2                              287   19.523810\n",
      "1                              284   19.319728\n",
      "\n",
      "                Frequency  Percentage\n",
      "JobInvolvement                       \n",
      "3                     868   59.047619\n",
      "2                     375   25.510204\n",
      "4                     144    9.795918\n",
      "1                      83    5.646259\n",
      "\n",
      "          Frequency  Percentage\n",
      "JobLevel                       \n",
      "1               543   36.938776\n",
      "2               534   36.326531\n",
      "3               218   14.829932\n",
      "4               106    7.210884\n",
      "5                69    4.693878\n",
      "\n",
      "                 Frequency  Percentage\n",
      "JobSatisfaction                       \n",
      "4                      459   31.224490\n",
      "3                      442   30.068027\n",
      "1                      289   19.659864\n",
      "2                      280   19.047619\n",
      "\n",
      "                   Frequency  Percentage\n",
      "PerformanceRating                       \n",
      "3                       1244    84.62585\n",
      "4                        226    15.37415\n",
      "\n",
      "                          Frequency  Percentage\n",
      "RelationshipSatisfaction                       \n",
      "3                               459   31.224490\n",
      "4                               432   29.387755\n",
      "2                               303   20.612245\n",
      "1                               276   18.775510\n",
      "\n",
      "                 Frequency  Percentage\n",
      "WorkLifeBalance                       \n",
      "3                      893   60.748299\n",
      "2                      344   23.401361\n",
      "4                      153   10.408163\n",
      "1                       80    5.442177\n",
      "\n"
     ]
    }
   ],
   "source": [
    "for col in ordinal_columns:\n",
    "    print_ordinal_info(col)\n",
    "    print()"
   ]
  },
  {
   "cell_type": "markdown",
   "metadata": {},
   "source": [
    "# Convert catagorical data into numbers"
   ]
  },
  {
   "cell_type": "code",
   "execution_count": 357,
   "metadata": {},
   "outputs": [
    {
     "data": {
      "application/vnd.microsoft.datawrangler.viewer.v0+json": {
       "columns": [
        {
         "name": "index",
         "rawType": "int64",
         "type": "integer"
        },
        {
         "name": "Age",
         "rawType": "int64",
         "type": "integer"
        },
        {
         "name": "Attrition",
         "rawType": "int8",
         "type": "integer"
        },
        {
         "name": "BusinessTravel",
         "rawType": "int8",
         "type": "integer"
        },
        {
         "name": "DailyRate",
         "rawType": "int64",
         "type": "integer"
        },
        {
         "name": "Department",
         "rawType": "int8",
         "type": "integer"
        },
        {
         "name": "DistanceFromHome",
         "rawType": "int64",
         "type": "integer"
        },
        {
         "name": "Education",
         "rawType": "int64",
         "type": "integer"
        },
        {
         "name": "EducationField",
         "rawType": "int8",
         "type": "integer"
        },
        {
         "name": "EmployeeNumber",
         "rawType": "int64",
         "type": "integer"
        },
        {
         "name": "EnvironmentSatisfaction",
         "rawType": "int64",
         "type": "integer"
        },
        {
         "name": "Gender",
         "rawType": "int8",
         "type": "integer"
        },
        {
         "name": "HourlyRate",
         "rawType": "int64",
         "type": "integer"
        },
        {
         "name": "JobInvolvement",
         "rawType": "int64",
         "type": "integer"
        },
        {
         "name": "JobLevel",
         "rawType": "int64",
         "type": "integer"
        },
        {
         "name": "JobRole",
         "rawType": "int8",
         "type": "integer"
        },
        {
         "name": "JobSatisfaction",
         "rawType": "int64",
         "type": "integer"
        },
        {
         "name": "MaritalStatus",
         "rawType": "int8",
         "type": "integer"
        },
        {
         "name": "MonthlyIncome",
         "rawType": "int64",
         "type": "integer"
        },
        {
         "name": "MonthlyRate",
         "rawType": "int64",
         "type": "integer"
        },
        {
         "name": "NumCompaniesWorked",
         "rawType": "int64",
         "type": "integer"
        },
        {
         "name": "OverTime",
         "rawType": "int8",
         "type": "integer"
        },
        {
         "name": "PercentSalaryHike",
         "rawType": "int64",
         "type": "integer"
        },
        {
         "name": "PerformanceRating",
         "rawType": "int64",
         "type": "integer"
        },
        {
         "name": "RelationshipSatisfaction",
         "rawType": "int64",
         "type": "integer"
        },
        {
         "name": "StockOptionLevel",
         "rawType": "int64",
         "type": "integer"
        },
        {
         "name": "TotalWorkingYears",
         "rawType": "int64",
         "type": "integer"
        },
        {
         "name": "TrainingTimesLastYear",
         "rawType": "int64",
         "type": "integer"
        },
        {
         "name": "WorkLifeBalance",
         "rawType": "int64",
         "type": "integer"
        },
        {
         "name": "YearsAtCompany",
         "rawType": "int64",
         "type": "integer"
        },
        {
         "name": "YearsInCurrentRole",
         "rawType": "int64",
         "type": "integer"
        },
        {
         "name": "YearsSinceLastPromotion",
         "rawType": "int64",
         "type": "integer"
        },
        {
         "name": "YearsWithCurrManager",
         "rawType": "int64",
         "type": "integer"
        }
       ],
       "conversionMethod": "pd.DataFrame",
       "ref": "1128b021-b49d-4cee-bd0f-d4a47e349fd8",
       "rows": [
        [
         "0",
         "41",
         "1",
         "2",
         "1102",
         "2",
         "1",
         "2",
         "1",
         "1",
         "2",
         "0",
         "94",
         "3",
         "2",
         "7",
         "4",
         "2",
         "5993",
         "19479",
         "8",
         "1",
         "11",
         "3",
         "1",
         "0",
         "8",
         "0",
         "1",
         "6",
         "4",
         "0",
         "5"
        ],
        [
         "1",
         "49",
         "0",
         "1",
         "279",
         "1",
         "8",
         "1",
         "1",
         "2",
         "3",
         "1",
         "61",
         "2",
         "2",
         "6",
         "2",
         "1",
         "5130",
         "24907",
         "1",
         "0",
         "23",
         "4",
         "4",
         "1",
         "10",
         "3",
         "3",
         "10",
         "7",
         "1",
         "7"
        ],
        [
         "2",
         "37",
         "1",
         "2",
         "1373",
         "1",
         "2",
         "2",
         "4",
         "4",
         "4",
         "1",
         "92",
         "2",
         "1",
         "2",
         "3",
         "2",
         "2090",
         "2396",
         "6",
         "1",
         "15",
         "3",
         "2",
         "0",
         "7",
         "3",
         "3",
         "0",
         "0",
         "0",
         "0"
        ],
        [
         "3",
         "33",
         "0",
         "1",
         "1392",
         "1",
         "3",
         "4",
         "1",
         "5",
         "4",
         "0",
         "56",
         "3",
         "1",
         "6",
         "3",
         "1",
         "2909",
         "23159",
         "1",
         "1",
         "11",
         "3",
         "3",
         "0",
         "8",
         "3",
         "3",
         "8",
         "7",
         "3",
         "0"
        ],
        [
         "4",
         "27",
         "0",
         "2",
         "591",
         "1",
         "2",
         "1",
         "3",
         "7",
         "1",
         "1",
         "40",
         "3",
         "1",
         "2",
         "2",
         "1",
         "3468",
         "16632",
         "9",
         "0",
         "12",
         "3",
         "4",
         "1",
         "6",
         "3",
         "3",
         "2",
         "2",
         "2",
         "2"
        ],
        [
         "5",
         "32",
         "0",
         "1",
         "1005",
         "1",
         "2",
         "2",
         "1",
         "8",
         "4",
         "1",
         "79",
         "3",
         "1",
         "2",
         "4",
         "2",
         "3068",
         "11864",
         "0",
         "0",
         "13",
         "3",
         "3",
         "0",
         "8",
         "2",
         "2",
         "7",
         "7",
         "3",
         "6"
        ],
        [
         "6",
         "59",
         "0",
         "2",
         "1324",
         "1",
         "3",
         "3",
         "3",
         "10",
         "3",
         "0",
         "81",
         "4",
         "1",
         "2",
         "1",
         "1",
         "2670",
         "9964",
         "4",
         "1",
         "20",
         "4",
         "1",
         "3",
         "12",
         "3",
         "2",
         "1",
         "0",
         "0",
         "0"
        ],
        [
         "7",
         "30",
         "0",
         "2",
         "1358",
         "1",
         "24",
         "1",
         "1",
         "11",
         "4",
         "1",
         "67",
         "3",
         "1",
         "2",
         "3",
         "0",
         "2693",
         "13335",
         "1",
         "0",
         "22",
         "4",
         "2",
         "1",
         "1",
         "2",
         "3",
         "1",
         "0",
         "0",
         "0"
        ],
        [
         "8",
         "38",
         "0",
         "1",
         "216",
         "1",
         "23",
         "3",
         "1",
         "12",
         "4",
         "1",
         "44",
         "2",
         "3",
         "4",
         "3",
         "2",
         "9526",
         "8787",
         "0",
         "0",
         "21",
         "4",
         "2",
         "0",
         "10",
         "2",
         "3",
         "9",
         "7",
         "1",
         "8"
        ],
        [
         "9",
         "36",
         "0",
         "2",
         "1299",
         "1",
         "27",
         "3",
         "3",
         "13",
         "3",
         "1",
         "94",
         "3",
         "2",
         "0",
         "3",
         "1",
         "5237",
         "16577",
         "6",
         "0",
         "13",
         "3",
         "2",
         "2",
         "17",
         "3",
         "2",
         "7",
         "7",
         "7",
         "7"
        ],
        [
         "10",
         "35",
         "0",
         "2",
         "809",
         "1",
         "16",
         "3",
         "3",
         "14",
         "1",
         "1",
         "84",
         "4",
         "1",
         "2",
         "2",
         "1",
         "2426",
         "16479",
         "0",
         "0",
         "13",
         "3",
         "3",
         "1",
         "6",
         "5",
         "3",
         "5",
         "4",
         "0",
         "3"
        ],
        [
         "11",
         "29",
         "0",
         "2",
         "153",
         "1",
         "15",
         "2",
         "1",
         "15",
         "4",
         "0",
         "49",
         "2",
         "2",
         "2",
         "3",
         "2",
         "4193",
         "12682",
         "0",
         "1",
         "12",
         "3",
         "4",
         "0",
         "10",
         "3",
         "3",
         "9",
         "5",
         "0",
         "8"
        ],
        [
         "12",
         "31",
         "0",
         "2",
         "670",
         "1",
         "26",
         "1",
         "1",
         "16",
         "1",
         "1",
         "31",
         "3",
         "1",
         "6",
         "3",
         "0",
         "2911",
         "15170",
         "1",
         "0",
         "17",
         "3",
         "4",
         "1",
         "5",
         "1",
         "2",
         "5",
         "2",
         "4",
         "3"
        ],
        [
         "13",
         "34",
         "0",
         "2",
         "1346",
         "1",
         "19",
         "2",
         "3",
         "18",
         "2",
         "1",
         "93",
         "3",
         "1",
         "2",
         "4",
         "0",
         "2661",
         "8758",
         "0",
         "0",
         "11",
         "3",
         "3",
         "1",
         "3",
         "2",
         "3",
         "2",
         "2",
         "1",
         "2"
        ],
        [
         "14",
         "28",
         "1",
         "2",
         "103",
         "1",
         "24",
         "3",
         "1",
         "19",
         "3",
         "1",
         "50",
         "2",
         "1",
         "2",
         "3",
         "2",
         "2028",
         "12947",
         "5",
         "1",
         "14",
         "3",
         "2",
         "0",
         "6",
         "4",
         "3",
         "4",
         "2",
         "0",
         "3"
        ],
        [
         "15",
         "29",
         "0",
         "2",
         "1389",
         "1",
         "21",
         "4",
         "1",
         "20",
         "2",
         "0",
         "51",
         "4",
         "3",
         "4",
         "1",
         "0",
         "9980",
         "10195",
         "1",
         "0",
         "11",
         "3",
         "3",
         "1",
         "10",
         "1",
         "3",
         "10",
         "9",
         "8",
         "8"
        ],
        [
         "16",
         "32",
         "0",
         "2",
         "334",
         "1",
         "5",
         "2",
         "1",
         "21",
         "1",
         "1",
         "80",
         "4",
         "1",
         "6",
         "2",
         "0",
         "3298",
         "15053",
         "0",
         "1",
         "12",
         "3",
         "4",
         "2",
         "7",
         "5",
         "2",
         "6",
         "2",
         "0",
         "5"
        ],
        [
         "17",
         "22",
         "0",
         "0",
         "1123",
         "1",
         "16",
         "2",
         "3",
         "22",
         "4",
         "1",
         "96",
         "4",
         "1",
         "2",
         "4",
         "0",
         "2935",
         "7324",
         "1",
         "1",
         "13",
         "3",
         "2",
         "2",
         "1",
         "2",
         "2",
         "1",
         "0",
         "0",
         "0"
        ],
        [
         "18",
         "53",
         "0",
         "2",
         "1219",
         "2",
         "2",
         "4",
         "1",
         "23",
         "1",
         "0",
         "78",
         "2",
         "4",
         "3",
         "4",
         "1",
         "15427",
         "22021",
         "2",
         "0",
         "16",
         "3",
         "3",
         "0",
         "31",
         "3",
         "3",
         "25",
         "8",
         "3",
         "7"
        ],
        [
         "19",
         "38",
         "0",
         "2",
         "371",
         "1",
         "2",
         "3",
         "1",
         "24",
         "4",
         "1",
         "45",
         "3",
         "1",
         "6",
         "4",
         "2",
         "3944",
         "4306",
         "5",
         "1",
         "11",
         "3",
         "3",
         "0",
         "6",
         "3",
         "3",
         "3",
         "2",
         "1",
         "2"
        ],
        [
         "20",
         "24",
         "0",
         "0",
         "673",
         "1",
         "11",
         "2",
         "4",
         "26",
         "1",
         "0",
         "96",
         "4",
         "2",
         "4",
         "3",
         "0",
         "4011",
         "8232",
         "0",
         "0",
         "18",
         "3",
         "4",
         "1",
         "5",
         "5",
         "2",
         "4",
         "2",
         "1",
         "3"
        ],
        [
         "21",
         "36",
         "1",
         "2",
         "1218",
         "2",
         "9",
         "4",
         "1",
         "27",
         "3",
         "1",
         "82",
         "2",
         "1",
         "8",
         "1",
         "2",
         "3407",
         "6986",
         "7",
         "0",
         "23",
         "4",
         "2",
         "0",
         "10",
         "4",
         "3",
         "5",
         "3",
         "0",
         "3"
        ],
        [
         "22",
         "34",
         "0",
         "2",
         "419",
         "1",
         "7",
         "4",
         "1",
         "28",
         "1",
         "0",
         "53",
         "3",
         "3",
         "5",
         "2",
         "2",
         "11994",
         "21293",
         "0",
         "0",
         "11",
         "3",
         "3",
         "0",
         "13",
         "4",
         "3",
         "12",
         "6",
         "2",
         "11"
        ],
        [
         "23",
         "21",
         "0",
         "2",
         "391",
         "1",
         "15",
         "2",
         "1",
         "30",
         "3",
         "1",
         "96",
         "3",
         "1",
         "6",
         "4",
         "2",
         "1232",
         "19281",
         "1",
         "0",
         "14",
         "3",
         "4",
         "0",
         "0",
         "6",
         "3",
         "0",
         "0",
         "0",
         "0"
        ],
        [
         "24",
         "34",
         "1",
         "2",
         "699",
         "1",
         "6",
         "1",
         "3",
         "31",
         "2",
         "1",
         "83",
         "3",
         "1",
         "6",
         "1",
         "2",
         "2960",
         "17102",
         "2",
         "0",
         "11",
         "3",
         "3",
         "0",
         "8",
         "2",
         "3",
         "4",
         "2",
         "1",
         "3"
        ],
        [
         "25",
         "53",
         "0",
         "2",
         "1282",
         "1",
         "5",
         "3",
         "4",
         "32",
         "3",
         "0",
         "58",
         "3",
         "5",
         "3",
         "3",
         "0",
         "19094",
         "10735",
         "4",
         "0",
         "11",
         "3",
         "4",
         "1",
         "26",
         "3",
         "2",
         "14",
         "13",
         "4",
         "8"
        ],
        [
         "26",
         "32",
         "1",
         "1",
         "1125",
         "1",
         "16",
         "1",
         "1",
         "33",
         "2",
         "0",
         "72",
         "1",
         "1",
         "6",
         "1",
         "2",
         "3919",
         "4681",
         "1",
         "1",
         "22",
         "4",
         "2",
         "0",
         "10",
         "5",
         "3",
         "10",
         "2",
         "6",
         "7"
        ],
        [
         "27",
         "42",
         "0",
         "2",
         "691",
         "2",
         "8",
         "4",
         "2",
         "35",
         "3",
         "1",
         "48",
         "3",
         "2",
         "7",
         "2",
         "1",
         "6825",
         "21173",
         "0",
         "0",
         "11",
         "3",
         "4",
         "1",
         "10",
         "2",
         "3",
         "9",
         "7",
         "4",
         "2"
        ],
        [
         "28",
         "44",
         "0",
         "2",
         "477",
         "1",
         "7",
         "4",
         "3",
         "36",
         "1",
         "0",
         "42",
         "2",
         "3",
         "0",
         "4",
         "1",
         "10248",
         "2094",
         "3",
         "0",
         "14",
         "3",
         "4",
         "1",
         "24",
         "4",
         "3",
         "22",
         "6",
         "5",
         "17"
        ],
        [
         "29",
         "46",
         "0",
         "2",
         "705",
         "2",
         "2",
         "4",
         "2",
         "38",
         "2",
         "0",
         "83",
         "3",
         "5",
         "3",
         "1",
         "2",
         "18947",
         "22822",
         "3",
         "0",
         "12",
         "3",
         "4",
         "0",
         "22",
         "2",
         "2",
         "2",
         "2",
         "2",
         "1"
        ],
        [
         "30",
         "33",
         "0",
         "2",
         "924",
         "1",
         "2",
         "3",
         "3",
         "39",
         "3",
         "1",
         "78",
         "3",
         "1",
         "2",
         "4",
         "2",
         "2496",
         "6670",
         "4",
         "0",
         "11",
         "3",
         "4",
         "0",
         "7",
         "3",
         "3",
         "1",
         "1",
         "0",
         "0"
        ],
        [
         "31",
         "44",
         "0",
         "2",
         "1459",
         "1",
         "10",
         "4",
         "4",
         "40",
         "4",
         "1",
         "41",
         "3",
         "2",
         "0",
         "4",
         "1",
         "6465",
         "19121",
         "2",
         "1",
         "13",
         "3",
         "4",
         "0",
         "9",
         "5",
         "4",
         "4",
         "2",
         "1",
         "3"
        ],
        [
         "32",
         "30",
         "0",
         "2",
         "125",
         "1",
         "9",
         "2",
         "3",
         "41",
         "4",
         "1",
         "83",
         "2",
         "1",
         "2",
         "3",
         "2",
         "2206",
         "16117",
         "1",
         "0",
         "13",
         "3",
         "1",
         "0",
         "10",
         "5",
         "3",
         "10",
         "0",
         "1",
         "8"
        ],
        [
         "33",
         "39",
         "1",
         "2",
         "895",
         "2",
         "5",
         "3",
         "5",
         "42",
         "4",
         "1",
         "56",
         "3",
         "2",
         "8",
         "4",
         "1",
         "2086",
         "3335",
         "3",
         "0",
         "14",
         "3",
         "3",
         "1",
         "19",
         "6",
         "4",
         "1",
         "0",
         "0",
         "0"
        ],
        [
         "34",
         "24",
         "1",
         "2",
         "813",
         "1",
         "1",
         "3",
         "3",
         "45",
         "2",
         "1",
         "61",
         "3",
         "1",
         "6",
         "4",
         "1",
         "2293",
         "3020",
         "2",
         "1",
         "16",
         "3",
         "1",
         "1",
         "6",
         "2",
         "2",
         "2",
         "0",
         "2",
         "0"
        ],
        [
         "35",
         "43",
         "0",
         "2",
         "1273",
         "1",
         "2",
         "2",
         "3",
         "46",
         "4",
         "0",
         "72",
         "4",
         "1",
         "6",
         "3",
         "0",
         "2645",
         "21923",
         "1",
         "0",
         "12",
         "3",
         "4",
         "2",
         "6",
         "3",
         "2",
         "5",
         "3",
         "1",
         "4"
        ],
        [
         "36",
         "50",
         "1",
         "2",
         "869",
         "2",
         "3",
         "2",
         "2",
         "47",
         "1",
         "1",
         "86",
         "2",
         "1",
         "8",
         "3",
         "1",
         "2683",
         "3810",
         "1",
         "1",
         "14",
         "3",
         "3",
         "0",
         "3",
         "2",
         "3",
         "3",
         "2",
         "0",
         "2"
        ],
        [
         "37",
         "35",
         "0",
         "2",
         "890",
         "2",
         "2",
         "3",
         "2",
         "49",
         "4",
         "0",
         "97",
         "3",
         "1",
         "8",
         "4",
         "1",
         "2014",
         "9687",
         "1",
         "0",
         "13",
         "3",
         "1",
         "0",
         "2",
         "3",
         "3",
         "2",
         "2",
         "2",
         "2"
        ],
        [
         "38",
         "36",
         "0",
         "2",
         "852",
         "1",
         "5",
         "4",
         "1",
         "51",
         "2",
         "0",
         "82",
         "2",
         "1",
         "6",
         "1",
         "1",
         "3419",
         "13072",
         "9",
         "1",
         "14",
         "3",
         "4",
         "1",
         "6",
         "3",
         "4",
         "1",
         "1",
         "0",
         "0"
        ],
        [
         "39",
         "33",
         "0",
         "1",
         "1141",
         "2",
         "1",
         "3",
         "1",
         "52",
         "3",
         "0",
         "42",
         "4",
         "2",
         "7",
         "1",
         "1",
         "5376",
         "3193",
         "2",
         "0",
         "19",
         "3",
         "1",
         "2",
         "10",
         "3",
         "3",
         "5",
         "3",
         "1",
         "3"
        ],
        [
         "40",
         "35",
         "0",
         "2",
         "464",
         "1",
         "4",
         "2",
         "4",
         "53",
         "3",
         "1",
         "75",
         "3",
         "1",
         "2",
         "4",
         "0",
         "1951",
         "10910",
         "1",
         "0",
         "12",
         "3",
         "3",
         "1",
         "1",
         "3",
         "3",
         "1",
         "0",
         "0",
         "0"
        ],
        [
         "41",
         "27",
         "0",
         "2",
         "1240",
         "1",
         "2",
         "4",
         "1",
         "54",
         "4",
         "0",
         "33",
         "3",
         "1",
         "2",
         "1",
         "0",
         "2341",
         "19715",
         "1",
         "0",
         "13",
         "3",
         "4",
         "1",
         "1",
         "6",
         "3",
         "1",
         "0",
         "0",
         "0"
        ],
        [
         "42",
         "26",
         "1",
         "2",
         "1357",
         "1",
         "25",
         "3",
         "1",
         "55",
         "1",
         "1",
         "48",
         "1",
         "1",
         "2",
         "3",
         "2",
         "2293",
         "10558",
         "1",
         "0",
         "12",
         "3",
         "3",
         "0",
         "1",
         "2",
         "2",
         "1",
         "0",
         "0",
         "1"
        ],
        [
         "43",
         "27",
         "0",
         "1",
         "994",
         "2",
         "8",
         "3",
         "1",
         "56",
         "4",
         "1",
         "37",
         "3",
         "3",
         "7",
         "3",
         "2",
         "8726",
         "2975",
         "1",
         "0",
         "15",
         "3",
         "4",
         "0",
         "9",
         "0",
         "3",
         "9",
         "8",
         "1",
         "7"
        ],
        [
         "44",
         "30",
         "0",
         "1",
         "721",
         "1",
         "1",
         "2",
         "3",
         "57",
         "3",
         "0",
         "58",
         "3",
         "2",
         "2",
         "4",
         "2",
         "4011",
         "10781",
         "1",
         "0",
         "23",
         "4",
         "4",
         "0",
         "12",
         "2",
         "3",
         "12",
         "8",
         "3",
         "7"
        ],
        [
         "45",
         "41",
         "1",
         "2",
         "1360",
         "1",
         "12",
         "3",
         "5",
         "58",
         "2",
         "0",
         "49",
         "3",
         "5",
         "5",
         "3",
         "1",
         "19545",
         "16280",
         "1",
         "0",
         "12",
         "3",
         "4",
         "0",
         "23",
         "0",
         "3",
         "22",
         "15",
         "15",
         "8"
        ],
        [
         "46",
         "34",
         "0",
         "0",
         "1065",
         "2",
         "23",
         "4",
         "2",
         "60",
         "2",
         "1",
         "72",
         "3",
         "2",
         "7",
         "3",
         "2",
         "4568",
         "10034",
         "0",
         "0",
         "20",
         "4",
         "3",
         "0",
         "10",
         "2",
         "3",
         "9",
         "5",
         "8",
         "7"
        ],
        [
         "47",
         "37",
         "0",
         "2",
         "408",
         "1",
         "19",
         "2",
         "1",
         "61",
         "2",
         "1",
         "73",
         "3",
         "1",
         "6",
         "2",
         "1",
         "3022",
         "10227",
         "4",
         "0",
         "21",
         "4",
         "1",
         "0",
         "8",
         "1",
         "3",
         "1",
         "0",
         "0",
         "0"
        ],
        [
         "48",
         "46",
         "0",
         "1",
         "1211",
         "2",
         "5",
         "4",
         "2",
         "62",
         "1",
         "1",
         "98",
         "3",
         "2",
         "7",
         "4",
         "2",
         "5772",
         "20445",
         "4",
         "1",
         "21",
         "4",
         "3",
         "0",
         "14",
         "4",
         "3",
         "9",
         "6",
         "0",
         "8"
        ],
        [
         "49",
         "35",
         "0",
         "2",
         "1229",
         "1",
         "8",
         "1",
         "1",
         "63",
         "4",
         "1",
         "36",
         "4",
         "1",
         "2",
         "4",
         "1",
         "2269",
         "4892",
         "1",
         "0",
         "19",
         "3",
         "4",
         "0",
         "1",
         "2",
         "3",
         "1",
         "0",
         "0",
         "1"
        ]
       ],
       "shape": {
        "columns": 32,
        "rows": 1470
       }
      },
      "text/html": [
       "<div>\n",
       "<style scoped>\n",
       "    .dataframe tbody tr th:only-of-type {\n",
       "        vertical-align: middle;\n",
       "    }\n",
       "\n",
       "    .dataframe tbody tr th {\n",
       "        vertical-align: top;\n",
       "    }\n",
       "\n",
       "    .dataframe thead th {\n",
       "        text-align: right;\n",
       "    }\n",
       "</style>\n",
       "<table border=\"1\" class=\"dataframe\">\n",
       "  <thead>\n",
       "    <tr style=\"text-align: right;\">\n",
       "      <th></th>\n",
       "      <th>Age</th>\n",
       "      <th>Attrition</th>\n",
       "      <th>BusinessTravel</th>\n",
       "      <th>DailyRate</th>\n",
       "      <th>Department</th>\n",
       "      <th>DistanceFromHome</th>\n",
       "      <th>Education</th>\n",
       "      <th>EducationField</th>\n",
       "      <th>EmployeeNumber</th>\n",
       "      <th>EnvironmentSatisfaction</th>\n",
       "      <th>...</th>\n",
       "      <th>PerformanceRating</th>\n",
       "      <th>RelationshipSatisfaction</th>\n",
       "      <th>StockOptionLevel</th>\n",
       "      <th>TotalWorkingYears</th>\n",
       "      <th>TrainingTimesLastYear</th>\n",
       "      <th>WorkLifeBalance</th>\n",
       "      <th>YearsAtCompany</th>\n",
       "      <th>YearsInCurrentRole</th>\n",
       "      <th>YearsSinceLastPromotion</th>\n",
       "      <th>YearsWithCurrManager</th>\n",
       "    </tr>\n",
       "  </thead>\n",
       "  <tbody>\n",
       "    <tr>\n",
       "      <th>0</th>\n",
       "      <td>41</td>\n",
       "      <td>1</td>\n",
       "      <td>2</td>\n",
       "      <td>1102</td>\n",
       "      <td>2</td>\n",
       "      <td>1</td>\n",
       "      <td>2</td>\n",
       "      <td>1</td>\n",
       "      <td>1</td>\n",
       "      <td>2</td>\n",
       "      <td>...</td>\n",
       "      <td>3</td>\n",
       "      <td>1</td>\n",
       "      <td>0</td>\n",
       "      <td>8</td>\n",
       "      <td>0</td>\n",
       "      <td>1</td>\n",
       "      <td>6</td>\n",
       "      <td>4</td>\n",
       "      <td>0</td>\n",
       "      <td>5</td>\n",
       "    </tr>\n",
       "    <tr>\n",
       "      <th>1</th>\n",
       "      <td>49</td>\n",
       "      <td>0</td>\n",
       "      <td>1</td>\n",
       "      <td>279</td>\n",
       "      <td>1</td>\n",
       "      <td>8</td>\n",
       "      <td>1</td>\n",
       "      <td>1</td>\n",
       "      <td>2</td>\n",
       "      <td>3</td>\n",
       "      <td>...</td>\n",
       "      <td>4</td>\n",
       "      <td>4</td>\n",
       "      <td>1</td>\n",
       "      <td>10</td>\n",
       "      <td>3</td>\n",
       "      <td>3</td>\n",
       "      <td>10</td>\n",
       "      <td>7</td>\n",
       "      <td>1</td>\n",
       "      <td>7</td>\n",
       "    </tr>\n",
       "    <tr>\n",
       "      <th>2</th>\n",
       "      <td>37</td>\n",
       "      <td>1</td>\n",
       "      <td>2</td>\n",
       "      <td>1373</td>\n",
       "      <td>1</td>\n",
       "      <td>2</td>\n",
       "      <td>2</td>\n",
       "      <td>4</td>\n",
       "      <td>4</td>\n",
       "      <td>4</td>\n",
       "      <td>...</td>\n",
       "      <td>3</td>\n",
       "      <td>2</td>\n",
       "      <td>0</td>\n",
       "      <td>7</td>\n",
       "      <td>3</td>\n",
       "      <td>3</td>\n",
       "      <td>0</td>\n",
       "      <td>0</td>\n",
       "      <td>0</td>\n",
       "      <td>0</td>\n",
       "    </tr>\n",
       "    <tr>\n",
       "      <th>3</th>\n",
       "      <td>33</td>\n",
       "      <td>0</td>\n",
       "      <td>1</td>\n",
       "      <td>1392</td>\n",
       "      <td>1</td>\n",
       "      <td>3</td>\n",
       "      <td>4</td>\n",
       "      <td>1</td>\n",
       "      <td>5</td>\n",
       "      <td>4</td>\n",
       "      <td>...</td>\n",
       "      <td>3</td>\n",
       "      <td>3</td>\n",
       "      <td>0</td>\n",
       "      <td>8</td>\n",
       "      <td>3</td>\n",
       "      <td>3</td>\n",
       "      <td>8</td>\n",
       "      <td>7</td>\n",
       "      <td>3</td>\n",
       "      <td>0</td>\n",
       "    </tr>\n",
       "    <tr>\n",
       "      <th>4</th>\n",
       "      <td>27</td>\n",
       "      <td>0</td>\n",
       "      <td>2</td>\n",
       "      <td>591</td>\n",
       "      <td>1</td>\n",
       "      <td>2</td>\n",
       "      <td>1</td>\n",
       "      <td>3</td>\n",
       "      <td>7</td>\n",
       "      <td>1</td>\n",
       "      <td>...</td>\n",
       "      <td>3</td>\n",
       "      <td>4</td>\n",
       "      <td>1</td>\n",
       "      <td>6</td>\n",
       "      <td>3</td>\n",
       "      <td>3</td>\n",
       "      <td>2</td>\n",
       "      <td>2</td>\n",
       "      <td>2</td>\n",
       "      <td>2</td>\n",
       "    </tr>\n",
       "    <tr>\n",
       "      <th>...</th>\n",
       "      <td>...</td>\n",
       "      <td>...</td>\n",
       "      <td>...</td>\n",
       "      <td>...</td>\n",
       "      <td>...</td>\n",
       "      <td>...</td>\n",
       "      <td>...</td>\n",
       "      <td>...</td>\n",
       "      <td>...</td>\n",
       "      <td>...</td>\n",
       "      <td>...</td>\n",
       "      <td>...</td>\n",
       "      <td>...</td>\n",
       "      <td>...</td>\n",
       "      <td>...</td>\n",
       "      <td>...</td>\n",
       "      <td>...</td>\n",
       "      <td>...</td>\n",
       "      <td>...</td>\n",
       "      <td>...</td>\n",
       "      <td>...</td>\n",
       "    </tr>\n",
       "    <tr>\n",
       "      <th>1465</th>\n",
       "      <td>36</td>\n",
       "      <td>0</td>\n",
       "      <td>1</td>\n",
       "      <td>884</td>\n",
       "      <td>1</td>\n",
       "      <td>23</td>\n",
       "      <td>2</td>\n",
       "      <td>3</td>\n",
       "      <td>2061</td>\n",
       "      <td>3</td>\n",
       "      <td>...</td>\n",
       "      <td>3</td>\n",
       "      <td>3</td>\n",
       "      <td>1</td>\n",
       "      <td>17</td>\n",
       "      <td>3</td>\n",
       "      <td>3</td>\n",
       "      <td>5</td>\n",
       "      <td>2</td>\n",
       "      <td>0</td>\n",
       "      <td>3</td>\n",
       "    </tr>\n",
       "    <tr>\n",
       "      <th>1466</th>\n",
       "      <td>39</td>\n",
       "      <td>0</td>\n",
       "      <td>2</td>\n",
       "      <td>613</td>\n",
       "      <td>1</td>\n",
       "      <td>6</td>\n",
       "      <td>1</td>\n",
       "      <td>3</td>\n",
       "      <td>2062</td>\n",
       "      <td>4</td>\n",
       "      <td>...</td>\n",
       "      <td>3</td>\n",
       "      <td>1</td>\n",
       "      <td>1</td>\n",
       "      <td>9</td>\n",
       "      <td>5</td>\n",
       "      <td>3</td>\n",
       "      <td>7</td>\n",
       "      <td>7</td>\n",
       "      <td>1</td>\n",
       "      <td>7</td>\n",
       "    </tr>\n",
       "    <tr>\n",
       "      <th>1467</th>\n",
       "      <td>27</td>\n",
       "      <td>0</td>\n",
       "      <td>2</td>\n",
       "      <td>155</td>\n",
       "      <td>1</td>\n",
       "      <td>4</td>\n",
       "      <td>3</td>\n",
       "      <td>1</td>\n",
       "      <td>2064</td>\n",
       "      <td>2</td>\n",
       "      <td>...</td>\n",
       "      <td>4</td>\n",
       "      <td>2</td>\n",
       "      <td>1</td>\n",
       "      <td>6</td>\n",
       "      <td>0</td>\n",
       "      <td>3</td>\n",
       "      <td>6</td>\n",
       "      <td>2</td>\n",
       "      <td>0</td>\n",
       "      <td>3</td>\n",
       "    </tr>\n",
       "    <tr>\n",
       "      <th>1468</th>\n",
       "      <td>49</td>\n",
       "      <td>0</td>\n",
       "      <td>1</td>\n",
       "      <td>1023</td>\n",
       "      <td>2</td>\n",
       "      <td>2</td>\n",
       "      <td>3</td>\n",
       "      <td>3</td>\n",
       "      <td>2065</td>\n",
       "      <td>4</td>\n",
       "      <td>...</td>\n",
       "      <td>3</td>\n",
       "      <td>4</td>\n",
       "      <td>0</td>\n",
       "      <td>17</td>\n",
       "      <td>3</td>\n",
       "      <td>2</td>\n",
       "      <td>9</td>\n",
       "      <td>6</td>\n",
       "      <td>0</td>\n",
       "      <td>8</td>\n",
       "    </tr>\n",
       "    <tr>\n",
       "      <th>1469</th>\n",
       "      <td>34</td>\n",
       "      <td>0</td>\n",
       "      <td>2</td>\n",
       "      <td>628</td>\n",
       "      <td>1</td>\n",
       "      <td>8</td>\n",
       "      <td>3</td>\n",
       "      <td>3</td>\n",
       "      <td>2068</td>\n",
       "      <td>2</td>\n",
       "      <td>...</td>\n",
       "      <td>3</td>\n",
       "      <td>1</td>\n",
       "      <td>0</td>\n",
       "      <td>6</td>\n",
       "      <td>3</td>\n",
       "      <td>4</td>\n",
       "      <td>4</td>\n",
       "      <td>3</td>\n",
       "      <td>1</td>\n",
       "      <td>2</td>\n",
       "    </tr>\n",
       "  </tbody>\n",
       "</table>\n",
       "<p>1470 rows × 32 columns</p>\n",
       "</div>"
      ],
      "text/plain": [
       "      Age  Attrition  BusinessTravel  DailyRate  Department  DistanceFromHome  \\\n",
       "0      41          1               2       1102           2                 1   \n",
       "1      49          0               1        279           1                 8   \n",
       "2      37          1               2       1373           1                 2   \n",
       "3      33          0               1       1392           1                 3   \n",
       "4      27          0               2        591           1                 2   \n",
       "...   ...        ...             ...        ...         ...               ...   \n",
       "1465   36          0               1        884           1                23   \n",
       "1466   39          0               2        613           1                 6   \n",
       "1467   27          0               2        155           1                 4   \n",
       "1468   49          0               1       1023           2                 2   \n",
       "1469   34          0               2        628           1                 8   \n",
       "\n",
       "      Education  EducationField  EmployeeNumber  EnvironmentSatisfaction  ...  \\\n",
       "0             2               1               1                        2  ...   \n",
       "1             1               1               2                        3  ...   \n",
       "2             2               4               4                        4  ...   \n",
       "3             4               1               5                        4  ...   \n",
       "4             1               3               7                        1  ...   \n",
       "...         ...             ...             ...                      ...  ...   \n",
       "1465          2               3            2061                        3  ...   \n",
       "1466          1               3            2062                        4  ...   \n",
       "1467          3               1            2064                        2  ...   \n",
       "1468          3               3            2065                        4  ...   \n",
       "1469          3               3            2068                        2  ...   \n",
       "\n",
       "      PerformanceRating  RelationshipSatisfaction  StockOptionLevel  \\\n",
       "0                     3                         1                 0   \n",
       "1                     4                         4                 1   \n",
       "2                     3                         2                 0   \n",
       "3                     3                         3                 0   \n",
       "4                     3                         4                 1   \n",
       "...                 ...                       ...               ...   \n",
       "1465                  3                         3                 1   \n",
       "1466                  3                         1                 1   \n",
       "1467                  4                         2                 1   \n",
       "1468                  3                         4                 0   \n",
       "1469                  3                         1                 0   \n",
       "\n",
       "      TotalWorkingYears  TrainingTimesLastYear  WorkLifeBalance  \\\n",
       "0                     8                      0                1   \n",
       "1                    10                      3                3   \n",
       "2                     7                      3                3   \n",
       "3                     8                      3                3   \n",
       "4                     6                      3                3   \n",
       "...                 ...                    ...              ...   \n",
       "1465                 17                      3                3   \n",
       "1466                  9                      5                3   \n",
       "1467                  6                      0                3   \n",
       "1468                 17                      3                2   \n",
       "1469                  6                      3                4   \n",
       "\n",
       "      YearsAtCompany  YearsInCurrentRole  YearsSinceLastPromotion  \\\n",
       "0                  6                   4                        0   \n",
       "1                 10                   7                        1   \n",
       "2                  0                   0                        0   \n",
       "3                  8                   7                        3   \n",
       "4                  2                   2                        2   \n",
       "...              ...                 ...                      ...   \n",
       "1465               5                   2                        0   \n",
       "1466               7                   7                        1   \n",
       "1467               6                   2                        0   \n",
       "1468               9                   6                        0   \n",
       "1469               4                   3                        1   \n",
       "\n",
       "      YearsWithCurrManager  \n",
       "0                        5  \n",
       "1                        7  \n",
       "2                        0  \n",
       "3                        0  \n",
       "4                        2  \n",
       "...                    ...  \n",
       "1465                     3  \n",
       "1466                     7  \n",
       "1467                     3  \n",
       "1468                     8  \n",
       "1469                     2  \n",
       "\n",
       "[1470 rows x 32 columns]"
      ]
     },
     "execution_count": 357,
     "metadata": {},
     "output_type": "execute_result"
    }
   ],
   "source": [
    "df_norm = pd.DataFrame(df)\n",
    "def convert_categorical_to_numerical(col):\n",
    "    return df_norm[col].astype(\"category\").cat.codes\n",
    "\n",
    "def convert_categorical_to_numerical_all(columns):\n",
    "    for col in columns:\n",
    "        if df_norm[col].dtype == \"object\":\n",
    "            df_norm[col] = convert_categorical_to_numerical(col)\n",
    "    return df_norm\n",
    "\n",
    "convert_categorical_to_numerical_all(df_norm.columns)\n",
    "df_norm"
   ]
  },
  {
   "cell_type": "markdown",
   "metadata": {},
   "source": [
    "### Age\n",
    "The age of the employee. **Numerical**"
   ]
  },
  {
   "cell_type": "code",
   "execution_count": 358,
   "metadata": {},
   "outputs": [
    {
     "data": {
      "application/vnd.plotly.v1+json": {
       "config": {
        "plotlyServerURL": "https://plot.ly"
       },
       "data": [
        {
         "alignmentgroup": "True",
         "bingroup": "x",
         "hovertemplate": "Attrition=Yes<br>Age=%{x}<br>count=%{y}<extra></extra>",
         "legendgroup": "Yes",
         "marker": {
          "color": "#636efa",
          "pattern": {
           "shape": ""
          }
         },
         "name": "Yes",
         "offsetgroup": "Yes",
         "orientation": "v",
         "showlegend": true,
         "type": "histogram",
         "x": {
          "bdata": "KSUcJCIgJxgyGikwHCQuJRQZIjgfOhMfMyATEykjJh0gHh4dHSEhICUfHC8sGhoSNBwnHRUhKSgVIhoeGRgiHRMhIR8iFhoSGiAYHh8bLRQhGDIcKiEvNxoXHSE6HDE3GiMdIDoUFRYpJxkTFCQlOigfHR4jFB4lGjQkJBoUFTMcLCMhGRohHDInEiEfHSocKywWKRgTGS0VLB0gJyg0Hyw6Nx8jHxsxHR8fGS4nHx8iHB0iGBwdKB8eIzUmHBIjIygjFzAgFxgvJCAeHSEfKxUWLCMiJRouHx0gHS4eFiI4HRwgGxwfNRcdODIy",
          "dtype": "i1"
         },
         "xaxis": "x",
         "yaxis": "y"
        },
        {
         "alignmentgroup": "True",
         "bingroup": "x",
         "hovertemplate": "Attrition=No<br>Age=%{x}<br>count=%{y}<extra></extra>",
         "legendgroup": "No",
         "marker": {
          "color": "#EF553B",
          "pattern": {
           "shape": ""
          }
         },
         "name": "No",
         "offsetgroup": "No",
         "orientation": "v",
         "showlegend": true,
         "type": "histogram",
         "x": {
          "bdata": "MSEbIDseJiQjHR8iHSAWNSYYIhU1KiwuISweKyMkISMbGx4iJS4jLCMaISMjHyUgJjI7JDckLSM7HR8gJB8jLSUuHiM3JiI4FzMeKDMeLiA2GBw6LCAiJTsyGRYzNhgiJSIkJCseITMaFjErMikaJCcZHi0mHiAeHikpEygjNS0gHTM6KCIWGxw5GzIpHiYgGyQeLTghLiYfIjI1ISg3IjM0GystJSMqJiYbMSIoFiQoLh4bMyktNiQhJSYfOyUdIzQqOzIrNCAnICkoLR8hIiUtJx0qHRkqKDMgJiAuHR8ZLSQ3HCUVJSMmGjI1Kh03GiUmHDEkHyUqIyQzKRIcHyckICY6Hx8tHyEnKzEbIBsfIB4fJyEvKxs2Ky0oHR4bJSYfHSMXKS8qHSogMCUeGiokJDkoFSUuMh8dIxscMTMkNxgeFiQlKColKyg2Ih8rKxklHyc4HikcNC00Kh48LiomKBoeHR45Mh48Ly4jNiIuHx4jKiQwNykjKCcfKi0dIR8oKRojIiUuKSU0GCYlMRgaGDIZIiMfGyUUKismKzAsIhUsFiEgHjUiGiUdIyE2JBsjFxkmHTAbJTIiJyAmGyAvKDUpPBspMiQmLC8eHSsiFyc4KBsdNSMgJiI0GS0XIiQ0Gh0iNhslJiIjHigiKhg0MiEvJB0jKiQgKB4tKiYiKxsjHCIbMywZISMkIB41LSA0JRwWLCokGSMgGTEYICYqHzUjJTUrLyUyJyEdLBwrJC8cGyIqITofIzEwHyQmICgaKSQfKCAhLR0jNDUeJiMnLyQhIS0yISkbLS8yJi4YHxI2Ix4aFjAwKScbIyoyOzcpJiwyJyEtICI7LTUiHCYyJSgaLjY4JDcrLhoeKSYoGzccIRwiJSohIjAtNCYdHC4mKygVJyQfHCMxIh0qHSYcKSUbIiMoKiMYGh4oIyIjIDgdEy0lFDUdLiwhHigyHC4jISQeLBQuKjwgICQhKBkeKiMbNiwdNh8fOysxJDAbHTAdIiwhExcaNy4iMzsiHCwiIyorJBwzHhwZIC0nOh4kLhwyHicfKSo3OCgiKCkjMyYiGSgkMBszEiMbOCIoIiYiHCczKSUhICcZNCsbGio0JSMZGh02OjckHh8iGyQkLyU4LxggIikoHy0fLTAoHCw1MSgsISIeKiweOTEiIxgsHR43IS8cHDEdHCEgNiwnLiMXIjIiKiUdIS0qKCEoGCgtIyAkMB0hJiMeIDAiNyIaJiYkHSMnHTIXJCojIigrIy4WMiAsHi0tHyQiMScbIxwVLycoIyUnLSYlKCwwGBsbHSQZJzEyFCIkMSQkNismHSEgHzEmLzEpFCEkLCY1GjciPCElIiwjKxgpHSQtGi0gHykoGC4jHi8uFx8nICgtHhgfGx0eIiExJh0eICYqNyEpIjUrIiYfMyUuJCUhHCcuKCojJicrKSkeKCI6Iy8oNh8cJho6Ei0kKxsdICovLhwdKi4bHSswGyc3HCQfIh0lIy0kKBobMCwkKSofIh8aLSEcJxsiLzgnJjomMSojHB8kIiIaHSAfJiMbIDYhKyY3HycqHzYYFygoGR4ZLyEmHyYqKS8jFiMhICggJyYgJRk0LBUnJCQ4KikiJCkgIyYkLSgjKCMdHScfGiQnGzEi",
          "dtype": "i1"
         },
         "xaxis": "x",
         "yaxis": "y"
        }
       ],
       "layout": {
        "barmode": "group",
        "legend": {
         "title": {
          "text": "Attrition"
         },
         "tracegroupgap": 0
        },
        "margin": {
         "t": 60
        },
        "template": {
         "data": {
          "bar": [
           {
            "error_x": {
             "color": "#2a3f5f"
            },
            "error_y": {
             "color": "#2a3f5f"
            },
            "marker": {
             "line": {
              "color": "#E5ECF6",
              "width": 0.5
             },
             "pattern": {
              "fillmode": "overlay",
              "size": 10,
              "solidity": 0.2
             }
            },
            "type": "bar"
           }
          ],
          "barpolar": [
           {
            "marker": {
             "line": {
              "color": "#E5ECF6",
              "width": 0.5
             },
             "pattern": {
              "fillmode": "overlay",
              "size": 10,
              "solidity": 0.2
             }
            },
            "type": "barpolar"
           }
          ],
          "carpet": [
           {
            "aaxis": {
             "endlinecolor": "#2a3f5f",
             "gridcolor": "white",
             "linecolor": "white",
             "minorgridcolor": "white",
             "startlinecolor": "#2a3f5f"
            },
            "baxis": {
             "endlinecolor": "#2a3f5f",
             "gridcolor": "white",
             "linecolor": "white",
             "minorgridcolor": "white",
             "startlinecolor": "#2a3f5f"
            },
            "type": "carpet"
           }
          ],
          "choropleth": [
           {
            "colorbar": {
             "outlinewidth": 0,
             "ticks": ""
            },
            "type": "choropleth"
           }
          ],
          "contour": [
           {
            "colorbar": {
             "outlinewidth": 0,
             "ticks": ""
            },
            "colorscale": [
             [
              0,
              "#0d0887"
             ],
             [
              0.1111111111111111,
              "#46039f"
             ],
             [
              0.2222222222222222,
              "#7201a8"
             ],
             [
              0.3333333333333333,
              "#9c179e"
             ],
             [
              0.4444444444444444,
              "#bd3786"
             ],
             [
              0.5555555555555556,
              "#d8576b"
             ],
             [
              0.6666666666666666,
              "#ed7953"
             ],
             [
              0.7777777777777778,
              "#fb9f3a"
             ],
             [
              0.8888888888888888,
              "#fdca26"
             ],
             [
              1,
              "#f0f921"
             ]
            ],
            "type": "contour"
           }
          ],
          "contourcarpet": [
           {
            "colorbar": {
             "outlinewidth": 0,
             "ticks": ""
            },
            "type": "contourcarpet"
           }
          ],
          "heatmap": [
           {
            "colorbar": {
             "outlinewidth": 0,
             "ticks": ""
            },
            "colorscale": [
             [
              0,
              "#0d0887"
             ],
             [
              0.1111111111111111,
              "#46039f"
             ],
             [
              0.2222222222222222,
              "#7201a8"
             ],
             [
              0.3333333333333333,
              "#9c179e"
             ],
             [
              0.4444444444444444,
              "#bd3786"
             ],
             [
              0.5555555555555556,
              "#d8576b"
             ],
             [
              0.6666666666666666,
              "#ed7953"
             ],
             [
              0.7777777777777778,
              "#fb9f3a"
             ],
             [
              0.8888888888888888,
              "#fdca26"
             ],
             [
              1,
              "#f0f921"
             ]
            ],
            "type": "heatmap"
           }
          ],
          "histogram": [
           {
            "marker": {
             "pattern": {
              "fillmode": "overlay",
              "size": 10,
              "solidity": 0.2
             }
            },
            "type": "histogram"
           }
          ],
          "histogram2d": [
           {
            "colorbar": {
             "outlinewidth": 0,
             "ticks": ""
            },
            "colorscale": [
             [
              0,
              "#0d0887"
             ],
             [
              0.1111111111111111,
              "#46039f"
             ],
             [
              0.2222222222222222,
              "#7201a8"
             ],
             [
              0.3333333333333333,
              "#9c179e"
             ],
             [
              0.4444444444444444,
              "#bd3786"
             ],
             [
              0.5555555555555556,
              "#d8576b"
             ],
             [
              0.6666666666666666,
              "#ed7953"
             ],
             [
              0.7777777777777778,
              "#fb9f3a"
             ],
             [
              0.8888888888888888,
              "#fdca26"
             ],
             [
              1,
              "#f0f921"
             ]
            ],
            "type": "histogram2d"
           }
          ],
          "histogram2dcontour": [
           {
            "colorbar": {
             "outlinewidth": 0,
             "ticks": ""
            },
            "colorscale": [
             [
              0,
              "#0d0887"
             ],
             [
              0.1111111111111111,
              "#46039f"
             ],
             [
              0.2222222222222222,
              "#7201a8"
             ],
             [
              0.3333333333333333,
              "#9c179e"
             ],
             [
              0.4444444444444444,
              "#bd3786"
             ],
             [
              0.5555555555555556,
              "#d8576b"
             ],
             [
              0.6666666666666666,
              "#ed7953"
             ],
             [
              0.7777777777777778,
              "#fb9f3a"
             ],
             [
              0.8888888888888888,
              "#fdca26"
             ],
             [
              1,
              "#f0f921"
             ]
            ],
            "type": "histogram2dcontour"
           }
          ],
          "mesh3d": [
           {
            "colorbar": {
             "outlinewidth": 0,
             "ticks": ""
            },
            "type": "mesh3d"
           }
          ],
          "parcoords": [
           {
            "line": {
             "colorbar": {
              "outlinewidth": 0,
              "ticks": ""
             }
            },
            "type": "parcoords"
           }
          ],
          "pie": [
           {
            "automargin": true,
            "type": "pie"
           }
          ],
          "scatter": [
           {
            "fillpattern": {
             "fillmode": "overlay",
             "size": 10,
             "solidity": 0.2
            },
            "type": "scatter"
           }
          ],
          "scatter3d": [
           {
            "line": {
             "colorbar": {
              "outlinewidth": 0,
              "ticks": ""
             }
            },
            "marker": {
             "colorbar": {
              "outlinewidth": 0,
              "ticks": ""
             }
            },
            "type": "scatter3d"
           }
          ],
          "scattercarpet": [
           {
            "marker": {
             "colorbar": {
              "outlinewidth": 0,
              "ticks": ""
             }
            },
            "type": "scattercarpet"
           }
          ],
          "scattergeo": [
           {
            "marker": {
             "colorbar": {
              "outlinewidth": 0,
              "ticks": ""
             }
            },
            "type": "scattergeo"
           }
          ],
          "scattergl": [
           {
            "marker": {
             "colorbar": {
              "outlinewidth": 0,
              "ticks": ""
             }
            },
            "type": "scattergl"
           }
          ],
          "scattermap": [
           {
            "marker": {
             "colorbar": {
              "outlinewidth": 0,
              "ticks": ""
             }
            },
            "type": "scattermap"
           }
          ],
          "scattermapbox": [
           {
            "marker": {
             "colorbar": {
              "outlinewidth": 0,
              "ticks": ""
             }
            },
            "type": "scattermapbox"
           }
          ],
          "scatterpolar": [
           {
            "marker": {
             "colorbar": {
              "outlinewidth": 0,
              "ticks": ""
             }
            },
            "type": "scatterpolar"
           }
          ],
          "scatterpolargl": [
           {
            "marker": {
             "colorbar": {
              "outlinewidth": 0,
              "ticks": ""
             }
            },
            "type": "scatterpolargl"
           }
          ],
          "scatterternary": [
           {
            "marker": {
             "colorbar": {
              "outlinewidth": 0,
              "ticks": ""
             }
            },
            "type": "scatterternary"
           }
          ],
          "surface": [
           {
            "colorbar": {
             "outlinewidth": 0,
             "ticks": ""
            },
            "colorscale": [
             [
              0,
              "#0d0887"
             ],
             [
              0.1111111111111111,
              "#46039f"
             ],
             [
              0.2222222222222222,
              "#7201a8"
             ],
             [
              0.3333333333333333,
              "#9c179e"
             ],
             [
              0.4444444444444444,
              "#bd3786"
             ],
             [
              0.5555555555555556,
              "#d8576b"
             ],
             [
              0.6666666666666666,
              "#ed7953"
             ],
             [
              0.7777777777777778,
              "#fb9f3a"
             ],
             [
              0.8888888888888888,
              "#fdca26"
             ],
             [
              1,
              "#f0f921"
             ]
            ],
            "type": "surface"
           }
          ],
          "table": [
           {
            "cells": {
             "fill": {
              "color": "#EBF0F8"
             },
             "line": {
              "color": "white"
             }
            },
            "header": {
             "fill": {
              "color": "#C8D4E3"
             },
             "line": {
              "color": "white"
             }
            },
            "type": "table"
           }
          ]
         },
         "layout": {
          "annotationdefaults": {
           "arrowcolor": "#2a3f5f",
           "arrowhead": 0,
           "arrowwidth": 1
          },
          "autotypenumbers": "strict",
          "coloraxis": {
           "colorbar": {
            "outlinewidth": 0,
            "ticks": ""
           }
          },
          "colorscale": {
           "diverging": [
            [
             0,
             "#8e0152"
            ],
            [
             0.1,
             "#c51b7d"
            ],
            [
             0.2,
             "#de77ae"
            ],
            [
             0.3,
             "#f1b6da"
            ],
            [
             0.4,
             "#fde0ef"
            ],
            [
             0.5,
             "#f7f7f7"
            ],
            [
             0.6,
             "#e6f5d0"
            ],
            [
             0.7,
             "#b8e186"
            ],
            [
             0.8,
             "#7fbc41"
            ],
            [
             0.9,
             "#4d9221"
            ],
            [
             1,
             "#276419"
            ]
           ],
           "sequential": [
            [
             0,
             "#0d0887"
            ],
            [
             0.1111111111111111,
             "#46039f"
            ],
            [
             0.2222222222222222,
             "#7201a8"
            ],
            [
             0.3333333333333333,
             "#9c179e"
            ],
            [
             0.4444444444444444,
             "#bd3786"
            ],
            [
             0.5555555555555556,
             "#d8576b"
            ],
            [
             0.6666666666666666,
             "#ed7953"
            ],
            [
             0.7777777777777778,
             "#fb9f3a"
            ],
            [
             0.8888888888888888,
             "#fdca26"
            ],
            [
             1,
             "#f0f921"
            ]
           ],
           "sequentialminus": [
            [
             0,
             "#0d0887"
            ],
            [
             0.1111111111111111,
             "#46039f"
            ],
            [
             0.2222222222222222,
             "#7201a8"
            ],
            [
             0.3333333333333333,
             "#9c179e"
            ],
            [
             0.4444444444444444,
             "#bd3786"
            ],
            [
             0.5555555555555556,
             "#d8576b"
            ],
            [
             0.6666666666666666,
             "#ed7953"
            ],
            [
             0.7777777777777778,
             "#fb9f3a"
            ],
            [
             0.8888888888888888,
             "#fdca26"
            ],
            [
             1,
             "#f0f921"
            ]
           ]
          },
          "colorway": [
           "#636efa",
           "#EF553B",
           "#00cc96",
           "#ab63fa",
           "#FFA15A",
           "#19d3f3",
           "#FF6692",
           "#B6E880",
           "#FF97FF",
           "#FECB52"
          ],
          "font": {
           "color": "#2a3f5f"
          },
          "geo": {
           "bgcolor": "white",
           "lakecolor": "white",
           "landcolor": "#E5ECF6",
           "showlakes": true,
           "showland": true,
           "subunitcolor": "white"
          },
          "hoverlabel": {
           "align": "left"
          },
          "hovermode": "closest",
          "mapbox": {
           "style": "light"
          },
          "paper_bgcolor": "white",
          "plot_bgcolor": "#E5ECF6",
          "polar": {
           "angularaxis": {
            "gridcolor": "white",
            "linecolor": "white",
            "ticks": ""
           },
           "bgcolor": "#E5ECF6",
           "radialaxis": {
            "gridcolor": "white",
            "linecolor": "white",
            "ticks": ""
           }
          },
          "scene": {
           "xaxis": {
            "backgroundcolor": "#E5ECF6",
            "gridcolor": "white",
            "gridwidth": 2,
            "linecolor": "white",
            "showbackground": true,
            "ticks": "",
            "zerolinecolor": "white"
           },
           "yaxis": {
            "backgroundcolor": "#E5ECF6",
            "gridcolor": "white",
            "gridwidth": 2,
            "linecolor": "white",
            "showbackground": true,
            "ticks": "",
            "zerolinecolor": "white"
           },
           "zaxis": {
            "backgroundcolor": "#E5ECF6",
            "gridcolor": "white",
            "gridwidth": 2,
            "linecolor": "white",
            "showbackground": true,
            "ticks": "",
            "zerolinecolor": "white"
           }
          },
          "shapedefaults": {
           "line": {
            "color": "#2a3f5f"
           }
          },
          "ternary": {
           "aaxis": {
            "gridcolor": "white",
            "linecolor": "white",
            "ticks": ""
           },
           "baxis": {
            "gridcolor": "white",
            "linecolor": "white",
            "ticks": ""
           },
           "bgcolor": "#E5ECF6",
           "caxis": {
            "gridcolor": "white",
            "linecolor": "white",
            "ticks": ""
           }
          },
          "title": {
           "x": 0.05
          },
          "xaxis": {
           "automargin": true,
           "gridcolor": "white",
           "linecolor": "white",
           "ticks": "",
           "title": {
            "standoff": 15
           },
           "zerolinecolor": "white",
           "zerolinewidth": 2
          },
          "yaxis": {
           "automargin": true,
           "gridcolor": "white",
           "linecolor": "white",
           "ticks": "",
           "title": {
            "standoff": 15
           },
           "zerolinecolor": "white",
           "zerolinewidth": 2
          }
         }
        },
        "xaxis": {
         "anchor": "y",
         "domain": [
          0,
          1
         ],
         "title": {
          "text": "Age"
         }
        },
        "yaxis": {
         "anchor": "x",
         "domain": [
          0,
          1
         ],
         "title": {
          "text": "count"
         }
        }
       }
      }
     },
     "metadata": {},
     "output_type": "display_data"
    }
   ],
   "source": [
    "fig = px.histogram(df, x=\"Age\", color=target_column_name, barmode=\"group\", )\n",
    "fig.update_layout()\n",
    "fig.show()\n"
   ]
  },
  {
   "cell_type": "code",
   "execution_count": 359,
   "metadata": {},
   "outputs": [
    {
     "data": {
      "application/vnd.plotly.v1+json": {
       "config": {
        "plotlyServerURL": "https://plot.ly"
       },
       "data": [
        {
         "coloraxis": "coloraxis",
         "hovertemplate": "Age=%{x}<br>Attrition=%{y}<br>count=%{z}<extra></extra>",
         "name": "",
         "type": "histogram2d",
         "x": {
          "bdata": "KTElIRsgOx4mJCMdHyIcHSAWNSYYJCIVIjUgKiwuISweJxgrMiMkISMbGhseKSIlLiMwHCwjGiEjIx8lICYyOyQ3JC0jJDsdHyAkHyMtJS4eIzcmIjgXMx4uKDMeLiA2GBw6LCUgFCIlOzIZGRYzIjYYIiUiJCQrHiE4Mx8aOhMWMSsyHykaJDMnGR4gLSYeIB4eKSkTKCM1LSAdMzooIhYbHDkbMikeJiAbEyQeLTghEy4mHyIpMjUhKDciMzQbIystJSMqJiYbMSIoJh0WJCguIB4bMx4pHh0tNiQhJSYfOyUdIx00KjsyISshNCAgJyApKC0fISIlLSUnHSodGSooMx8gJiAuHB0fGS0kNy8cJRUlIyYaMjUqHTcaJSwmGhwxJB8aJSoSIyQzKRIcHyckICY6Hx8tHyEnKzE0GyAbHyAcHh8nJyEvKxs2Ky0oHR0eGyUmHx0jFykvKh0qIDAlHhoqFSQkOSgVISUuKTIoHxUdIxscMTMkIjcYHhoWJB4lKColKyg2Ih8rKxklHyc4HikcGTQtNCoePC4qGCImKBoeHR0THjkyHjwvLiM2Ii4fISEeIx8iKiQWMDcpIygnHyotGh0hHxIoKRojIholLiklNCAYJiUxGBoYMhkYHiIfIx8bJRQqKyYrMCwiGxUsFiEgHjUiLRolHSMhNiQbFCEjFxkmHTAbJTIiGCcgMiYbIC8oNSk8GykyHCQmLC8eHSorIhcnOCgbHTUjICYiNCEZLRcvIjckNBodGiI2GyUmIiMeKCIqFxg0Mh0hIS8kHTojKhwkICgeLSomIjE3KxsjHCIaGzMsGSEjJCAeNS0gNCUcFiwqJBkjIyAZMRggJiofHTUjJTUrLyUyJyEgHSwcOisUFSQvFikcJxsiKiE6HyMxMB8kJiAZKBopJBMUHyggJCElLR0jNDo1HiYjJygvJB8hHSEtMiEpGy0vHjImLhgjHxI2Ix4UHhoWMDApJxsjKjI7JTcpJho0LDIkJyEtICI7LTUkGiIcJjIlKBouNjgkNysUFS4zHBoeKSYoGzccLCEjIRwiJRkaISocMiEiMC00Jh0cLiYrJygVJyQfHCMxIh0qHSYcEiEpHyUbIiMdKCoqIxgcGh4oIyIjKyA4HRMtJRQsNR0WLiwhKR4oMhwuIxghJB4sFC4qPCAgJCEoGR4qIxs2LBMdNh8fOysxJDAbHTAdIiwhExcZGi03FS4iMzsiHCwiIyorJCwcMx4dHBkgLSc6ICceJC4cMig0HicfKR8sKjc4KCIoKSMzJiIZOigkMBszEiMbNzgiKCIfIyYiHB8nMyklISAnGTQrGxsaKjQlIxkaHTEdNjo3JB8eHyIfGyQkLxklOC8YICIpKB8uJx8tHx8tMCIoHCw1MSgsISIeKiweOTEiHB0iIxgYLB0eNyEvHBwcMR0cISA2HSwnLiMXKCIfMiIqJR0hLSooISgYKC0jICQwHSEeJiMeIzUmIDAiNyIaJiYkHSMnHTIXJCojIigrIy4cFjIgLB4tLR8kIjEnGyMcFRIvJygjJSctJiMlKCwwIxgbGygdJBknMTIUIiQxJCQ2KyMmHSEgHzEmLzEpFCEkLBcmNTAgGjciPCElIhcsIysYKR0kLRgvGi0gHykoGC4jHi8uJCAXHycgKC0eGB4fGx0dHiIhMSEmHx0eICYrKjchKSI1KyIVJhYfMyUuJCwlIyEcJy4oKiMmIiUnKykpHhouKCI6Iy8oNh8cJho6Eh8dLSQrGx0gKi8uHB0qIC4bHSswHS4bJzccHhYkHyIdJSMtJCgaGzAsIjgkKSofIh8aLSEcHScbIhwvOCcmOiAmMSobIxwfJCIiGh0gHxwmIxsgHzU2ISsmNx8nKh82GBcoKBkeGS8hJh8mKikvIxYjISAoICcmICUZNCwVJxckJDgdKjgpIiQpICMmMiQtKCMoIx0dMicfGiQnGzEi",
          "dtype": "i1"
         },
         "xaxis": "x",
         "xbingroup": "x",
         "y": [
          "Yes",
          "No",
          "Yes",
          "No",
          "No",
          "No",
          "No",
          "No",
          "No",
          "No",
          "No",
          "No",
          "No",
          "No",
          "Yes",
          "No",
          "No",
          "No",
          "No",
          "No",
          "No",
          "Yes",
          "No",
          "No",
          "Yes",
          "No",
          "Yes",
          "No",
          "No",
          "No",
          "No",
          "No",
          "No",
          "Yes",
          "Yes",
          "No",
          "Yes",
          "No",
          "No",
          "No",
          "No",
          "No",
          "Yes",
          "No",
          "No",
          "Yes",
          "No",
          "No",
          "No",
          "No",
          "Yes",
          "Yes",
          "No",
          "No",
          "No",
          "No",
          "No",
          "No",
          "No",
          "No",
          "No",
          "No",
          "No",
          "No",
          "No",
          "No",
          "No",
          "No",
          "No",
          "Yes",
          "No",
          "No",
          "No",
          "No",
          "No",
          "No",
          "No",
          "No",
          "No",
          "No",
          "No",
          "No",
          "No",
          "No",
          "No",
          "No",
          "No",
          "No",
          "No",
          "Yes",
          "No",
          "No",
          "No",
          "No",
          "No",
          "No",
          "No",
          "No",
          "No",
          "No",
          "Yes",
          "No",
          "Yes",
          "No",
          "No",
          "No",
          "No",
          "Yes",
          "No",
          "No",
          "No",
          "Yes",
          "No",
          "No",
          "No",
          "No",
          "No",
          "No",
          "No",
          "No",
          "No",
          "No",
          "Yes",
          "No",
          "Yes",
          "No",
          "Yes",
          "Yes",
          "No",
          "No",
          "No",
          "No",
          "Yes",
          "No",
          "No",
          "No",
          "Yes",
          "No",
          "No",
          "No",
          "Yes",
          "No",
          "No",
          "No",
          "No",
          "No",
          "No",
          "No",
          "No",
          "No",
          "No",
          "No",
          "No",
          "No",
          "No",
          "No",
          "No",
          "No",
          "No",
          "No",
          "No",
          "No",
          "No",
          "No",
          "No",
          "No",
          "No",
          "No",
          "No",
          "No",
          "No",
          "Yes",
          "No",
          "No",
          "No",
          "No",
          "No",
          "Yes",
          "No",
          "No",
          "No",
          "No",
          "Yes",
          "No",
          "No",
          "No",
          "No",
          "No",
          "No",
          "No",
          "No",
          "No",
          "Yes",
          "No",
          "No",
          "No",
          "No",
          "No",
          "No",
          "No",
          "No",
          "No",
          "No",
          "No",
          "Yes",
          "Yes",
          "No",
          "No",
          "No",
          "No",
          "Yes",
          "No",
          "No",
          "No",
          "Yes",
          "No",
          "Yes",
          "Yes",
          "No",
          "No",
          "No",
          "No",
          "No",
          "No",
          "No",
          "No",
          "No",
          "No",
          "No",
          "Yes",
          "No",
          "No",
          "No",
          "No",
          "Yes",
          "No",
          "Yes",
          "No",
          "No",
          "Yes",
          "No",
          "No",
          "No",
          "No",
          "No",
          "No",
          "No",
          "No",
          "No",
          "No",
          "Yes",
          "No",
          "No",
          "No",
          "No",
          "No",
          "No",
          "No",
          "No",
          "Yes",
          "No",
          "No",
          "No",
          "No",
          "Yes",
          "No",
          "No",
          "No",
          "No",
          "No",
          "No",
          "Yes",
          "No",
          "No",
          "No",
          "No",
          "No",
          "No",
          "No",
          "No",
          "No",
          "No",
          "No",
          "No",
          "No",
          "No",
          "Yes",
          "No",
          "Yes",
          "No",
          "No",
          "No",
          "No",
          "Yes",
          "No",
          "No",
          "Yes",
          "No",
          "No",
          "No",
          "No",
          "No",
          "No",
          "No",
          "No",
          "No",
          "No",
          "No",
          "No",
          "No",
          "No",
          "No",
          "No",
          "No",
          "No",
          "No",
          "No",
          "Yes",
          "No",
          "No",
          "No",
          "No",
          "No",
          "Yes",
          "No",
          "No",
          "No",
          "Yes",
          "No",
          "No",
          "No",
          "No",
          "No",
          "No",
          "No",
          "No",
          "Yes",
          "No",
          "No",
          "No",
          "No",
          "No",
          "No",
          "No",
          "No",
          "No",
          "No",
          "No",
          "No",
          "No",
          "No",
          "No",
          "No",
          "No",
          "No",
          "No",
          "No",
          "Yes",
          "No",
          "No",
          "No",
          "No",
          "No",
          "Yes",
          "No",
          "No",
          "Yes",
          "No",
          "Yes",
          "No",
          "Yes",
          "No",
          "No",
          "No",
          "No",
          "No",
          "No",
          "No",
          "Yes",
          "No",
          "No",
          "No",
          "Yes",
          "No",
          "No",
          "Yes",
          "No",
          "No",
          "No",
          "No",
          "No",
          "No",
          "No",
          "No",
          "No",
          "No",
          "No",
          "No",
          "No",
          "No",
          "No",
          "No",
          "No",
          "No",
          "No",
          "Yes",
          "No",
          "No",
          "No",
          "No",
          "No",
          "No",
          "No",
          "No",
          "Yes",
          "Yes",
          "No",
          "No",
          "No",
          "No",
          "No",
          "Yes",
          "Yes",
          "No",
          "No",
          "No",
          "No",
          "No",
          "No",
          "No",
          "No",
          "No",
          "No",
          "No",
          "No",
          "Yes",
          "Yes",
          "No",
          "No",
          "Yes",
          "Yes",
          "No",
          "No",
          "Yes",
          "No",
          "No",
          "No",
          "No",
          "No",
          "No",
          "No",
          "No",
          "No",
          "Yes",
          "No",
          "No",
          "No",
          "Yes",
          "No",
          "No",
          "No",
          "No",
          "No",
          "Yes",
          "No",
          "No",
          "No",
          "No",
          "No",
          "Yes",
          "No",
          "No",
          "No",
          "No",
          "No",
          "No",
          "No",
          "No",
          "No",
          "Yes",
          "Yes",
          "No",
          "Yes",
          "No",
          "No",
          "No",
          "No",
          "No",
          "No",
          "No",
          "No",
          "No",
          "No",
          "No",
          "No",
          "Yes",
          "No",
          "No",
          "No",
          "No",
          "No",
          "No",
          "No",
          "No",
          "Yes",
          "No",
          "No",
          "No",
          "No",
          "No",
          "No",
          "No",
          "No",
          "Yes",
          "Yes",
          "No",
          "No",
          "No",
          "No",
          "No",
          "No",
          "No",
          "No",
          "No",
          "No",
          "Yes",
          "No",
          "No",
          "Yes",
          "No",
          "No",
          "No",
          "No",
          "No",
          "No",
          "No",
          "No",
          "No",
          "No",
          "No",
          "Yes",
          "No",
          "No",
          "No",
          "No",
          "No",
          "No",
          "Yes",
          "No",
          "No",
          "No",
          "No",
          "No",
          "No",
          "No",
          "No",
          "No",
          "No",
          "No",
          "No",
          "No",
          "No",
          "Yes",
          "No",
          "No",
          "No",
          "Yes",
          "No",
          "Yes",
          "No",
          "No",
          "No",
          "No",
          "Yes",
          "No",
          "No",
          "No",
          "No",
          "No",
          "No",
          "No",
          "No",
          "No",
          "No",
          "No",
          "Yes",
          "No",
          "No",
          "No",
          "Yes",
          "No",
          "Yes",
          "No",
          "No",
          "No",
          "Yes",
          "No",
          "No",
          "Yes",
          "No",
          "No",
          "No",
          "No",
          "No",
          "No",
          "No",
          "No",
          "Yes",
          "Yes",
          "No",
          "No",
          "No",
          "No",
          "No",
          "Yes",
          "No",
          "No",
          "No",
          "No",
          "No",
          "No",
          "No",
          "No",
          "No",
          "No",
          "No",
          "No",
          "No",
          "No",
          "No",
          "No",
          "No",
          "No",
          "No",
          "No",
          "No",
          "Yes",
          "No",
          "No",
          "No",
          "No",
          "No",
          "No",
          "No",
          "No",
          "Yes",
          "No",
          "No",
          "No",
          "No",
          "No",
          "No",
          "No",
          "No",
          "No",
          "No",
          "Yes",
          "No",
          "No",
          "No",
          "Yes",
          "No",
          "Yes",
          "Yes",
          "No",
          "No",
          "Yes",
          "Yes",
          "No",
          "Yes",
          "No",
          "No",
          "No",
          "No",
          "No",
          "No",
          "No",
          "No",
          "No",
          "No",
          "No",
          "No",
          "No",
          "Yes",
          "No",
          "No",
          "No",
          "No",
          "Yes",
          "Yes",
          "No",
          "No",
          "No",
          "Yes",
          "No",
          "Yes",
          "No",
          "No",
          "No",
          "No",
          "Yes",
          "No",
          "No",
          "No",
          "No",
          "No",
          "Yes",
          "No",
          "No",
          "Yes",
          "No",
          "Yes",
          "No",
          "No",
          "No",
          "No",
          "No",
          "No",
          "No",
          "No",
          "Yes",
          "No",
          "No",
          "No",
          "No",
          "Yes",
          "No",
          "No",
          "No",
          "No",
          "No",
          "Yes",
          "Yes",
          "No",
          "No",
          "No",
          "No",
          "No",
          "No",
          "No",
          "No",
          "No",
          "No",
          "No",
          "Yes",
          "No",
          "No",
          "No",
          "Yes",
          "Yes",
          "No",
          "No",
          "Yes",
          "No",
          "No",
          "No",
          "No",
          "No",
          "No",
          "No",
          "No",
          "Yes",
          "Yes",
          "No",
          "No",
          "No",
          "No",
          "No",
          "No",
          "No",
          "No",
          "No",
          "No",
          "No",
          "No",
          "No",
          "Yes",
          "Yes",
          "No",
          "Yes",
          "Yes",
          "No",
          "No",
          "No",
          "No",
          "No",
          "No",
          "No",
          "No",
          "Yes",
          "No",
          "Yes",
          "Yes",
          "No",
          "No",
          "No",
          "Yes",
          "Yes",
          "Yes",
          "No",
          "Yes",
          "Yes",
          "No",
          "No",
          "No",
          "No",
          "No",
          "No",
          "No",
          "No",
          "No",
          "No",
          "No",
          "Yes",
          "No",
          "No",
          "No",
          "No",
          "No",
          "No",
          "No",
          "No",
          "No",
          "No",
          "No",
          "No",
          "No",
          "No",
          "Yes",
          "Yes",
          "No",
          "Yes",
          "No",
          "No",
          "No",
          "No",
          "Yes",
          "No",
          "Yes",
          "No",
          "No",
          "No",
          "Yes",
          "No",
          "No",
          "No",
          "No",
          "No",
          "No",
          "Yes",
          "No",
          "No",
          "No",
          "No",
          "No",
          "No",
          "No",
          "Yes",
          "No",
          "No",
          "Yes",
          "No",
          "No",
          "No",
          "Yes",
          "No",
          "No",
          "No",
          "No",
          "No",
          "No",
          "Yes",
          "No",
          "No",
          "No",
          "No",
          "No",
          "No",
          "No",
          "No",
          "No",
          "No",
          "No",
          "No",
          "No",
          "No",
          "No",
          "No",
          "No",
          "No",
          "No",
          "No",
          "Yes",
          "No",
          "No",
          "No",
          "No",
          "No",
          "No",
          "No",
          "No",
          "No",
          "No",
          "No",
          "No",
          "No",
          "No",
          "No",
          "No",
          "No",
          "No",
          "Yes",
          "No",
          "Yes",
          "No",
          "Yes",
          "No",
          "No",
          "No",
          "No",
          "No",
          "No",
          "No",
          "No",
          "No",
          "No",
          "No",
          "No",
          "Yes",
          "No",
          "No",
          "No",
          "Yes",
          "No",
          "No",
          "No",
          "No",
          "No",
          "No",
          "Yes",
          "Yes",
          "No",
          "No",
          "No",
          "No",
          "No",
          "Yes",
          "Yes",
          "No",
          "No",
          "No",
          "No",
          "Yes",
          "Yes",
          "No",
          "No",
          "No",
          "No",
          "No",
          "No",
          "No",
          "No",
          "No",
          "No",
          "No",
          "No",
          "Yes",
          "No",
          "No",
          "No",
          "No",
          "No",
          "No",
          "No",
          "No",
          "Yes",
          "No",
          "No",
          "No",
          "No",
          "Yes",
          "Yes",
          "No",
          "No",
          "No",
          "Yes",
          "No",
          "No",
          "No",
          "No",
          "No",
          "No",
          "No",
          "No",
          "No",
          "No",
          "No",
          "Yes",
          "No",
          "No",
          "No",
          "No",
          "No",
          "No",
          "No",
          "No",
          "Yes",
          "Yes",
          "No",
          "No",
          "No",
          "No",
          "Yes",
          "No",
          "No",
          "No",
          "Yes",
          "No",
          "No",
          "No",
          "No",
          "Yes",
          "No",
          "No",
          "No",
          "No",
          "No",
          "No",
          "No",
          "No",
          "No",
          "Yes",
          "Yes",
          "Yes",
          "No",
          "No",
          "Yes",
          "No",
          "No",
          "Yes",
          "No",
          "No",
          "No",
          "No",
          "No",
          "No",
          "No",
          "No",
          "No",
          "No",
          "No",
          "No",
          "No",
          "No",
          "No",
          "No",
          "Yes",
          "Yes",
          "Yes",
          "No",
          "Yes",
          "No",
          "No",
          "No",
          "No",
          "No",
          "No",
          "No",
          "Yes",
          "No",
          "No",
          "No",
          "No",
          "No",
          "No",
          "No",
          "No",
          "Yes",
          "No",
          "No",
          "No",
          "No",
          "No",
          "Yes",
          "No",
          "Yes",
          "No",
          "No",
          "No",
          "No",
          "No",
          "No",
          "No",
          "No",
          "No",
          "No",
          "No",
          "No",
          "No",
          "No",
          "No",
          "No",
          "No",
          "No",
          "No",
          "No",
          "Yes",
          "No",
          "No",
          "No",
          "Yes",
          "Yes",
          "Yes",
          "No",
          "No",
          "No",
          "No",
          "No",
          "No",
          "No",
          "No",
          "No",
          "No",
          "No",
          "No",
          "No",
          "No",
          "No",
          "No",
          "No",
          "No",
          "No",
          "No",
          "No",
          "No",
          "No",
          "Yes",
          "No",
          "No",
          "No",
          "No",
          "No",
          "No",
          "No",
          "No",
          "No",
          "No",
          "No",
          "No",
          "No",
          "No",
          "No",
          "No",
          "Yes",
          "No",
          "No",
          "No",
          "No",
          "No",
          "No",
          "No",
          "No",
          "Yes",
          "No",
          "No",
          "No",
          "No",
          "Yes",
          "No",
          "No",
          "No",
          "Yes",
          "No",
          "No",
          "No",
          "No",
          "No",
          "No",
          "No",
          "No",
          "No",
          "No",
          "No",
          "No",
          "No",
          "No",
          "Yes",
          "No",
          "No",
          "No",
          "No",
          "No",
          "No",
          "No",
          "No",
          "No",
          "No",
          "No",
          "No",
          "No",
          "No",
          "Yes",
          "No",
          "No",
          "Yes",
          "Yes",
          "No",
          "No",
          "No",
          "No",
          "No",
          "No",
          "No",
          "Yes",
          "No",
          "No",
          "No",
          "No",
          "No",
          "No",
          "No",
          "No",
          "Yes",
          "Yes",
          "No",
          "No",
          "No",
          "No",
          "No",
          "No",
          "No",
          "No",
          "No",
          "No",
          "No",
          "No",
          "Yes",
          "Yes",
          "No",
          "No",
          "No",
          "No",
          "No",
          "No",
          "No",
          "No",
          "Yes",
          "No",
          "No",
          "Yes",
          "No",
          "No",
          "No",
          "No",
          "No",
          "Yes",
          "No",
          "Yes",
          "No",
          "No",
          "No",
          "No",
          "Yes",
          "No",
          "No",
          "No",
          "No",
          "No",
          "No",
          "No",
          "No",
          "Yes",
          "No",
          "Yes",
          "No",
          "No",
          "No",
          "No",
          "No",
          "Yes",
          "No",
          "Yes",
          "No",
          "No",
          "No",
          "No",
          "No",
          "No",
          "No",
          "No",
          "Yes",
          "Yes",
          "No",
          "No",
          "No",
          "No",
          "No",
          "Yes",
          "Yes",
          "No",
          "No",
          "No",
          "No",
          "No",
          "No",
          "No",
          "No",
          "No",
          "No",
          "No",
          "No",
          "No",
          "Yes",
          "Yes",
          "No",
          "No",
          "No",
          "No",
          "No",
          "No",
          "No",
          "No",
          "No",
          "No",
          "No",
          "No",
          "Yes",
          "No",
          "No",
          "No",
          "No",
          "No",
          "Yes",
          "Yes",
          "No",
          "No",
          "No",
          "No",
          "Yes",
          "Yes",
          "No",
          "No",
          "No",
          "No",
          "No",
          "No",
          "No",
          "No",
          "No",
          "No",
          "No",
          "No",
          "No",
          "Yes",
          "Yes",
          "No",
          "No",
          "No",
          "No",
          "No",
          "No",
          "No",
          "No",
          "No",
          "No",
          "Yes",
          "No",
          "No",
          "No",
          "Yes",
          "No",
          "No",
          "No",
          "No",
          "No",
          "Yes",
          "No",
          "No",
          "No",
          "Yes",
          "No",
          "No",
          "No",
          "No",
          "No",
          "No",
          "No",
          "No",
          "No",
          "No",
          "Yes",
          "No",
          "No",
          "No",
          "No",
          "Yes",
          "Yes",
          "No",
          "No",
          "No",
          "No",
          "No",
          "No",
          "No",
          "No",
          "No",
          "No",
          "No",
          "No",
          "No",
          "No",
          "No",
          "No",
          "No",
          "No",
          "No",
          "No",
          "No",
          "No",
          "No",
          "No",
          "No",
          "No",
          "No",
          "No",
          "No",
          "No",
          "No",
          "No",
          "No",
          "No",
          "No",
          "No",
          "No",
          "No",
          "No",
          "No",
          "No",
          "Yes",
          "No",
          "No",
          "No",
          "Yes",
          "No",
          "Yes",
          "No",
          "No",
          "No",
          "No",
          "No",
          "No",
          "No",
          "Yes",
          "No",
          "No",
          "No",
          "No",
          "No",
          "No",
          "No",
          "No",
          "Yes",
          "No",
          "No",
          "No",
          "No",
          "No",
          "No",
          "No",
          "No"
         ],
         "yaxis": "y",
         "ybingroup": "y"
        }
       ],
       "layout": {
        "coloraxis": {
         "colorbar": {
          "title": {
           "text": "count"
          }
         },
         "colorscale": [
          [
           0,
           "#0d0887"
          ],
          [
           0.1111111111111111,
           "#46039f"
          ],
          [
           0.2222222222222222,
           "#7201a8"
          ],
          [
           0.3333333333333333,
           "#9c179e"
          ],
          [
           0.4444444444444444,
           "#bd3786"
          ],
          [
           0.5555555555555556,
           "#d8576b"
          ],
          [
           0.6666666666666666,
           "#ed7953"
          ],
          [
           0.7777777777777778,
           "#fb9f3a"
          ],
          [
           0.8888888888888888,
           "#fdca26"
          ],
          [
           1,
           "#f0f921"
          ]
         ]
        },
        "legend": {
         "tracegroupgap": 0
        },
        "margin": {
         "t": 60
        },
        "template": {
         "data": {
          "bar": [
           {
            "error_x": {
             "color": "#2a3f5f"
            },
            "error_y": {
             "color": "#2a3f5f"
            },
            "marker": {
             "line": {
              "color": "#E5ECF6",
              "width": 0.5
             },
             "pattern": {
              "fillmode": "overlay",
              "size": 10,
              "solidity": 0.2
             }
            },
            "type": "bar"
           }
          ],
          "barpolar": [
           {
            "marker": {
             "line": {
              "color": "#E5ECF6",
              "width": 0.5
             },
             "pattern": {
              "fillmode": "overlay",
              "size": 10,
              "solidity": 0.2
             }
            },
            "type": "barpolar"
           }
          ],
          "carpet": [
           {
            "aaxis": {
             "endlinecolor": "#2a3f5f",
             "gridcolor": "white",
             "linecolor": "white",
             "minorgridcolor": "white",
             "startlinecolor": "#2a3f5f"
            },
            "baxis": {
             "endlinecolor": "#2a3f5f",
             "gridcolor": "white",
             "linecolor": "white",
             "minorgridcolor": "white",
             "startlinecolor": "#2a3f5f"
            },
            "type": "carpet"
           }
          ],
          "choropleth": [
           {
            "colorbar": {
             "outlinewidth": 0,
             "ticks": ""
            },
            "type": "choropleth"
           }
          ],
          "contour": [
           {
            "colorbar": {
             "outlinewidth": 0,
             "ticks": ""
            },
            "colorscale": [
             [
              0,
              "#0d0887"
             ],
             [
              0.1111111111111111,
              "#46039f"
             ],
             [
              0.2222222222222222,
              "#7201a8"
             ],
             [
              0.3333333333333333,
              "#9c179e"
             ],
             [
              0.4444444444444444,
              "#bd3786"
             ],
             [
              0.5555555555555556,
              "#d8576b"
             ],
             [
              0.6666666666666666,
              "#ed7953"
             ],
             [
              0.7777777777777778,
              "#fb9f3a"
             ],
             [
              0.8888888888888888,
              "#fdca26"
             ],
             [
              1,
              "#f0f921"
             ]
            ],
            "type": "contour"
           }
          ],
          "contourcarpet": [
           {
            "colorbar": {
             "outlinewidth": 0,
             "ticks": ""
            },
            "type": "contourcarpet"
           }
          ],
          "heatmap": [
           {
            "colorbar": {
             "outlinewidth": 0,
             "ticks": ""
            },
            "colorscale": [
             [
              0,
              "#0d0887"
             ],
             [
              0.1111111111111111,
              "#46039f"
             ],
             [
              0.2222222222222222,
              "#7201a8"
             ],
             [
              0.3333333333333333,
              "#9c179e"
             ],
             [
              0.4444444444444444,
              "#bd3786"
             ],
             [
              0.5555555555555556,
              "#d8576b"
             ],
             [
              0.6666666666666666,
              "#ed7953"
             ],
             [
              0.7777777777777778,
              "#fb9f3a"
             ],
             [
              0.8888888888888888,
              "#fdca26"
             ],
             [
              1,
              "#f0f921"
             ]
            ],
            "type": "heatmap"
           }
          ],
          "histogram": [
           {
            "marker": {
             "pattern": {
              "fillmode": "overlay",
              "size": 10,
              "solidity": 0.2
             }
            },
            "type": "histogram"
           }
          ],
          "histogram2d": [
           {
            "colorbar": {
             "outlinewidth": 0,
             "ticks": ""
            },
            "colorscale": [
             [
              0,
              "#0d0887"
             ],
             [
              0.1111111111111111,
              "#46039f"
             ],
             [
              0.2222222222222222,
              "#7201a8"
             ],
             [
              0.3333333333333333,
              "#9c179e"
             ],
             [
              0.4444444444444444,
              "#bd3786"
             ],
             [
              0.5555555555555556,
              "#d8576b"
             ],
             [
              0.6666666666666666,
              "#ed7953"
             ],
             [
              0.7777777777777778,
              "#fb9f3a"
             ],
             [
              0.8888888888888888,
              "#fdca26"
             ],
             [
              1,
              "#f0f921"
             ]
            ],
            "type": "histogram2d"
           }
          ],
          "histogram2dcontour": [
           {
            "colorbar": {
             "outlinewidth": 0,
             "ticks": ""
            },
            "colorscale": [
             [
              0,
              "#0d0887"
             ],
             [
              0.1111111111111111,
              "#46039f"
             ],
             [
              0.2222222222222222,
              "#7201a8"
             ],
             [
              0.3333333333333333,
              "#9c179e"
             ],
             [
              0.4444444444444444,
              "#bd3786"
             ],
             [
              0.5555555555555556,
              "#d8576b"
             ],
             [
              0.6666666666666666,
              "#ed7953"
             ],
             [
              0.7777777777777778,
              "#fb9f3a"
             ],
             [
              0.8888888888888888,
              "#fdca26"
             ],
             [
              1,
              "#f0f921"
             ]
            ],
            "type": "histogram2dcontour"
           }
          ],
          "mesh3d": [
           {
            "colorbar": {
             "outlinewidth": 0,
             "ticks": ""
            },
            "type": "mesh3d"
           }
          ],
          "parcoords": [
           {
            "line": {
             "colorbar": {
              "outlinewidth": 0,
              "ticks": ""
             }
            },
            "type": "parcoords"
           }
          ],
          "pie": [
           {
            "automargin": true,
            "type": "pie"
           }
          ],
          "scatter": [
           {
            "fillpattern": {
             "fillmode": "overlay",
             "size": 10,
             "solidity": 0.2
            },
            "type": "scatter"
           }
          ],
          "scatter3d": [
           {
            "line": {
             "colorbar": {
              "outlinewidth": 0,
              "ticks": ""
             }
            },
            "marker": {
             "colorbar": {
              "outlinewidth": 0,
              "ticks": ""
             }
            },
            "type": "scatter3d"
           }
          ],
          "scattercarpet": [
           {
            "marker": {
             "colorbar": {
              "outlinewidth": 0,
              "ticks": ""
             }
            },
            "type": "scattercarpet"
           }
          ],
          "scattergeo": [
           {
            "marker": {
             "colorbar": {
              "outlinewidth": 0,
              "ticks": ""
             }
            },
            "type": "scattergeo"
           }
          ],
          "scattergl": [
           {
            "marker": {
             "colorbar": {
              "outlinewidth": 0,
              "ticks": ""
             }
            },
            "type": "scattergl"
           }
          ],
          "scattermap": [
           {
            "marker": {
             "colorbar": {
              "outlinewidth": 0,
              "ticks": ""
             }
            },
            "type": "scattermap"
           }
          ],
          "scattermapbox": [
           {
            "marker": {
             "colorbar": {
              "outlinewidth": 0,
              "ticks": ""
             }
            },
            "type": "scattermapbox"
           }
          ],
          "scatterpolar": [
           {
            "marker": {
             "colorbar": {
              "outlinewidth": 0,
              "ticks": ""
             }
            },
            "type": "scatterpolar"
           }
          ],
          "scatterpolargl": [
           {
            "marker": {
             "colorbar": {
              "outlinewidth": 0,
              "ticks": ""
             }
            },
            "type": "scatterpolargl"
           }
          ],
          "scatterternary": [
           {
            "marker": {
             "colorbar": {
              "outlinewidth": 0,
              "ticks": ""
             }
            },
            "type": "scatterternary"
           }
          ],
          "surface": [
           {
            "colorbar": {
             "outlinewidth": 0,
             "ticks": ""
            },
            "colorscale": [
             [
              0,
              "#0d0887"
             ],
             [
              0.1111111111111111,
              "#46039f"
             ],
             [
              0.2222222222222222,
              "#7201a8"
             ],
             [
              0.3333333333333333,
              "#9c179e"
             ],
             [
              0.4444444444444444,
              "#bd3786"
             ],
             [
              0.5555555555555556,
              "#d8576b"
             ],
             [
              0.6666666666666666,
              "#ed7953"
             ],
             [
              0.7777777777777778,
              "#fb9f3a"
             ],
             [
              0.8888888888888888,
              "#fdca26"
             ],
             [
              1,
              "#f0f921"
             ]
            ],
            "type": "surface"
           }
          ],
          "table": [
           {
            "cells": {
             "fill": {
              "color": "#EBF0F8"
             },
             "line": {
              "color": "white"
             }
            },
            "header": {
             "fill": {
              "color": "#C8D4E3"
             },
             "line": {
              "color": "white"
             }
            },
            "type": "table"
           }
          ]
         },
         "layout": {
          "annotationdefaults": {
           "arrowcolor": "#2a3f5f",
           "arrowhead": 0,
           "arrowwidth": 1
          },
          "autotypenumbers": "strict",
          "coloraxis": {
           "colorbar": {
            "outlinewidth": 0,
            "ticks": ""
           }
          },
          "colorscale": {
           "diverging": [
            [
             0,
             "#8e0152"
            ],
            [
             0.1,
             "#c51b7d"
            ],
            [
             0.2,
             "#de77ae"
            ],
            [
             0.3,
             "#f1b6da"
            ],
            [
             0.4,
             "#fde0ef"
            ],
            [
             0.5,
             "#f7f7f7"
            ],
            [
             0.6,
             "#e6f5d0"
            ],
            [
             0.7,
             "#b8e186"
            ],
            [
             0.8,
             "#7fbc41"
            ],
            [
             0.9,
             "#4d9221"
            ],
            [
             1,
             "#276419"
            ]
           ],
           "sequential": [
            [
             0,
             "#0d0887"
            ],
            [
             0.1111111111111111,
             "#46039f"
            ],
            [
             0.2222222222222222,
             "#7201a8"
            ],
            [
             0.3333333333333333,
             "#9c179e"
            ],
            [
             0.4444444444444444,
             "#bd3786"
            ],
            [
             0.5555555555555556,
             "#d8576b"
            ],
            [
             0.6666666666666666,
             "#ed7953"
            ],
            [
             0.7777777777777778,
             "#fb9f3a"
            ],
            [
             0.8888888888888888,
             "#fdca26"
            ],
            [
             1,
             "#f0f921"
            ]
           ],
           "sequentialminus": [
            [
             0,
             "#0d0887"
            ],
            [
             0.1111111111111111,
             "#46039f"
            ],
            [
             0.2222222222222222,
             "#7201a8"
            ],
            [
             0.3333333333333333,
             "#9c179e"
            ],
            [
             0.4444444444444444,
             "#bd3786"
            ],
            [
             0.5555555555555556,
             "#d8576b"
            ],
            [
             0.6666666666666666,
             "#ed7953"
            ],
            [
             0.7777777777777778,
             "#fb9f3a"
            ],
            [
             0.8888888888888888,
             "#fdca26"
            ],
            [
             1,
             "#f0f921"
            ]
           ]
          },
          "colorway": [
           "#636efa",
           "#EF553B",
           "#00cc96",
           "#ab63fa",
           "#FFA15A",
           "#19d3f3",
           "#FF6692",
           "#B6E880",
           "#FF97FF",
           "#FECB52"
          ],
          "font": {
           "color": "#2a3f5f"
          },
          "geo": {
           "bgcolor": "white",
           "lakecolor": "white",
           "landcolor": "#E5ECF6",
           "showlakes": true,
           "showland": true,
           "subunitcolor": "white"
          },
          "hoverlabel": {
           "align": "left"
          },
          "hovermode": "closest",
          "mapbox": {
           "style": "light"
          },
          "paper_bgcolor": "white",
          "plot_bgcolor": "#E5ECF6",
          "polar": {
           "angularaxis": {
            "gridcolor": "white",
            "linecolor": "white",
            "ticks": ""
           },
           "bgcolor": "#E5ECF6",
           "radialaxis": {
            "gridcolor": "white",
            "linecolor": "white",
            "ticks": ""
           }
          },
          "scene": {
           "xaxis": {
            "backgroundcolor": "#E5ECF6",
            "gridcolor": "white",
            "gridwidth": 2,
            "linecolor": "white",
            "showbackground": true,
            "ticks": "",
            "zerolinecolor": "white"
           },
           "yaxis": {
            "backgroundcolor": "#E5ECF6",
            "gridcolor": "white",
            "gridwidth": 2,
            "linecolor": "white",
            "showbackground": true,
            "ticks": "",
            "zerolinecolor": "white"
           },
           "zaxis": {
            "backgroundcolor": "#E5ECF6",
            "gridcolor": "white",
            "gridwidth": 2,
            "linecolor": "white",
            "showbackground": true,
            "ticks": "",
            "zerolinecolor": "white"
           }
          },
          "shapedefaults": {
           "line": {
            "color": "#2a3f5f"
           }
          },
          "ternary": {
           "aaxis": {
            "gridcolor": "white",
            "linecolor": "white",
            "ticks": ""
           },
           "baxis": {
            "gridcolor": "white",
            "linecolor": "white",
            "ticks": ""
           },
           "bgcolor": "#E5ECF6",
           "caxis": {
            "gridcolor": "white",
            "linecolor": "white",
            "ticks": ""
           }
          },
          "title": {
           "x": 0.05
          },
          "xaxis": {
           "automargin": true,
           "gridcolor": "white",
           "linecolor": "white",
           "ticks": "",
           "title": {
            "standoff": 15
           },
           "zerolinecolor": "white",
           "zerolinewidth": 2
          },
          "yaxis": {
           "automargin": true,
           "gridcolor": "white",
           "linecolor": "white",
           "ticks": "",
           "title": {
            "standoff": 15
           },
           "zerolinecolor": "white",
           "zerolinewidth": 2
          }
         }
        },
        "title": {
         "text": "Dencity Heamap with age and Attrition"
        },
        "xaxis": {
         "anchor": "y",
         "domain": [
          0,
          1
         ],
         "title": {
          "text": "Age"
         }
        },
        "yaxis": {
         "anchor": "x",
         "domain": [
          0,
          1
         ],
         "title": {
          "text": "Attrition"
         }
        }
       }
      }
     },
     "metadata": {},
     "output_type": "display_data"
    }
   ],
   "source": [
    "fig = px.density_heatmap(df, x=\"Age\", y=target_column_name)\n",
    "fig.update_layout(title=\"Dencity Heamap with age and Attrition\")\n",
    "fig.show()"
   ]
  },
  {
   "cell_type": "markdown",
   "metadata": {},
   "source": [
    "### BusinessTravel\n",
    "The frequency of business travel for the employee. **Categorical**"
   ]
  },
  {
   "cell_type": "code",
   "execution_count": 360,
   "metadata": {},
   "outputs": [
    {
     "data": {
      "application/vnd.plotly.v1+json": {
       "config": {
        "plotlyServerURL": "https://plot.ly"
       },
       "data": [
        {
         "domain": {
          "x": [
           0,
           1
          ],
          "y": [
           0,
           1
          ]
         },
         "hovertemplate": "BusinessTravel=%{label}<br>Count=%{value}<extra></extra>",
         "labels": [
          "Travel_Rarely",
          "Travel_Frequently",
          "Non-Travel"
         ],
         "legendgroup": "",
         "name": "",
         "showlegend": true,
         "type": "pie",
         "values": {
          "bdata": "EwQVAZYA",
          "dtype": "i2"
         }
        }
       ],
       "layout": {
        "height": 400,
        "legend": {
         "tracegroupgap": 0
        },
        "template": {
         "data": {
          "bar": [
           {
            "error_x": {
             "color": "#2a3f5f"
            },
            "error_y": {
             "color": "#2a3f5f"
            },
            "marker": {
             "line": {
              "color": "#E5ECF6",
              "width": 0.5
             },
             "pattern": {
              "fillmode": "overlay",
              "size": 10,
              "solidity": 0.2
             }
            },
            "type": "bar"
           }
          ],
          "barpolar": [
           {
            "marker": {
             "line": {
              "color": "#E5ECF6",
              "width": 0.5
             },
             "pattern": {
              "fillmode": "overlay",
              "size": 10,
              "solidity": 0.2
             }
            },
            "type": "barpolar"
           }
          ],
          "carpet": [
           {
            "aaxis": {
             "endlinecolor": "#2a3f5f",
             "gridcolor": "white",
             "linecolor": "white",
             "minorgridcolor": "white",
             "startlinecolor": "#2a3f5f"
            },
            "baxis": {
             "endlinecolor": "#2a3f5f",
             "gridcolor": "white",
             "linecolor": "white",
             "minorgridcolor": "white",
             "startlinecolor": "#2a3f5f"
            },
            "type": "carpet"
           }
          ],
          "choropleth": [
           {
            "colorbar": {
             "outlinewidth": 0,
             "ticks": ""
            },
            "type": "choropleth"
           }
          ],
          "contour": [
           {
            "colorbar": {
             "outlinewidth": 0,
             "ticks": ""
            },
            "colorscale": [
             [
              0,
              "#0d0887"
             ],
             [
              0.1111111111111111,
              "#46039f"
             ],
             [
              0.2222222222222222,
              "#7201a8"
             ],
             [
              0.3333333333333333,
              "#9c179e"
             ],
             [
              0.4444444444444444,
              "#bd3786"
             ],
             [
              0.5555555555555556,
              "#d8576b"
             ],
             [
              0.6666666666666666,
              "#ed7953"
             ],
             [
              0.7777777777777778,
              "#fb9f3a"
             ],
             [
              0.8888888888888888,
              "#fdca26"
             ],
             [
              1,
              "#f0f921"
             ]
            ],
            "type": "contour"
           }
          ],
          "contourcarpet": [
           {
            "colorbar": {
             "outlinewidth": 0,
             "ticks": ""
            },
            "type": "contourcarpet"
           }
          ],
          "heatmap": [
           {
            "colorbar": {
             "outlinewidth": 0,
             "ticks": ""
            },
            "colorscale": [
             [
              0,
              "#0d0887"
             ],
             [
              0.1111111111111111,
              "#46039f"
             ],
             [
              0.2222222222222222,
              "#7201a8"
             ],
             [
              0.3333333333333333,
              "#9c179e"
             ],
             [
              0.4444444444444444,
              "#bd3786"
             ],
             [
              0.5555555555555556,
              "#d8576b"
             ],
             [
              0.6666666666666666,
              "#ed7953"
             ],
             [
              0.7777777777777778,
              "#fb9f3a"
             ],
             [
              0.8888888888888888,
              "#fdca26"
             ],
             [
              1,
              "#f0f921"
             ]
            ],
            "type": "heatmap"
           }
          ],
          "histogram": [
           {
            "marker": {
             "pattern": {
              "fillmode": "overlay",
              "size": 10,
              "solidity": 0.2
             }
            },
            "type": "histogram"
           }
          ],
          "histogram2d": [
           {
            "colorbar": {
             "outlinewidth": 0,
             "ticks": ""
            },
            "colorscale": [
             [
              0,
              "#0d0887"
             ],
             [
              0.1111111111111111,
              "#46039f"
             ],
             [
              0.2222222222222222,
              "#7201a8"
             ],
             [
              0.3333333333333333,
              "#9c179e"
             ],
             [
              0.4444444444444444,
              "#bd3786"
             ],
             [
              0.5555555555555556,
              "#d8576b"
             ],
             [
              0.6666666666666666,
              "#ed7953"
             ],
             [
              0.7777777777777778,
              "#fb9f3a"
             ],
             [
              0.8888888888888888,
              "#fdca26"
             ],
             [
              1,
              "#f0f921"
             ]
            ],
            "type": "histogram2d"
           }
          ],
          "histogram2dcontour": [
           {
            "colorbar": {
             "outlinewidth": 0,
             "ticks": ""
            },
            "colorscale": [
             [
              0,
              "#0d0887"
             ],
             [
              0.1111111111111111,
              "#46039f"
             ],
             [
              0.2222222222222222,
              "#7201a8"
             ],
             [
              0.3333333333333333,
              "#9c179e"
             ],
             [
              0.4444444444444444,
              "#bd3786"
             ],
             [
              0.5555555555555556,
              "#d8576b"
             ],
             [
              0.6666666666666666,
              "#ed7953"
             ],
             [
              0.7777777777777778,
              "#fb9f3a"
             ],
             [
              0.8888888888888888,
              "#fdca26"
             ],
             [
              1,
              "#f0f921"
             ]
            ],
            "type": "histogram2dcontour"
           }
          ],
          "mesh3d": [
           {
            "colorbar": {
             "outlinewidth": 0,
             "ticks": ""
            },
            "type": "mesh3d"
           }
          ],
          "parcoords": [
           {
            "line": {
             "colorbar": {
              "outlinewidth": 0,
              "ticks": ""
             }
            },
            "type": "parcoords"
           }
          ],
          "pie": [
           {
            "automargin": true,
            "type": "pie"
           }
          ],
          "scatter": [
           {
            "fillpattern": {
             "fillmode": "overlay",
             "size": 10,
             "solidity": 0.2
            },
            "type": "scatter"
           }
          ],
          "scatter3d": [
           {
            "line": {
             "colorbar": {
              "outlinewidth": 0,
              "ticks": ""
             }
            },
            "marker": {
             "colorbar": {
              "outlinewidth": 0,
              "ticks": ""
             }
            },
            "type": "scatter3d"
           }
          ],
          "scattercarpet": [
           {
            "marker": {
             "colorbar": {
              "outlinewidth": 0,
              "ticks": ""
             }
            },
            "type": "scattercarpet"
           }
          ],
          "scattergeo": [
           {
            "marker": {
             "colorbar": {
              "outlinewidth": 0,
              "ticks": ""
             }
            },
            "type": "scattergeo"
           }
          ],
          "scattergl": [
           {
            "marker": {
             "colorbar": {
              "outlinewidth": 0,
              "ticks": ""
             }
            },
            "type": "scattergl"
           }
          ],
          "scattermap": [
           {
            "marker": {
             "colorbar": {
              "outlinewidth": 0,
              "ticks": ""
             }
            },
            "type": "scattermap"
           }
          ],
          "scattermapbox": [
           {
            "marker": {
             "colorbar": {
              "outlinewidth": 0,
              "ticks": ""
             }
            },
            "type": "scattermapbox"
           }
          ],
          "scatterpolar": [
           {
            "marker": {
             "colorbar": {
              "outlinewidth": 0,
              "ticks": ""
             }
            },
            "type": "scatterpolar"
           }
          ],
          "scatterpolargl": [
           {
            "marker": {
             "colorbar": {
              "outlinewidth": 0,
              "ticks": ""
             }
            },
            "type": "scatterpolargl"
           }
          ],
          "scatterternary": [
           {
            "marker": {
             "colorbar": {
              "outlinewidth": 0,
              "ticks": ""
             }
            },
            "type": "scatterternary"
           }
          ],
          "surface": [
           {
            "colorbar": {
             "outlinewidth": 0,
             "ticks": ""
            },
            "colorscale": [
             [
              0,
              "#0d0887"
             ],
             [
              0.1111111111111111,
              "#46039f"
             ],
             [
              0.2222222222222222,
              "#7201a8"
             ],
             [
              0.3333333333333333,
              "#9c179e"
             ],
             [
              0.4444444444444444,
              "#bd3786"
             ],
             [
              0.5555555555555556,
              "#d8576b"
             ],
             [
              0.6666666666666666,
              "#ed7953"
             ],
             [
              0.7777777777777778,
              "#fb9f3a"
             ],
             [
              0.8888888888888888,
              "#fdca26"
             ],
             [
              1,
              "#f0f921"
             ]
            ],
            "type": "surface"
           }
          ],
          "table": [
           {
            "cells": {
             "fill": {
              "color": "#EBF0F8"
             },
             "line": {
              "color": "white"
             }
            },
            "header": {
             "fill": {
              "color": "#C8D4E3"
             },
             "line": {
              "color": "white"
             }
            },
            "type": "table"
           }
          ]
         },
         "layout": {
          "annotationdefaults": {
           "arrowcolor": "#2a3f5f",
           "arrowhead": 0,
           "arrowwidth": 1
          },
          "autotypenumbers": "strict",
          "coloraxis": {
           "colorbar": {
            "outlinewidth": 0,
            "ticks": ""
           }
          },
          "colorscale": {
           "diverging": [
            [
             0,
             "#8e0152"
            ],
            [
             0.1,
             "#c51b7d"
            ],
            [
             0.2,
             "#de77ae"
            ],
            [
             0.3,
             "#f1b6da"
            ],
            [
             0.4,
             "#fde0ef"
            ],
            [
             0.5,
             "#f7f7f7"
            ],
            [
             0.6,
             "#e6f5d0"
            ],
            [
             0.7,
             "#b8e186"
            ],
            [
             0.8,
             "#7fbc41"
            ],
            [
             0.9,
             "#4d9221"
            ],
            [
             1,
             "#276419"
            ]
           ],
           "sequential": [
            [
             0,
             "#0d0887"
            ],
            [
             0.1111111111111111,
             "#46039f"
            ],
            [
             0.2222222222222222,
             "#7201a8"
            ],
            [
             0.3333333333333333,
             "#9c179e"
            ],
            [
             0.4444444444444444,
             "#bd3786"
            ],
            [
             0.5555555555555556,
             "#d8576b"
            ],
            [
             0.6666666666666666,
             "#ed7953"
            ],
            [
             0.7777777777777778,
             "#fb9f3a"
            ],
            [
             0.8888888888888888,
             "#fdca26"
            ],
            [
             1,
             "#f0f921"
            ]
           ],
           "sequentialminus": [
            [
             0,
             "#0d0887"
            ],
            [
             0.1111111111111111,
             "#46039f"
            ],
            [
             0.2222222222222222,
             "#7201a8"
            ],
            [
             0.3333333333333333,
             "#9c179e"
            ],
            [
             0.4444444444444444,
             "#bd3786"
            ],
            [
             0.5555555555555556,
             "#d8576b"
            ],
            [
             0.6666666666666666,
             "#ed7953"
            ],
            [
             0.7777777777777778,
             "#fb9f3a"
            ],
            [
             0.8888888888888888,
             "#fdca26"
            ],
            [
             1,
             "#f0f921"
            ]
           ]
          },
          "colorway": [
           "#636efa",
           "#EF553B",
           "#00cc96",
           "#ab63fa",
           "#FFA15A",
           "#19d3f3",
           "#FF6692",
           "#B6E880",
           "#FF97FF",
           "#FECB52"
          ],
          "font": {
           "color": "#2a3f5f"
          },
          "geo": {
           "bgcolor": "white",
           "lakecolor": "white",
           "landcolor": "#E5ECF6",
           "showlakes": true,
           "showland": true,
           "subunitcolor": "white"
          },
          "hoverlabel": {
           "align": "left"
          },
          "hovermode": "closest",
          "mapbox": {
           "style": "light"
          },
          "paper_bgcolor": "white",
          "plot_bgcolor": "#E5ECF6",
          "polar": {
           "angularaxis": {
            "gridcolor": "white",
            "linecolor": "white",
            "ticks": ""
           },
           "bgcolor": "#E5ECF6",
           "radialaxis": {
            "gridcolor": "white",
            "linecolor": "white",
            "ticks": ""
           }
          },
          "scene": {
           "xaxis": {
            "backgroundcolor": "#E5ECF6",
            "gridcolor": "white",
            "gridwidth": 2,
            "linecolor": "white",
            "showbackground": true,
            "ticks": "",
            "zerolinecolor": "white"
           },
           "yaxis": {
            "backgroundcolor": "#E5ECF6",
            "gridcolor": "white",
            "gridwidth": 2,
            "linecolor": "white",
            "showbackground": true,
            "ticks": "",
            "zerolinecolor": "white"
           },
           "zaxis": {
            "backgroundcolor": "#E5ECF6",
            "gridcolor": "white",
            "gridwidth": 2,
            "linecolor": "white",
            "showbackground": true,
            "ticks": "",
            "zerolinecolor": "white"
           }
          },
          "shapedefaults": {
           "line": {
            "color": "#2a3f5f"
           }
          },
          "ternary": {
           "aaxis": {
            "gridcolor": "white",
            "linecolor": "white",
            "ticks": ""
           },
           "baxis": {
            "gridcolor": "white",
            "linecolor": "white",
            "ticks": ""
           },
           "bgcolor": "#E5ECF6",
           "caxis": {
            "gridcolor": "white",
            "linecolor": "white",
            "ticks": ""
           }
          },
          "title": {
           "x": 0.05
          },
          "xaxis": {
           "automargin": true,
           "gridcolor": "white",
           "linecolor": "white",
           "ticks": "",
           "title": {
            "standoff": 15
           },
           "zerolinecolor": "white",
           "zerolinewidth": 2
          },
          "yaxis": {
           "automargin": true,
           "gridcolor": "white",
           "linecolor": "white",
           "ticks": "",
           "title": {
            "standoff": 15
           },
           "zerolinecolor": "white",
           "zerolinewidth": 2
          }
         }
        },
        "title": {
         "text": "Business Travel Pie chart"
        },
        "width": 400
       }
      }
     },
     "metadata": {},
     "output_type": "display_data"
    }
   ],
   "source": [
    "business_travel_counts = df['BusinessTravel'].value_counts().reset_index()\n",
    "business_travel_counts.columns = ['BusinessTravel', 'Count']\n",
    "\n",
    "fig = px.pie(business_travel_counts, values='Count', names='BusinessTravel', \n",
    "             title='Business Travel Pie chart', width=400, height=400)\n",
    "fig.show()"
   ]
  },
  {
   "cell_type": "markdown",
   "metadata": {},
   "source": [
    "### DailyRate\n",
    "The daily rate of pay for the employee. **Numerical**"
   ]
  },
  {
   "cell_type": "code",
   "execution_count": 361,
   "metadata": {},
   "outputs": [
    {
     "data": {
      "application/vnd.plotly.v1+json": {
       "config": {
        "plotlyServerURL": "https://plot.ly"
       },
       "data": [
        {
         "alignmentgroup": "True",
         "hovertemplate": "DailyRate=%{x}<extra></extra>",
         "legendgroup": "",
         "marker": {
          "color": "#636efa"
         },
         "name": "",
         "notched": false,
         "offsetgroup": "",
         "orientation": "h",
         "showlegend": false,
         "type": "box",
         "x": {
          "bdata": "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",
          "dtype": "i2"
         },
         "x0": " ",
         "xaxis": "x",
         "y0": " ",
         "yaxis": "y"
        }
       ],
       "layout": {
        "boxmode": "group",
        "height": 300,
        "legend": {
         "tracegroupgap": 0
        },
        "template": {
         "data": {
          "bar": [
           {
            "error_x": {
             "color": "#2a3f5f"
            },
            "error_y": {
             "color": "#2a3f5f"
            },
            "marker": {
             "line": {
              "color": "#E5ECF6",
              "width": 0.5
             },
             "pattern": {
              "fillmode": "overlay",
              "size": 10,
              "solidity": 0.2
             }
            },
            "type": "bar"
           }
          ],
          "barpolar": [
           {
            "marker": {
             "line": {
              "color": "#E5ECF6",
              "width": 0.5
             },
             "pattern": {
              "fillmode": "overlay",
              "size": 10,
              "solidity": 0.2
             }
            },
            "type": "barpolar"
           }
          ],
          "carpet": [
           {
            "aaxis": {
             "endlinecolor": "#2a3f5f",
             "gridcolor": "white",
             "linecolor": "white",
             "minorgridcolor": "white",
             "startlinecolor": "#2a3f5f"
            },
            "baxis": {
             "endlinecolor": "#2a3f5f",
             "gridcolor": "white",
             "linecolor": "white",
             "minorgridcolor": "white",
             "startlinecolor": "#2a3f5f"
            },
            "type": "carpet"
           }
          ],
          "choropleth": [
           {
            "colorbar": {
             "outlinewidth": 0,
             "ticks": ""
            },
            "type": "choropleth"
           }
          ],
          "contour": [
           {
            "colorbar": {
             "outlinewidth": 0,
             "ticks": ""
            },
            "colorscale": [
             [
              0,
              "#0d0887"
             ],
             [
              0.1111111111111111,
              "#46039f"
             ],
             [
              0.2222222222222222,
              "#7201a8"
             ],
             [
              0.3333333333333333,
              "#9c179e"
             ],
             [
              0.4444444444444444,
              "#bd3786"
             ],
             [
              0.5555555555555556,
              "#d8576b"
             ],
             [
              0.6666666666666666,
              "#ed7953"
             ],
             [
              0.7777777777777778,
              "#fb9f3a"
             ],
             [
              0.8888888888888888,
              "#fdca26"
             ],
             [
              1,
              "#f0f921"
             ]
            ],
            "type": "contour"
           }
          ],
          "contourcarpet": [
           {
            "colorbar": {
             "outlinewidth": 0,
             "ticks": ""
            },
            "type": "contourcarpet"
           }
          ],
          "heatmap": [
           {
            "colorbar": {
             "outlinewidth": 0,
             "ticks": ""
            },
            "colorscale": [
             [
              0,
              "#0d0887"
             ],
             [
              0.1111111111111111,
              "#46039f"
             ],
             [
              0.2222222222222222,
              "#7201a8"
             ],
             [
              0.3333333333333333,
              "#9c179e"
             ],
             [
              0.4444444444444444,
              "#bd3786"
             ],
             [
              0.5555555555555556,
              "#d8576b"
             ],
             [
              0.6666666666666666,
              "#ed7953"
             ],
             [
              0.7777777777777778,
              "#fb9f3a"
             ],
             [
              0.8888888888888888,
              "#fdca26"
             ],
             [
              1,
              "#f0f921"
             ]
            ],
            "type": "heatmap"
           }
          ],
          "histogram": [
           {
            "marker": {
             "pattern": {
              "fillmode": "overlay",
              "size": 10,
              "solidity": 0.2
             }
            },
            "type": "histogram"
           }
          ],
          "histogram2d": [
           {
            "colorbar": {
             "outlinewidth": 0,
             "ticks": ""
            },
            "colorscale": [
             [
              0,
              "#0d0887"
             ],
             [
              0.1111111111111111,
              "#46039f"
             ],
             [
              0.2222222222222222,
              "#7201a8"
             ],
             [
              0.3333333333333333,
              "#9c179e"
             ],
             [
              0.4444444444444444,
              "#bd3786"
             ],
             [
              0.5555555555555556,
              "#d8576b"
             ],
             [
              0.6666666666666666,
              "#ed7953"
             ],
             [
              0.7777777777777778,
              "#fb9f3a"
             ],
             [
              0.8888888888888888,
              "#fdca26"
             ],
             [
              1,
              "#f0f921"
             ]
            ],
            "type": "histogram2d"
           }
          ],
          "histogram2dcontour": [
           {
            "colorbar": {
             "outlinewidth": 0,
             "ticks": ""
            },
            "colorscale": [
             [
              0,
              "#0d0887"
             ],
             [
              0.1111111111111111,
              "#46039f"
             ],
             [
              0.2222222222222222,
              "#7201a8"
             ],
             [
              0.3333333333333333,
              "#9c179e"
             ],
             [
              0.4444444444444444,
              "#bd3786"
             ],
             [
              0.5555555555555556,
              "#d8576b"
             ],
             [
              0.6666666666666666,
              "#ed7953"
             ],
             [
              0.7777777777777778,
              "#fb9f3a"
             ],
             [
              0.8888888888888888,
              "#fdca26"
             ],
             [
              1,
              "#f0f921"
             ]
            ],
            "type": "histogram2dcontour"
           }
          ],
          "mesh3d": [
           {
            "colorbar": {
             "outlinewidth": 0,
             "ticks": ""
            },
            "type": "mesh3d"
           }
          ],
          "parcoords": [
           {
            "line": {
             "colorbar": {
              "outlinewidth": 0,
              "ticks": ""
             }
            },
            "type": "parcoords"
           }
          ],
          "pie": [
           {
            "automargin": true,
            "type": "pie"
           }
          ],
          "scatter": [
           {
            "fillpattern": {
             "fillmode": "overlay",
             "size": 10,
             "solidity": 0.2
            },
            "type": "scatter"
           }
          ],
          "scatter3d": [
           {
            "line": {
             "colorbar": {
              "outlinewidth": 0,
              "ticks": ""
             }
            },
            "marker": {
             "colorbar": {
              "outlinewidth": 0,
              "ticks": ""
             }
            },
            "type": "scatter3d"
           }
          ],
          "scattercarpet": [
           {
            "marker": {
             "colorbar": {
              "outlinewidth": 0,
              "ticks": ""
             }
            },
            "type": "scattercarpet"
           }
          ],
          "scattergeo": [
           {
            "marker": {
             "colorbar": {
              "outlinewidth": 0,
              "ticks": ""
             }
            },
            "type": "scattergeo"
           }
          ],
          "scattergl": [
           {
            "marker": {
             "colorbar": {
              "outlinewidth": 0,
              "ticks": ""
             }
            },
            "type": "scattergl"
           }
          ],
          "scattermap": [
           {
            "marker": {
             "colorbar": {
              "outlinewidth": 0,
              "ticks": ""
             }
            },
            "type": "scattermap"
           }
          ],
          "scattermapbox": [
           {
            "marker": {
             "colorbar": {
              "outlinewidth": 0,
              "ticks": ""
             }
            },
            "type": "scattermapbox"
           }
          ],
          "scatterpolar": [
           {
            "marker": {
             "colorbar": {
              "outlinewidth": 0,
              "ticks": ""
             }
            },
            "type": "scatterpolar"
           }
          ],
          "scatterpolargl": [
           {
            "marker": {
             "colorbar": {
              "outlinewidth": 0,
              "ticks": ""
             }
            },
            "type": "scatterpolargl"
           }
          ],
          "scatterternary": [
           {
            "marker": {
             "colorbar": {
              "outlinewidth": 0,
              "ticks": ""
             }
            },
            "type": "scatterternary"
           }
          ],
          "surface": [
           {
            "colorbar": {
             "outlinewidth": 0,
             "ticks": ""
            },
            "colorscale": [
             [
              0,
              "#0d0887"
             ],
             [
              0.1111111111111111,
              "#46039f"
             ],
             [
              0.2222222222222222,
              "#7201a8"
             ],
             [
              0.3333333333333333,
              "#9c179e"
             ],
             [
              0.4444444444444444,
              "#bd3786"
             ],
             [
              0.5555555555555556,
              "#d8576b"
             ],
             [
              0.6666666666666666,
              "#ed7953"
             ],
             [
              0.7777777777777778,
              "#fb9f3a"
             ],
             [
              0.8888888888888888,
              "#fdca26"
             ],
             [
              1,
              "#f0f921"
             ]
            ],
            "type": "surface"
           }
          ],
          "table": [
           {
            "cells": {
             "fill": {
              "color": "#EBF0F8"
             },
             "line": {
              "color": "white"
             }
            },
            "header": {
             "fill": {
              "color": "#C8D4E3"
             },
             "line": {
              "color": "white"
             }
            },
            "type": "table"
           }
          ]
         },
         "layout": {
          "annotationdefaults": {
           "arrowcolor": "#2a3f5f",
           "arrowhead": 0,
           "arrowwidth": 1
          },
          "autotypenumbers": "strict",
          "coloraxis": {
           "colorbar": {
            "outlinewidth": 0,
            "ticks": ""
           }
          },
          "colorscale": {
           "diverging": [
            [
             0,
             "#8e0152"
            ],
            [
             0.1,
             "#c51b7d"
            ],
            [
             0.2,
             "#de77ae"
            ],
            [
             0.3,
             "#f1b6da"
            ],
            [
             0.4,
             "#fde0ef"
            ],
            [
             0.5,
             "#f7f7f7"
            ],
            [
             0.6,
             "#e6f5d0"
            ],
            [
             0.7,
             "#b8e186"
            ],
            [
             0.8,
             "#7fbc41"
            ],
            [
             0.9,
             "#4d9221"
            ],
            [
             1,
             "#276419"
            ]
           ],
           "sequential": [
            [
             0,
             "#0d0887"
            ],
            [
             0.1111111111111111,
             "#46039f"
            ],
            [
             0.2222222222222222,
             "#7201a8"
            ],
            [
             0.3333333333333333,
             "#9c179e"
            ],
            [
             0.4444444444444444,
             "#bd3786"
            ],
            [
             0.5555555555555556,
             "#d8576b"
            ],
            [
             0.6666666666666666,
             "#ed7953"
            ],
            [
             0.7777777777777778,
             "#fb9f3a"
            ],
            [
             0.8888888888888888,
             "#fdca26"
            ],
            [
             1,
             "#f0f921"
            ]
           ],
           "sequentialminus": [
            [
             0,
             "#0d0887"
            ],
            [
             0.1111111111111111,
             "#46039f"
            ],
            [
             0.2222222222222222,
             "#7201a8"
            ],
            [
             0.3333333333333333,
             "#9c179e"
            ],
            [
             0.4444444444444444,
             "#bd3786"
            ],
            [
             0.5555555555555556,
             "#d8576b"
            ],
            [
             0.6666666666666666,
             "#ed7953"
            ],
            [
             0.7777777777777778,
             "#fb9f3a"
            ],
            [
             0.8888888888888888,
             "#fdca26"
            ],
            [
             1,
             "#f0f921"
            ]
           ]
          },
          "colorway": [
           "#636efa",
           "#EF553B",
           "#00cc96",
           "#ab63fa",
           "#FFA15A",
           "#19d3f3",
           "#FF6692",
           "#B6E880",
           "#FF97FF",
           "#FECB52"
          ],
          "font": {
           "color": "#2a3f5f"
          },
          "geo": {
           "bgcolor": "white",
           "lakecolor": "white",
           "landcolor": "#E5ECF6",
           "showlakes": true,
           "showland": true,
           "subunitcolor": "white"
          },
          "hoverlabel": {
           "align": "left"
          },
          "hovermode": "closest",
          "mapbox": {
           "style": "light"
          },
          "paper_bgcolor": "white",
          "plot_bgcolor": "#E5ECF6",
          "polar": {
           "angularaxis": {
            "gridcolor": "white",
            "linecolor": "white",
            "ticks": ""
           },
           "bgcolor": "#E5ECF6",
           "radialaxis": {
            "gridcolor": "white",
            "linecolor": "white",
            "ticks": ""
           }
          },
          "scene": {
           "xaxis": {
            "backgroundcolor": "#E5ECF6",
            "gridcolor": "white",
            "gridwidth": 2,
            "linecolor": "white",
            "showbackground": true,
            "ticks": "",
            "zerolinecolor": "white"
           },
           "yaxis": {
            "backgroundcolor": "#E5ECF6",
            "gridcolor": "white",
            "gridwidth": 2,
            "linecolor": "white",
            "showbackground": true,
            "ticks": "",
            "zerolinecolor": "white"
           },
           "zaxis": {
            "backgroundcolor": "#E5ECF6",
            "gridcolor": "white",
            "gridwidth": 2,
            "linecolor": "white",
            "showbackground": true,
            "ticks": "",
            "zerolinecolor": "white"
           }
          },
          "shapedefaults": {
           "line": {
            "color": "#2a3f5f"
           }
          },
          "ternary": {
           "aaxis": {
            "gridcolor": "white",
            "linecolor": "white",
            "ticks": ""
           },
           "baxis": {
            "gridcolor": "white",
            "linecolor": "white",
            "ticks": ""
           },
           "bgcolor": "#E5ECF6",
           "caxis": {
            "gridcolor": "white",
            "linecolor": "white",
            "ticks": ""
           }
          },
          "title": {
           "x": 0.05
          },
          "xaxis": {
           "automargin": true,
           "gridcolor": "white",
           "linecolor": "white",
           "ticks": "",
           "title": {
            "standoff": 15
           },
           "zerolinecolor": "white",
           "zerolinewidth": 2
          },
          "yaxis": {
           "automargin": true,
           "gridcolor": "white",
           "linecolor": "white",
           "ticks": "",
           "title": {
            "standoff": 15
           },
           "zerolinecolor": "white",
           "zerolinewidth": 2
          }
         }
        },
        "title": {
         "text": "Box plot of DailyRate"
        },
        "xaxis": {
         "anchor": "y",
         "domain": [
          0,
          1
         ],
         "title": {
          "text": "DailyRate"
         }
        },
        "yaxis": {
         "anchor": "x",
         "domain": [
          0,
          1
         ]
        }
       }
      }
     },
     "metadata": {},
     "output_type": "display_data"
    }
   ],
   "source": [
    "fig = px.box(df, x=\"DailyRate\", title=\"Box plot of DailyRate\")\n",
    "fig.update_layout(xaxis_title=\"DailyRate\", height=300)\n",
    "fig.show()"
   ]
  },
  {
   "cell_type": "markdown",
   "metadata": {},
   "source": [
    "### Department\n",
    "The department the employee works in. **Categorical**"
   ]
  },
  {
   "cell_type": "code",
   "execution_count": 362,
   "metadata": {},
   "outputs": [
    {
     "data": {
      "application/vnd.plotly.v1+json": {
       "config": {
        "plotlyServerURL": "https://plot.ly"
       },
       "data": [
        {
         "coloraxis": "coloraxis",
         "hovertemplate": "Attrition=%{x}<br>Department=%{y}<br>count=%{z}<extra></extra>",
         "name": "",
         "type": "histogram2d",
         "x": [
          "Yes",
          "No",
          "Yes",
          "No",
          "No",
          "No",
          "No",
          "No",
          "No",
          "No",
          "No",
          "No",
          "No",
          "No",
          "Yes",
          "No",
          "No",
          "No",
          "No",
          "No",
          "No",
          "Yes",
          "No",
          "No",
          "Yes",
          "No",
          "Yes",
          "No",
          "No",
          "No",
          "No",
          "No",
          "No",
          "Yes",
          "Yes",
          "No",
          "Yes",
          "No",
          "No",
          "No",
          "No",
          "No",
          "Yes",
          "No",
          "No",
          "Yes",
          "No",
          "No",
          "No",
          "No",
          "Yes",
          "Yes",
          "No",
          "No",
          "No",
          "No",
          "No",
          "No",
          "No",
          "No",
          "No",
          "No",
          "No",
          "No",
          "No",
          "No",
          "No",
          "No",
          "No",
          "Yes",
          "No",
          "No",
          "No",
          "No",
          "No",
          "No",
          "No",
          "No",
          "No",
          "No",
          "No",
          "No",
          "No",
          "No",
          "No",
          "No",
          "No",
          "No",
          "No",
          "Yes",
          "No",
          "No",
          "No",
          "No",
          "No",
          "No",
          "No",
          "No",
          "No",
          "No",
          "Yes",
          "No",
          "Yes",
          "No",
          "No",
          "No",
          "No",
          "Yes",
          "No",
          "No",
          "No",
          "Yes",
          "No",
          "No",
          "No",
          "No",
          "No",
          "No",
          "No",
          "No",
          "No",
          "No",
          "Yes",
          "No",
          "Yes",
          "No",
          "Yes",
          "Yes",
          "No",
          "No",
          "No",
          "No",
          "Yes",
          "No",
          "No",
          "No",
          "Yes",
          "No",
          "No",
          "No",
          "Yes",
          "No",
          "No",
          "No",
          "No",
          "No",
          "No",
          "No",
          "No",
          "No",
          "No",
          "No",
          "No",
          "No",
          "No",
          "No",
          "No",
          "No",
          "No",
          "No",
          "No",
          "No",
          "No",
          "No",
          "No",
          "No",
          "No",
          "No",
          "No",
          "No",
          "No",
          "Yes",
          "No",
          "No",
          "No",
          "No",
          "No",
          "Yes",
          "No",
          "No",
          "No",
          "No",
          "Yes",
          "No",
          "No",
          "No",
          "No",
          "No",
          "No",
          "No",
          "No",
          "No",
          "Yes",
          "No",
          "No",
          "No",
          "No",
          "No",
          "No",
          "No",
          "No",
          "No",
          "No",
          "No",
          "Yes",
          "Yes",
          "No",
          "No",
          "No",
          "No",
          "Yes",
          "No",
          "No",
          "No",
          "Yes",
          "No",
          "Yes",
          "Yes",
          "No",
          "No",
          "No",
          "No",
          "No",
          "No",
          "No",
          "No",
          "No",
          "No",
          "No",
          "Yes",
          "No",
          "No",
          "No",
          "No",
          "Yes",
          "No",
          "Yes",
          "No",
          "No",
          "Yes",
          "No",
          "No",
          "No",
          "No",
          "No",
          "No",
          "No",
          "No",
          "No",
          "No",
          "Yes",
          "No",
          "No",
          "No",
          "No",
          "No",
          "No",
          "No",
          "No",
          "Yes",
          "No",
          "No",
          "No",
          "No",
          "Yes",
          "No",
          "No",
          "No",
          "No",
          "No",
          "No",
          "Yes",
          "No",
          "No",
          "No",
          "No",
          "No",
          "No",
          "No",
          "No",
          "No",
          "No",
          "No",
          "No",
          "No",
          "No",
          "Yes",
          "No",
          "Yes",
          "No",
          "No",
          "No",
          "No",
          "Yes",
          "No",
          "No",
          "Yes",
          "No",
          "No",
          "No",
          "No",
          "No",
          "No",
          "No",
          "No",
          "No",
          "No",
          "No",
          "No",
          "No",
          "No",
          "No",
          "No",
          "No",
          "No",
          "No",
          "No",
          "Yes",
          "No",
          "No",
          "No",
          "No",
          "No",
          "Yes",
          "No",
          "No",
          "No",
          "Yes",
          "No",
          "No",
          "No",
          "No",
          "No",
          "No",
          "No",
          "No",
          "Yes",
          "No",
          "No",
          "No",
          "No",
          "No",
          "No",
          "No",
          "No",
          "No",
          "No",
          "No",
          "No",
          "No",
          "No",
          "No",
          "No",
          "No",
          "No",
          "No",
          "No",
          "Yes",
          "No",
          "No",
          "No",
          "No",
          "No",
          "Yes",
          "No",
          "No",
          "Yes",
          "No",
          "Yes",
          "No",
          "Yes",
          "No",
          "No",
          "No",
          "No",
          "No",
          "No",
          "No",
          "Yes",
          "No",
          "No",
          "No",
          "Yes",
          "No",
          "No",
          "Yes",
          "No",
          "No",
          "No",
          "No",
          "No",
          "No",
          "No",
          "No",
          "No",
          "No",
          "No",
          "No",
          "No",
          "No",
          "No",
          "No",
          "No",
          "No",
          "No",
          "Yes",
          "No",
          "No",
          "No",
          "No",
          "No",
          "No",
          "No",
          "No",
          "Yes",
          "Yes",
          "No",
          "No",
          "No",
          "No",
          "No",
          "Yes",
          "Yes",
          "No",
          "No",
          "No",
          "No",
          "No",
          "No",
          "No",
          "No",
          "No",
          "No",
          "No",
          "No",
          "Yes",
          "Yes",
          "No",
          "No",
          "Yes",
          "Yes",
          "No",
          "No",
          "Yes",
          "No",
          "No",
          "No",
          "No",
          "No",
          "No",
          "No",
          "No",
          "No",
          "Yes",
          "No",
          "No",
          "No",
          "Yes",
          "No",
          "No",
          "No",
          "No",
          "No",
          "Yes",
          "No",
          "No",
          "No",
          "No",
          "No",
          "Yes",
          "No",
          "No",
          "No",
          "No",
          "No",
          "No",
          "No",
          "No",
          "No",
          "Yes",
          "Yes",
          "No",
          "Yes",
          "No",
          "No",
          "No",
          "No",
          "No",
          "No",
          "No",
          "No",
          "No",
          "No",
          "No",
          "No",
          "Yes",
          "No",
          "No",
          "No",
          "No",
          "No",
          "No",
          "No",
          "No",
          "Yes",
          "No",
          "No",
          "No",
          "No",
          "No",
          "No",
          "No",
          "No",
          "Yes",
          "Yes",
          "No",
          "No",
          "No",
          "No",
          "No",
          "No",
          "No",
          "No",
          "No",
          "No",
          "Yes",
          "No",
          "No",
          "Yes",
          "No",
          "No",
          "No",
          "No",
          "No",
          "No",
          "No",
          "No",
          "No",
          "No",
          "No",
          "Yes",
          "No",
          "No",
          "No",
          "No",
          "No",
          "No",
          "Yes",
          "No",
          "No",
          "No",
          "No",
          "No",
          "No",
          "No",
          "No",
          "No",
          "No",
          "No",
          "No",
          "No",
          "No",
          "Yes",
          "No",
          "No",
          "No",
          "Yes",
          "No",
          "Yes",
          "No",
          "No",
          "No",
          "No",
          "Yes",
          "No",
          "No",
          "No",
          "No",
          "No",
          "No",
          "No",
          "No",
          "No",
          "No",
          "No",
          "Yes",
          "No",
          "No",
          "No",
          "Yes",
          "No",
          "Yes",
          "No",
          "No",
          "No",
          "Yes",
          "No",
          "No",
          "Yes",
          "No",
          "No",
          "No",
          "No",
          "No",
          "No",
          "No",
          "No",
          "Yes",
          "Yes",
          "No",
          "No",
          "No",
          "No",
          "No",
          "Yes",
          "No",
          "No",
          "No",
          "No",
          "No",
          "No",
          "No",
          "No",
          "No",
          "No",
          "No",
          "No",
          "No",
          "No",
          "No",
          "No",
          "No",
          "No",
          "No",
          "No",
          "No",
          "Yes",
          "No",
          "No",
          "No",
          "No",
          "No",
          "No",
          "No",
          "No",
          "Yes",
          "No",
          "No",
          "No",
          "No",
          "No",
          "No",
          "No",
          "No",
          "No",
          "No",
          "Yes",
          "No",
          "No",
          "No",
          "Yes",
          "No",
          "Yes",
          "Yes",
          "No",
          "No",
          "Yes",
          "Yes",
          "No",
          "Yes",
          "No",
          "No",
          "No",
          "No",
          "No",
          "No",
          "No",
          "No",
          "No",
          "No",
          "No",
          "No",
          "No",
          "Yes",
          "No",
          "No",
          "No",
          "No",
          "Yes",
          "Yes",
          "No",
          "No",
          "No",
          "Yes",
          "No",
          "Yes",
          "No",
          "No",
          "No",
          "No",
          "Yes",
          "No",
          "No",
          "No",
          "No",
          "No",
          "Yes",
          "No",
          "No",
          "Yes",
          "No",
          "Yes",
          "No",
          "No",
          "No",
          "No",
          "No",
          "No",
          "No",
          "No",
          "Yes",
          "No",
          "No",
          "No",
          "No",
          "Yes",
          "No",
          "No",
          "No",
          "No",
          "No",
          "Yes",
          "Yes",
          "No",
          "No",
          "No",
          "No",
          "No",
          "No",
          "No",
          "No",
          "No",
          "No",
          "No",
          "Yes",
          "No",
          "No",
          "No",
          "Yes",
          "Yes",
          "No",
          "No",
          "Yes",
          "No",
          "No",
          "No",
          "No",
          "No",
          "No",
          "No",
          "No",
          "Yes",
          "Yes",
          "No",
          "No",
          "No",
          "No",
          "No",
          "No",
          "No",
          "No",
          "No",
          "No",
          "No",
          "No",
          "No",
          "Yes",
          "Yes",
          "No",
          "Yes",
          "Yes",
          "No",
          "No",
          "No",
          "No",
          "No",
          "No",
          "No",
          "No",
          "Yes",
          "No",
          "Yes",
          "Yes",
          "No",
          "No",
          "No",
          "Yes",
          "Yes",
          "Yes",
          "No",
          "Yes",
          "Yes",
          "No",
          "No",
          "No",
          "No",
          "No",
          "No",
          "No",
          "No",
          "No",
          "No",
          "No",
          "Yes",
          "No",
          "No",
          "No",
          "No",
          "No",
          "No",
          "No",
          "No",
          "No",
          "No",
          "No",
          "No",
          "No",
          "No",
          "Yes",
          "Yes",
          "No",
          "Yes",
          "No",
          "No",
          "No",
          "No",
          "Yes",
          "No",
          "Yes",
          "No",
          "No",
          "No",
          "Yes",
          "No",
          "No",
          "No",
          "No",
          "No",
          "No",
          "Yes",
          "No",
          "No",
          "No",
          "No",
          "No",
          "No",
          "No",
          "Yes",
          "No",
          "No",
          "Yes",
          "No",
          "No",
          "No",
          "Yes",
          "No",
          "No",
          "No",
          "No",
          "No",
          "No",
          "Yes",
          "No",
          "No",
          "No",
          "No",
          "No",
          "No",
          "No",
          "No",
          "No",
          "No",
          "No",
          "No",
          "No",
          "No",
          "No",
          "No",
          "No",
          "No",
          "No",
          "No",
          "Yes",
          "No",
          "No",
          "No",
          "No",
          "No",
          "No",
          "No",
          "No",
          "No",
          "No",
          "No",
          "No",
          "No",
          "No",
          "No",
          "No",
          "No",
          "No",
          "Yes",
          "No",
          "Yes",
          "No",
          "Yes",
          "No",
          "No",
          "No",
          "No",
          "No",
          "No",
          "No",
          "No",
          "No",
          "No",
          "No",
          "No",
          "Yes",
          "No",
          "No",
          "No",
          "Yes",
          "No",
          "No",
          "No",
          "No",
          "No",
          "No",
          "Yes",
          "Yes",
          "No",
          "No",
          "No",
          "No",
          "No",
          "Yes",
          "Yes",
          "No",
          "No",
          "No",
          "No",
          "Yes",
          "Yes",
          "No",
          "No",
          "No",
          "No",
          "No",
          "No",
          "No",
          "No",
          "No",
          "No",
          "No",
          "No",
          "Yes",
          "No",
          "No",
          "No",
          "No",
          "No",
          "No",
          "No",
          "No",
          "Yes",
          "No",
          "No",
          "No",
          "No",
          "Yes",
          "Yes",
          "No",
          "No",
          "No",
          "Yes",
          "No",
          "No",
          "No",
          "No",
          "No",
          "No",
          "No",
          "No",
          "No",
          "No",
          "No",
          "Yes",
          "No",
          "No",
          "No",
          "No",
          "No",
          "No",
          "No",
          "No",
          "Yes",
          "Yes",
          "No",
          "No",
          "No",
          "No",
          "Yes",
          "No",
          "No",
          "No",
          "Yes",
          "No",
          "No",
          "No",
          "No",
          "Yes",
          "No",
          "No",
          "No",
          "No",
          "No",
          "No",
          "No",
          "No",
          "No",
          "Yes",
          "Yes",
          "Yes",
          "No",
          "No",
          "Yes",
          "No",
          "No",
          "Yes",
          "No",
          "No",
          "No",
          "No",
          "No",
          "No",
          "No",
          "No",
          "No",
          "No",
          "No",
          "No",
          "No",
          "No",
          "No",
          "No",
          "Yes",
          "Yes",
          "Yes",
          "No",
          "Yes",
          "No",
          "No",
          "No",
          "No",
          "No",
          "No",
          "No",
          "Yes",
          "No",
          "No",
          "No",
          "No",
          "No",
          "No",
          "No",
          "No",
          "Yes",
          "No",
          "No",
          "No",
          "No",
          "No",
          "Yes",
          "No",
          "Yes",
          "No",
          "No",
          "No",
          "No",
          "No",
          "No",
          "No",
          "No",
          "No",
          "No",
          "No",
          "No",
          "No",
          "No",
          "No",
          "No",
          "No",
          "No",
          "No",
          "No",
          "Yes",
          "No",
          "No",
          "No",
          "Yes",
          "Yes",
          "Yes",
          "No",
          "No",
          "No",
          "No",
          "No",
          "No",
          "No",
          "No",
          "No",
          "No",
          "No",
          "No",
          "No",
          "No",
          "No",
          "No",
          "No",
          "No",
          "No",
          "No",
          "No",
          "No",
          "No",
          "Yes",
          "No",
          "No",
          "No",
          "No",
          "No",
          "No",
          "No",
          "No",
          "No",
          "No",
          "No",
          "No",
          "No",
          "No",
          "No",
          "No",
          "Yes",
          "No",
          "No",
          "No",
          "No",
          "No",
          "No",
          "No",
          "No",
          "Yes",
          "No",
          "No",
          "No",
          "No",
          "Yes",
          "No",
          "No",
          "No",
          "Yes",
          "No",
          "No",
          "No",
          "No",
          "No",
          "No",
          "No",
          "No",
          "No",
          "No",
          "No",
          "No",
          "No",
          "No",
          "Yes",
          "No",
          "No",
          "No",
          "No",
          "No",
          "No",
          "No",
          "No",
          "No",
          "No",
          "No",
          "No",
          "No",
          "No",
          "Yes",
          "No",
          "No",
          "Yes",
          "Yes",
          "No",
          "No",
          "No",
          "No",
          "No",
          "No",
          "No",
          "Yes",
          "No",
          "No",
          "No",
          "No",
          "No",
          "No",
          "No",
          "No",
          "Yes",
          "Yes",
          "No",
          "No",
          "No",
          "No",
          "No",
          "No",
          "No",
          "No",
          "No",
          "No",
          "No",
          "No",
          "Yes",
          "Yes",
          "No",
          "No",
          "No",
          "No",
          "No",
          "No",
          "No",
          "No",
          "Yes",
          "No",
          "No",
          "Yes",
          "No",
          "No",
          "No",
          "No",
          "No",
          "Yes",
          "No",
          "Yes",
          "No",
          "No",
          "No",
          "No",
          "Yes",
          "No",
          "No",
          "No",
          "No",
          "No",
          "No",
          "No",
          "No",
          "Yes",
          "No",
          "Yes",
          "No",
          "No",
          "No",
          "No",
          "No",
          "Yes",
          "No",
          "Yes",
          "No",
          "No",
          "No",
          "No",
          "No",
          "No",
          "No",
          "No",
          "Yes",
          "Yes",
          "No",
          "No",
          "No",
          "No",
          "No",
          "Yes",
          "Yes",
          "No",
          "No",
          "No",
          "No",
          "No",
          "No",
          "No",
          "No",
          "No",
          "No",
          "No",
          "No",
          "No",
          "Yes",
          "Yes",
          "No",
          "No",
          "No",
          "No",
          "No",
          "No",
          "No",
          "No",
          "No",
          "No",
          "No",
          "No",
          "Yes",
          "No",
          "No",
          "No",
          "No",
          "No",
          "Yes",
          "Yes",
          "No",
          "No",
          "No",
          "No",
          "Yes",
          "Yes",
          "No",
          "No",
          "No",
          "No",
          "No",
          "No",
          "No",
          "No",
          "No",
          "No",
          "No",
          "No",
          "No",
          "Yes",
          "Yes",
          "No",
          "No",
          "No",
          "No",
          "No",
          "No",
          "No",
          "No",
          "No",
          "No",
          "Yes",
          "No",
          "No",
          "No",
          "Yes",
          "No",
          "No",
          "No",
          "No",
          "No",
          "Yes",
          "No",
          "No",
          "No",
          "Yes",
          "No",
          "No",
          "No",
          "No",
          "No",
          "No",
          "No",
          "No",
          "No",
          "No",
          "Yes",
          "No",
          "No",
          "No",
          "No",
          "Yes",
          "Yes",
          "No",
          "No",
          "No",
          "No",
          "No",
          "No",
          "No",
          "No",
          "No",
          "No",
          "No",
          "No",
          "No",
          "No",
          "No",
          "No",
          "No",
          "No",
          "No",
          "No",
          "No",
          "No",
          "No",
          "No",
          "No",
          "No",
          "No",
          "No",
          "No",
          "No",
          "No",
          "No",
          "No",
          "No",
          "No",
          "No",
          "No",
          "No",
          "No",
          "No",
          "No",
          "Yes",
          "No",
          "No",
          "No",
          "Yes",
          "No",
          "Yes",
          "No",
          "No",
          "No",
          "No",
          "No",
          "No",
          "No",
          "Yes",
          "No",
          "No",
          "No",
          "No",
          "No",
          "No",
          "No",
          "No",
          "Yes",
          "No",
          "No",
          "No",
          "No",
          "No",
          "No",
          "No",
          "No"
         ],
         "xaxis": "x",
         "xbingroup": "x",
         "y": [
          "Sales",
          "Research & Development",
          "Research & Development",
          "Research & Development",
          "Research & Development",
          "Research & Development",
          "Research & Development",
          "Research & Development",
          "Research & Development",
          "Research & Development",
          "Research & Development",
          "Research & Development",
          "Research & Development",
          "Research & Development",
          "Research & Development",
          "Research & Development",
          "Research & Development",
          "Research & Development",
          "Sales",
          "Research & Development",
          "Research & Development",
          "Sales",
          "Research & Development",
          "Research & Development",
          "Research & Development",
          "Research & Development",
          "Research & Development",
          "Sales",
          "Research & Development",
          "Sales",
          "Research & Development",
          "Research & Development",
          "Research & Development",
          "Sales",
          "Research & Development",
          "Research & Development",
          "Sales",
          "Sales",
          "Research & Development",
          "Sales",
          "Research & Development",
          "Research & Development",
          "Research & Development",
          "Sales",
          "Research & Development",
          "Research & Development",
          "Sales",
          "Research & Development",
          "Sales",
          "Research & Development",
          "Research & Development",
          "Research & Development",
          "Sales",
          "Research & Development",
          "Sales",
          "Research & Development",
          "Sales",
          "Research & Development",
          "Research & Development",
          "Research & Development",
          "Research & Development",
          "Research & Development",
          "Research & Development",
          "Sales",
          "Research & Development",
          "Research & Development",
          "Research & Development",
          "Research & Development",
          "Research & Development",
          "Research & Development",
          "Sales",
          "Research & Development",
          "Research & Development",
          "Research & Development",
          "Research & Development",
          "Research & Development",
          "Sales",
          "Research & Development",
          "Research & Development",
          "Human Resources",
          "Research & Development",
          "Research & Development",
          "Sales",
          "Research & Development",
          "Research & Development",
          "Research & Development",
          "Sales",
          "Research & Development",
          "Research & Development",
          "Sales",
          "Research & Development",
          "Sales",
          "Sales",
          "Research & Development",
          "Sales",
          "Research & Development",
          "Sales",
          "Sales",
          "Sales",
          "Research & Development",
          "Human Resources",
          "Research & Development",
          "Research & Development",
          "Research & Development",
          "Research & Development",
          "Human Resources",
          "Research & Development",
          "Sales",
          "Research & Development",
          "Research & Development",
          "Research & Development",
          "Research & Development",
          "Human Resources",
          "Research & Development",
          "Research & Development",
          "Sales",
          "Research & Development",
          "Sales",
          "Research & Development",
          "Sales",
          "Research & Development",
          "Sales",
          "Research & Development",
          "Research & Development",
          "Sales",
          "Research & Development",
          "Research & Development",
          "Sales",
          "Research & Development",
          "Research & Development",
          "Research & Development",
          "Sales",
          "Sales",
          "Sales",
          "Human Resources",
          "Research & Development",
          "Research & Development",
          "Sales",
          "Sales",
          "Human Resources",
          "Research & Development",
          "Research & Development",
          "Research & Development",
          "Research & Development",
          "Sales",
          "Research & Development",
          "Research & Development",
          "Research & Development",
          "Research & Development",
          "Research & Development",
          "Research & Development",
          "Sales",
          "Sales",
          "Research & Development",
          "Sales",
          "Research & Development",
          "Research & Development",
          "Research & Development",
          "Sales",
          "Sales",
          "Research & Development",
          "Research & Development",
          "Research & Development",
          "Research & Development",
          "Research & Development",
          "Research & Development",
          "Research & Development",
          "Sales",
          "Sales",
          "Research & Development",
          "Research & Development",
          "Sales",
          "Research & Development",
          "Research & Development",
          "Sales",
          "Research & Development",
          "Research & Development",
          "Research & Development",
          "Sales",
          "Research & Development",
          "Research & Development",
          "Research & Development",
          "Sales",
          "Research & Development",
          "Research & Development",
          "Research & Development",
          "Research & Development",
          "Research & Development",
          "Research & Development",
          "Research & Development",
          "Research & Development",
          "Research & Development",
          "Research & Development",
          "Research & Development",
          "Research & Development",
          "Research & Development",
          "Research & Development",
          "Research & Development",
          "Research & Development",
          "Research & Development",
          "Research & Development",
          "Research & Development",
          "Research & Development",
          "Research & Development",
          "Research & Development",
          "Sales",
          "Research & Development",
          "Research & Development",
          "Research & Development",
          "Research & Development",
          "Sales",
          "Research & Development",
          "Sales",
          "Research & Development",
          "Research & Development",
          "Sales",
          "Sales",
          "Research & Development",
          "Sales",
          "Sales",
          "Research & Development",
          "Research & Development",
          "Research & Development",
          "Sales",
          "Research & Development",
          "Research & Development",
          "Sales",
          "Sales",
          "Sales",
          "Research & Development",
          "Research & Development",
          "Research & Development",
          "Human Resources",
          "Sales",
          "Research & Development",
          "Sales",
          "Research & Development",
          "Sales",
          "Sales",
          "Research & Development",
          "Research & Development",
          "Sales",
          "Research & Development",
          "Research & Development",
          "Research & Development",
          "Research & Development",
          "Research & Development",
          "Research & Development",
          "Research & Development",
          "Research & Development",
          "Research & Development",
          "Research & Development",
          "Research & Development",
          "Research & Development",
          "Sales",
          "Research & Development",
          "Research & Development",
          "Research & Development",
          "Research & Development",
          "Research & Development",
          "Research & Development",
          "Sales",
          "Research & Development",
          "Sales",
          "Research & Development",
          "Sales",
          "Research & Development",
          "Research & Development",
          "Research & Development",
          "Research & Development",
          "Research & Development",
          "Research & Development",
          "Research & Development",
          "Sales",
          "Research & Development",
          "Research & Development",
          "Research & Development",
          "Sales",
          "Research & Development",
          "Research & Development",
          "Research & Development",
          "Sales",
          "Sales",
          "Research & Development",
          "Research & Development",
          "Research & Development",
          "Research & Development",
          "Research & Development",
          "Research & Development",
          "Research & Development",
          "Research & Development",
          "Research & Development",
          "Sales",
          "Sales",
          "Research & Development",
          "Sales",
          "Research & Development",
          "Sales",
          "Research & Development",
          "Research & Development",
          "Sales",
          "Sales",
          "Research & Development",
          "Sales",
          "Research & Development",
          "Research & Development",
          "Sales",
          "Research & Development",
          "Research & Development",
          "Research & Development",
          "Human Resources",
          "Research & Development",
          "Research & Development",
          "Research & Development",
          "Research & Development",
          "Research & Development",
          "Research & Development",
          "Research & Development",
          "Research & Development",
          "Sales",
          "Sales",
          "Sales",
          "Research & Development",
          "Research & Development",
          "Research & Development",
          "Research & Development",
          "Research & Development",
          "Sales",
          "Sales",
          "Research & Development",
          "Research & Development",
          "Sales",
          "Research & Development",
          "Research & Development",
          "Research & Development",
          "Sales",
          "Research & Development",
          "Research & Development",
          "Sales",
          "Sales",
          "Research & Development",
          "Research & Development",
          "Research & Development",
          "Sales",
          "Research & Development",
          "Research & Development",
          "Research & Development",
          "Sales",
          "Research & Development",
          "Sales",
          "Human Resources",
          "Research & Development",
          "Sales",
          "Research & Development",
          "Sales",
          "Sales",
          "Research & Development",
          "Sales",
          "Sales",
          "Sales",
          "Research & Development",
          "Research & Development",
          "Sales",
          "Sales",
          "Research & Development",
          "Research & Development",
          "Sales",
          "Research & Development",
          "Sales",
          "Research & Development",
          "Sales",
          "Research & Development",
          "Research & Development",
          "Research & Development",
          "Sales",
          "Research & Development",
          "Sales",
          "Research & Development",
          "Sales",
          "Research & Development",
          "Sales",
          "Sales",
          "Research & Development",
          "Research & Development",
          "Sales",
          "Research & Development",
          "Research & Development",
          "Sales",
          "Research & Development",
          "Research & Development",
          "Research & Development",
          "Research & Development",
          "Research & Development",
          "Sales",
          "Research & Development",
          "Research & Development",
          "Research & Development",
          "Sales",
          "Research & Development",
          "Research & Development",
          "Research & Development",
          "Sales",
          "Sales",
          "Sales",
          "Research & Development",
          "Research & Development",
          "Research & Development",
          "Research & Development",
          "Research & Development",
          "Research & Development",
          "Research & Development",
          "Research & Development",
          "Research & Development",
          "Research & Development",
          "Sales",
          "Sales",
          "Research & Development",
          "Sales",
          "Research & Development",
          "Research & Development",
          "Research & Development",
          "Research & Development",
          "Human Resources",
          "Sales",
          "Sales",
          "Research & Development",
          "Research & Development",
          "Sales",
          "Research & Development",
          "Research & Development",
          "Research & Development",
          "Research & Development",
          "Research & Development",
          "Sales",
          "Research & Development",
          "Research & Development",
          "Research & Development",
          "Sales",
          "Research & Development",
          "Research & Development",
          "Human Resources",
          "Research & Development",
          "Sales",
          "Research & Development",
          "Sales",
          "Sales",
          "Sales",
          "Sales",
          "Research & Development",
          "Research & Development",
          "Sales",
          "Research & Development",
          "Sales",
          "Human Resources",
          "Research & Development",
          "Research & Development",
          "Sales",
          "Sales",
          "Sales",
          "Research & Development",
          "Sales",
          "Sales",
          "Sales",
          "Research & Development",
          "Research & Development",
          "Research & Development",
          "Sales",
          "Sales",
          "Research & Development",
          "Sales",
          "Sales",
          "Research & Development",
          "Research & Development",
          "Research & Development",
          "Research & Development",
          "Sales",
          "Research & Development",
          "Human Resources",
          "Sales",
          "Research & Development",
          "Sales",
          "Research & Development",
          "Sales",
          "Research & Development",
          "Sales",
          "Research & Development",
          "Sales",
          "Research & Development",
          "Research & Development",
          "Research & Development",
          "Research & Development",
          "Research & Development",
          "Research & Development",
          "Human Resources",
          "Sales",
          "Sales",
          "Sales",
          "Research & Development",
          "Research & Development",
          "Sales",
          "Research & Development",
          "Research & Development",
          "Sales",
          "Research & Development",
          "Sales",
          "Research & Development",
          "Research & Development",
          "Sales",
          "Research & Development",
          "Research & Development",
          "Human Resources",
          "Research & Development",
          "Research & Development",
          "Research & Development",
          "Research & Development",
          "Research & Development",
          "Research & Development",
          "Sales",
          "Sales",
          "Research & Development",
          "Sales",
          "Sales",
          "Research & Development",
          "Research & Development",
          "Research & Development",
          "Sales",
          "Research & Development",
          "Sales",
          "Sales",
          "Research & Development",
          "Research & Development",
          "Research & Development",
          "Sales",
          "Sales",
          "Research & Development",
          "Human Resources",
          "Sales",
          "Research & Development",
          "Human Resources",
          "Sales",
          "Research & Development",
          "Research & Development",
          "Research & Development",
          "Research & Development",
          "Sales",
          "Sales",
          "Sales",
          "Research & Development",
          "Sales",
          "Research & Development",
          "Research & Development",
          "Human Resources",
          "Research & Development",
          "Research & Development",
          "Research & Development",
          "Sales",
          "Research & Development",
          "Research & Development",
          "Research & Development",
          "Research & Development",
          "Research & Development",
          "Sales",
          "Research & Development",
          "Sales",
          "Sales",
          "Research & Development",
          "Sales",
          "Sales",
          "Research & Development",
          "Sales",
          "Research & Development",
          "Research & Development",
          "Research & Development",
          "Sales",
          "Research & Development",
          "Research & Development",
          "Sales",
          "Research & Development",
          "Research & Development",
          "Research & Development",
          "Sales",
          "Research & Development",
          "Research & Development",
          "Sales",
          "Research & Development",
          "Research & Development",
          "Research & Development",
          "Research & Development",
          "Research & Development",
          "Research & Development",
          "Research & Development",
          "Sales",
          "Research & Development",
          "Research & Development",
          "Research & Development",
          "Research & Development",
          "Research & Development",
          "Research & Development",
          "Research & Development",
          "Human Resources",
          "Research & Development",
          "Research & Development",
          "Research & Development",
          "Research & Development",
          "Research & Development",
          "Research & Development",
          "Research & Development",
          "Sales",
          "Sales",
          "Research & Development",
          "Research & Development",
          "Research & Development",
          "Sales",
          "Human Resources",
          "Research & Development",
          "Research & Development",
          "Sales",
          "Research & Development",
          "Research & Development",
          "Sales",
          "Research & Development",
          "Sales",
          "Sales",
          "Research & Development",
          "Sales",
          "Sales",
          "Research & Development",
          "Research & Development",
          "Sales",
          "Human Resources",
          "Research & Development",
          "Research & Development",
          "Research & Development",
          "Human Resources",
          "Sales",
          "Research & Development",
          "Research & Development",
          "Research & Development",
          "Sales",
          "Research & Development",
          "Research & Development",
          "Sales",
          "Sales",
          "Research & Development",
          "Research & Development",
          "Sales",
          "Sales",
          "Research & Development",
          "Sales",
          "Research & Development",
          "Research & Development",
          "Sales",
          "Sales",
          "Research & Development",
          "Human Resources",
          "Human Resources",
          "Research & Development",
          "Research & Development",
          "Research & Development",
          "Sales",
          "Research & Development",
          "Research & Development",
          "Sales",
          "Research & Development",
          "Research & Development",
          "Sales",
          "Research & Development",
          "Research & Development",
          "Research & Development",
          "Research & Development",
          "Research & Development",
          "Research & Development",
          "Sales",
          "Research & Development",
          "Research & Development",
          "Sales",
          "Research & Development",
          "Research & Development",
          "Research & Development",
          "Sales",
          "Research & Development",
          "Research & Development",
          "Research & Development",
          "Sales",
          "Sales",
          "Sales",
          "Research & Development",
          "Research & Development",
          "Sales",
          "Research & Development",
          "Research & Development",
          "Research & Development",
          "Research & Development",
          "Sales",
          "Research & Development",
          "Sales",
          "Research & Development",
          "Sales",
          "Sales",
          "Research & Development",
          "Research & Development",
          "Sales",
          "Sales",
          "Sales",
          "Sales",
          "Sales",
          "Sales",
          "Research & Development",
          "Sales",
          "Research & Development",
          "Sales",
          "Research & Development",
          "Research & Development",
          "Research & Development",
          "Research & Development",
          "Research & Development",
          "Research & Development",
          "Research & Development",
          "Research & Development",
          "Sales",
          "Research & Development",
          "Research & Development",
          "Research & Development",
          "Research & Development",
          "Research & Development",
          "Research & Development",
          "Research & Development",
          "Research & Development",
          "Research & Development",
          "Research & Development",
          "Research & Development",
          "Research & Development",
          "Research & Development",
          "Research & Development",
          "Research & Development",
          "Research & Development",
          "Research & Development",
          "Research & Development",
          "Research & Development",
          "Research & Development",
          "Research & Development",
          "Sales",
          "Research & Development",
          "Research & Development",
          "Research & Development",
          "Research & Development",
          "Research & Development",
          "Sales",
          "Sales",
          "Sales",
          "Sales",
          "Sales",
          "Research & Development",
          "Research & Development",
          "Sales",
          "Sales",
          "Research & Development",
          "Sales",
          "Sales",
          "Human Resources",
          "Sales",
          "Research & Development",
          "Research & Development",
          "Sales",
          "Sales",
          "Research & Development",
          "Research & Development",
          "Research & Development",
          "Sales",
          "Research & Development",
          "Research & Development",
          "Sales",
          "Research & Development",
          "Research & Development",
          "Research & Development",
          "Sales",
          "Sales",
          "Research & Development",
          "Research & Development",
          "Research & Development",
          "Research & Development",
          "Research & Development",
          "Research & Development",
          "Research & Development",
          "Research & Development",
          "Research & Development",
          "Research & Development",
          "Research & Development",
          "Research & Development",
          "Human Resources",
          "Research & Development",
          "Sales",
          "Research & Development",
          "Research & Development",
          "Research & Development",
          "Sales",
          "Research & Development",
          "Research & Development",
          "Research & Development",
          "Research & Development",
          "Research & Development",
          "Sales",
          "Sales",
          "Research & Development",
          "Research & Development",
          "Sales",
          "Research & Development",
          "Sales",
          "Research & Development",
          "Research & Development",
          "Sales",
          "Sales",
          "Research & Development",
          "Research & Development",
          "Research & Development",
          "Research & Development",
          "Research & Development",
          "Research & Development",
          "Sales",
          "Research & Development",
          "Sales",
          "Sales",
          "Research & Development",
          "Research & Development",
          "Research & Development",
          "Research & Development",
          "Human Resources",
          "Research & Development",
          "Research & Development",
          "Sales",
          "Research & Development",
          "Research & Development",
          "Research & Development",
          "Research & Development",
          "Sales",
          "Human Resources",
          "Sales",
          "Research & Development",
          "Sales",
          "Sales",
          "Research & Development",
          "Research & Development",
          "Research & Development",
          "Research & Development",
          "Sales",
          "Research & Development",
          "Research & Development",
          "Research & Development",
          "Research & Development",
          "Sales",
          "Sales",
          "Research & Development",
          "Research & Development",
          "Research & Development",
          "Research & Development",
          "Research & Development",
          "Research & Development",
          "Research & Development",
          "Research & Development",
          "Research & Development",
          "Research & Development",
          "Sales",
          "Research & Development",
          "Human Resources",
          "Research & Development",
          "Sales",
          "Sales",
          "Research & Development",
          "Research & Development",
          "Research & Development",
          "Sales",
          "Research & Development",
          "Sales",
          "Research & Development",
          "Research & Development",
          "Research & Development",
          "Sales",
          "Research & Development",
          "Human Resources",
          "Sales",
          "Research & Development",
          "Research & Development",
          "Research & Development",
          "Research & Development",
          "Sales",
          "Sales",
          "Research & Development",
          "Research & Development",
          "Sales",
          "Research & Development",
          "Research & Development",
          "Research & Development",
          "Research & Development",
          "Research & Development",
          "Research & Development",
          "Research & Development",
          "Research & Development",
          "Sales",
          "Research & Development",
          "Research & Development",
          "Research & Development",
          "Research & Development",
          "Research & Development",
          "Research & Development",
          "Research & Development",
          "Research & Development",
          "Research & Development",
          "Sales",
          "Sales",
          "Research & Development",
          "Research & Development",
          "Sales",
          "Research & Development",
          "Sales",
          "Research & Development",
          "Research & Development",
          "Sales",
          "Sales",
          "Sales",
          "Research & Development",
          "Research & Development",
          "Research & Development",
          "Research & Development",
          "Human Resources",
          "Research & Development",
          "Research & Development",
          "Sales",
          "Research & Development",
          "Research & Development",
          "Research & Development",
          "Research & Development",
          "Research & Development",
          "Research & Development",
          "Research & Development",
          "Research & Development",
          "Sales",
          "Research & Development",
          "Research & Development",
          "Research & Development",
          "Research & Development",
          "Research & Development",
          "Research & Development",
          "Research & Development",
          "Human Resources",
          "Research & Development",
          "Research & Development",
          "Sales",
          "Sales",
          "Research & Development",
          "Research & Development",
          "Sales",
          "Sales",
          "Sales",
          "Research & Development",
          "Research & Development",
          "Research & Development",
          "Human Resources",
          "Research & Development",
          "Research & Development",
          "Research & Development",
          "Sales",
          "Research & Development",
          "Human Resources",
          "Sales",
          "Sales",
          "Research & Development",
          "Research & Development",
          "Research & Development",
          "Sales",
          "Research & Development",
          "Sales",
          "Research & Development",
          "Research & Development",
          "Research & Development",
          "Sales",
          "Sales",
          "Research & Development",
          "Research & Development",
          "Research & Development",
          "Research & Development",
          "Sales",
          "Sales",
          "Research & Development",
          "Research & Development",
          "Sales",
          "Research & Development",
          "Sales",
          "Sales",
          "Research & Development",
          "Research & Development",
          "Sales",
          "Sales",
          "Research & Development",
          "Sales",
          "Research & Development",
          "Research & Development",
          "Sales",
          "Research & Development",
          "Research & Development",
          "Human Resources",
          "Research & Development",
          "Research & Development",
          "Research & Development",
          "Research & Development",
          "Research & Development",
          "Human Resources",
          "Research & Development",
          "Research & Development",
          "Research & Development",
          "Research & Development",
          "Research & Development",
          "Sales",
          "Sales",
          "Sales",
          "Research & Development",
          "Research & Development",
          "Research & Development",
          "Research & Development",
          "Research & Development",
          "Sales",
          "Research & Development",
          "Sales",
          "Research & Development",
          "Research & Development",
          "Research & Development",
          "Sales",
          "Sales",
          "Research & Development",
          "Research & Development",
          "Research & Development",
          "Sales",
          "Sales",
          "Research & Development",
          "Research & Development",
          "Research & Development",
          "Human Resources",
          "Research & Development",
          "Research & Development",
          "Sales",
          "Human Resources",
          "Research & Development",
          "Sales",
          "Research & Development",
          "Research & Development",
          "Research & Development",
          "Research & Development",
          "Research & Development",
          "Sales",
          "Sales",
          "Sales",
          "Research & Development",
          "Sales",
          "Research & Development",
          "Research & Development",
          "Research & Development",
          "Research & Development",
          "Sales",
          "Sales",
          "Sales",
          "Sales",
          "Research & Development",
          "Sales",
          "Research & Development",
          "Sales",
          "Human Resources",
          "Research & Development",
          "Research & Development",
          "Sales",
          "Research & Development",
          "Research & Development",
          "Sales",
          "Research & Development",
          "Research & Development",
          "Research & Development",
          "Research & Development",
          "Research & Development",
          "Research & Development",
          "Research & Development",
          "Research & Development",
          "Research & Development",
          "Sales",
          "Research & Development",
          "Research & Development",
          "Research & Development",
          "Sales",
          "Research & Development",
          "Research & Development",
          "Sales",
          "Research & Development",
          "Research & Development",
          "Research & Development",
          "Research & Development",
          "Research & Development",
          "Research & Development",
          "Sales",
          "Research & Development",
          "Human Resources",
          "Research & Development",
          "Research & Development",
          "Research & Development",
          "Sales",
          "Research & Development",
          "Sales",
          "Sales",
          "Research & Development",
          "Sales",
          "Sales",
          "Human Resources",
          "Research & Development",
          "Sales",
          "Research & Development",
          "Research & Development",
          "Research & Development",
          "Research & Development",
          "Research & Development",
          "Research & Development",
          "Sales",
          "Research & Development",
          "Research & Development",
          "Sales",
          "Sales",
          "Sales",
          "Research & Development",
          "Research & Development",
          "Sales",
          "Research & Development",
          "Sales",
          "Research & Development",
          "Research & Development",
          "Research & Development",
          "Research & Development",
          "Research & Development",
          "Sales",
          "Research & Development",
          "Research & Development",
          "Sales",
          "Research & Development",
          "Research & Development",
          "Research & Development",
          "Research & Development",
          "Research & Development",
          "Research & Development",
          "Research & Development",
          "Sales",
          "Sales",
          "Research & Development",
          "Research & Development",
          "Research & Development",
          "Research & Development",
          "Research & Development",
          "Research & Development",
          "Research & Development",
          "Research & Development",
          "Sales",
          "Human Resources",
          "Research & Development",
          "Research & Development",
          "Research & Development",
          "Research & Development",
          "Research & Development",
          "Research & Development",
          "Research & Development",
          "Sales",
          "Research & Development",
          "Research & Development",
          "Human Resources",
          "Research & Development",
          "Sales",
          "Research & Development",
          "Research & Development",
          "Research & Development",
          "Research & Development",
          "Sales",
          "Research & Development",
          "Research & Development",
          "Research & Development",
          "Research & Development",
          "Research & Development",
          "Sales",
          "Research & Development",
          "Research & Development",
          "Research & Development",
          "Research & Development",
          "Research & Development",
          "Research & Development",
          "Research & Development",
          "Sales",
          "Research & Development",
          "Sales",
          "Sales",
          "Research & Development",
          "Sales",
          "Research & Development",
          "Research & Development",
          "Sales",
          "Research & Development",
          "Sales",
          "Sales",
          "Sales",
          "Research & Development",
          "Human Resources",
          "Research & Development",
          "Research & Development",
          "Research & Development",
          "Sales",
          "Research & Development",
          "Research & Development",
          "Research & Development",
          "Research & Development",
          "Research & Development",
          "Research & Development",
          "Sales",
          "Research & Development",
          "Sales",
          "Research & Development",
          "Research & Development",
          "Sales",
          "Research & Development",
          "Sales",
          "Research & Development",
          "Sales",
          "Research & Development",
          "Human Resources",
          "Sales",
          "Research & Development",
          "Research & Development",
          "Research & Development",
          "Research & Development",
          "Human Resources",
          "Research & Development",
          "Research & Development",
          "Research & Development",
          "Research & Development",
          "Research & Development",
          "Sales",
          "Sales",
          "Sales",
          "Sales",
          "Research & Development",
          "Research & Development",
          "Research & Development",
          "Sales",
          "Sales",
          "Human Resources",
          "Research & Development",
          "Human Resources",
          "Human Resources",
          "Sales",
          "Research & Development",
          "Sales",
          "Research & Development",
          "Sales",
          "Research & Development",
          "Sales",
          "Sales",
          "Sales",
          "Research & Development",
          "Sales",
          "Research & Development",
          "Research & Development",
          "Research & Development",
          "Research & Development",
          "Research & Development",
          "Research & Development",
          "Research & Development",
          "Research & Development",
          "Research & Development",
          "Sales",
          "Research & Development",
          "Human Resources",
          "Sales",
          "Sales",
          "Research & Development",
          "Research & Development",
          "Sales",
          "Research & Development",
          "Sales",
          "Research & Development",
          "Research & Development",
          "Research & Development",
          "Human Resources",
          "Sales",
          "Research & Development",
          "Research & Development",
          "Research & Development",
          "Sales",
          "Research & Development",
          "Research & Development",
          "Research & Development",
          "Human Resources",
          "Research & Development",
          "Research & Development",
          "Sales",
          "Research & Development",
          "Research & Development",
          "Sales",
          "Research & Development",
          "Human Resources",
          "Research & Development",
          "Research & Development",
          "Sales",
          "Sales",
          "Research & Development",
          "Research & Development",
          "Research & Development",
          "Research & Development",
          "Sales",
          "Research & Development",
          "Sales",
          "Sales",
          "Research & Development",
          "Research & Development",
          "Human Resources",
          "Human Resources",
          "Sales",
          "Research & Development",
          "Sales",
          "Research & Development",
          "Research & Development",
          "Sales",
          "Research & Development",
          "Research & Development",
          "Research & Development",
          "Human Resources",
          "Research & Development",
          "Research & Development",
          "Sales",
          "Sales",
          "Sales",
          "Human Resources",
          "Research & Development",
          "Research & Development",
          "Research & Development",
          "Sales",
          "Research & Development",
          "Research & Development",
          "Research & Development",
          "Sales",
          "Sales",
          "Research & Development",
          "Sales",
          "Research & Development",
          "Sales",
          "Research & Development",
          "Research & Development",
          "Research & Development",
          "Research & Development",
          "Human Resources",
          "Research & Development",
          "Research & Development",
          "Sales",
          "Research & Development",
          "Research & Development",
          "Research & Development",
          "Research & Development",
          "Sales",
          "Sales",
          "Research & Development",
          "Sales",
          "Sales",
          "Research & Development",
          "Research & Development",
          "Research & Development",
          "Sales",
          "Sales",
          "Sales",
          "Sales",
          "Research & Development",
          "Research & Development",
          "Sales",
          "Research & Development",
          "Sales",
          "Research & Development",
          "Research & Development",
          "Sales",
          "Research & Development",
          "Research & Development",
          "Research & Development",
          "Sales",
          "Human Resources",
          "Sales",
          "Research & Development",
          "Research & Development",
          "Research & Development",
          "Sales",
          "Sales",
          "Research & Development",
          "Research & Development",
          "Research & Development",
          "Research & Development",
          "Research & Development",
          "Sales",
          "Sales",
          "Sales",
          "Research & Development",
          "Sales",
          "Sales",
          "Research & Development",
          "Research & Development",
          "Research & Development",
          "Human Resources",
          "Human Resources",
          "Research & Development",
          "Sales",
          "Research & Development",
          "Research & Development",
          "Research & Development",
          "Research & Development",
          "Research & Development",
          "Research & Development",
          "Sales",
          "Human Resources",
          "Research & Development",
          "Research & Development",
          "Research & Development",
          "Research & Development",
          "Sales",
          "Sales",
          "Research & Development",
          "Research & Development",
          "Research & Development",
          "Research & Development",
          "Research & Development",
          "Research & Development",
          "Research & Development",
          "Research & Development",
          "Research & Development",
          "Research & Development",
          "Sales",
          "Research & Development",
          "Research & Development",
          "Sales",
          "Research & Development",
          "Sales",
          "Sales",
          "Research & Development",
          "Sales",
          "Research & Development",
          "Sales",
          "Sales",
          "Research & Development",
          "Research & Development",
          "Research & Development",
          "Research & Development",
          "Research & Development",
          "Research & Development",
          "Sales",
          "Sales",
          "Sales",
          "Research & Development",
          "Human Resources",
          "Sales",
          "Sales",
          "Sales",
          "Sales",
          "Research & Development",
          "Research & Development",
          "Research & Development",
          "Research & Development",
          "Research & Development",
          "Research & Development",
          "Sales",
          "Sales",
          "Research & Development",
          "Sales",
          "Research & Development",
          "Research & Development",
          "Research & Development",
          "Sales",
          "Research & Development"
         ],
         "yaxis": "y",
         "ybingroup": "y"
        }
       ],
       "layout": {
        "coloraxis": {
         "colorbar": {
          "title": {
           "text": "count"
          }
         },
         "colorscale": [
          [
           0,
           "#0d0887"
          ],
          [
           0.1111111111111111,
           "#46039f"
          ],
          [
           0.2222222222222222,
           "#7201a8"
          ],
          [
           0.3333333333333333,
           "#9c179e"
          ],
          [
           0.4444444444444444,
           "#bd3786"
          ],
          [
           0.5555555555555556,
           "#d8576b"
          ],
          [
           0.6666666666666666,
           "#ed7953"
          ],
          [
           0.7777777777777778,
           "#fb9f3a"
          ],
          [
           0.8888888888888888,
           "#fdca26"
          ],
          [
           1,
           "#f0f921"
          ]
         ]
        },
        "legend": {
         "tracegroupgap": 0
        },
        "margin": {
         "t": 60
        },
        "template": {
         "data": {
          "bar": [
           {
            "error_x": {
             "color": "#2a3f5f"
            },
            "error_y": {
             "color": "#2a3f5f"
            },
            "marker": {
             "line": {
              "color": "#E5ECF6",
              "width": 0.5
             },
             "pattern": {
              "fillmode": "overlay",
              "size": 10,
              "solidity": 0.2
             }
            },
            "type": "bar"
           }
          ],
          "barpolar": [
           {
            "marker": {
             "line": {
              "color": "#E5ECF6",
              "width": 0.5
             },
             "pattern": {
              "fillmode": "overlay",
              "size": 10,
              "solidity": 0.2
             }
            },
            "type": "barpolar"
           }
          ],
          "carpet": [
           {
            "aaxis": {
             "endlinecolor": "#2a3f5f",
             "gridcolor": "white",
             "linecolor": "white",
             "minorgridcolor": "white",
             "startlinecolor": "#2a3f5f"
            },
            "baxis": {
             "endlinecolor": "#2a3f5f",
             "gridcolor": "white",
             "linecolor": "white",
             "minorgridcolor": "white",
             "startlinecolor": "#2a3f5f"
            },
            "type": "carpet"
           }
          ],
          "choropleth": [
           {
            "colorbar": {
             "outlinewidth": 0,
             "ticks": ""
            },
            "type": "choropleth"
           }
          ],
          "contour": [
           {
            "colorbar": {
             "outlinewidth": 0,
             "ticks": ""
            },
            "colorscale": [
             [
              0,
              "#0d0887"
             ],
             [
              0.1111111111111111,
              "#46039f"
             ],
             [
              0.2222222222222222,
              "#7201a8"
             ],
             [
              0.3333333333333333,
              "#9c179e"
             ],
             [
              0.4444444444444444,
              "#bd3786"
             ],
             [
              0.5555555555555556,
              "#d8576b"
             ],
             [
              0.6666666666666666,
              "#ed7953"
             ],
             [
              0.7777777777777778,
              "#fb9f3a"
             ],
             [
              0.8888888888888888,
              "#fdca26"
             ],
             [
              1,
              "#f0f921"
             ]
            ],
            "type": "contour"
           }
          ],
          "contourcarpet": [
           {
            "colorbar": {
             "outlinewidth": 0,
             "ticks": ""
            },
            "type": "contourcarpet"
           }
          ],
          "heatmap": [
           {
            "colorbar": {
             "outlinewidth": 0,
             "ticks": ""
            },
            "colorscale": [
             [
              0,
              "#0d0887"
             ],
             [
              0.1111111111111111,
              "#46039f"
             ],
             [
              0.2222222222222222,
              "#7201a8"
             ],
             [
              0.3333333333333333,
              "#9c179e"
             ],
             [
              0.4444444444444444,
              "#bd3786"
             ],
             [
              0.5555555555555556,
              "#d8576b"
             ],
             [
              0.6666666666666666,
              "#ed7953"
             ],
             [
              0.7777777777777778,
              "#fb9f3a"
             ],
             [
              0.8888888888888888,
              "#fdca26"
             ],
             [
              1,
              "#f0f921"
             ]
            ],
            "type": "heatmap"
           }
          ],
          "histogram": [
           {
            "marker": {
             "pattern": {
              "fillmode": "overlay",
              "size": 10,
              "solidity": 0.2
             }
            },
            "type": "histogram"
           }
          ],
          "histogram2d": [
           {
            "colorbar": {
             "outlinewidth": 0,
             "ticks": ""
            },
            "colorscale": [
             [
              0,
              "#0d0887"
             ],
             [
              0.1111111111111111,
              "#46039f"
             ],
             [
              0.2222222222222222,
              "#7201a8"
             ],
             [
              0.3333333333333333,
              "#9c179e"
             ],
             [
              0.4444444444444444,
              "#bd3786"
             ],
             [
              0.5555555555555556,
              "#d8576b"
             ],
             [
              0.6666666666666666,
              "#ed7953"
             ],
             [
              0.7777777777777778,
              "#fb9f3a"
             ],
             [
              0.8888888888888888,
              "#fdca26"
             ],
             [
              1,
              "#f0f921"
             ]
            ],
            "type": "histogram2d"
           }
          ],
          "histogram2dcontour": [
           {
            "colorbar": {
             "outlinewidth": 0,
             "ticks": ""
            },
            "colorscale": [
             [
              0,
              "#0d0887"
             ],
             [
              0.1111111111111111,
              "#46039f"
             ],
             [
              0.2222222222222222,
              "#7201a8"
             ],
             [
              0.3333333333333333,
              "#9c179e"
             ],
             [
              0.4444444444444444,
              "#bd3786"
             ],
             [
              0.5555555555555556,
              "#d8576b"
             ],
             [
              0.6666666666666666,
              "#ed7953"
             ],
             [
              0.7777777777777778,
              "#fb9f3a"
             ],
             [
              0.8888888888888888,
              "#fdca26"
             ],
             [
              1,
              "#f0f921"
             ]
            ],
            "type": "histogram2dcontour"
           }
          ],
          "mesh3d": [
           {
            "colorbar": {
             "outlinewidth": 0,
             "ticks": ""
            },
            "type": "mesh3d"
           }
          ],
          "parcoords": [
           {
            "line": {
             "colorbar": {
              "outlinewidth": 0,
              "ticks": ""
             }
            },
            "type": "parcoords"
           }
          ],
          "pie": [
           {
            "automargin": true,
            "type": "pie"
           }
          ],
          "scatter": [
           {
            "fillpattern": {
             "fillmode": "overlay",
             "size": 10,
             "solidity": 0.2
            },
            "type": "scatter"
           }
          ],
          "scatter3d": [
           {
            "line": {
             "colorbar": {
              "outlinewidth": 0,
              "ticks": ""
             }
            },
            "marker": {
             "colorbar": {
              "outlinewidth": 0,
              "ticks": ""
             }
            },
            "type": "scatter3d"
           }
          ],
          "scattercarpet": [
           {
            "marker": {
             "colorbar": {
              "outlinewidth": 0,
              "ticks": ""
             }
            },
            "type": "scattercarpet"
           }
          ],
          "scattergeo": [
           {
            "marker": {
             "colorbar": {
              "outlinewidth": 0,
              "ticks": ""
             }
            },
            "type": "scattergeo"
           }
          ],
          "scattergl": [
           {
            "marker": {
             "colorbar": {
              "outlinewidth": 0,
              "ticks": ""
             }
            },
            "type": "scattergl"
           }
          ],
          "scattermap": [
           {
            "marker": {
             "colorbar": {
              "outlinewidth": 0,
              "ticks": ""
             }
            },
            "type": "scattermap"
           }
          ],
          "scattermapbox": [
           {
            "marker": {
             "colorbar": {
              "outlinewidth": 0,
              "ticks": ""
             }
            },
            "type": "scattermapbox"
           }
          ],
          "scatterpolar": [
           {
            "marker": {
             "colorbar": {
              "outlinewidth": 0,
              "ticks": ""
             }
            },
            "type": "scatterpolar"
           }
          ],
          "scatterpolargl": [
           {
            "marker": {
             "colorbar": {
              "outlinewidth": 0,
              "ticks": ""
             }
            },
            "type": "scatterpolargl"
           }
          ],
          "scatterternary": [
           {
            "marker": {
             "colorbar": {
              "outlinewidth": 0,
              "ticks": ""
             }
            },
            "type": "scatterternary"
           }
          ],
          "surface": [
           {
            "colorbar": {
             "outlinewidth": 0,
             "ticks": ""
            },
            "colorscale": [
             [
              0,
              "#0d0887"
             ],
             [
              0.1111111111111111,
              "#46039f"
             ],
             [
              0.2222222222222222,
              "#7201a8"
             ],
             [
              0.3333333333333333,
              "#9c179e"
             ],
             [
              0.4444444444444444,
              "#bd3786"
             ],
             [
              0.5555555555555556,
              "#d8576b"
             ],
             [
              0.6666666666666666,
              "#ed7953"
             ],
             [
              0.7777777777777778,
              "#fb9f3a"
             ],
             [
              0.8888888888888888,
              "#fdca26"
             ],
             [
              1,
              "#f0f921"
             ]
            ],
            "type": "surface"
           }
          ],
          "table": [
           {
            "cells": {
             "fill": {
              "color": "#EBF0F8"
             },
             "line": {
              "color": "white"
             }
            },
            "header": {
             "fill": {
              "color": "#C8D4E3"
             },
             "line": {
              "color": "white"
             }
            },
            "type": "table"
           }
          ]
         },
         "layout": {
          "annotationdefaults": {
           "arrowcolor": "#2a3f5f",
           "arrowhead": 0,
           "arrowwidth": 1
          },
          "autotypenumbers": "strict",
          "coloraxis": {
           "colorbar": {
            "outlinewidth": 0,
            "ticks": ""
           }
          },
          "colorscale": {
           "diverging": [
            [
             0,
             "#8e0152"
            ],
            [
             0.1,
             "#c51b7d"
            ],
            [
             0.2,
             "#de77ae"
            ],
            [
             0.3,
             "#f1b6da"
            ],
            [
             0.4,
             "#fde0ef"
            ],
            [
             0.5,
             "#f7f7f7"
            ],
            [
             0.6,
             "#e6f5d0"
            ],
            [
             0.7,
             "#b8e186"
            ],
            [
             0.8,
             "#7fbc41"
            ],
            [
             0.9,
             "#4d9221"
            ],
            [
             1,
             "#276419"
            ]
           ],
           "sequential": [
            [
             0,
             "#0d0887"
            ],
            [
             0.1111111111111111,
             "#46039f"
            ],
            [
             0.2222222222222222,
             "#7201a8"
            ],
            [
             0.3333333333333333,
             "#9c179e"
            ],
            [
             0.4444444444444444,
             "#bd3786"
            ],
            [
             0.5555555555555556,
             "#d8576b"
            ],
            [
             0.6666666666666666,
             "#ed7953"
            ],
            [
             0.7777777777777778,
             "#fb9f3a"
            ],
            [
             0.8888888888888888,
             "#fdca26"
            ],
            [
             1,
             "#f0f921"
            ]
           ],
           "sequentialminus": [
            [
             0,
             "#0d0887"
            ],
            [
             0.1111111111111111,
             "#46039f"
            ],
            [
             0.2222222222222222,
             "#7201a8"
            ],
            [
             0.3333333333333333,
             "#9c179e"
            ],
            [
             0.4444444444444444,
             "#bd3786"
            ],
            [
             0.5555555555555556,
             "#d8576b"
            ],
            [
             0.6666666666666666,
             "#ed7953"
            ],
            [
             0.7777777777777778,
             "#fb9f3a"
            ],
            [
             0.8888888888888888,
             "#fdca26"
            ],
            [
             1,
             "#f0f921"
            ]
           ]
          },
          "colorway": [
           "#636efa",
           "#EF553B",
           "#00cc96",
           "#ab63fa",
           "#FFA15A",
           "#19d3f3",
           "#FF6692",
           "#B6E880",
           "#FF97FF",
           "#FECB52"
          ],
          "font": {
           "color": "#2a3f5f"
          },
          "geo": {
           "bgcolor": "white",
           "lakecolor": "white",
           "landcolor": "#E5ECF6",
           "showlakes": true,
           "showland": true,
           "subunitcolor": "white"
          },
          "hoverlabel": {
           "align": "left"
          },
          "hovermode": "closest",
          "mapbox": {
           "style": "light"
          },
          "paper_bgcolor": "white",
          "plot_bgcolor": "#E5ECF6",
          "polar": {
           "angularaxis": {
            "gridcolor": "white",
            "linecolor": "white",
            "ticks": ""
           },
           "bgcolor": "#E5ECF6",
           "radialaxis": {
            "gridcolor": "white",
            "linecolor": "white",
            "ticks": ""
           }
          },
          "scene": {
           "xaxis": {
            "backgroundcolor": "#E5ECF6",
            "gridcolor": "white",
            "gridwidth": 2,
            "linecolor": "white",
            "showbackground": true,
            "ticks": "",
            "zerolinecolor": "white"
           },
           "yaxis": {
            "backgroundcolor": "#E5ECF6",
            "gridcolor": "white",
            "gridwidth": 2,
            "linecolor": "white",
            "showbackground": true,
            "ticks": "",
            "zerolinecolor": "white"
           },
           "zaxis": {
            "backgroundcolor": "#E5ECF6",
            "gridcolor": "white",
            "gridwidth": 2,
            "linecolor": "white",
            "showbackground": true,
            "ticks": "",
            "zerolinecolor": "white"
           }
          },
          "shapedefaults": {
           "line": {
            "color": "#2a3f5f"
           }
          },
          "ternary": {
           "aaxis": {
            "gridcolor": "white",
            "linecolor": "white",
            "ticks": ""
           },
           "baxis": {
            "gridcolor": "white",
            "linecolor": "white",
            "ticks": ""
           },
           "bgcolor": "#E5ECF6",
           "caxis": {
            "gridcolor": "white",
            "linecolor": "white",
            "ticks": ""
           }
          },
          "title": {
           "x": 0.05
          },
          "xaxis": {
           "automargin": true,
           "gridcolor": "white",
           "linecolor": "white",
           "ticks": "",
           "title": {
            "standoff": 15
           },
           "zerolinecolor": "white",
           "zerolinewidth": 2
          },
          "yaxis": {
           "automargin": true,
           "gridcolor": "white",
           "linecolor": "white",
           "ticks": "",
           "title": {
            "standoff": 15
           },
           "zerolinecolor": "white",
           "zerolinewidth": 2
          }
         }
        },
        "xaxis": {
         "anchor": "y",
         "domain": [
          0,
          1
         ],
         "title": {
          "text": "Attrition"
         }
        },
        "yaxis": {
         "anchor": "x",
         "domain": [
          0,
          1
         ],
         "title": {
          "text": "Department"
         }
        }
       }
      }
     },
     "metadata": {},
     "output_type": "display_data"
    }
   ],
   "source": [
    "fig = px.histogram(df, x=\"Department\", title=\"Department Histogram\", color=target_column_name, barmode=\"group\")\n",
    "fig.update_layout(xaxis_title=\"Department\", height=400, width=400)\n",
    "\n",
    "fig = px.density_heatmap(df, x=\"Attrition\", y=\"Department\")\n",
    "fig.show()"
   ]
  },
  {
   "cell_type": "markdown",
   "metadata": {},
   "source": [
    "### DistanceFromHome\n",
    "The distance from home in miles for the employee. **Numerical**"
   ]
  },
  {
   "cell_type": "code",
   "execution_count": 363,
   "metadata": {},
   "outputs": [
    {
     "data": {
      "image/png": "[encoded data removed]",
      "text/plain": [
       "<Figure size 640x480 with 1 Axes>"
      ]
     },
     "metadata": {},
     "output_type": "display_data"
    }
   ],
   "source": [
    "\n",
    "sns.histplot(data=df, x=\"DistanceFromHome\", kde=True, color=\"blue\", bins=10)\n",
    "plt.title(\"DistanceFromHome Histogram and dencity line\")\n",
    "plt.show()\n"
   ]
  },
  {
   "cell_type": "markdown",
   "metadata": {},
   "source": [
    "### Education\n",
    "The level of education achieved by the employee. **Categorical**"
   ]
  },
  {
   "cell_type": "code",
   "execution_count": 364,
   "metadata": {},
   "outputs": [
    {
     "data": {
      "application/vnd.plotly.v1+json": {
       "config": {
        "plotlyServerURL": "https://plot.ly"
       },
       "data": [
        {
         "hovertemplate": "Attrition=Yes<br>Education=%{x}<br>Age=%{y}<br>EmployeeNumber=%{z}<extra></extra>",
         "legendgroup": "Yes",
         "marker": {
          "color": "#636efa",
          "opacity": 0.5,
          "symbol": "circle"
         },
         "mode": "markers",
         "name": "Yes",
         "scene": "scene",
         "showlegend": true,
         "type": "scatter3d",
         "x": {
          "bdata": "AgIDBAEBAwMCAwMCBAMCBAMDAwQEBAEDBAMBAwICAQMEAwQDAQMCAwMCBAQDBAQDBAQCBAEDAwIDAwEDAwECBQIBAQMDAQQDAwQDBAQBBAEDAgICAwQCAwMDAgMEBAMBAgQDBAEDAQEEAwIDAwEEAwMCAwMEAwMCAgEEAwMDAwQCAgMEAQMDAwQDAQQDAQMBAwQEAgIDAQMCAwMCAwQDAwMEBAMEBAQCAQQDAgMDBQMEAwMEAwIEBAMDAwUDAwIDAgMEAQIEAwEDBQIDAwMEAwEBAgMEBAICBQMEAgMDAQQCAwICAwMEBAMEAgQD",
          "dtype": "i1"
         },
         "y": {
          "bdata": "KSUcJCIgJxgyGikwHCQuJRQZIjgfOhMfMyATEykjJh0gHh4dHSEhICUfHC8sGhoSNBwnHRUhKSgVIhoeGRgiHRMhIR8iFhoSGiAYHh8bLRQhGDIcKiEvNxoXHSE6HDE3GiMdIDoUFRYpJxkTFCQlOigfHR4jFB4lGjQkJBoUFTMcLCMhGRohHDInEiEfHSocKywWKRgTGS0VLB0gJyg0Hyw6Nx8jHxsxHR8fGS4nHx8iHB0iGBwdKB8eIzUmHBIjIygjFzAgFxgvJCAeHSEfKxUWLCMiJRouHx0gHS4eFiI4HRwgGxwfNRcdODIy",
          "dtype": "i1"
         },
         "z": {
          "bdata": "AQAEABMAGwAfACEAKgAtAC8ANwA6AEAAQQBaAHYAhQCJAI4AkwChAKMApQCnAK8AswC+AOsA8wD4AAUBGgEbASMBKQErASwBOwFFAUgBSwFWAWMBbAF4AYgBigGRAZUBsQG4Ab0BxgHeAeUB6AHsAe4B9gH+AQICGgIqAisCNQI2AkYCSAJLAk4CUQJgAmYCbgJ3AocCiAKKApsCrAK9Ar4C0ALTAuUC8AIMAxEDEwMcAysDMAMzAzkDPANIA0oDUANxA4ADjwOWA5oDmwOeA58DpAO4A78DwAPHA8oD0QPaA98D4gPsA/ID+AP5AwkEDQQOBBIEHAQdBDUENwQ5BDoESgRMBE0EUgRTBFQEVwRZBGcEhASFBIgEjQSPBJcEpASwBLMEugTDBOAE+QT9BP8EDwUTBR0FHgUmBScFMwU1BVAFXAVjBWQFbQV9BYwFjQWTBZkFnwWxBbIFswW4BbsFzgXPBdEF1gXgBfIF/gUBBhoGIQYkBiUGRAZYBmcGbQZxBoMGlAabBpwGpgayBrQGxQbGBtMG2AbeBuEG5wb0BvcGAAcFBw8HEQcaBx0HMgc0B0YHTAdNB1QHVgdxB3MHiAeNB5MHmAeoB68HsAfnB+sH8Af8BwcI",
          "dtype": "i2"
         }
        },
        {
         "hovertemplate": "Attrition=No<br>Education=%{x}<br>Age=%{y}<br>EmployeeNumber=%{z}<extra></extra>",
         "legendgroup": "No",
         "marker": {
          "color": "#EF553B",
          "opacity": 0.5,
          "symbol": "circle"
         },
         "mode": "markers",
         "name": "No",
         "scene": "scene",
         "showlegend": true,
         "type": "scatter3d",
         "x": {
          "bdata": "AQQBAgMBAwMDAgECBAICBAMCBAIDBAQEAwQCAgMEAwIEAwIEAgQBBQIDAgUEBAQDBQIDAwMDAwMBAwQDAwQEBAQCAQMCAwIDAQQDBAQCAwQEAgMEAwEEAgQDAQMEAwEEAwMCAgIDAgMDAQQDAwEBAgQDAwMFAwIDAQMEAQMFAgMDAQQDBAQBAwMCAwMDAwQFAwIDAgMDAgIBAgMCAwEEAQMEAwMCAwMCBAMBBAQCAwEFBAEDBAMDAwIEAwMEAwQBAwMCAgQDBAIEBAICAwQEBAIEBAMCAgMDAgMDAgEDAwMCAgMDAwQCBAMCAwEEAQICAgMEAgQDAwMDAwQDBAMCAwMEAwIEBAMDBAQBBAIDAgMDBAICAgMFBAEEAwQCBQMEAgIEAQQBAwEFAwEDAQMCAwQFBAQEAgMEAwQDBAIEAwIDAwQBAwIDAgQEAwMCBAIDBAIFAgEDAwMCAwICAgMDAwQCBAMDBAQDBAMDAgMDBAQDAQEDAgQFBQIDAwEBAwMDBQMDBAIDBAMBBQQCAwMEBAMCAgMBAgIEBAMDBAQBBQQEAwEEAQQEAwEFAwMCBAMEAgQDAwMEBAEBAgEDBAMEAgIEBAMEBAIDBAMDAwMFAwMCAQMDAQMDAwQEBQUEAQIBAwQEAgMEBAEBBAQEAwICAwMEAwMCAwIEAgMDBAMDAwMEAgEDBAIDBAMBAwECBAQCAwIEBAICBAEDAQMDAQMBAgMDBAMDAgQDAgIEAwIBAgQDAQQDAwMCBAMEAQIEAgQDAwQDAwQDBAQDAgMDAgICAwQFBAQDAQQCBAMEAgIDAQIBAQIDBAICAQMEAgEEAwIDAwQBBAMDAwECBAQCBAMEAQQEAwMBBAQDBQEDBAIDAgEEBQEDAwIBBAIDBAQEBAQEAwECAwMBAwQDAQIEAgMDAQMDBAIDAQQEBAQDBAMCAwMEAQQBAgMDAwIBAwMDBAQDBAIEAwQEBAMEBQQDAgMDAwQDBQIDBAEDAwIDAwMCAwICAwMDAwMFAwICAQIDAwQDBAIDAQQEBAMCAgMDAwMEBAMEAgMDBAIEAgECBAIDAwMEAwICAQQDAwMCAwMBAwEBAwMEAwQDAwEBAQIBAgMDAQMEAwIDAwMDAwQEBAUEAQQEAwICBAEFAwUEAgMCAwMBAwMDBAMDAwMBAgUDAgQDAQIBAwMEBAMDAwIBAQUDBAMDAwMBAwUCAwMBAwMDAgQCAgIEBAIEBAMEBAMEBAQEBQQDAwMEAQQDAQMDBAIDBAIDAgQCBQQDAwUDBAQEBAUDBQMBBAIDBAMDAgIDAwUFAQMDAwQBAwQFAwMDAQQCBQIDAwQDBAMDBAMCAQMEAwIEAwMCBAMEAwMEAwMDBAQBBAIDBAMCAQQEAQQDAQEDAwQDBAMDAwMCBAMEAgMDBAMDAwMEAwQDAgIEAwIEAwIEAwECAgMCAwMDAwEDAwIDBAMDBAQDBAMEAwQEBAIBBAQEAgIBAwMBAQMDAwQEAwQDAwMEAgIBBAICAwQCAwMCAQMDBAQCBAQEBAUCAwMCAQQEAwIEAwQDAwQDAwQDBAICAwQEAQQCAwMCAgMCAwIBAwIEAgQEAwEEAgQCBAQEAQMEAwIEAwEDAwIEAwQDBAMDBAIEAwQEBAQCBAEDAwIBAwMD",
          "dtype": "i1"
         },
         "y": {
          "bdata": "MSEbIDseJiQjHR8iHSAWNSYYIhU1KiwuISweKyMkISMbGx4iJS4jLCMaISMjHyUgJjI7JDckLSM7HR8gJB8jLSUuHiM3JiI4FzMeKDMeLiA2GBw6LCAiJTsyGRYzNhgiJSIkJCseITMaFjErMikaJCcZHi0mHiAeHikpEygjNS0gHTM6KCIWGxw5GzIpHiYgGyQeLTghLiYfIjI1ISg3IjM0GystJSMqJiYbMSIoFiQoLh4bMyktNiQhJSYfOyUdIzQqOzIrNCAnICkoLR8hIiUtJx0qHRkqKDMgJiAuHR8ZLSQ3HCUVJSMmGjI1Kh03GiUmHDEkHyUqIyQzKRIcHyckICY6Hx8tHyEnKzEbIBsfIB4fJyEvKxs2Ky0oHR4bJSYfHSMXKS8qHSogMCUeGiokJDkoFSUuMh8dIxscMTMkNxgeFiQlKColKyg2Ih8rKxklHyc4HikcNC00Kh48LiomKBoeHR45Mh48Ly4jNiIuHx4jKiQwNykjKCcfKi0dIR8oKRojIiUuKSU0GCYlMRgaGDIZIiMfGyUUKismKzAsIhUsFiEgHjUiGiUdIyE2JBsjFxkmHTAbJTIiJyAmGyAvKDUpPBspMiQmLC8eHSsiFyc4KBsdNSMgJiI0GS0XIiQ0Gh0iNhslJiIjHigiKhg0MiEvJB0jKiQgKB4tKiYiKxsjHCIbMywZISMkIB41LSA0JRwWLCokGSMgGTEYICYqHzUjJTUrLyUyJyEdLBwrJC8cGyIqITofIzEwHyQmICgaKSQfKCAhLR0jNDUeJiMnLyQhIS0yISkbLS8yJi4YHxI2Ix4aFjAwKScbIyoyOzcpJiwyJyEtICI7LTUiHCYyJSgaLjY4JDcrLhoeKSYoGzccIRwiJSohIjAtNCYdHC4mKygVJyQfHCMxIh0qHSYcKSUbIiMoKiMYGh4oIyIjIDgdEy0lFDUdLiwhHigyHC4jISQeLBQuKjwgICQhKBkeKiMbNiwdNh8fOysxJDAbHTAdIiwhExcaNy4iMzsiHCwiIyorJBwzHhwZIC0nOh4kLhwyHicfKSo3OCgiKCkjMyYiGSgkMBszEiMbOCIoIiYiHCczKSUhICcZNCsbGio0JSMZGh02OjckHh8iGyQkLyU4LxggIikoHy0fLTAoHCw1MSgsISIeKiweOTEiIxgsHR43IS8cHDEdHCEgNiwnLiMXIjIiKiUdIS0qKCEoGCgtIyAkMB0hJiMeIDAiNyIaJiYkHSMnHTIXJCojIigrIy4WMiAsHi0tHyQiMScbIxwVLycoIyUnLSYlKCwwGBsbHSQZJzEyFCIkMSQkNismHSEgHzEmLzEpFCEkLCY1GjciPCElIiwjKxgpHSQtGi0gHykoGC4jHi8uFx8nICgtHhgfGx0eIiExJh0eICYqNyEpIjUrIiYfMyUuJCUhHCcuKCojJicrKSkeKCI6Iy8oNh8cJho6Ei0kKxsdICovLhwdKi4bHSswGyc3HCQfIh0lIy0kKBobMCwkKSofIh8aLSEcJxsiLzgnJjomMSojHB8kIiIaHSAfJiMbIDYhKyY3HycqHzYYFygoGR4ZLyEmHyYqKS8jFiMhICggJyYgJRk0LBUnJCQ4KikiJCkgIyYkLSgjKCMdHScfGiQnGzEi",
          "dtype": "i1"
         },
         "z": {
          "bdata": "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",
          "dtype": "i2"
         }
        }
       ],
       "layout": {
        "legend": {
         "title": {
          "text": "Attrition"
         },
         "tracegroupgap": 0
        },
        "margin": {
         "t": 60
        },
        "scene": {
         "domain": {
          "x": [
           0,
           1
          ],
          "y": [
           0,
           1
          ]
         },
         "xaxis": {
          "title": {
           "text": "Education"
          }
         },
         "yaxis": {
          "title": {
           "text": "Age"
          }
         },
         "zaxis": {
          "title": {
           "text": "EmployeeNumber"
          }
         }
        },
        "template": {
         "data": {
          "bar": [
           {
            "error_x": {
             "color": "#2a3f5f"
            },
            "error_y": {
             "color": "#2a3f5f"
            },
            "marker": {
             "line": {
              "color": "#E5ECF6",
              "width": 0.5
             },
             "pattern": {
              "fillmode": "overlay",
              "size": 10,
              "solidity": 0.2
             }
            },
            "type": "bar"
           }
          ],
          "barpolar": [
           {
            "marker": {
             "line": {
              "color": "#E5ECF6",
              "width": 0.5
             },
             "pattern": {
              "fillmode": "overlay",
              "size": 10,
              "solidity": 0.2
             }
            },
            "type": "barpolar"
           }
          ],
          "carpet": [
           {
            "aaxis": {
             "endlinecolor": "#2a3f5f",
             "gridcolor": "white",
             "linecolor": "white",
             "minorgridcolor": "white",
             "startlinecolor": "#2a3f5f"
            },
            "baxis": {
             "endlinecolor": "#2a3f5f",
             "gridcolor": "white",
             "linecolor": "white",
             "minorgridcolor": "white",
             "startlinecolor": "#2a3f5f"
            },
            "type": "carpet"
           }
          ],
          "choropleth": [
           {
            "colorbar": {
             "outlinewidth": 0,
             "ticks": ""
            },
            "type": "choropleth"
           }
          ],
          "contour": [
           {
            "colorbar": {
             "outlinewidth": 0,
             "ticks": ""
            },
            "colorscale": [
             [
              0,
              "#0d0887"
             ],
             [
              0.1111111111111111,
              "#46039f"
             ],
             [
              0.2222222222222222,
              "#7201a8"
             ],
             [
              0.3333333333333333,
              "#9c179e"
             ],
             [
              0.4444444444444444,
              "#bd3786"
             ],
             [
              0.5555555555555556,
              "#d8576b"
             ],
             [
              0.6666666666666666,
              "#ed7953"
             ],
             [
              0.7777777777777778,
              "#fb9f3a"
             ],
             [
              0.8888888888888888,
              "#fdca26"
             ],
             [
              1,
              "#f0f921"
             ]
            ],
            "type": "contour"
           }
          ],
          "contourcarpet": [
           {
            "colorbar": {
             "outlinewidth": 0,
             "ticks": ""
            },
            "type": "contourcarpet"
           }
          ],
          "heatmap": [
           {
            "colorbar": {
             "outlinewidth": 0,
             "ticks": ""
            },
            "colorscale": [
             [
              0,
              "#0d0887"
             ],
             [
              0.1111111111111111,
              "#46039f"
             ],
             [
              0.2222222222222222,
              "#7201a8"
             ],
             [
              0.3333333333333333,
              "#9c179e"
             ],
             [
              0.4444444444444444,
              "#bd3786"
             ],
             [
              0.5555555555555556,
              "#d8576b"
             ],
             [
              0.6666666666666666,
              "#ed7953"
             ],
             [
              0.7777777777777778,
              "#fb9f3a"
             ],
             [
              0.8888888888888888,
              "#fdca26"
             ],
             [
              1,
              "#f0f921"
             ]
            ],
            "type": "heatmap"
           }
          ],
          "histogram": [
           {
            "marker": {
             "pattern": {
              "fillmode": "overlay",
              "size": 10,
              "solidity": 0.2
             }
            },
            "type": "histogram"
           }
          ],
          "histogram2d": [
           {
            "colorbar": {
             "outlinewidth": 0,
             "ticks": ""
            },
            "colorscale": [
             [
              0,
              "#0d0887"
             ],
             [
              0.1111111111111111,
              "#46039f"
             ],
             [
              0.2222222222222222,
              "#7201a8"
             ],
             [
              0.3333333333333333,
              "#9c179e"
             ],
             [
              0.4444444444444444,
              "#bd3786"
             ],
             [
              0.5555555555555556,
              "#d8576b"
             ],
             [
              0.6666666666666666,
              "#ed7953"
             ],
             [
              0.7777777777777778,
              "#fb9f3a"
             ],
             [
              0.8888888888888888,
              "#fdca26"
             ],
             [
              1,
              "#f0f921"
             ]
            ],
            "type": "histogram2d"
           }
          ],
          "histogram2dcontour": [
           {
            "colorbar": {
             "outlinewidth": 0,
             "ticks": ""
            },
            "colorscale": [
             [
              0,
              "#0d0887"
             ],
             [
              0.1111111111111111,
              "#46039f"
             ],
             [
              0.2222222222222222,
              "#7201a8"
             ],
             [
              0.3333333333333333,
              "#9c179e"
             ],
             [
              0.4444444444444444,
              "#bd3786"
             ],
             [
              0.5555555555555556,
              "#d8576b"
             ],
             [
              0.6666666666666666,
              "#ed7953"
             ],
             [
              0.7777777777777778,
              "#fb9f3a"
             ],
             [
              0.8888888888888888,
              "#fdca26"
             ],
             [
              1,
              "#f0f921"
             ]
            ],
            "type": "histogram2dcontour"
           }
          ],
          "mesh3d": [
           {
            "colorbar": {
             "outlinewidth": 0,
             "ticks": ""
            },
            "type": "mesh3d"
           }
          ],
          "parcoords": [
           {
            "line": {
             "colorbar": {
              "outlinewidth": 0,
              "ticks": ""
             }
            },
            "type": "parcoords"
           }
          ],
          "pie": [
           {
            "automargin": true,
            "type": "pie"
           }
          ],
          "scatter": [
           {
            "fillpattern": {
             "fillmode": "overlay",
             "size": 10,
             "solidity": 0.2
            },
            "type": "scatter"
           }
          ],
          "scatter3d": [
           {
            "line": {
             "colorbar": {
              "outlinewidth": 0,
              "ticks": ""
             }
            },
            "marker": {
             "colorbar": {
              "outlinewidth": 0,
              "ticks": ""
             }
            },
            "type": "scatter3d"
           }
          ],
          "scattercarpet": [
           {
            "marker": {
             "colorbar": {
              "outlinewidth": 0,
              "ticks": ""
             }
            },
            "type": "scattercarpet"
           }
          ],
          "scattergeo": [
           {
            "marker": {
             "colorbar": {
              "outlinewidth": 0,
              "ticks": ""
             }
            },
            "type": "scattergeo"
           }
          ],
          "scattergl": [
           {
            "marker": {
             "colorbar": {
              "outlinewidth": 0,
              "ticks": ""
             }
            },
            "type": "scattergl"
           }
          ],
          "scattermap": [
           {
            "marker": {
             "colorbar": {
              "outlinewidth": 0,
              "ticks": ""
             }
            },
            "type": "scattermap"
           }
          ],
          "scattermapbox": [
           {
            "marker": {
             "colorbar": {
              "outlinewidth": 0,
              "ticks": ""
             }
            },
            "type": "scattermapbox"
           }
          ],
          "scatterpolar": [
           {
            "marker": {
             "colorbar": {
              "outlinewidth": 0,
              "ticks": ""
             }
            },
            "type": "scatterpolar"
           }
          ],
          "scatterpolargl": [
           {
            "marker": {
             "colorbar": {
              "outlinewidth": 0,
              "ticks": ""
             }
            },
            "type": "scatterpolargl"
           }
          ],
          "scatterternary": [
           {
            "marker": {
             "colorbar": {
              "outlinewidth": 0,
              "ticks": ""
             }
            },
            "type": "scatterternary"
           }
          ],
          "surface": [
           {
            "colorbar": {
             "outlinewidth": 0,
             "ticks": ""
            },
            "colorscale": [
             [
              0,
              "#0d0887"
             ],
             [
              0.1111111111111111,
              "#46039f"
             ],
             [
              0.2222222222222222,
              "#7201a8"
             ],
             [
              0.3333333333333333,
              "#9c179e"
             ],
             [
              0.4444444444444444,
              "#bd3786"
             ],
             [
              0.5555555555555556,
              "#d8576b"
             ],
             [
              0.6666666666666666,
              "#ed7953"
             ],
             [
              0.7777777777777778,
              "#fb9f3a"
             ],
             [
              0.8888888888888888,
              "#fdca26"
             ],
             [
              1,
              "#f0f921"
             ]
            ],
            "type": "surface"
           }
          ],
          "table": [
           {
            "cells": {
             "fill": {
              "color": "#EBF0F8"
             },
             "line": {
              "color": "white"
             }
            },
            "header": {
             "fill": {
              "color": "#C8D4E3"
             },
             "line": {
              "color": "white"
             }
            },
            "type": "table"
           }
          ]
         },
         "layout": {
          "annotationdefaults": {
           "arrowcolor": "#2a3f5f",
           "arrowhead": 0,
           "arrowwidth": 1
          },
          "autotypenumbers": "strict",
          "coloraxis": {
           "colorbar": {
            "outlinewidth": 0,
            "ticks": ""
           }
          },
          "colorscale": {
           "diverging": [
            [
             0,
             "#8e0152"
            ],
            [
             0.1,
             "#c51b7d"
            ],
            [
             0.2,
             "#de77ae"
            ],
            [
             0.3,
             "#f1b6da"
            ],
            [
             0.4,
             "#fde0ef"
            ],
            [
             0.5,
             "#f7f7f7"
            ],
            [
             0.6,
             "#e6f5d0"
            ],
            [
             0.7,
             "#b8e186"
            ],
            [
             0.8,
             "#7fbc41"
            ],
            [
             0.9,
             "#4d9221"
            ],
            [
             1,
             "#276419"
            ]
           ],
           "sequential": [
            [
             0,
             "#0d0887"
            ],
            [
             0.1111111111111111,
             "#46039f"
            ],
            [
             0.2222222222222222,
             "#7201a8"
            ],
            [
             0.3333333333333333,
             "#9c179e"
            ],
            [
             0.4444444444444444,
             "#bd3786"
            ],
            [
             0.5555555555555556,
             "#d8576b"
            ],
            [
             0.6666666666666666,
             "#ed7953"
            ],
            [
             0.7777777777777778,
             "#fb9f3a"
            ],
            [
             0.8888888888888888,
             "#fdca26"
            ],
            [
             1,
             "#f0f921"
            ]
           ],
           "sequentialminus": [
            [
             0,
             "#0d0887"
            ],
            [
             0.1111111111111111,
             "#46039f"
            ],
            [
             0.2222222222222222,
             "#7201a8"
            ],
            [
             0.3333333333333333,
             "#9c179e"
            ],
            [
             0.4444444444444444,
             "#bd3786"
            ],
            [
             0.5555555555555556,
             "#d8576b"
            ],
            [
             0.6666666666666666,
             "#ed7953"
            ],
            [
             0.7777777777777778,
             "#fb9f3a"
            ],
            [
             0.8888888888888888,
             "#fdca26"
            ],
            [
             1,
             "#f0f921"
            ]
           ]
          },
          "colorway": [
           "#636efa",
           "#EF553B",
           "#00cc96",
           "#ab63fa",
           "#FFA15A",
           "#19d3f3",
           "#FF6692",
           "#B6E880",
           "#FF97FF",
           "#FECB52"
          ],
          "font": {
           "color": "#2a3f5f"
          },
          "geo": {
           "bgcolor": "white",
           "lakecolor": "white",
           "landcolor": "#E5ECF6",
           "showlakes": true,
           "showland": true,
           "subunitcolor": "white"
          },
          "hoverlabel": {
           "align": "left"
          },
          "hovermode": "closest",
          "mapbox": {
           "style": "light"
          },
          "paper_bgcolor": "white",
          "plot_bgcolor": "#E5ECF6",
          "polar": {
           "angularaxis": {
            "gridcolor": "white",
            "linecolor": "white",
            "ticks": ""
           },
           "bgcolor": "#E5ECF6",
           "radialaxis": {
            "gridcolor": "white",
            "linecolor": "white",
            "ticks": ""
           }
          },
          "scene": {
           "xaxis": {
            "backgroundcolor": "#E5ECF6",
            "gridcolor": "white",
            "gridwidth": 2,
            "linecolor": "white",
            "showbackground": true,
            "ticks": "",
            "zerolinecolor": "white"
           },
           "yaxis": {
            "backgroundcolor": "#E5ECF6",
            "gridcolor": "white",
            "gridwidth": 2,
            "linecolor": "white",
            "showbackground": true,
            "ticks": "",
            "zerolinecolor": "white"
           },
           "zaxis": {
            "backgroundcolor": "#E5ECF6",
            "gridcolor": "white",
            "gridwidth": 2,
            "linecolor": "white",
            "showbackground": true,
            "ticks": "",
            "zerolinecolor": "white"
           }
          },
          "shapedefaults": {
           "line": {
            "color": "#2a3f5f"
           }
          },
          "ternary": {
           "aaxis": {
            "gridcolor": "white",
            "linecolor": "white",
            "ticks": ""
           },
           "baxis": {
            "gridcolor": "white",
            "linecolor": "white",
            "ticks": ""
           },
           "bgcolor": "#E5ECF6",
           "caxis": {
            "gridcolor": "white",
            "linecolor": "white",
            "ticks": ""
           }
          },
          "title": {
           "x": 0.05
          },
          "xaxis": {
           "automargin": true,
           "gridcolor": "white",
           "linecolor": "white",
           "ticks": "",
           "title": {
            "standoff": 15
           },
           "zerolinecolor": "white",
           "zerolinewidth": 2
          },
          "yaxis": {
           "automargin": true,
           "gridcolor": "white",
           "linecolor": "white",
           "ticks": "",
           "title": {
            "standoff": 15
           },
           "zerolinecolor": "white",
           "zerolinewidth": 2
          }
         }
        }
       }
      }
     },
     "metadata": {},
     "output_type": "display_data"
    }
   ],
   "source": [
    "fig = px.scatter_3d(\n",
    "    df,\n",
    "    x='Education',\n",
    "    y='Age',\n",
    "    z='EmployeeNumber',\n",
    "    color='Attrition',\n",
    "    opacity=0.5\n",
    ")\n",
    "\n",
    "fig.show()"
   ]
  },
  {
   "cell_type": "markdown",
   "metadata": {},
   "source": [
    "### EnvironmentSatisfaction\n",
    "The employee's satisfaction with their work environment. **Categorical**"
   ]
  },
  {
   "cell_type": "code",
   "execution_count": 365,
   "metadata": {},
   "outputs": [
    {
     "data": {
      "application/vnd.plotly.v1+json": {
       "config": {
        "plotlyServerURL": "https://plot.ly"
       },
       "data": [
        {
         "alignmentgroup": "True",
         "bingroup": "x",
         "hovertemplate": "Attrition=Yes<br>EnvironmentSatisfaction=%{x}<br>count=%{y}<extra></extra>",
         "legendgroup": "Yes",
         "marker": {
          "color": "#636efa",
          "pattern": {
           "shape": ""
          }
         },
         "name": "Yes",
         "offsetgroup": "Yes",
         "orientation": "v",
         "showlegend": true,
         "type": "histogram",
         "x": {
          "bdata": "AgQDAwICBAIBAQIBAwQDAwQDAQICBAQCAQEDAgICAgIEBAMDAwMBBAEDAQEEAQQDAwEEAgEEAQMDAQMDAQEEAwECAQECAwICAwQBAgIDAQQBAQIBAwQCBAQDAgEEAwMDAwQCAQQDBAICBAMEAQMBBAIDBAEDBAIBAgEDAQEEAwECAgQBBAEBAQQBAwEDBAMDAQMDAQQBAwEBAQIEAwQCBAEDAQMEBAQBAwIBAQEBAwIBAQEBAgMBBAQCAQMDAwIEAQEEBAQEAwQDAgEDAgEBAwIDAwMEBAQEBAEDBAMCBAQBAwQBAQMBAQQBBAIE",
          "dtype": "i1"
         },
         "xaxis": "x",
         "yaxis": "y"
        },
        {
         "alignmentgroup": "True",
         "bingroup": "x",
         "hovertemplate": "Attrition=No<br>EnvironmentSatisfaction=%{x}<br>count=%{y}<extra></extra>",
         "legendgroup": "No",
         "marker": {
          "color": "#EF553B",
          "pattern": {
           "shape": ""
          }
         },
         "name": "No",
         "offsetgroup": "No",
         "orientation": "v",
         "showlegend": true,
         "type": "histogram",
         "x": {
          "bdata": "AwQBBAMEBAMBBAECAgEEAQQBAQMDAwECAwQEBAQCAwMEBAMCAgEEAgMDAQIDBAEBBAIBAwQCAgIBAwMCAgMDBAECBAIBAgEEAwQDAwMDAwIBAQIEAgQBAwMBBAIBBAIDAwMCAQMBAwEDAwMCAwMDAgQBAwMEAQQEAgQDAgIDAgICBAICAwMDBAMDAwMBAgEDAwQDAwMDAgMDBAMEBAQDBAQDBAQBAgIDBAQDBAQDBAIEBAMEAgQEBAQDAgEDAwECAwMDAgQEAQMDAwMBAwIDBAMBAwMEBAEEAQMCBAQDAQICAwQEBAMEAQIBAwEDAgICAQQEBAMDBAIDAwMEBAQCAgMCBAEEAwEBAwQDAwMDAwQEAQQDAwIEAwMEAwQCAgQCBAMDBAMDBAIBBAMDAQMEAwEEAQQEAQMDBAMEAwQCAgMEAwQDAQIEBAIDAQIBAwIEAwICBAIDAgIDBAEEAQMBAwQEAwEDAgMBAgMDAQEEAwQDAwQEAgICAQQCAgMCBAQEAQMDAQEBBAIBAgEEBAMCBAIBBAECAgEBAQQEAwIDBAQBAwMEAQMBAwQCAwMCAgMDAgEDAQQEAgIEBAQEBAQCAwMEBAMCAQQEBAEDAQQDAwQCAgMDBAQEBAQBBAIDAwIBBAEEAQICBAMEAQMBBAMDAgMEAwMDAwMEBAMDAQMCAgEDAgMDAgMEAQQBAQMCAgIBBAMDBAIEAQIBAwQEAwMBAgIDBAEEAwQEAwEBBAQBAgEBAwQDAgIDAwMCBAEEBAIEAwEDBAMEBAMCAwMDBAMDAwQBAwEEAgQEAwEDBAQEAwQEAwIDAwIEAgEDBAQBAgQBAwMCAgQEBAIEBAICAgMDBAMCBAMBBAMBBAMDBAEDAgMBAQQDBAEBBAQEAwECAgMDBAEEAwMEAwEDAQQEBAQCAgMDAgMEAgMCAgQEAQMDAwQEAwQCAwEEAQQCAwQCAwIEBAQDAgMDBAMEBAIDBAMBAgMEAQMBBAEBBAMDAwMBAwQBAwQEAwIEAgQDBAQDBAQDBAMDAwIEAwQCAwQEAwIDAQEEBAMEAgEEAwMEBAMEAwMDAwIDBAIBBAMEBAQEBAECAgQDAwECBAMCAwMBBAEEAQMDAQMBAwIEBAIBBAEEAgEDAQMBAQQEBAIDAQIEAgMEBAMEAQMEBAQEAQEDAgMCBAQCAwMEAQMBAwMEAwQDAgQCAwQBBAMCAwEDBAQEAQIDAwQBAgQDAwMBAwQDBAMBAwIBAwICAgEEAQMEAQQCBAQEAwQCAgICAgMBBAMDAwIEAgIDBAMBAwMBBAQCAwEDAQIEAwIEBAEEAwQBAwQEAgMEAQQEAQQEAgMEBAMBAwQCBAECAwIDAgMBBAMEBAMDBAQBAgMCAgMEAgMDAwQEBAIDBAEBAwQDBAQEAwQDAgICAwQDBAECBAQBAQIDBAMEAwMCAwICAQMBAgMBAwICAgMCBAEDAgMBAgMEAQQEBAMCBAMEBAECBAEEBAQCAgICAwQEBAICAQIBBAIDAwMDBAEDAgIDAQIDAwQBBAQCAgICAwMBAQQDAQMEAQMEBAEEAQQDBAIEAwMCBAQCAwQEAQIEAQEEBAMEBAICAwECAQIDAwEBAgMEAQQDAQEEBAMEAwECBAMDAwMEBAICBAMEAgQC",
          "dtype": "i1"
         },
         "xaxis": "x",
         "yaxis": "y"
        }
       ],
       "layout": {
        "barmode": "group",
        "height": 300,
        "legend": {
         "title": {
          "text": "Attrition"
         },
         "tracegroupgap": 0
        },
        "margin": {
         "t": 60
        },
        "template": {
         "data": {
          "bar": [
           {
            "error_x": {
             "color": "#2a3f5f"
            },
            "error_y": {
             "color": "#2a3f5f"
            },
            "marker": {
             "line": {
              "color": "#E5ECF6",
              "width": 0.5
             },
             "pattern": {
              "fillmode": "overlay",
              "size": 10,
              "solidity": 0.2
             }
            },
            "type": "bar"
           }
          ],
          "barpolar": [
           {
            "marker": {
             "line": {
              "color": "#E5ECF6",
              "width": 0.5
             },
             "pattern": {
              "fillmode": "overlay",
              "size": 10,
              "solidity": 0.2
             }
            },
            "type": "barpolar"
           }
          ],
          "carpet": [
           {
            "aaxis": {
             "endlinecolor": "#2a3f5f",
             "gridcolor": "white",
             "linecolor": "white",
             "minorgridcolor": "white",
             "startlinecolor": "#2a3f5f"
            },
            "baxis": {
             "endlinecolor": "#2a3f5f",
             "gridcolor": "white",
             "linecolor": "white",
             "minorgridcolor": "white",
             "startlinecolor": "#2a3f5f"
            },
            "type": "carpet"
           }
          ],
          "choropleth": [
           {
            "colorbar": {
             "outlinewidth": 0,
             "ticks": ""
            },
            "type": "choropleth"
           }
          ],
          "contour": [
           {
            "colorbar": {
             "outlinewidth": 0,
             "ticks": ""
            },
            "colorscale": [
             [
              0,
              "#0d0887"
             ],
             [
              0.1111111111111111,
              "#46039f"
             ],
             [
              0.2222222222222222,
              "#7201a8"
             ],
             [
              0.3333333333333333,
              "#9c179e"
             ],
             [
              0.4444444444444444,
              "#bd3786"
             ],
             [
              0.5555555555555556,
              "#d8576b"
             ],
             [
              0.6666666666666666,
              "#ed7953"
             ],
             [
              0.7777777777777778,
              "#fb9f3a"
             ],
             [
              0.8888888888888888,
              "#fdca26"
             ],
             [
              1,
              "#f0f921"
             ]
            ],
            "type": "contour"
           }
          ],
          "contourcarpet": [
           {
            "colorbar": {
             "outlinewidth": 0,
             "ticks": ""
            },
            "type": "contourcarpet"
           }
          ],
          "heatmap": [
           {
            "colorbar": {
             "outlinewidth": 0,
             "ticks": ""
            },
            "colorscale": [
             [
              0,
              "#0d0887"
             ],
             [
              0.1111111111111111,
              "#46039f"
             ],
             [
              0.2222222222222222,
              "#7201a8"
             ],
             [
              0.3333333333333333,
              "#9c179e"
             ],
             [
              0.4444444444444444,
              "#bd3786"
             ],
             [
              0.5555555555555556,
              "#d8576b"
             ],
             [
              0.6666666666666666,
              "#ed7953"
             ],
             [
              0.7777777777777778,
              "#fb9f3a"
             ],
             [
              0.8888888888888888,
              "#fdca26"
             ],
             [
              1,
              "#f0f921"
             ]
            ],
            "type": "heatmap"
           }
          ],
          "histogram": [
           {
            "marker": {
             "pattern": {
              "fillmode": "overlay",
              "size": 10,
              "solidity": 0.2
             }
            },
            "type": "histogram"
           }
          ],
          "histogram2d": [
           {
            "colorbar": {
             "outlinewidth": 0,
             "ticks": ""
            },
            "colorscale": [
             [
              0,
              "#0d0887"
             ],
             [
              0.1111111111111111,
              "#46039f"
             ],
             [
              0.2222222222222222,
              "#7201a8"
             ],
             [
              0.3333333333333333,
              "#9c179e"
             ],
             [
              0.4444444444444444,
              "#bd3786"
             ],
             [
              0.5555555555555556,
              "#d8576b"
             ],
             [
              0.6666666666666666,
              "#ed7953"
             ],
             [
              0.7777777777777778,
              "#fb9f3a"
             ],
             [
              0.8888888888888888,
              "#fdca26"
             ],
             [
              1,
              "#f0f921"
             ]
            ],
            "type": "histogram2d"
           }
          ],
          "histogram2dcontour": [
           {
            "colorbar": {
             "outlinewidth": 0,
             "ticks": ""
            },
            "colorscale": [
             [
              0,
              "#0d0887"
             ],
             [
              0.1111111111111111,
              "#46039f"
             ],
             [
              0.2222222222222222,
              "#7201a8"
             ],
             [
              0.3333333333333333,
              "#9c179e"
             ],
             [
              0.4444444444444444,
              "#bd3786"
             ],
             [
              0.5555555555555556,
              "#d8576b"
             ],
             [
              0.6666666666666666,
              "#ed7953"
             ],
             [
              0.7777777777777778,
              "#fb9f3a"
             ],
             [
              0.8888888888888888,
              "#fdca26"
             ],
             [
              1,
              "#f0f921"
             ]
            ],
            "type": "histogram2dcontour"
           }
          ],
          "mesh3d": [
           {
            "colorbar": {
             "outlinewidth": 0,
             "ticks": ""
            },
            "type": "mesh3d"
           }
          ],
          "parcoords": [
           {
            "line": {
             "colorbar": {
              "outlinewidth": 0,
              "ticks": ""
             }
            },
            "type": "parcoords"
           }
          ],
          "pie": [
           {
            "automargin": true,
            "type": "pie"
           }
          ],
          "scatter": [
           {
            "fillpattern": {
             "fillmode": "overlay",
             "size": 10,
             "solidity": 0.2
            },
            "type": "scatter"
           }
          ],
          "scatter3d": [
           {
            "line": {
             "colorbar": {
              "outlinewidth": 0,
              "ticks": ""
             }
            },
            "marker": {
             "colorbar": {
              "outlinewidth": 0,
              "ticks": ""
             }
            },
            "type": "scatter3d"
           }
          ],
          "scattercarpet": [
           {
            "marker": {
             "colorbar": {
              "outlinewidth": 0,
              "ticks": ""
             }
            },
            "type": "scattercarpet"
           }
          ],
          "scattergeo": [
           {
            "marker": {
             "colorbar": {
              "outlinewidth": 0,
              "ticks": ""
             }
            },
            "type": "scattergeo"
           }
          ],
          "scattergl": [
           {
            "marker": {
             "colorbar": {
              "outlinewidth": 0,
              "ticks": ""
             }
            },
            "type": "scattergl"
           }
          ],
          "scattermap": [
           {
            "marker": {
             "colorbar": {
              "outlinewidth": 0,
              "ticks": ""
             }
            },
            "type": "scattermap"
           }
          ],
          "scattermapbox": [
           {
            "marker": {
             "colorbar": {
              "outlinewidth": 0,
              "ticks": ""
             }
            },
            "type": "scattermapbox"
           }
          ],
          "scatterpolar": [
           {
            "marker": {
             "colorbar": {
              "outlinewidth": 0,
              "ticks": ""
             }
            },
            "type": "scatterpolar"
           }
          ],
          "scatterpolargl": [
           {
            "marker": {
             "colorbar": {
              "outlinewidth": 0,
              "ticks": ""
             }
            },
            "type": "scatterpolargl"
           }
          ],
          "scatterternary": [
           {
            "marker": {
             "colorbar": {
              "outlinewidth": 0,
              "ticks": ""
             }
            },
            "type": "scatterternary"
           }
          ],
          "surface": [
           {
            "colorbar": {
             "outlinewidth": 0,
             "ticks": ""
            },
            "colorscale": [
             [
              0,
              "#0d0887"
             ],
             [
              0.1111111111111111,
              "#46039f"
             ],
             [
              0.2222222222222222,
              "#7201a8"
             ],
             [
              0.3333333333333333,
              "#9c179e"
             ],
             [
              0.4444444444444444,
              "#bd3786"
             ],
             [
              0.5555555555555556,
              "#d8576b"
             ],
             [
              0.6666666666666666,
              "#ed7953"
             ],
             [
              0.7777777777777778,
              "#fb9f3a"
             ],
             [
              0.8888888888888888,
              "#fdca26"
             ],
             [
              1,
              "#f0f921"
             ]
            ],
            "type": "surface"
           }
          ],
          "table": [
           {
            "cells": {
             "fill": {
              "color": "#EBF0F8"
             },
             "line": {
              "color": "white"
             }
            },
            "header": {
             "fill": {
              "color": "#C8D4E3"
             },
             "line": {
              "color": "white"
             }
            },
            "type": "table"
           }
          ]
         },
         "layout": {
          "annotationdefaults": {
           "arrowcolor": "#2a3f5f",
           "arrowhead": 0,
           "arrowwidth": 1
          },
          "autotypenumbers": "strict",
          "coloraxis": {
           "colorbar": {
            "outlinewidth": 0,
            "ticks": ""
           }
          },
          "colorscale": {
           "diverging": [
            [
             0,
             "#8e0152"
            ],
            [
             0.1,
             "#c51b7d"
            ],
            [
             0.2,
             "#de77ae"
            ],
            [
             0.3,
             "#f1b6da"
            ],
            [
             0.4,
             "#fde0ef"
            ],
            [
             0.5,
             "#f7f7f7"
            ],
            [
             0.6,
             "#e6f5d0"
            ],
            [
             0.7,
             "#b8e186"
            ],
            [
             0.8,
             "#7fbc41"
            ],
            [
             0.9,
             "#4d9221"
            ],
            [
             1,
             "#276419"
            ]
           ],
           "sequential": [
            [
             0,
             "#0d0887"
            ],
            [
             0.1111111111111111,
             "#46039f"
            ],
            [
             0.2222222222222222,
             "#7201a8"
            ],
            [
             0.3333333333333333,
             "#9c179e"
            ],
            [
             0.4444444444444444,
             "#bd3786"
            ],
            [
             0.5555555555555556,
             "#d8576b"
            ],
            [
             0.6666666666666666,
             "#ed7953"
            ],
            [
             0.7777777777777778,
             "#fb9f3a"
            ],
            [
             0.8888888888888888,
             "#fdca26"
            ],
            [
             1,
             "#f0f921"
            ]
           ],
           "sequentialminus": [
            [
             0,
             "#0d0887"
            ],
            [
             0.1111111111111111,
             "#46039f"
            ],
            [
             0.2222222222222222,
             "#7201a8"
            ],
            [
             0.3333333333333333,
             "#9c179e"
            ],
            [
             0.4444444444444444,
             "#bd3786"
            ],
            [
             0.5555555555555556,
             "#d8576b"
            ],
            [
             0.6666666666666666,
             "#ed7953"
            ],
            [
             0.7777777777777778,
             "#fb9f3a"
            ],
            [
             0.8888888888888888,
             "#fdca26"
            ],
            [
             1,
             "#f0f921"
            ]
           ]
          },
          "colorway": [
           "#636efa",
           "#EF553B",
           "#00cc96",
           "#ab63fa",
           "#FFA15A",
           "#19d3f3",
           "#FF6692",
           "#B6E880",
           "#FF97FF",
           "#FECB52"
          ],
          "font": {
           "color": "#2a3f5f"
          },
          "geo": {
           "bgcolor": "white",
           "lakecolor": "white",
           "landcolor": "#E5ECF6",
           "showlakes": true,
           "showland": true,
           "subunitcolor": "white"
          },
          "hoverlabel": {
           "align": "left"
          },
          "hovermode": "closest",
          "mapbox": {
           "style": "light"
          },
          "paper_bgcolor": "white",
          "plot_bgcolor": "#E5ECF6",
          "polar": {
           "angularaxis": {
            "gridcolor": "white",
            "linecolor": "white",
            "ticks": ""
           },
           "bgcolor": "#E5ECF6",
           "radialaxis": {
            "gridcolor": "white",
            "linecolor": "white",
            "ticks": ""
           }
          },
          "scene": {
           "xaxis": {
            "backgroundcolor": "#E5ECF6",
            "gridcolor": "white",
            "gridwidth": 2,
            "linecolor": "white",
            "showbackground": true,
            "ticks": "",
            "zerolinecolor": "white"
           },
           "yaxis": {
            "backgroundcolor": "#E5ECF6",
            "gridcolor": "white",
            "gridwidth": 2,
            "linecolor": "white",
            "showbackground": true,
            "ticks": "",
            "zerolinecolor": "white"
           },
           "zaxis": {
            "backgroundcolor": "#E5ECF6",
            "gridcolor": "white",
            "gridwidth": 2,
            "linecolor": "white",
            "showbackground": true,
            "ticks": "",
            "zerolinecolor": "white"
           }
          },
          "shapedefaults": {
           "line": {
            "color": "#2a3f5f"
           }
          },
          "ternary": {
           "aaxis": {
            "gridcolor": "white",
            "linecolor": "white",
            "ticks": ""
           },
           "baxis": {
            "gridcolor": "white",
            "linecolor": "white",
            "ticks": ""
           },
           "bgcolor": "#E5ECF6",
           "caxis": {
            "gridcolor": "white",
            "linecolor": "white",
            "ticks": ""
           }
          },
          "title": {
           "x": 0.05
          },
          "xaxis": {
           "automargin": true,
           "gridcolor": "white",
           "linecolor": "white",
           "ticks": "",
           "title": {
            "standoff": 15
           },
           "zerolinecolor": "white",
           "zerolinewidth": 2
          },
          "yaxis": {
           "automargin": true,
           "gridcolor": "white",
           "linecolor": "white",
           "ticks": "",
           "title": {
            "standoff": 15
           },
           "zerolinecolor": "white",
           "zerolinewidth": 2
          }
         }
        },
        "title": {
         "text": "Environment Satisfaction"
        },
        "width": 300,
        "xaxis": {
         "anchor": "y",
         "domain": [
          0,
          1
         ],
         "title": {
          "text": "EnvironmentSatisfaction"
         }
        },
        "yaxis": {
         "anchor": "x",
         "domain": [
          0,
          1
         ],
         "title": {
          "text": "count"
         }
        }
       }
      }
     },
     "metadata": {},
     "output_type": "display_data"
    }
   ],
   "source": [
    "px.histogram(\n",
    "    df,\n",
    "    x=\"EnvironmentSatisfaction\",\n",
    "    color=target_column_name,\n",
    "    barmode=\"group\"\n",
    ").update_layout(\n",
    "    title=\"Environment Satisfaction\",\n",
    "    width=300,\n",
    "    height=300\n",
    ").show()"
   ]
  },
  {
   "cell_type": "markdown",
   "metadata": {},
   "source": [
    "### JobSatisfaction\n",
    "The employee's satisfaction with their job. **Categorical**"
   ]
  },
  {
   "cell_type": "code",
   "execution_count": 366,
   "metadata": {},
   "outputs": [
    {
     "data": {
      "application/vnd.plotly.v1+json": {
       "config": {
        "plotlyServerURL": "https://plot.ly"
       },
       "data": [
        {
         "alignmentgroup": "True",
         "bingroup": "x",
         "hovertemplate": "Attrition=Yes<br>JobSatisfaction=%{x}<br>count=%{y}<extra></extra>",
         "legendgroup": "Yes",
         "marker": {
          "color": "#636efa",
          "pattern": {
           "shape": ""
          }
         },
         "name": "Yes",
         "offsetgroup": "Yes",
         "orientation": "v",
         "showlegend": true,
         "textfont": {
          "color": "white",
          "size": 12
         },
         "type": "histogram",
         "x": {
          "bdata": "BAMDAQEBBAQDAwMDAwMEAQQDAwIDBAMDBAEBBAIDAQQEAQEDBAQBAwMCAwIDAgQDAgQDAQIDAgMCBAEEAQIDAgQDBAMBAwMCBAMDAQEBAQMBAwMCAwQDAQEBAQECAwQEAwIDBAQDBAMEAQICAQQDAwIBAQMCAQICAQQBAwEEAQMBAQEDBAMCAgMEAwEDAQEEAwMEAQICBAIDBAMDAQICAgEBAwQDAwMBBAMCAQQBAgQDAwICAQEBAQMBAQQCAgQBBAEEAwMCBAMDAQIEAgEDAwIBAgQBAQICAQECBAIEAgEEAQMDAgQEAQEEAwMB",
          "dtype": "i1"
         },
         "xaxis": "x",
         "yaxis": "y"
        },
        {
         "alignmentgroup": "True",
         "bingroup": "x",
         "hovertemplate": "Attrition=No<br>JobSatisfaction=%{x}<br>count=%{y}<extra></extra>",
         "legendgroup": "No",
         "marker": {
          "color": "#EF553B",
          "pattern": {
           "shape": ""
          }
         },
         "name": "No",
         "offsetgroup": "No",
         "orientation": "v",
         "showlegend": true,
         "textfont": {
          "color": "white",
          "size": 12
         },
         "type": "histogram",
         "x": {
          "bdata": "AgMCBAEDAwMCAwMEAQIEBAQDAgQDAgQBBAQDAwQBAQQBAwQDAgQEAQEEBAEBBAMEBAMBAwMCAQEDAgICBAQBAQMCBAMEBAIEAQQEAgQCAQMDAwMDAgEDBAQCBAQBBAMCBAEEBAQDAgMCBAEDBAMDAgMDBAQDAwQBBAEBAgICAwIEAwMCBAMEAgQEAwIDBAQDAgIBAQEEAQQEAgMBAgMCAwIDAgQEAQIDAwQBBAMEAgQEAQMDAgQEAQICBAMDBAQEAwQEAwQEAwIDBAEEBAMEAQEDAwQBBAMBAwQCBAECAgQBBAQBBAQDBAIBAgIDAwQEAQQEBAECAgQCAgQCAgMBBAQCAwIDBAEBBAIBBAMCAgMEBAQDBAQDAwIDAQQEBAMCBAQEAgIEAgMEAwMCAwEDAwQEBAMDBAEDBAIEAgIEAwQDBAMCAgMBAgECAgMBAwEEAwQDAQMBAwEBAwQEAwQBAwQEAwQEAwEEAwQBBAMDAwMEAgIDAwQEAgQDAwMEAQIEAwQBAwMDBAQDAQIBBAMCAwQCAgIDBAQEAwMCBAQBAwEDAwMEAwMEAwEEBAMDBAQCAgQDAQIEBAIEBAMCAwQEAQQBAQMEAQEDAgEDAwMEAwQDAQIEBAECBAEEAwEBBAMDBAEEBAMEAQQBAQEEAwIBBAIDAwMEAgMDBAIDAwQDAgEEAQQDAgQEAwIBAQEEBAQEAQMEAwQEBAQBAQMEAQEEAgIEBAQCBAQEBAIBBAIEAQQCBAQDAwIDAQIDBAIDAwQBAgIBAQMEAgEEAgQDBAMDBAQDAwQDBAQEAgMCAQQDAwMDAQQDAwEEAQMDAwQEBAMEBAIDBAQDAQQEAwQEAgIDAgMDAgEDBAMDBAEEAQEBAwMEAwIDBAMEBAECBAQDAgMEAgMCAQMCAgQEAgQCAwIEBAMDBAQDAwMDAQMCBAMEAgEEAQEEAQMEAwMEAQMDAQIBAQIBAwMDBAQEAQQCAwEEAgQCAQQBAwQEBAEBBAQDAgIDBAQEAwIDBAMEAgIBAgQCAwECAwIEAgQDAwECBAICAwQDAQQBAQMDAgMDAgMEBAEDAgEBBAIBBAQCBAQEAgMDAwMEAQQCBAMEAgMDAwMEBAEBAwQEAQEEAQQCAQIBAQQBBAMBAwMEAgMDBAECBAECAQMCAwMCAQEDBAMDAwIBAwIDAwMDAgMDAQECAgMEBAECAgIDAwQDAgQBAgQEAQMEAQQCAwIEAwMBAwECAQEEBAQEAgIDAQMDBAMDAQQDAwECBAEDAwQEAgEBAQMEAQEBAQEEAwMDAwMDBAMCBAQEBAMEAwEDAgIBAwICAwMBAwMEAgQCBAECAgMDAQQDBAMEBAIEBAIEBAQEBAMDAwQDAwIDAwIBAQIDBAIEAgQEAwIDAQQDBAMBBAIEAgEDAgQCAQIBAwMEBAMEAwIEAQIBBAMCAQEEAgQDAgMDBAMCAwIBBAEBBAQDAwMCBAQEBAMDBAQDAwEDAgMCAQQEAgMDBAEBAgQEAQMDBAECAgEEBAMEAwMEAwIEAgEBAgQEBAQBAwECBAMBAQQBAQQEBAMDAwICBAEDAwEDBAMCAgIDAwMCAwMBBAIDAwMEAgQCBAMEBAMEBAEEBAIDAwIDBAIBBAQEAwMDAwQCAQQBAwQBAgID",
          "dtype": "i1"
         },
         "xaxis": "x",
         "yaxis": "y"
        }
       ],
       "layout": {
        "barmode": "group",
        "height": 300,
        "legend": {
         "title": {
          "text": "Attrition"
         },
         "tracegroupgap": 0
        },
        "template": {
         "data": {
          "bar": [
           {
            "error_x": {
             "color": "#2a3f5f"
            },
            "error_y": {
             "color": "#2a3f5f"
            },
            "marker": {
             "line": {
              "color": "#E5ECF6",
              "width": 0.5
             },
             "pattern": {
              "fillmode": "overlay",
              "size": 10,
              "solidity": 0.2
             }
            },
            "type": "bar"
           }
          ],
          "barpolar": [
           {
            "marker": {
             "line": {
              "color": "#E5ECF6",
              "width": 0.5
             },
             "pattern": {
              "fillmode": "overlay",
              "size": 10,
              "solidity": 0.2
             }
            },
            "type": "barpolar"
           }
          ],
          "carpet": [
           {
            "aaxis": {
             "endlinecolor": "#2a3f5f",
             "gridcolor": "white",
             "linecolor": "white",
             "minorgridcolor": "white",
             "startlinecolor": "#2a3f5f"
            },
            "baxis": {
             "endlinecolor": "#2a3f5f",
             "gridcolor": "white",
             "linecolor": "white",
             "minorgridcolor": "white",
             "startlinecolor": "#2a3f5f"
            },
            "type": "carpet"
           }
          ],
          "choropleth": [
           {
            "colorbar": {
             "outlinewidth": 0,
             "ticks": ""
            },
            "type": "choropleth"
           }
          ],
          "contour": [
           {
            "colorbar": {
             "outlinewidth": 0,
             "ticks": ""
            },
            "colorscale": [
             [
              0,
              "#0d0887"
             ],
             [
              0.1111111111111111,
              "#46039f"
             ],
             [
              0.2222222222222222,
              "#7201a8"
             ],
             [
              0.3333333333333333,
              "#9c179e"
             ],
             [
              0.4444444444444444,
              "#bd3786"
             ],
             [
              0.5555555555555556,
              "#d8576b"
             ],
             [
              0.6666666666666666,
              "#ed7953"
             ],
             [
              0.7777777777777778,
              "#fb9f3a"
             ],
             [
              0.8888888888888888,
              "#fdca26"
             ],
             [
              1,
              "#f0f921"
             ]
            ],
            "type": "contour"
           }
          ],
          "contourcarpet": [
           {
            "colorbar": {
             "outlinewidth": 0,
             "ticks": ""
            },
            "type": "contourcarpet"
           }
          ],
          "heatmap": [
           {
            "colorbar": {
             "outlinewidth": 0,
             "ticks": ""
            },
            "colorscale": [
             [
              0,
              "#0d0887"
             ],
             [
              0.1111111111111111,
              "#46039f"
             ],
             [
              0.2222222222222222,
              "#7201a8"
             ],
             [
              0.3333333333333333,
              "#9c179e"
             ],
             [
              0.4444444444444444,
              "#bd3786"
             ],
             [
              0.5555555555555556,
              "#d8576b"
             ],
             [
              0.6666666666666666,
              "#ed7953"
             ],
             [
              0.7777777777777778,
              "#fb9f3a"
             ],
             [
              0.8888888888888888,
              "#fdca26"
             ],
             [
              1,
              "#f0f921"
             ]
            ],
            "type": "heatmap"
           }
          ],
          "histogram": [
           {
            "marker": {
             "pattern": {
              "fillmode": "overlay",
              "size": 10,
              "solidity": 0.2
             }
            },
            "type": "histogram"
           }
          ],
          "histogram2d": [
           {
            "colorbar": {
             "outlinewidth": 0,
             "ticks": ""
            },
            "colorscale": [
             [
              0,
              "#0d0887"
             ],
             [
              0.1111111111111111,
              "#46039f"
             ],
             [
              0.2222222222222222,
              "#7201a8"
             ],
             [
              0.3333333333333333,
              "#9c179e"
             ],
             [
              0.4444444444444444,
              "#bd3786"
             ],
             [
              0.5555555555555556,
              "#d8576b"
             ],
             [
              0.6666666666666666,
              "#ed7953"
             ],
             [
              0.7777777777777778,
              "#fb9f3a"
             ],
             [
              0.8888888888888888,
              "#fdca26"
             ],
             [
              1,
              "#f0f921"
             ]
            ],
            "type": "histogram2d"
           }
          ],
          "histogram2dcontour": [
           {
            "colorbar": {
             "outlinewidth": 0,
             "ticks": ""
            },
            "colorscale": [
             [
              0,
              "#0d0887"
             ],
             [
              0.1111111111111111,
              "#46039f"
             ],
             [
              0.2222222222222222,
              "#7201a8"
             ],
             [
              0.3333333333333333,
              "#9c179e"
             ],
             [
              0.4444444444444444,
              "#bd3786"
             ],
             [
              0.5555555555555556,
              "#d8576b"
             ],
             [
              0.6666666666666666,
              "#ed7953"
             ],
             [
              0.7777777777777778,
              "#fb9f3a"
             ],
             [
              0.8888888888888888,
              "#fdca26"
             ],
             [
              1,
              "#f0f921"
             ]
            ],
            "type": "histogram2dcontour"
           }
          ],
          "mesh3d": [
           {
            "colorbar": {
             "outlinewidth": 0,
             "ticks": ""
            },
            "type": "mesh3d"
           }
          ],
          "parcoords": [
           {
            "line": {
             "colorbar": {
              "outlinewidth": 0,
              "ticks": ""
             }
            },
            "type": "parcoords"
           }
          ],
          "pie": [
           {
            "automargin": true,
            "type": "pie"
           }
          ],
          "scatter": [
           {
            "fillpattern": {
             "fillmode": "overlay",
             "size": 10,
             "solidity": 0.2
            },
            "type": "scatter"
           }
          ],
          "scatter3d": [
           {
            "line": {
             "colorbar": {
              "outlinewidth": 0,
              "ticks": ""
             }
            },
            "marker": {
             "colorbar": {
              "outlinewidth": 0,
              "ticks": ""
             }
            },
            "type": "scatter3d"
           }
          ],
          "scattercarpet": [
           {
            "marker": {
             "colorbar": {
              "outlinewidth": 0,
              "ticks": ""
             }
            },
            "type": "scattercarpet"
           }
          ],
          "scattergeo": [
           {
            "marker": {
             "colorbar": {
              "outlinewidth": 0,
              "ticks": ""
             }
            },
            "type": "scattergeo"
           }
          ],
          "scattergl": [
           {
            "marker": {
             "colorbar": {
              "outlinewidth": 0,
              "ticks": ""
             }
            },
            "type": "scattergl"
           }
          ],
          "scattermap": [
           {
            "marker": {
             "colorbar": {
              "outlinewidth": 0,
              "ticks": ""
             }
            },
            "type": "scattermap"
           }
          ],
          "scattermapbox": [
           {
            "marker": {
             "colorbar": {
              "outlinewidth": 0,
              "ticks": ""
             }
            },
            "type": "scattermapbox"
           }
          ],
          "scatterpolar": [
           {
            "marker": {
             "colorbar": {
              "outlinewidth": 0,
              "ticks": ""
             }
            },
            "type": "scatterpolar"
           }
          ],
          "scatterpolargl": [
           {
            "marker": {
             "colorbar": {
              "outlinewidth": 0,
              "ticks": ""
             }
            },
            "type": "scatterpolargl"
           }
          ],
          "scatterternary": [
           {
            "marker": {
             "colorbar": {
              "outlinewidth": 0,
              "ticks": ""
             }
            },
            "type": "scatterternary"
           }
          ],
          "surface": [
           {
            "colorbar": {
             "outlinewidth": 0,
             "ticks": ""
            },
            "colorscale": [
             [
              0,
              "#0d0887"
             ],
             [
              0.1111111111111111,
              "#46039f"
             ],
             [
              0.2222222222222222,
              "#7201a8"
             ],
             [
              0.3333333333333333,
              "#9c179e"
             ],
             [
              0.4444444444444444,
              "#bd3786"
             ],
             [
              0.5555555555555556,
              "#d8576b"
             ],
             [
              0.6666666666666666,
              "#ed7953"
             ],
             [
              0.7777777777777778,
              "#fb9f3a"
             ],
             [
              0.8888888888888888,
              "#fdca26"
             ],
             [
              1,
              "#f0f921"
             ]
            ],
            "type": "surface"
           }
          ],
          "table": [
           {
            "cells": {
             "fill": {
              "color": "#EBF0F8"
             },
             "line": {
              "color": "white"
             }
            },
            "header": {
             "fill": {
              "color": "#C8D4E3"
             },
             "line": {
              "color": "white"
             }
            },
            "type": "table"
           }
          ]
         },
         "layout": {
          "annotationdefaults": {
           "arrowcolor": "#2a3f5f",
           "arrowhead": 0,
           "arrowwidth": 1
          },
          "autotypenumbers": "strict",
          "coloraxis": {
           "colorbar": {
            "outlinewidth": 0,
            "ticks": ""
           }
          },
          "colorscale": {
           "diverging": [
            [
             0,
             "#8e0152"
            ],
            [
             0.1,
             "#c51b7d"
            ],
            [
             0.2,
             "#de77ae"
            ],
            [
             0.3,
             "#f1b6da"
            ],
            [
             0.4,
             "#fde0ef"
            ],
            [
             0.5,
             "#f7f7f7"
            ],
            [
             0.6,
             "#e6f5d0"
            ],
            [
             0.7,
             "#b8e186"
            ],
            [
             0.8,
             "#7fbc41"
            ],
            [
             0.9,
             "#4d9221"
            ],
            [
             1,
             "#276419"
            ]
           ],
           "sequential": [
            [
             0,
             "#0d0887"
            ],
            [
             0.1111111111111111,
             "#46039f"
            ],
            [
             0.2222222222222222,
             "#7201a8"
            ],
            [
             0.3333333333333333,
             "#9c179e"
            ],
            [
             0.4444444444444444,
             "#bd3786"
            ],
            [
             0.5555555555555556,
             "#d8576b"
            ],
            [
             0.6666666666666666,
             "#ed7953"
            ],
            [
             0.7777777777777778,
             "#fb9f3a"
            ],
            [
             0.8888888888888888,
             "#fdca26"
            ],
            [
             1,
             "#f0f921"
            ]
           ],
           "sequentialminus": [
            [
             0,
             "#0d0887"
            ],
            [
             0.1111111111111111,
             "#46039f"
            ],
            [
             0.2222222222222222,
             "#7201a8"
            ],
            [
             0.3333333333333333,
             "#9c179e"
            ],
            [
             0.4444444444444444,
             "#bd3786"
            ],
            [
             0.5555555555555556,
             "#d8576b"
            ],
            [
             0.6666666666666666,
             "#ed7953"
            ],
            [
             0.7777777777777778,
             "#fb9f3a"
            ],
            [
             0.8888888888888888,
             "#fdca26"
            ],
            [
             1,
             "#f0f921"
            ]
           ]
          },
          "colorway": [
           "#636efa",
           "#EF553B",
           "#00cc96",
           "#ab63fa",
           "#FFA15A",
           "#19d3f3",
           "#FF6692",
           "#B6E880",
           "#FF97FF",
           "#FECB52"
          ],
          "font": {
           "color": "#2a3f5f"
          },
          "geo": {
           "bgcolor": "white",
           "lakecolor": "white",
           "landcolor": "#E5ECF6",
           "showlakes": true,
           "showland": true,
           "subunitcolor": "white"
          },
          "hoverlabel": {
           "align": "left"
          },
          "hovermode": "closest",
          "mapbox": {
           "style": "light"
          },
          "paper_bgcolor": "white",
          "plot_bgcolor": "#E5ECF6",
          "polar": {
           "angularaxis": {
            "gridcolor": "white",
            "linecolor": "white",
            "ticks": ""
           },
           "bgcolor": "#E5ECF6",
           "radialaxis": {
            "gridcolor": "white",
            "linecolor": "white",
            "ticks": ""
           }
          },
          "scene": {
           "xaxis": {
            "backgroundcolor": "#E5ECF6",
            "gridcolor": "white",
            "gridwidth": 2,
            "linecolor": "white",
            "showbackground": true,
            "ticks": "",
            "zerolinecolor": "white"
           },
           "yaxis": {
            "backgroundcolor": "#E5ECF6",
            "gridcolor": "white",
            "gridwidth": 2,
            "linecolor": "white",
            "showbackground": true,
            "ticks": "",
            "zerolinecolor": "white"
           },
           "zaxis": {
            "backgroundcolor": "#E5ECF6",
            "gridcolor": "white",
            "gridwidth": 2,
            "linecolor": "white",
            "showbackground": true,
            "ticks": "",
            "zerolinecolor": "white"
           }
          },
          "shapedefaults": {
           "line": {
            "color": "#2a3f5f"
           }
          },
          "ternary": {
           "aaxis": {
            "gridcolor": "white",
            "linecolor": "white",
            "ticks": ""
           },
           "baxis": {
            "gridcolor": "white",
            "linecolor": "white",
            "ticks": ""
           },
           "bgcolor": "#E5ECF6",
           "caxis": {
            "gridcolor": "white",
            "linecolor": "white",
            "ticks": ""
           }
          },
          "title": {
           "x": 0.05
          },
          "xaxis": {
           "automargin": true,
           "gridcolor": "white",
           "linecolor": "white",
           "ticks": "",
           "title": {
            "standoff": 15
           },
           "zerolinecolor": "white",
           "zerolinewidth": 2
          },
          "yaxis": {
           "automargin": true,
           "gridcolor": "white",
           "linecolor": "white",
           "ticks": "",
           "title": {
            "standoff": 15
           },
           "zerolinecolor": "white",
           "zerolinewidth": 2
          }
         }
        },
        "title": {
         "text": "Job Satisfaction vs number of employee",
         "x": 0.5
        },
        "width": 700,
        "xaxis": {
         "anchor": "y",
         "domain": [
          0,
          1
         ],
         "title": {
          "text": "Job Satisfaction"
         }
        },
        "yaxis": {
         "anchor": "x",
         "domain": [
          0,
          1
         ],
         "title": {
          "text": "count"
         }
        }
       }
      }
     },
     "metadata": {},
     "output_type": "display_data"
    }
   ],
   "source": [
    "fig = px.histogram(df, x=\"JobSatisfaction\", color=target_column_name, \n",
    "                   title=\"Job Satisfaction Histogram\", barmode='group')\n",
    "fig.update_layout(xaxis_title=\"Job Satisfaction\", height=300, width=700)\n",
    "fig.update_layout(title_text='Job Satisfaction vs number of employee', title_x=.5)\n",
    "fig.update_traces(textfont_size=12)\n",
    "fig.update_traces(textfont=dict(color=\"white\"))\n",
    "fig.show()\n"
   ]
  },
  {
   "cell_type": "markdown",
   "metadata": {},
   "source": [
    "### MonthlyIncome\n",
    "The monthly income of the employee. **Numerical**"
   ]
  },
  {
   "cell_type": "code",
   "execution_count": 367,
   "metadata": {},
   "outputs": [
    {
     "data": {
      "application/vnd.plotly.v1+json": {
       "config": {
        "plotlyServerURL": "https://plot.ly"
       },
       "data": [
        {
         "alignmentgroup": "True",
         "bingroup": "x",
         "hovertemplate": "Attrition=Yes<br>MonthlyIncome=%{x}<br>count=%{y}<extra></extra>",
         "legendgroup": "Yes",
         "marker": {
          "color": "#636efa",
          "pattern": {
           "shape": ""
          }
         },
         "name": "Yes",
         "offsetgroup": "Yes",
         "orientation": "v",
         "showlegend": true,
         "type": "histogram",
         "x": {
          "bdata": "aRcqCOwHTw2QC08PJgj1CHsK9QhZTAUVcQ08DZMlGQhuC3AWuhdjExwYSCiLBs8RmiloEBUJTgREDBwXERrXHaAoYQooGgoIVQmECZMKkg5AJ5cNnQ1JLlkMRQnEFowFTROIDXYURwh+CCMLiyTsGJwKuBQeDO0Ivw+CDC8J8gkECio1UA1gJt4mNg+1ClYHJAljEkYL8QeJEOELvhDxAxQN4RGMGqgIxwp+Cv0Yk03OFEEGDwnMFC5LHhHmHSgUPgnmB/AK6wpMCfwHhQpLENoKZAltCUkInQtVKHEprwmKMxEJZAlUCJ8OKAp2CakSaROFTbcK4hL6BxMJiAWdCRIi8ihuJZwRaw5JCQkJJAp4EokvcAcgIDIKqBy+NdMJ4hR4CyULOwiiCEMHXgSISUEKKh8LDRMTQA+GI/4g/gg6CRgnfzXhCgYSIxhaCbwQgR1PBe0EMBFwJz4OFh2KDrYKXQuFFvcRZAwBCjoJ4gf0D/IlGgi5J/cSaAkhBkIoQBV2COURlQ9fCnEF4wgTBogy9hdPGoQIyAp0IeEfhQl3Cl4JJgm1FuIUdRBkCN4ijAsfCbMmhwmSHDkEqAkDCRsKQwR+JoAJLws/CfEV0Cj+BrMSIwlIGmYq",
          "dtype": "i2"
         },
         "xaxis": "x",
         "yaxis": "y"
        },
        {
         "alignmentgroup": "True",
         "bingroup": "x",
         "hovertemplate": "Attrition=No<br>MonthlyIncome=%{x}<br>count=%{y}<extra></extra>",
         "legendgroup": "No",
         "marker": {
          "color": "#EF553B",
          "pattern": {
           "shape": ""
          }
         },
         "name": "No",
         "offsetgroup": "No",
         "orientation": "v",
         "showlegend": true,
         "type": "histogram",
         "x": {
          "bdata": "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",
          "dtype": "i2"
         },
         "xaxis": "x",
         "yaxis": "y"
        }
       ],
       "layout": {
        "barmode": "group",
        "height": 300,
        "legend": {
         "title": {
          "text": "Attrition"
         },
         "tracegroupgap": 0
        },
        "margin": {
         "t": 60
        },
        "template": {
         "data": {
          "bar": [
           {
            "error_x": {
             "color": "#2a3f5f"
            },
            "error_y": {
             "color": "#2a3f5f"
            },
            "marker": {
             "line": {
              "color": "#E5ECF6",
              "width": 0.5
             },
             "pattern": {
              "fillmode": "overlay",
              "size": 10,
              "solidity": 0.2
             }
            },
            "type": "bar"
           }
          ],
          "barpolar": [
           {
            "marker": {
             "line": {
              "color": "#E5ECF6",
              "width": 0.5
             },
             "pattern": {
              "fillmode": "overlay",
              "size": 10,
              "solidity": 0.2
             }
            },
            "type": "barpolar"
           }
          ],
          "carpet": [
           {
            "aaxis": {
             "endlinecolor": "#2a3f5f",
             "gridcolor": "white",
             "linecolor": "white",
             "minorgridcolor": "white",
             "startlinecolor": "#2a3f5f"
            },
            "baxis": {
             "endlinecolor": "#2a3f5f",
             "gridcolor": "white",
             "linecolor": "white",
             "minorgridcolor": "white",
             "startlinecolor": "#2a3f5f"
            },
            "type": "carpet"
           }
          ],
          "choropleth": [
           {
            "colorbar": {
             "outlinewidth": 0,
             "ticks": ""
            },
            "type": "choropleth"
           }
          ],
          "contour": [
           {
            "colorbar": {
             "outlinewidth": 0,
             "ticks": ""
            },
            "colorscale": [
             [
              0,
              "#0d0887"
             ],
             [
              0.1111111111111111,
              "#46039f"
             ],
             [
              0.2222222222222222,
              "#7201a8"
             ],
             [
              0.3333333333333333,
              "#9c179e"
             ],
             [
              0.4444444444444444,
              "#bd3786"
             ],
             [
              0.5555555555555556,
              "#d8576b"
             ],
             [
              0.6666666666666666,
              "#ed7953"
             ],
             [
              0.7777777777777778,
              "#fb9f3a"
             ],
             [
              0.8888888888888888,
              "#fdca26"
             ],
             [
              1,
              "#f0f921"
             ]
            ],
            "type": "contour"
           }
          ],
          "contourcarpet": [
           {
            "colorbar": {
             "outlinewidth": 0,
             "ticks": ""
            },
            "type": "contourcarpet"
           }
          ],
          "heatmap": [
           {
            "colorbar": {
             "outlinewidth": 0,
             "ticks": ""
            },
            "colorscale": [
             [
              0,
              "#0d0887"
             ],
             [
              0.1111111111111111,
              "#46039f"
             ],
             [
              0.2222222222222222,
              "#7201a8"
             ],
             [
              0.3333333333333333,
              "#9c179e"
             ],
             [
              0.4444444444444444,
              "#bd3786"
             ],
             [
              0.5555555555555556,
              "#d8576b"
             ],
             [
              0.6666666666666666,
              "#ed7953"
             ],
             [
              0.7777777777777778,
              "#fb9f3a"
             ],
             [
              0.8888888888888888,
              "#fdca26"
             ],
             [
              1,
              "#f0f921"
             ]
            ],
            "type": "heatmap"
           }
          ],
          "histogram": [
           {
            "marker": {
             "pattern": {
              "fillmode": "overlay",
              "size": 10,
              "solidity": 0.2
             }
            },
            "type": "histogram"
           }
          ],
          "histogram2d": [
           {
            "colorbar": {
             "outlinewidth": 0,
             "ticks": ""
            },
            "colorscale": [
             [
              0,
              "#0d0887"
             ],
             [
              0.1111111111111111,
              "#46039f"
             ],
             [
              0.2222222222222222,
              "#7201a8"
             ],
             [
              0.3333333333333333,
              "#9c179e"
             ],
             [
              0.4444444444444444,
              "#bd3786"
             ],
             [
              0.5555555555555556,
              "#d8576b"
             ],
             [
              0.6666666666666666,
              "#ed7953"
             ],
             [
              0.7777777777777778,
              "#fb9f3a"
             ],
             [
              0.8888888888888888,
              "#fdca26"
             ],
             [
              1,
              "#f0f921"
             ]
            ],
            "type": "histogram2d"
           }
          ],
          "histogram2dcontour": [
           {
            "colorbar": {
             "outlinewidth": 0,
             "ticks": ""
            },
            "colorscale": [
             [
              0,
              "#0d0887"
             ],
             [
              0.1111111111111111,
              "#46039f"
             ],
             [
              0.2222222222222222,
              "#7201a8"
             ],
             [
              0.3333333333333333,
              "#9c179e"
             ],
             [
              0.4444444444444444,
              "#bd3786"
             ],
             [
              0.5555555555555556,
              "#d8576b"
             ],
             [
              0.6666666666666666,
              "#ed7953"
             ],
             [
              0.7777777777777778,
              "#fb9f3a"
             ],
             [
              0.8888888888888888,
              "#fdca26"
             ],
             [
              1,
              "#f0f921"
             ]
            ],
            "type": "histogram2dcontour"
           }
          ],
          "mesh3d": [
           {
            "colorbar": {
             "outlinewidth": 0,
             "ticks": ""
            },
            "type": "mesh3d"
           }
          ],
          "parcoords": [
           {
            "line": {
             "colorbar": {
              "outlinewidth": 0,
              "ticks": ""
             }
            },
            "type": "parcoords"
           }
          ],
          "pie": [
           {
            "automargin": true,
            "type": "pie"
           }
          ],
          "scatter": [
           {
            "fillpattern": {
             "fillmode": "overlay",
             "size": 10,
             "solidity": 0.2
            },
            "type": "scatter"
           }
          ],
          "scatter3d": [
           {
            "line": {
             "colorbar": {
              "outlinewidth": 0,
              "ticks": ""
             }
            },
            "marker": {
             "colorbar": {
              "outlinewidth": 0,
              "ticks": ""
             }
            },
            "type": "scatter3d"
           }
          ],
          "scattercarpet": [
           {
            "marker": {
             "colorbar": {
              "outlinewidth": 0,
              "ticks": ""
             }
            },
            "type": "scattercarpet"
           }
          ],
          "scattergeo": [
           {
            "marker": {
             "colorbar": {
              "outlinewidth": 0,
              "ticks": ""
             }
            },
            "type": "scattergeo"
           }
          ],
          "scattergl": [
           {
            "marker": {
             "colorbar": {
              "outlinewidth": 0,
              "ticks": ""
             }
            },
            "type": "scattergl"
           }
          ],
          "scattermap": [
           {
            "marker": {
             "colorbar": {
              "outlinewidth": 0,
              "ticks": ""
             }
            },
            "type": "scattermap"
           }
          ],
          "scattermapbox": [
           {
            "marker": {
             "colorbar": {
              "outlinewidth": 0,
              "ticks": ""
             }
            },
            "type": "scattermapbox"
           }
          ],
          "scatterpolar": [
           {
            "marker": {
             "colorbar": {
              "outlinewidth": 0,
              "ticks": ""
             }
            },
            "type": "scatterpolar"
           }
          ],
          "scatterpolargl": [
           {
            "marker": {
             "colorbar": {
              "outlinewidth": 0,
              "ticks": ""
             }
            },
            "type": "scatterpolargl"
           }
          ],
          "scatterternary": [
           {
            "marker": {
             "colorbar": {
              "outlinewidth": 0,
              "ticks": ""
             }
            },
            "type": "scatterternary"
           }
          ],
          "surface": [
           {
            "colorbar": {
             "outlinewidth": 0,
             "ticks": ""
            },
            "colorscale": [
             [
              0,
              "#0d0887"
             ],
             [
              0.1111111111111111,
              "#46039f"
             ],
             [
              0.2222222222222222,
              "#7201a8"
             ],
             [
              0.3333333333333333,
              "#9c179e"
             ],
             [
              0.4444444444444444,
              "#bd3786"
             ],
             [
              0.5555555555555556,
              "#d8576b"
             ],
             [
              0.6666666666666666,
              "#ed7953"
             ],
             [
              0.7777777777777778,
              "#fb9f3a"
             ],
             [
              0.8888888888888888,
              "#fdca26"
             ],
             [
              1,
              "#f0f921"
             ]
            ],
            "type": "surface"
           }
          ],
          "table": [
           {
            "cells": {
             "fill": {
              "color": "#EBF0F8"
             },
             "line": {
              "color": "white"
             }
            },
            "header": {
             "fill": {
              "color": "#C8D4E3"
             },
             "line": {
              "color": "white"
             }
            },
            "type": "table"
           }
          ]
         },
         "layout": {
          "annotationdefaults": {
           "arrowcolor": "#2a3f5f",
           "arrowhead": 0,
           "arrowwidth": 1
          },
          "autotypenumbers": "strict",
          "coloraxis": {
           "colorbar": {
            "outlinewidth": 0,
            "ticks": ""
           }
          },
          "colorscale": {
           "diverging": [
            [
             0,
             "#8e0152"
            ],
            [
             0.1,
             "#c51b7d"
            ],
            [
             0.2,
             "#de77ae"
            ],
            [
             0.3,
             "#f1b6da"
            ],
            [
             0.4,
             "#fde0ef"
            ],
            [
             0.5,
             "#f7f7f7"
            ],
            [
             0.6,
             "#e6f5d0"
            ],
            [
             0.7,
             "#b8e186"
            ],
            [
             0.8,
             "#7fbc41"
            ],
            [
             0.9,
             "#4d9221"
            ],
            [
             1,
             "#276419"
            ]
           ],
           "sequential": [
            [
             0,
             "#0d0887"
            ],
            [
             0.1111111111111111,
             "#46039f"
            ],
            [
             0.2222222222222222,
             "#7201a8"
            ],
            [
             0.3333333333333333,
             "#9c179e"
            ],
            [
             0.4444444444444444,
             "#bd3786"
            ],
            [
             0.5555555555555556,
             "#d8576b"
            ],
            [
             0.6666666666666666,
             "#ed7953"
            ],
            [
             0.7777777777777778,
             "#fb9f3a"
            ],
            [
             0.8888888888888888,
             "#fdca26"
            ],
            [
             1,
             "#f0f921"
            ]
           ],
           "sequentialminus": [
            [
             0,
             "#0d0887"
            ],
            [
             0.1111111111111111,
             "#46039f"
            ],
            [
             0.2222222222222222,
             "#7201a8"
            ],
            [
             0.3333333333333333,
             "#9c179e"
            ],
            [
             0.4444444444444444,
             "#bd3786"
            ],
            [
             0.5555555555555556,
             "#d8576b"
            ],
            [
             0.6666666666666666,
             "#ed7953"
            ],
            [
             0.7777777777777778,
             "#fb9f3a"
            ],
            [
             0.8888888888888888,
             "#fdca26"
            ],
            [
             1,
             "#f0f921"
            ]
           ]
          },
          "colorway": [
           "#636efa",
           "#EF553B",
           "#00cc96",
           "#ab63fa",
           "#FFA15A",
           "#19d3f3",
           "#FF6692",
           "#B6E880",
           "#FF97FF",
           "#FECB52"
          ],
          "font": {
           "color": "#2a3f5f"
          },
          "geo": {
           "bgcolor": "white",
           "lakecolor": "white",
           "landcolor": "#E5ECF6",
           "showlakes": true,
           "showland": true,
           "subunitcolor": "white"
          },
          "hoverlabel": {
           "align": "left"
          },
          "hovermode": "closest",
          "mapbox": {
           "style": "light"
          },
          "paper_bgcolor": "white",
          "plot_bgcolor": "#E5ECF6",
          "polar": {
           "angularaxis": {
            "gridcolor": "white",
            "linecolor": "white",
            "ticks": ""
           },
           "bgcolor": "#E5ECF6",
           "radialaxis": {
            "gridcolor": "white",
            "linecolor": "white",
            "ticks": ""
           }
          },
          "scene": {
           "xaxis": {
            "backgroundcolor": "#E5ECF6",
            "gridcolor": "white",
            "gridwidth": 2,
            "linecolor": "white",
            "showbackground": true,
            "ticks": "",
            "zerolinecolor": "white"
           },
           "yaxis": {
            "backgroundcolor": "#E5ECF6",
            "gridcolor": "white",
            "gridwidth": 2,
            "linecolor": "white",
            "showbackground": true,
            "ticks": "",
            "zerolinecolor": "white"
           },
           "zaxis": {
            "backgroundcolor": "#E5ECF6",
            "gridcolor": "white",
            "gridwidth": 2,
            "linecolor": "white",
            "showbackground": true,
            "ticks": "",
            "zerolinecolor": "white"
           }
          },
          "shapedefaults": {
           "line": {
            "color": "#2a3f5f"
           }
          },
          "ternary": {
           "aaxis": {
            "gridcolor": "white",
            "linecolor": "white",
            "ticks": ""
           },
           "baxis": {
            "gridcolor": "white",
            "linecolor": "white",
            "ticks": ""
           },
           "bgcolor": "#E5ECF6",
           "caxis": {
            "gridcolor": "white",
            "linecolor": "white",
            "ticks": ""
           }
          },
          "title": {
           "x": 0.05
          },
          "xaxis": {
           "automargin": true,
           "gridcolor": "white",
           "linecolor": "white",
           "ticks": "",
           "title": {
            "standoff": 15
           },
           "zerolinecolor": "white",
           "zerolinewidth": 2
          },
          "yaxis": {
           "automargin": true,
           "gridcolor": "white",
           "linecolor": "white",
           "ticks": "",
           "title": {
            "standoff": 15
           },
           "zerolinecolor": "white",
           "zerolinewidth": 2
          }
         }
        },
        "title": {
         "text": "Monthly Income vs number of employee",
         "x": 0.5
        },
        "width": 700,
        "xaxis": {
         "anchor": "y",
         "domain": [
          0,
          1
         ],
         "tickmode": "array",
         "ticktext": [
          "0",
          "10k",
          "20k",
          "30k",
          "40k",
          "50k"
         ],
         "tickvals": [
          0,
          10000,
          20000,
          30000,
          40000,
          50000
         ],
         "title": {
          "text": "Monthly Income"
         }
        },
        "yaxis": {
         "anchor": "x",
         "domain": [
          0,
          1
         ],
         "title": {
          "text": "count"
         }
        }
       }
      }
     },
     "metadata": {},
     "output_type": "display_data"
    }
   ],
   "source": [
    "px.histogram(\n",
    "    df, x=\"MonthlyIncome\", color=target_column_name, barmode=\"group\"\n",
    ").update_layout(\n",
    "    title_text=\"Monthly Income vs number of employee\",\n",
    "    title_x=0.5,\n",
    "    xaxis_title=\"Monthly Income\",\n",
    "    height=300,\n",
    "    width=700,\n",
    "    xaxis=dict(\n",
    "        tickmode=\"array\",\n",
    "        tickvals=[0, 10000, 20000, 30000, 40000, 50000],\n",
    "        ticktext=[\"0\", \"10k\", \"20k\", \"30k\", \"40k\", \"50k\"],\n",
    "    ),\n",
    ").show()"
   ]
  },
  {
   "cell_type": "markdown",
   "metadata": {},
   "source": [
    "### OverTime\n",
    "Whether or not the employee works overtime. **Categorical**"
   ]
  },
  {
   "cell_type": "code",
   "execution_count": 368,
   "metadata": {},
   "outputs": [
    {
     "data": {
      "application/vnd.plotly.v1+json": {
       "config": {
        "plotlyServerURL": "https://plot.ly"
       },
       "data": [
        {
         "hovertemplate": "EmployeeNumber=%{x}<br>Age=%{y}<br>Attrition=%{marker.color}<extra></extra>",
         "legendgroup": "",
         "marker": {
          "color": {
           "bdata": "AQABAAAAAAAAAAAAAAABAAAAAAAAAQAAAQABAAAAAAAAAQEAAQAAAAAAAQAAAQAAAAABAQAAAAAAAAAAAAAAAAAAAAAAAQAAAAAAAAAAAAAAAAAAAAAAAAABAAAAAAAAAAAAAAEAAQAAAAABAAAAAQAAAAAAAAAAAAABAAEAAQEAAAAAAQAAAAEAAAABAAAAAAAAAAAAAAAAAAAAAAAAAAAAAAAAAAAAAAAAAQAAAAAAAQAAAAABAAAAAAAAAAAAAQAAAAAAAAAAAAAAAQEAAAAAAQAAAAEAAQEAAAAAAAAAAAAAAAEAAAAAAQABAAABAAAAAAAAAAAAAAEAAAAAAAAAAAEAAAAAAQAAAAAAAAEAAAAAAAAAAAAAAAAAAAEAAQAAAAABAAABAAAAAAAAAAAAAAAAAAAAAAAAAAABAAAAAAABAAAAAQAAAAAAAAAAAQAAAAAAAAAAAAAAAAAAAAAAAAAAAQAAAAAAAQAAAQABAAEAAAAAAAAAAQAAAAEAAAEAAAAAAAAAAAAAAAAAAAAAAAAAAQAAAAAAAAAAAQEAAAAAAAEBAAAAAAAAAAAAAAAAAQEAAAEBAAABAAAAAAAAAAAAAQAAAAEAAAAAAAEAAAAAAAEAAAAAAAAAAAABAQABAAAAAAAAAAAAAAAAAQAAAAAAAAAAAQAAAAAAAAAAAQEAAAAAAAAAAAAAAQAAAQAAAAAAAAAAAAAAAQAAAAAAAAEAAAAAAAAAAAAAAAAAAAEAAAABAAEAAAAAAQAAAAAAAAAAAAAAAQAAAAEAAQAAAAEAAAEAAAAAAAAAAAEBAAAAAAABAAAAAAAAAAAAAAAAAAAAAAAAAAAAAQAAAAAAAAAAAQAAAAAAAAAAAAABAAAAAQABAQAAAQEAAQAAAAAAAAAAAAAAAAABAAAAAAEBAAAAAQABAAAAAAEAAAAAAAEAAAEAAQAAAAAAAAAAAQAAAAABAAAAAAABAQAAAAAAAAAAAAAAAQAAAAEBAAABAAAAAAAAAAABAQAAAAAAAAAAAAAAAAABAQABAQAAAAAAAAAAAQABAQAAAAEBAQABAQAAAAAAAAAAAAAAAQAAAAAAAAAAAAAAAAAAAQEAAQAAAAABAAEAAAABAAAAAAAAAQAAAAAAAAABAAABAAAAAQAAAAAAAAEAAAAAAAAAAAAAAAAAAAAAAAAAAAEAAAAAAAAAAAAAAAAAAAAAAAABAAEAAQAAAAAAAAAAAAAAAAEAAAABAAAAAAAAAQEAAAAAAAEBAAAAAAEBAAAAAAAAAAAAAAAAAQAAAAAAAAAAAQAAAAABAQAAAAEAAAAAAAAAAAAAAAEAAAAAAAAAAAEBAAAAAAEAAAABAAAAAAEAAAAAAAAAAAABAQEAAAEAAAEAAAAAAAAAAAAAAAAAAAAAAQEBAAEAAAAAAAAAAQAAAAAAAAAAAQAAAAAAAQABAAAAAAAAAAAAAAAAAAAAAAAAAAABAAAAAQEBAAAAAAAAAAAAAAAAAAAAAAAAAAAAAAABAAAAAAAAAAAAAAAAAAAAAAEAAAAAAAAAAAEAAAAAAQAAAAEAAAAAAAAAAAAAAAAAAAEAAAAAAAAAAAAAAAAAAAEAAAEBAAAAAAAAAAEAAAAAAAAAAAEBAAAAAAAAAAAAAAAAAQEAAAAAAAAAAAEAAAEAAAAAAAEAAQAAAAABAAAAAAAAAAABAAEAAAAAAAEAAQAAAAAAAAAAAQEAAAAAAAEBAAAAAAAAAAAAAAAAAAEBAAAAAAAAAAAAAAAAAQAAAAAAAQEAAAAAAQEAAAAAAAAAAAAAAAAAAQEAAAAAAAAAAAAAAQAAAAEAAAAAAAEAAAABAAAAAAAAAAAAAAEAAAAAAQEAAAAAAAAAAAAAAAAAAAAAAAAAAAAAAAAAAAAAAAAAAAAAAAAAAAAAAAEAAAABAAEAAAAAAAAAAQAAAAAAAAAAAQAAAAAAAAAA",
           "dtype": "i1"
          },
          "coloraxis": "coloraxis",
          "symbol": "circle"
         },
         "mode": "markers",
         "name": "",
         "showlegend": false,
         "type": "scattergl",
         "x": {
          "bdata": "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",
          "dtype": "i2"
         },
         "xaxis": "x",
         "y": {
          "bdata": "KTElIRsgOx4mJCMdHyIcHSAWNSYYJCIVIjUgKiwuISweJxgrMiMkISMbGhseKSIlLiMwHCwjGiEjIx8lICYyOyQ3JC0jJDsdHyAkHyMtJS4eIzcmIjgXMx4uKDMeLiA2GBw6LCUgFCIlOzIZGRYzIjYYIiUiJCQrHiE4Mx8aOhMWMSsyHykaJDMnGR4gLSYeIB4eKSkTKCM1LSAdMzooIhYbHDkbMikeJiAbEyQeLTghEy4mHyIpMjUhKDciMzQbIystJSMqJiYbMSIoJh0WJCguIB4bMx4pHh0tNiQhJSYfOyUdIx00KjsyISshNCAgJyApKC0fISIlLSUnHSodGSooMx8gJiAuHB0fGS0kNy8cJRUlIyYaMjUqHTcaJSwmGhwxJB8aJSoSIyQzKRIcHyckICY6Hx8tHyEnKzE0GyAbHyAcHh8nJyEvKxs2Ky0oHR0eGyUmHx0jFykvKh0qIDAlHhoqFSQkOSgVISUuKTIoHxUdIxscMTMkIjcYHhoWJB4lKColKyg2Ih8rKxklHyc4HikcGTQtNCoePC4qGCImKBoeHR0THjkyHjwvLiM2Ii4fISEeIx8iKiQWMDcpIygnHyotGh0hHxIoKRojIholLiklNCAYJiUxGBoYMhkYHiIfIx8bJRQqKyYrMCwiGxUsFiEgHjUiLRolHSMhNiQbFCEjFxkmHTAbJTIiGCcgMiYbIC8oNSk8GykyHCQmLC8eHSorIhcnOCgbHTUjICYiNCEZLRcvIjckNBodGiI2GyUmIiMeKCIqFxg0Mh0hIS8kHTojKhwkICgeLSomIjE3KxsjHCIaGzMsGSEjJCAeNS0gNCUcFiwqJBkjIyAZMRggJiofHTUjJTUrLyUyJyEgHSwcOisUFSQvFikcJxsiKiE6HyMxMB8kJiAZKBopJBMUHyggJCElLR0jNDo1HiYjJygvJB8hHSEtMiEpGy0vHjImLhgjHxI2Ix4UHhoWMDApJxsjKjI7JTcpJho0LDIkJyEtICI7LTUkGiIcJjIlKBouNjgkNysUFS4zHBoeKSYoGzccLCEjIRwiJRkaISocMiEiMC00Jh0cLiYrJygVJyQfHCMxIh0qHSYcEiEpHyUbIiMdKCoqIxgcGh4oIyIjKyA4HRMtJRQsNR0WLiwhKR4oMhwuIxghJB4sFC4qPCAgJCEoGR4qIxs2LBMdNh8fOysxJDAbHTAdIiwhExcZGi03FS4iMzsiHCwiIyorJCwcMx4dHBkgLSc6ICceJC4cMig0HicfKR8sKjc4KCIoKSMzJiIZOigkMBszEiMbNzgiKCIfIyYiHB8nMyklISAnGTQrGxsaKjQlIxkaHTEdNjo3JB8eHyIfGyQkLxklOC8YICIpKB8uJx8tHx8tMCIoHCw1MSgsISIeKiweOTEiHB0iIxgYLB0eNyEvHBwcMR0cISA2HSwnLiMXKCIfMiIqJR0hLSooISgYKC0jICQwHSEeJiMeIzUmIDAiNyIaJiYkHSMnHTIXJCojIigrIy4cFjIgLB4tLR8kIjEnGyMcFRIvJygjJSctJiMlKCwwIxgbGygdJBknMTIUIiQxJCQ2KyMmHSEgHzEmLzEpFCEkLBcmNTAgGjciPCElIhcsIysYKR0kLRgvGi0gHykoGC4jHi8uJCAXHycgKC0eGB4fGx0dHiIhMSEmHx0eICYrKjchKSI1KyIVJhYfMyUuJCwlIyEcJy4oKiMmIiUnKykpHhouKCI6Iy8oNh8cJho6Eh8dLSQrGx0gKi8uHB0qIC4bHSswHS4bJzccHhYkHyIdJSMtJCgaGzAsIjgkKSofIh8aLSEcHScbIhwvOCcmOiAmMSobIxwfJCIiGh0gHxwmIxsgHzU2ISsmNx8nKh82GBcoKBkeGS8hJh8mKikvIxYjISAoICcmICUZNCwVJxckJDgdKjgpIiQpICMmMiQtKCMoIx0dMicfGiQnGzEi",
          "dtype": "i1"
         },
         "yaxis": "y"
        }
       ],
       "layout": {
        "coloraxis": {
         "colorbar": {
          "title": {
           "text": "Attrition"
          }
         },
         "colorscale": [
          [
           0,
           "#440154"
          ],
          [
           0.1111111111111111,
           "#482878"
          ],
          [
           0.2222222222222222,
           "#3e4989"
          ],
          [
           0.3333333333333333,
           "#31688e"
          ],
          [
           0.4444444444444444,
           "#26828e"
          ],
          [
           0.5555555555555556,
           "#1f9e89"
          ],
          [
           0.6666666666666666,
           "#35b779"
          ],
          [
           0.7777777777777778,
           "#6ece58"
          ],
          [
           0.8888888888888888,
           "#b5de2b"
          ],
          [
           1,
           "#fde725"
          ]
         ]
        },
        "legend": {
         "tracegroupgap": 0
        },
        "template": {
         "data": {
          "bar": [
           {
            "error_x": {
             "color": "#2a3f5f"
            },
            "error_y": {
             "color": "#2a3f5f"
            },
            "marker": {
             "line": {
              "color": "#E5ECF6",
              "width": 0.5
             },
             "pattern": {
              "fillmode": "overlay",
              "size": 10,
              "solidity": 0.2
             }
            },
            "type": "bar"
           }
          ],
          "barpolar": [
           {
            "marker": {
             "line": {
              "color": "#E5ECF6",
              "width": 0.5
             },
             "pattern": {
              "fillmode": "overlay",
              "size": 10,
              "solidity": 0.2
             }
            },
            "type": "barpolar"
           }
          ],
          "carpet": [
           {
            "aaxis": {
             "endlinecolor": "#2a3f5f",
             "gridcolor": "white",
             "linecolor": "white",
             "minorgridcolor": "white",
             "startlinecolor": "#2a3f5f"
            },
            "baxis": {
             "endlinecolor": "#2a3f5f",
             "gridcolor": "white",
             "linecolor": "white",
             "minorgridcolor": "white",
             "startlinecolor": "#2a3f5f"
            },
            "type": "carpet"
           }
          ],
          "choropleth": [
           {
            "colorbar": {
             "outlinewidth": 0,
             "ticks": ""
            },
            "type": "choropleth"
           }
          ],
          "contour": [
           {
            "colorbar": {
             "outlinewidth": 0,
             "ticks": ""
            },
            "colorscale": [
             [
              0,
              "#0d0887"
             ],
             [
              0.1111111111111111,
              "#46039f"
             ],
             [
              0.2222222222222222,
              "#7201a8"
             ],
             [
              0.3333333333333333,
              "#9c179e"
             ],
             [
              0.4444444444444444,
              "#bd3786"
             ],
             [
              0.5555555555555556,
              "#d8576b"
             ],
             [
              0.6666666666666666,
              "#ed7953"
             ],
             [
              0.7777777777777778,
              "#fb9f3a"
             ],
             [
              0.8888888888888888,
              "#fdca26"
             ],
             [
              1,
              "#f0f921"
             ]
            ],
            "type": "contour"
           }
          ],
          "contourcarpet": [
           {
            "colorbar": {
             "outlinewidth": 0,
             "ticks": ""
            },
            "type": "contourcarpet"
           }
          ],
          "heatmap": [
           {
            "colorbar": {
             "outlinewidth": 0,
             "ticks": ""
            },
            "colorscale": [
             [
              0,
              "#0d0887"
             ],
             [
              0.1111111111111111,
              "#46039f"
             ],
             [
              0.2222222222222222,
              "#7201a8"
             ],
             [
              0.3333333333333333,
              "#9c179e"
             ],
             [
              0.4444444444444444,
              "#bd3786"
             ],
             [
              0.5555555555555556,
              "#d8576b"
             ],
             [
              0.6666666666666666,
              "#ed7953"
             ],
             [
              0.7777777777777778,
              "#fb9f3a"
             ],
             [
              0.8888888888888888,
              "#fdca26"
             ],
             [
              1,
              "#f0f921"
             ]
            ],
            "type": "heatmap"
           }
          ],
          "histogram": [
           {
            "marker": {
             "pattern": {
              "fillmode": "overlay",
              "size": 10,
              "solidity": 0.2
             }
            },
            "type": "histogram"
           }
          ],
          "histogram2d": [
           {
            "colorbar": {
             "outlinewidth": 0,
             "ticks": ""
            },
            "colorscale": [
             [
              0,
              "#0d0887"
             ],
             [
              0.1111111111111111,
              "#46039f"
             ],
             [
              0.2222222222222222,
              "#7201a8"
             ],
             [
              0.3333333333333333,
              "#9c179e"
             ],
             [
              0.4444444444444444,
              "#bd3786"
             ],
             [
              0.5555555555555556,
              "#d8576b"
             ],
             [
              0.6666666666666666,
              "#ed7953"
             ],
             [
              0.7777777777777778,
              "#fb9f3a"
             ],
             [
              0.8888888888888888,
              "#fdca26"
             ],
             [
              1,
              "#f0f921"
             ]
            ],
            "type": "histogram2d"
           }
          ],
          "histogram2dcontour": [
           {
            "colorbar": {
             "outlinewidth": 0,
             "ticks": ""
            },
            "colorscale": [
             [
              0,
              "#0d0887"
             ],
             [
              0.1111111111111111,
              "#46039f"
             ],
             [
              0.2222222222222222,
              "#7201a8"
             ],
             [
              0.3333333333333333,
              "#9c179e"
             ],
             [
              0.4444444444444444,
              "#bd3786"
             ],
             [
              0.5555555555555556,
              "#d8576b"
             ],
             [
              0.6666666666666666,
              "#ed7953"
             ],
             [
              0.7777777777777778,
              "#fb9f3a"
             ],
             [
              0.8888888888888888,
              "#fdca26"
             ],
             [
              1,
              "#f0f921"
             ]
            ],
            "type": "histogram2dcontour"
           }
          ],
          "mesh3d": [
           {
            "colorbar": {
             "outlinewidth": 0,
             "ticks": ""
            },
            "type": "mesh3d"
           }
          ],
          "parcoords": [
           {
            "line": {
             "colorbar": {
              "outlinewidth": 0,
              "ticks": ""
             }
            },
            "type": "parcoords"
           }
          ],
          "pie": [
           {
            "automargin": true,
            "type": "pie"
           }
          ],
          "scatter": [
           {
            "fillpattern": {
             "fillmode": "overlay",
             "size": 10,
             "solidity": 0.2
            },
            "type": "scatter"
           }
          ],
          "scatter3d": [
           {
            "line": {
             "colorbar": {
              "outlinewidth": 0,
              "ticks": ""
             }
            },
            "marker": {
             "colorbar": {
              "outlinewidth": 0,
              "ticks": ""
             }
            },
            "type": "scatter3d"
           }
          ],
          "scattercarpet": [
           {
            "marker": {
             "colorbar": {
              "outlinewidth": 0,
              "ticks": ""
             }
            },
            "type": "scattercarpet"
           }
          ],
          "scattergeo": [
           {
            "marker": {
             "colorbar": {
              "outlinewidth": 0,
              "ticks": ""
             }
            },
            "type": "scattergeo"
           }
          ],
          "scattergl": [
           {
            "marker": {
             "colorbar": {
              "outlinewidth": 0,
              "ticks": ""
             }
            },
            "type": "scattergl"
           }
          ],
          "scattermap": [
           {
            "marker": {
             "colorbar": {
              "outlinewidth": 0,
              "ticks": ""
             }
            },
            "type": "scattermap"
           }
          ],
          "scattermapbox": [
           {
            "marker": {
             "colorbar": {
              "outlinewidth": 0,
              "ticks": ""
             }
            },
            "type": "scattermapbox"
           }
          ],
          "scatterpolar": [
           {
            "marker": {
             "colorbar": {
              "outlinewidth": 0,
              "ticks": ""
             }
            },
            "type": "scatterpolar"
           }
          ],
          "scatterpolargl": [
           {
            "marker": {
             "colorbar": {
              "outlinewidth": 0,
              "ticks": ""
             }
            },
            "type": "scatterpolargl"
           }
          ],
          "scatterternary": [
           {
            "marker": {
             "colorbar": {
              "outlinewidth": 0,
              "ticks": ""
             }
            },
            "type": "scatterternary"
           }
          ],
          "surface": [
           {
            "colorbar": {
             "outlinewidth": 0,
             "ticks": ""
            },
            "colorscale": [
             [
              0,
              "#0d0887"
             ],
             [
              0.1111111111111111,
              "#46039f"
             ],
             [
              0.2222222222222222,
              "#7201a8"
             ],
             [
              0.3333333333333333,
              "#9c179e"
             ],
             [
              0.4444444444444444,
              "#bd3786"
             ],
             [
              0.5555555555555556,
              "#d8576b"
             ],
             [
              0.6666666666666666,
              "#ed7953"
             ],
             [
              0.7777777777777778,
              "#fb9f3a"
             ],
             [
              0.8888888888888888,
              "#fdca26"
             ],
             [
              1,
              "#f0f921"
             ]
            ],
            "type": "surface"
           }
          ],
          "table": [
           {
            "cells": {
             "fill": {
              "color": "#EBF0F8"
             },
             "line": {
              "color": "white"
             }
            },
            "header": {
             "fill": {
              "color": "#C8D4E3"
             },
             "line": {
              "color": "white"
             }
            },
            "type": "table"
           }
          ]
         },
         "layout": {
          "annotationdefaults": {
           "arrowcolor": "#2a3f5f",
           "arrowhead": 0,
           "arrowwidth": 1
          },
          "autotypenumbers": "strict",
          "coloraxis": {
           "colorbar": {
            "outlinewidth": 0,
            "ticks": ""
           }
          },
          "colorscale": {
           "diverging": [
            [
             0,
             "#8e0152"
            ],
            [
             0.1,
             "#c51b7d"
            ],
            [
             0.2,
             "#de77ae"
            ],
            [
             0.3,
             "#f1b6da"
            ],
            [
             0.4,
             "#fde0ef"
            ],
            [
             0.5,
             "#f7f7f7"
            ],
            [
             0.6,
             "#e6f5d0"
            ],
            [
             0.7,
             "#b8e186"
            ],
            [
             0.8,
             "#7fbc41"
            ],
            [
             0.9,
             "#4d9221"
            ],
            [
             1,
             "#276419"
            ]
           ],
           "sequential": [
            [
             0,
             "#0d0887"
            ],
            [
             0.1111111111111111,
             "#46039f"
            ],
            [
             0.2222222222222222,
             "#7201a8"
            ],
            [
             0.3333333333333333,
             "#9c179e"
            ],
            [
             0.4444444444444444,
             "#bd3786"
            ],
            [
             0.5555555555555556,
             "#d8576b"
            ],
            [
             0.6666666666666666,
             "#ed7953"
            ],
            [
             0.7777777777777778,
             "#fb9f3a"
            ],
            [
             0.8888888888888888,
             "#fdca26"
            ],
            [
             1,
             "#f0f921"
            ]
           ],
           "sequentialminus": [
            [
             0,
             "#0d0887"
            ],
            [
             0.1111111111111111,
             "#46039f"
            ],
            [
             0.2222222222222222,
             "#7201a8"
            ],
            [
             0.3333333333333333,
             "#9c179e"
            ],
            [
             0.4444444444444444,
             "#bd3786"
            ],
            [
             0.5555555555555556,
             "#d8576b"
            ],
            [
             0.6666666666666666,
             "#ed7953"
            ],
            [
             0.7777777777777778,
             "#fb9f3a"
            ],
            [
             0.8888888888888888,
             "#fdca26"
            ],
            [
             1,
             "#f0f921"
            ]
           ]
          },
          "colorway": [
           "#636efa",
           "#EF553B",
           "#00cc96",
           "#ab63fa",
           "#FFA15A",
           "#19d3f3",
           "#FF6692",
           "#B6E880",
           "#FF97FF",
           "#FECB52"
          ],
          "font": {
           "color": "#2a3f5f"
          },
          "geo": {
           "bgcolor": "white",
           "lakecolor": "white",
           "landcolor": "#E5ECF6",
           "showlakes": true,
           "showland": true,
           "subunitcolor": "white"
          },
          "hoverlabel": {
           "align": "left"
          },
          "hovermode": "closest",
          "mapbox": {
           "style": "light"
          },
          "paper_bgcolor": "white",
          "plot_bgcolor": "#E5ECF6",
          "polar": {
           "angularaxis": {
            "gridcolor": "white",
            "linecolor": "white",
            "ticks": ""
           },
           "bgcolor": "#E5ECF6",
           "radialaxis": {
            "gridcolor": "white",
            "linecolor": "white",
            "ticks": ""
           }
          },
          "scene": {
           "xaxis": {
            "backgroundcolor": "#E5ECF6",
            "gridcolor": "white",
            "gridwidth": 2,
            "linecolor": "white",
            "showbackground": true,
            "ticks": "",
            "zerolinecolor": "white"
           },
           "yaxis": {
            "backgroundcolor": "#E5ECF6",
            "gridcolor": "white",
            "gridwidth": 2,
            "linecolor": "white",
            "showbackground": true,
            "ticks": "",
            "zerolinecolor": "white"
           },
           "zaxis": {
            "backgroundcolor": "#E5ECF6",
            "gridcolor": "white",
            "gridwidth": 2,
            "linecolor": "white",
            "showbackground": true,
            "ticks": "",
            "zerolinecolor": "white"
           }
          },
          "shapedefaults": {
           "line": {
            "color": "#2a3f5f"
           }
          },
          "ternary": {
           "aaxis": {
            "gridcolor": "white",
            "linecolor": "white",
            "ticks": ""
           },
           "baxis": {
            "gridcolor": "white",
            "linecolor": "white",
            "ticks": ""
           },
           "bgcolor": "#E5ECF6",
           "caxis": {
            "gridcolor": "white",
            "linecolor": "white",
            "ticks": ""
           }
          },
          "title": {
           "x": 0.05
          },
          "xaxis": {
           "automargin": true,
           "gridcolor": "white",
           "linecolor": "white",
           "ticks": "",
           "title": {
            "standoff": 15
           },
           "zerolinecolor": "white",
           "zerolinewidth": 2
          },
          "yaxis": {
           "automargin": true,
           "gridcolor": "white",
           "linecolor": "white",
           "ticks": "",
           "title": {
            "standoff": 15
           },
           "zerolinecolor": "white",
           "zerolinewidth": 2
          }
         }
        },
        "title": {
         "text": "EmployeeNumber Vs Age With attrition"
        },
        "xaxis": {
         "anchor": "y",
         "domain": [
          0,
          1
         ],
         "title": {
          "text": "EmployeeNumber"
         }
        },
        "yaxis": {
         "anchor": "x",
         "domain": [
          0,
          1
         ],
         "title": {
          "text": "Age"
         }
        }
       }
      }
     },
     "metadata": {},
     "output_type": "display_data"
    }
   ],
   "source": [
    "fig = px.scatter(\n",
    "    df_norm,\n",
    "    x='EmployeeNumber',\n",
    "    y=\"Age\",\n",
    "    color=target_column_name,\n",
    "    title='P',\n",
    "    color_continuous_scale='viridis',\n",
    ")\n",
    "fig.update_layout(\n",
    "    title=\"EmployeeNumber Vs Age With attrition\"\n",
    ")\n",
    "fig.show()"
   ]
  },
  {
   "cell_type": "code",
   "execution_count": 369,
   "metadata": {},
   "outputs": [
    {
     "data": {
      "image/png": "[encoded data removed]",
      "text/plain": [
       "<Figure size 640x480 with 1 Axes>"
      ]
     },
     "metadata": {},
     "output_type": "display_data"
    }
   ],
   "source": [
    "sns.lineplot(data=df, x=\"EmployeeNumber\", y=\"YearsSinceLastPromotion\", hue=target_column_name)\n",
    "plt.show()"
   ]
  },
  {
   "cell_type": "code",
   "execution_count": 370,
   "metadata": {},
   "outputs": [
    {
     "data": {
      "application/vnd.plotly.v1+json": {
       "config": {
        "plotlyServerURL": "https://plot.ly"
       },
       "data": [
        {
         "dimensions": [
          {
           "label": "Age",
           "values": {
            "bdata": "KTElIRsgOx4mJCMdHyIcHSAWNSYYJCIVIjUgKiwuISweJxgrMiMkISMbGhseKSIlLiMwHCwjGiEjIx8lICYyOyQ3JC0jJDsdHyAkHyMtJS4eIzcmIjgXMx4uKDMeLiA2GBw6LCUgFCIlOzIZGRYzIjYYIiUiJCQrHiE4Mx8aOhMWMSsyHykaJDMnGR4gLSYeIB4eKSkTKCM1LSAdMzooIhYbHDkbMikeJiAbEyQeLTghEy4mHyIpMjUhKDciMzQbIystJSMqJiYbMSIoJh0WJCguIB4bMx4pHh0tNiQhJSYfOyUdIx00KjsyISshNCAgJyApKC0fISIlLSUnHSodGSooMx8gJiAuHB0fGS0kNy8cJRUlIyYaMjUqHTcaJSwmGhwxJB8aJSoSIyQzKRIcHyckICY6Hx8tHyEnKzE0GyAbHyAcHh8nJyEvKxs2Ky0oHR0eGyUmHx0jFykvKh0qIDAlHhoqFSQkOSgVISUuKTIoHxUdIxscMTMkIjcYHhoWJB4lKColKyg2Ih8rKxklHyc4HikcGTQtNCoePC4qGCImKBoeHR0THjkyHjwvLiM2Ii4fISEeIx8iKiQWMDcpIygnHyotGh0hHxIoKRojIholLiklNCAYJiUxGBoYMhkYHiIfIx8bJRQqKyYrMCwiGxUsFiEgHjUiLRolHSMhNiQbFCEjFxkmHTAbJTIiGCcgMiYbIC8oNSk8GykyHCQmLC8eHSorIhcnOCgbHTUjICYiNCEZLRcvIjckNBodGiI2GyUmIiMeKCIqFxg0Mh0hIS8kHTojKhwkICgeLSomIjE3KxsjHCIaGzMsGSEjJCAeNS0gNCUcFiwqJBkjIyAZMRggJiofHTUjJTUrLyUyJyEgHSwcOisUFSQvFikcJxsiKiE6HyMxMB8kJiAZKBopJBMUHyggJCElLR0jNDo1HiYjJygvJB8hHSEtMiEpGy0vHjImLhgjHxI2Ix4UHhoWMDApJxsjKjI7JTcpJho0LDIkJyEtICI7LTUkGiIcJjIlKBouNjgkNysUFS4zHBoeKSYoGzccLCEjIRwiJRkaISocMiEiMC00Jh0cLiYrJygVJyQfHCMxIh0qHSYcEiEpHyUbIiMdKCoqIxgcGh4oIyIjKyA4HRMtJRQsNR0WLiwhKR4oMhwuIxghJB4sFC4qPCAgJCEoGR4qIxs2LBMdNh8fOysxJDAbHTAdIiwhExcZGi03FS4iMzsiHCwiIyorJCwcMx4dHBkgLSc6ICceJC4cMig0HicfKR8sKjc4KCIoKSMzJiIZOigkMBszEiMbNzgiKCIfIyYiHB8nMyklISAnGTQrGxsaKjQlIxkaHTEdNjo3JB8eHyIfGyQkLxklOC8YICIpKB8uJx8tHx8tMCIoHCw1MSgsISIeKiweOTEiHB0iIxgYLB0eNyEvHBwcMR0cISA2HSwnLiMXKCIfMiIqJR0hLSooISgYKC0jICQwHSEeJiMeIzUmIDAiNyIaJiYkHSMnHTIXJCojIigrIy4cFjIgLB4tLR8kIjEnGyMcFRIvJygjJSctJiMlKCwwIxgbGygdJBknMTIUIiQxJCQ2KyMmHSEgHzEmLzEpFCEkLBcmNTAgGjciPCElIhcsIysYKR0kLRgvGi0gHykoGC4jHi8uJCAXHycgKC0eGB4fGx0dHiIhMSEmHx0eICYrKjchKSI1KyIVJhYfMyUuJCwlIyEcJy4oKiMmIiUnKykpHhouKCI6Iy8oNh8cJho6Eh8dLSQrGx0gKi8uHB0qIC4bHSswHS4bJzccHhYkHyIdJSMtJCgaGzAsIjgkKSofIh8aLSEcHScbIhwvOCcmOiAmMSobIxwfJCIiGh0gHxwmIxsgHzU2ISsmNx8nKh82GBcoKBkeGS8hJh8mKikvIxYjISAoICcmICUZNCwVJxckJDgdKjgpIiQpICMmMiQtKCMoIx0dMicfGiQnGzEi",
            "dtype": "i1"
           }
          },
          {
           "label": "DailyRate",
           "values": {
            "bdata": "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",
            "dtype": "i2"
           }
          },
          {
           "label": "DistanceFromHome",
           "values": {
            "bdata": "AQgCAwICAxgXGxAPGhMYFQUQAgILCQcPBgUQCAcCAgoJBQECAwIFAQQCGQgBDBcTBQgBBQELFwESFwcBAR0HGQgICwcBCQECAQEGCAEGBwUBAQEGAQcCCQIJARUEAQYCAwQKFwYBBgYCAgEFBw8BBxoSBgMFCwMaFxYOBgYGFxYCFBwMFAkZBggEHAkJHQMSCQUCCgkDGgEGCQgBBwkEAhMJFRgDCw4FAQYRAQMJBAgCAgEJDBsUAQ0OBA4CAwEJFwcCFQIVAh0BEgoTHRsFEgkBBAEUCAMGGgEGAwUECwMBAwQBARICBAYBDhACAgQBARoTGAEDBQIBBwoCDxEUAQICAR0HAgICAgIXBRQGAR0JBgMBFgcBBAMBAhQLARgXEAgKAwUECRoDEBICAgoQBwEYBxkBBQIHAgUKCgEIBQgCBwICHAcHAwoFCgEUBwgBCAkFCAUPBwoFGgYEFwICAh0GGQECAQEDAQoJBQoHBAoWCQwXCQEJBw4CEwIKAgMLAgQOAgEKDAIFBAcVCAQZAQEGDAERAwMKBB0CBxIcAQYCAhcDAxkCFh0dAhwCAhYIAgoJDwoHEBQXBQoEAhIKAQYIAhgCERMBBwUcAh0BFRgBEgIJBgsYCgESFxwRAw0HDAENGQYGAgECBgEJAQEOAhYDBggJAwEBGgYDAwYGEwkDCgMDBAgHAQIDChwJAwIKCAEBAw4FBwoQCgEIAQgBGAMbChMPCAkDCQIHCgYCGAIIAwEaAgobAgIIEwEbCAETCAoCAggBAggIBgkLAgEHEAIBFwIBAQINBBACAh0MEAsCDgUHAgMFAxoEAgEbAQ0FBwkIGRAIAQgCCAMJGQEEAQQFCQMLAQgZFRcBAhMCAgMZBwkFAggCEg4CAwIJBgQKDgEFBxUIFBQHAQETCgEGAhUEDAkDAwEBBBQSAQICCAoDAhgQCAkRCg0BAQEJEBcEFhgKBxEOAQURGQgLBQIIBgQHAQIKBQkCCxIHAx0CHAEQFggLHQEBGAIPAgoKAwIDGgEBAgkMAhkJCggEGAEUBxEUCAIKAQUEHQ8DCgQVGQIBAQcDAQkHChwDAwIbAg4BCRIUAgsIAgodCAEGCAkMDxkGCQgXCQwEARgMAwoaAgEECQIEBgkHAQMKBw8DAhECBR0CAhMPEREZBgcdFQICBw0CAQkKCgEaCA4BAgoBAwsYAwMEAwIEBwEBFAUKGQEYBAIICgQCCRITAQQLBgcEAg8CBgkHAQEIGQ0XBxcGCgEBHBkFERICCgEDAgIIEAkCAQQFAg8TBwEHBAsLAQECDRcaAh0CEgcCGhYVAhYEBQIZEhwGChECCggLEgEHERwOAQEBAwEHCAEICwQQAQkFAQIEBwEFCQgJAgEUCAIdBwkIBQUCBQIUBwMQCQEHAQcPAQ0YBwkNAhMBBAQOAgEHAwIdCAoLARwGAxAUCQEDFgcCDQgZHAIJHAYVCAEcBQIQCQgBCgEdAgICAQ8HGgEDDhABAwoGAgkKBgkcCg4bBwEYGhQFBwcFGgIMChkKExIbBQMaAw8IEwQCAgoKEAEEDwIIAgcKBQIMFhECAwcGAQMWDwwBBQICBRACAgEXCRAaAQgEGAcCBxYFARUBEwcCAgIJBgkCARYJERwKAgQIHQ0bEAICDQEEGAETBwQCCggFCAkBDwICCxACEAQQBRIRDAIECQoBAgMHBggdAwkCCgEIGwgBChoCDQICCQoUCQUEChQVAQgCFwQMBwcBAgoPDhINAgICBRQKCgkCAR0IAgMXBgYKGAoPEwIDCQcKFAQHBxAZAgEBAhYBEBgRCAYKAwQGAQoBGBUCFg0OCwkIFQUJAgwWEhADCQENAQEPAREBBwkFGhgJBwsBGgIPFwoKAQwLAgIBAhkBAQIGEgEBCwEJDx0BARgKAQoIHQEFCQkDBAEBAgccHA8DAhoKAQsUAhICAQ0cHBgFBRcGBAII",
            "dtype": "i1"
           }
          },
          {
           "label": "Education",
           "values": {
            "bdata": "AgECBAECAwEDAwMCAQIDBAICBAMCBAQCAQMBBAQEAwQCAwMCAgMEAwIEAwMCAwQCBAECBAUCAwIFBAQEAwUCAwMDAwMDAwEDBAMDBAQEBAIBAwIDAgMBBAMCBAQCAwQEAgMEAwQBAwQCBAMDAQMEAwMBBAMDAgICAwIEAwQDBAEBBAMDAwEBAgQEAwMDAwUDAgMBAwQBAwUCAwMBBAMEBAEDAwIDAwMDBAUDAQIDAgMDAwICAQICAwIDAQQBAwQDAgMCAwMCBAMBBAQCAQMDAQUEBAEDBAMDBAMDAwIEAwMEAwQBAwEDAgIEAwMCBAIDBAQCAgMEBAQCBAMEAwICAwMCAwIDAgEDBAMDAgIDAwQDBAIEAwIDAQQBAgICAwMEBAIEAwMEAwMDAwQDBAMCAwMEAwIEBAMDBAQBBAIEAwIDAwQEAgICAgMFBAEEAwQCBAUDBAICBAEEAQMBBQMBAwEDAgMEAQUEBAQCAwMEAwMCBAMDBAIEAwIDAwMEAQEDAgMDAgQEAwMCBAIDBAIFAgEDAwMCAwMCAgIDAwMEAQICBAMDBAUCBAMEAwMCAwMEBAMBAQEBAwMDAgQBBQUCAwMBAQMDBAMFAwMDBAIDBAMDAQUEAgQDAwQEAwICAwEDBAIEAgQEAwMEBAEFBAQDAQEEAQQEAwEFBAMDAgQDBAIEAQMDAwMEBAEBAgEDAgQDAgQCAgQEAwQEAgMEAgMDAwMFAwMDAgEDAwEDAwMEBAUFBAQBAgECAwMEBAIDAwQEAQEEBAQDAgIDAwMEAwIDAwIDAgQEAgQDAwQDAwMDBAMBAgEDBAICAwQDAQMBAgQEAgMCBAQCAgQBAwEDBAMBAwECAwMEAwMDAgQDAgIEAwIEAQIEAQMDAQEEAQQDAwMDAgQDBAECBAIEAwMCBAMDBAMDAwQEAQMEAgMDAgMCAgMEBQMEBAIDAwEEAgQDBAICAwMBAgEEAQIDBAIDAwIBAwQCAQQDAgMDAgQBBAIBAwMEAwECBAQCBAMDAwQBBAQDAwEEBAMFAQMDAwQEAgIDAgEEBQEDAgMDBAIBBAEDAwIDBAMEBAQEBAQDAQIDAwMBAwQDAQIEAgMDAQMDAQQEAwIDAQQBBAMEBAMBBAMCAwMEAwEEAQIDAwMEAgEEAwMDAgQEAwQCBAIDBAQEAwQFBAMCAwMDBAMFAgMEAQMDAwIDAwMCAwICAwMDAwMFAwIBAgMBAgIDAwQDBAIDAQQEBAMDAgIDAwMDAwQEAgMDBAIDAwQDBAIEAgMDAQIEAgMDAwQDAgIBBAQDAwMCAwMBBAMBAQMDBAMEAwQEAwMBAQECAQIDAwQBAwQDAgMDAwIBAwMEBAQEBQQDAQQEAwICAgQBBQMFBAIDAwUDAgMDAwQBAwMDBAMDAwMBAgUDAgQDAwMEAQMCAQMDBAQDAgMDAgEBBQMEBAMDAwMBBAMDBQIDAwEDAwMCBAICAgQEAgQEAwQDBAMEAwUDBAQEBQQDAwMEAQQDAQMDBAIDBAIDAgQDAgUEAwMFAwQEBAQFAwUDAQIEAgMEAwMCAgMDAwUFAgEDAwMDBAEDBAUDAwMBBAIFAgQDAwQDBAMDBAMCAQMEAwECBAIEAwMCBAMEAwMDBAMDAwQEAQEDBAIDBAMCAQQEAQQDBQIBAQMDBAMEAwMDAwMDAgQDBAMCBAMDBAMDAwMDBAMEAwIBAgEEAwIEAwICAwQDAQICAwIDBAQDAwMBAwICAwIDBAMDBAQDBAMEAwUDBAQEAgEEBAQCAgEDBAMBAQMDAgMDBAQDAwEEAwMDBAICAQQCAgMEBAICAwMCAQMDBAQCAwQEBAIEBQIDAwICAQQDBAMCBAMEAwMEAwMDBAMEBAQCAgMEBAEEAgMDAgIDAgMCAQMCBAIEBAMBBAIEAgQEBAEDBAMCBAMBAwMDAgQEAwIEAwQDAwQCBAQDBAQEBAIEAwEDAwIBAwMD",
            "dtype": "i1"
           }
          },
          {
           "label": "EmployeeNumber",
           "values": {
            "bdata": "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",
            "dtype": "i2"
           }
          },
          {
           "label": "HourlyRate",
           "values": {
            "bdata": "Xj1cOChPUUMsXlQxH10yM1BgTi1gUjVgUzpIMCpTTilTOD1IVmFSKkshMCU6MUhJYiRiMktPL2JHHjAzITIrYzshXztPTzlMV0I3PSA0HlA3HkZPXjE+YGNATkc/KFc8ISslQz9HQilkIEkuQDseQh40LVctXCdcYF9IM0wuXjJkYEhNR2A9VDUvKTApUyBLI1QjW15PNl4iPCspIktDS1A5KlNPNTgpOyszZB5CHkNaL1xLX19GVjlILj0tYkFjMiVBQSUkWDY8XCtjRiM8ST9hIFhaUVhLNFU5ND4vL0xaRikqXFZZOjREOlAnTzg+YGQkPkZJP1RTTT1APFItPjgxYEdkJ1RLT05AVU8vUVheYmRQRyxUYC1jLCU8KitSLUIjHlQwNU02YFFUWEVEZDAvW1EgVj5hIEpjIVpVVUFKSUpUQDA2KS4qUkkfK0s5TR4eOD1cJyc+U19jLD00S1szVTliYy0wWC4nImIeOGREKlo2YVJcH1dgQ2FNSEkrPShfLl8xO05WSB89SmNIYjRWUzFPWydFHlwrKVdYPiEqT1o1XUc0RThYMVBBMy4qPl4hOCY5SEIrYSBjJVM4VUswTTg9OiJfLEU6Pi1QSkI7VltFTjwmTEE6WUJeYyg3SlMuNkJCS1NRMitIKDIfVTEjRSdcRyIqZEckPlIeWDA2IEYpOjkuTDhHUEouQVA3MiFEJyowO0lUIDs2Qz9RMTFjYzkvYCUsUVY3U1Y9UFwgHz8gLk9NPE5MKUdCJkhfVFJLVkgmJl1CPzxSQCQxRSEjUR8oKy4kYjM0X2ItZCslXio7UVhYMkIyQTA1OElLTkpbUUI/IT4jTWJCYD1XJC4wYl8wMElONkghIyBiKjlXPj1iOTcxQURBIjlNRkxTRGQlKTMzMy1BUEYkQzQ7TyVUKSNdMyouOVRWRjMtPlVcKWRAVC4mXDVbQlRAJSpTMF9CSyknYEk4OUliPCBeYU4qQS8tWkBFPT43Kk85NV8rUlhaRUtCJCZROVdKLD4jSkIoKT8zKE82JEoiSDtVK0E9V0E7WyJWNjItWCAlNyMtUR4oI0FXSV1dNCBTVCxGRk5DQzY4Xz04TyUnUE0uSDQ3RmQtWCwtOjFPUkhcLGEvVUxcNjZTOFdgMkUwRUpjXz0+Hk40XmFSPDEgKzxPNE0mTTxUOT88Tio1SGBhVVBgMGBVLkxMUkxXWVhSOS9JNV4lLSFWU0MuLFw4Qk44NUk0KEgnVCg4U15YT10wPyw3KzlAXyA5KDZZJTpjSlZiQldUH0JDNVhTNmJSYTwrVURcWVZaQzliMGIsNEs2PSRHXTtJYjMkHzZePFFkM2FUNkxRYzJJXVsiWyViSkRUWlIqYVZaUR80NmRfYF43YDQ3VFonYEQxNlFgSk9AXSNHXDMoTFlOVk0uHlJOJkg3K2FgRUBXZCAgM1thVkAhWDdELycsYSgvTyY5SEJiQ0ZgWy5AR0QhRU5RPkEjPC1ZUFpJVzMmVzstUF0uXFRXPzgzVSkjHzAyNDZMKlRMQzAnYUZiTFA0VVE7NjdHVCVZOyBWV0kqKk1CSDIfQk0pIU9bQSRaK10tQ0oqLyRQNiRQLF1XMF9fTF45XE8fI2NgT0k+IyszSjpSPjA4RTxcWyIxIVdKYCIzHk1QWDhOO0IzQzRGXmE+UEpLRls6QTwmOTxaXlc8YSAfKE9bNS4uWmNZVFpSQWJjX1pkXTpTNFVRQEVCNFw0W1wvRERDTS5XIVk4Q0lcNShPJkBSK11RUi0kV1FbSUBNKWJOWUs/WUA7TixdXmJaWTpOVWEhNlNWSz49LCsqLSApVlRAWVc6SC9HKk06RzEwQiAnX1kiMCA7Nyw4P0JDJB5YRztNJShNLU5JXFJMOVQ7VjZII0xiKz8wXzFTRDRjMCpVKCo6VyFeYTkkOEg8X1g5Th9kXmQyNFBiPi5JJzxKHikqVz9S",
            "dtype": "i1"
           }
          },
          {
           "label": "MonthlyIncome",
           "values": {
            "bdata": "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",
            "dtype": "i2"
           }
          },
          {
           "label": "MonthlyRate",
           "values": {
            "bdata": "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",
            "dtype": "i2"
           }
          },
          {
           "label": "NumCompaniesWorked",
           "values": {
            "bdata": "CAEGAQkABAEABgAAAQAFAQABAgUABwABAgQBAAMDBAIBAwIBAQEJAgEBAQEBAQAEBAEJAQUCBwEBAwMBAQEFBwECAQIEAAcAAQEDAQAEBAgBAQMHAQQDAwEBAQABAgEJAAEABAQBAQEFCQMBAQEDAQIABgICAAUBAQAJBwQBAQEAAQQEAwMBBgIEAgAHBQMBAAUABAIBAQECCAEBAgQHBgEGAQMBAwQCBAMAAAQBBAQAAQEBCAIBAgEBAQgBAwABAwQJAQUCCQMFAQEIBwEBAQkHAQEBBQUDBQAGAggGAQAAAwQBAQEHAQgDBQUHAQIABwACAQAJAQYCBAYAAQMCAAAAAQABAwQDAgIAAQAAAAEBBAECBwEBAwMBAQMBAQMJAgEJBAEBAQUBAAQFAQEABAAHAQMCAAMBAAYBAAcCAQEBBAcFAQEBBAMEAQADCAkCAQABAQcAAQEAAQYDAgEAAQMEBwEDAQQEAgMBAQYCAQYCAAEJCQEBCAQECAIBAQABAQkBBwMCAQYECQEHBAEDAQEJAAEBBQIDAgICBQIAAQABAAEEAQUBAAMAAAQFBgAHAwIBBwcABAMJBAEFAgMHCQcBBAEAAAQECQEDAgUBAQEEBQcBAwgAAwYBAQEBAQEBAQECBAQABAEBBAMDBwQBAAEEAAABAQcBAgEBAQEDAgIAAQEBAgAAAQMBAwEBCQEBAwABAwIFAwMIAQEHBwkEAgkHAQYDAwEJBwAIAQICAQYDAQEBAAEEAQUBAAMEBgIJAAAGAQEDAQUBAQEIBQEABQEAAQcDCQYEAQYFAQECAQEEBgEDAQABAQIJBwEBAQIJBwQFAwQBBgIFAAEBAQABAgABAAIDBgUDBQYEAAEBCAMBBgEBCQQBAQABAAQFBwEBBwMCAwEEBAECAQYBAgECBAEBAAgBAQAFAQEBAgQGBQEGAAQBBAABBgMDCQECCQEBBAMABgEBAQEIAQABAAEBAgcGAQABBgQDBQMBCAgBAwABAQADCQADAQIHBgEBAwIDAQEJBgIABwUBAQgJAQEAAQAEAQMDCQQAAQEAAgEBBAABAwADAgEHAAQAAwcIBwEBCQIAAAEGAgAEAQEBAQADAQcBAQEBCQAHBggBAQEDAgABCAEEAQEEAQEBAwAACAIBBggFAgEFAwEBAQEBAQIHAAEEAgAHAAADBAEHAQEBAwEBBQMCAQUBAQYDAAcAAQEBAQIBAQIABAYEAAEEAAYDCQEBAAcDAgEBAwYBAQAAAwYABAIJAQABAQEEAAQGCQABAAEBAwEDBwMCAQgDAQADBgQBBQQHAAEBAQEDAgMHBgADAgIBAQEAAAkEAgQAAQMABgMCAwEHAwUBAAEEBwMAAgMBBAUCAwEEAgECCQYEBAECAAMEAgIBAAMIAQcBAAMHAwUAAQIBBQEAAAgDBwEABAABAgIDBgMECAEAAwEBAQAEAQMBBAIAAQEAAwEAAwMIBgIBAwEDAQAEBAgBAQkBAAIGAQMCAQQCAwgBAQEFAQEBAQIDAAEBAQcJAQECAQEAAQEDAAEBAwABAwkBBgQCBgEHAgMJBAEEAwUBAQICAAYDAQMHAQEAAQQBBgQDAQEGBAEHAwIBAQUBAwEBAQEBAAEBAQkDAwEHAQEGAQYCAQYCAQcEBQYBAgEDAQQAAAYBAQEIAgAIAwIEAgEDAgMJCAgFAQEEAAUBAQEBAgEHBwECAQYBBwgEBQIFBAECBAMACQAEBAEEAAgCBAIBAgECAQAEBAQBAAEIAwQDAQgEBwIBAQcEAQUACAgBAQEBAQIDBQAAAQIBAAMCAQECBQkCAwgABAEBAQYBAQMIBAEBBAMCAwMBAAEBAQEBAAAFAQUEAQEIAQYDAQEABAEAAQQGAQEBAwQBBgIBAAACBgMABwABAAEIAAcDAQEAAgYBAgEABwEJBQgAAQECAQEBBwQIAgECAQQBBAAAAAQEAQIC",
            "dtype": "i1"
           }
          },
          {
           "label": "PercentSalaryHike",
           "values": {
            "bdata": "CxcPCwwNFBYVDQ0MEQsOCwwNEAsSFwsOCwsWCw4MCw0NDhAMDg0OEwwNDA8XDBQVFRMNDRUNEwwWDxYSFgsMCw0ODRENEQsXEREMFw4ODRYMEg4MDwsNFxMQFhYMDRAMFQ8NDBYNEg4OFRMLCw8UGAwMDwwMDhYMGQ0SDRITDBMODgwLCw0XFA8OEhMWDRQOEQ4NDRUOCw0UEg4NERQLEhgSCxAPDwwMFhQQFQwLCxIOFhkMFw8WDwsNDgsREg4QDQ4XDAsQDhITDxEPExYQDQ4QCxYOEAsSDw4MDhAVDgwMEREODg0PCxELDRYUEgsODhIQEQsMDQ0OEQsZEw0ODAsTCwsUEg0MCxMVDA4LDgwXDhESEhgUDhAZEhMNDBYODRULDAsMDA4NDxISEwwTCxEPDhENDAwSEgsOEwwPDAsLDBANDRgPEg4LCw0MEA4WCxENEhAODg4NDA8TDg4LDRUNDBEXCw8LCw0YDRQOEg8MEA8QEwsQGAsNDQ0MEhYNDRcMDBAMCxYLDwwUDgsPDA4LCxAMDQ4VDQsUCw4LEBAXDhYPEhAMCwwPDhMNDQ8LDBMZDA0ODAwPEQ4QDhcOCw8LDRUTCwwTFQ4PEQwQDBIRCxANDAwNEwwRCxQVCwsQEg0RDhYMCw0NDhENCwsSCwsMFAwMFBQMDg0PDg0XDwsNCwsSEBYUEgwUEQsODgsMDg0LDwwVEw8OFQwPDQ4ODgwXCwwSCw4PCxQTDhELDw0OCw0XDRIMFg0PEg4MERALEw0MCxAVGBENFQsUEAsLDwsPGAwNDRENDA4YDg0PEBIQGBAVFBMOCw4MDRYLDgsMEgwMFhMNFhgOFRIUEwwMEBEOEw0TEw4QDxINFg0LCwsYDg0ODhUNExESEw0SFRMOEQsNDxkLEQ0SDRQSDAwNFQ0TCw4MCw4LDA8QDxgNCw0NEhATDRYLFBIOFg0RDg8RCxIRDQ8YDA8LCwwPEQwPDQ4OEBIUDRINDw4WDBIPEgwQDRMNDAsOEAwODhMWEAsPDg0RCxMLDw0ODRcMDBAPDRIUExINDg8WFhARDg8UFBEPDhERFg0TDhYRDBALCw4LDxQMEQsRCw4TDw0ODBELDA0NFBENEQwNDBYLFhINEhQNDQwNDRkTDQwLEhILFw0NERMMFgwLDw0MDg0ZEQsQEhQOFQ0MDhURCw4RDRkPDgwTEQ4NDAsLCwwOEQsODBYOFBAPFA4MGAwNCw4LDhAOCwsMDhINCxIPFg0MEg0MDAwLCwwTFwsTDQsMDQ4OEAsNEQsLDwwLDhYQCw4QDwwUEQwUFA0OEgsLCw8MCw4PDQ0VCwsOCw0MDg0SCwsMDRQMExUNEAwOCw4MDhANDAwOFhMMDBEMCxILFwsSEg0SCw8LEg4MDg4NDhIPDQwNGA4ODwsXDQsNEg4VEAsRCw4OGQ0OERkUDQ0SDBMODg4MDRkOEQ0NFA4MDBUOEgwXDBUOEg0LCxMMDBALDgwNFREVCwwNEhALExAQDRYRDg8MEg8RDg8RDgwODw0MDQ4NCwsVEgwLDw0MEQ0TExELDwsZDg0RDQ4LDBEVEA8TDAsTDxQZGBgPDQ4NCxAWDg4QCxkOEgsTDwsMFAwOFBIODBUTDhEQDBEPFwsLDwsNDhMQDQ4QDAsMDQ8NFA8NDhUQDgsTCw0MCw4PDBQODQ0QDhAQFgwPFA4UDQwNCxEOCw4RDQwNEhMLFQ8REg4NEQ8SDQwNDgsWERUWEAwMDw4ZFA0OEBEPFhYUDg0NFgwODxENDAwVCw0MGBUTDhQTDRcNCw0OFgsNFQsNDgsPFxAQFQ0LDAwSDA4MERMLDwsSEBkQDQ4TDwwMEA4NFhUSDQwSFQwOCw4YCw0LFBELEgsMDBQTDA0LDg4NExcMDxMLERYSCwwTDQ0TDg0MExkWDwwLDRMTDRUOCwsXFRgLDhALDA0PDg4ODA0ODQsTEhEPFA4M",
            "dtype": "i1"
           }
          },
          {
           "label": "StockOptionLevel",
           "values": {
            "bdata": "AAEAAAEAAwEAAgEAAQEAAQICAAABAAAAAAEAAQEAAAAAAQECAAABAgEBAAAAAAAAAAAAAAEBAQABAQEBAQABAAMDAAEBAQABAAIAAAAAAAECAAEDAAABAgMAAQADAQABAQAAAQAAAAABAQAAAgAAAAABAQAAAQECAwEDAAAAAQABAAAAAQEBAgABAAAAAAAAAwEAAQEAAQIBAQABAAEBAQIBAQEBAAEBAAABAAACAQEAAAMAAQAAAQIBAQAAAAEAAAMBAQABAAEBAgEBAAMBAAEBAAAAAgAAAAAAAQAAAwIBAQEBAAAAAAABAQEAAAEAAwACAgEBAQEBAQIAAAABAgEBAAAAAQABAAIBAgABAAEBAQACAQEBAgMAAAEBAAEBAQAAAAEAAwEAAgIBAAAAAQMBAQEBAQABAQIAAAAAAAAAAwAAAgEBAAABAQEAAQIDAAADAQIBAAIAAgAAAAEBAQECAQEAAAABAAEAAAEAAAACAAAAAAEAAAEBAAABAQABAgABAgEAAQEBAQEBAAACAQEDAAEBAQACAAEAAAEDAAEBAAIBAAAAAAEBAAADAAAAAQEBAAMAAAADAQAAAQAAAAABAAEBAQIBAQABAAIAAAAAAAEBAgACAQEBAgIBAQABAQEAAAICAQACAQABAQACAQABAAABAQABAgEBAQABAQEAAAACAQEAAQACAAMAAAAAAQAAAAABAAMAAgEBAAEAAAIBAAABAAEBAAAAAgABAgEBAAAAAAAAAAEAAQEBAAACAQIAAAECAQEBAgMBAAEAAAEBAQAAAQABAQAAAAEBAAIAAQEAAAEBAwEAAAEAAQEBAQEBAAIBAgEAAAABAQEAAQABAQEBAwEAAQABAQABAgEAAwAAAQEAAAEAAQEBAAACAAABAAEBAgEAAQADAQAAAAAAAgEBAQAAAAEAAQABAQABAAAAAgAAAAACAQEBAQEAAAEBAQIBAQABAQMAAAABAAAAAQEBAAAAAAICAAABAQEAAAABAAEBAAEBAQEAAQEAAQICAQEAAAEAAAMDAAIBAAEBAwEAAQEAAAEAAwEBAAECAAEDAAEAAgEDAQABAwAAAAABAAEBAAIAAQEBAAABAQIBAAABAAAAAQAAAQEBAQABAAMBAQABAQAAAQEBAAABAQMDAQMBAwEBAQMAAAEBAQEAAQEBAAEAAQIBAQADAAAAAAEBAAADAgACAAECAAEAAAABAAEAAQACAAICAAAAAAEBAAACAAACAAICAQABAAADAAAAAgABAAAAAAEAAQEAAQABAQADAAEBAAEAAAEAAAEDAwIAAQMAAQICAAIAAAMBAAEAAAAAAQAAAAEAAAAAAAECAAACAAIAAAACAQAAAQICAQEAAgEBAAABAAECAwABAAAAAQEAAgACAAECAQICAQAAAQABAAIBAAABAAEAAQMCAAABAAEAAQAAAAAAAAEBAAEAAQEAAQADAAMCAQABAgEBAAABAQECAQEAAQEAAQAAAAABAQEBAQACAQEBAQADAAECAQEAAQACAQEDAgABAAABAQIBAwACAQABAAABAgAAAAAAAgIAAgMAAQABAAEBAQACAQICAgEAAwAAAAECAwABAAIAAAEBAQMCAAEBAAEBAAEAAQEAAwABAQEBAwABAQEBAwAAAAEBAAIAAQEBAAAAAQMAAAABAwEBAAEBAwMCAgEDAAAAAQACAAIBAQMAAAEBAAABAgEDAQABAAABAAABAQIBAQEBAQIBAgAAAAADAgEBAAAAAgABAQIAAAEBAAAAAAMBAwEBAAABAQMAAQACAAEBAAEBAQACAQEBAAEBAAABAAEBAAABAQEBAQACAAIAAQABAAABAAEBAAEAAAAAAAACAwEBAQMAAAEAAAABAQAAAQADAgEBAQECAQAAAQACAQABAgEBAgAAAAECAwEDAAEBAgEBAAABAgEAAAIDAQEAAQEAAAEBAQAA",
            "dtype": "i1"
           }
          },
          {
           "label": "TotalWorkingYears",
           "values": {
            "bdata": "CAoHCAYIDAEKEQYKBQMGCgcBHwYFCg0ACBoKChgWBwkKEwYGAwIGCgEBAQkMFwoIDgEXAgkKBQ8JBAoHCQodHBEVBhkFAhQGAQoFCxAREBAKBhgRBSUDCgsJFgsLFQwQBAUmEQcBARARHhwGAgEXCRcGDAwOCgcZCggHFwwFKAADEBIQBAwIBxIRBgwKCRMFCQgGFQcBFAoNFAkKCgkPBgIGBQwBFQ0MDAgGAQ0MCRMEARgCBwkEBQUIFSQKFSIHCAcWCAoLDgkGBwUPEQoECAURDgwHEAgQCQcXEBAHChEGBw0LCgQGFgcgCBYNIQYEBwQRCRkJAg0RCREUBgoKBQoWAQYFDQkcBQoKBhUQJQoFBwMPCggGHBUUCgwFERMKBQUWCgIIBBcADAQNFgAJChMLDRMMBgkYAwwVCRkLBA0FDQoFCwoVDAkVCQYUCgwGBwQKCAgMCwcRBAgFEAQECA8NBAgOAwcQDwoDAREHCBQIAwEGCgUHGhIGCR4FAQcCCgMSCAgSGRQYBg0ICAUPBBUkBgoKBhwIHxMLIRMHBgMBFQMJCgYBCiAcDBYUGgYTDg8NDwgECgwLCAoEDiUQDxYICgoJCAgKCgAUCggFCgEMHBYJEgYDEggfBgYBIAcGAQYJCQ0GEQEKFQgKFQoIBQMaAwYGARIKBQMKBhEPEA0FAQoBBQQICgwGBBQJBBQKEgoJChQUIBcKCRYECgoKCRwKAQcHCgUMHgUJAhMQCgYHIgoGCQIIBhgKBQULBgoJBQYRBgMHCAYYAQEJHgEOBhoKCigHCAUIDgoMAQoNBgkMFgkRCAQIAB0KBgkGEggKIxIJHwkGBAoIBgURCgQFBwYKAxEIBRwQCiEMCAofDQcBCAgEAwQCAREDBAoGCAEBCgYYDQodDQkIDwUBCwcUEAEBCgMIEAYRCQMFGgcWCgYMCRYUDAQKAwUIIAYVBAkJBxYDDQUFBAAWEAkBBAgEExsIFQQDFQgeDxEVEwchFxMSFQMaChAOBh4JBgEBCB0ICAUXDRIPHxICARMSCgYHChQOAxcKGAkJDgQHCAcBBRcBBQQGGw8SCQsKFwoSFRUCCRIDBgUWBQgQCgcDAAYGAgkEBgYLFBYJCgYBCAoQDw4CBwEcCgEHDgIGGgYBHAYFBQgFIAYZDwEKBwoUAgwKDAIKEQ8HBQwUEAkhCgEDJAYKDRkXDAcFBhkJAhoKAQEBCBoiAhoEHxkPBRoOBBIXEgoCCAoKBQIKFhUCCgYKCgoKGQkKCQkKEwMKFRckBgoJCgkhCwoHHwcRCwUdAAoIGCEFDwoDBQQOBQoIDgwICAQNBhgUBggFFQwICgcIChQJHSAfDwEICQoBBgoLEQYHBRoFBwcHCw0cCwoYCAcKDwIQBgcjFAgGBQ8EDAsBDR0QBQcQAQQBEAoGBAgLCAEFCgQIDgoaCxgJFwsFDwoHIAwECgkFCBgJDxUCCAoGDAcSBQgKCgMJASIHCQoBJAkBCggPCgoLBhsECRgKCAUIARsBBCAGFwYKCgoHCQoKBxAGAwAbCxIPCQoKCg8IEg4XBwYFBgoICQcHGxMCCw8eBA0kDg0TCgYKChEEHRcVAgcKCAUHCxMBBwgPEw4GCgMJBgoFCgkRGQEZAxUKBgoSBhMRCgQNEAoDCQkKFQkKAwYGBgIKDAYNCAsJCgEKDA8GByILBQ8bCgYBBQENDwUYDwYTCg4FCQYHCg8NCwoHBwsXCQYNDAolBhwPDgkDFAUXAAIECg8HBgsECgcMAwsIBxkJARUdAQ4IBxMBAQEKCgkLEAQKChYBCRgKBQUMDhIICQQIDAoHAQoGEAYQBgoUHQgKHA4BBgUEBQ4JCAYJCgYUCgcICg8JCQoHIwEVFA0JBAUKDwYMBxkBEAMKCQwOBQQKCgYIAxIUDhAGEAYCFQEKEg0EGA4VCA8OBAkKDAgICAoUBAoFFBUKBREJBhEG",
            "dtype": "i1"
           }
          },
          {
           "label": "TrainingTimesLastYear",
           "values": {
            "bdata": "AAMDAwMCAwICAwUDAQIEAQUCAwMFBAQGAgMFAgQCAwUFBgIDAgMDAwMGAgACAAIBBAICAwIDAgEDAwMCAwICAwICAwICAAIDBAMDAgIDAwIBAwQDAgMDBAMDAwIEBQAFAgMBAwMCBQMCAwEBAgUBAwMCAwMGBgIDAgICBQMDAwICAgIDAgIDAAIBAwICAgIEAgMDAgIDAgMDAgIBAgMCAwYBAgICBQICAgIDBQMEAwMCAwIDAAMFAgMFAgMCBgUCAQMBAwUFAwMBAAQCAgMCAgUDAgICBQUDBQECBAMDAQYCBgIFAwMDAwIDAgMDAgUCAQICAwIDAgMCAQUBAQECAwQFAAIDAAUCBQICAgIEAgIDBQQCBgMGBAUDAwQDAwACAgMEAgUAAwICAwIDAgICAwUDAwICBAECAgIDBQIDAgIDAwAEAgICAwYCAwAEAQMCBAICAwIDAgIFAgMDAgMFBAMCAgMGAwYCAgMDAgMCBQIGBQAEBQIBAgIDAwICAwIBAgQCBQUCAwMEAwUBAwMCAwMABgICBQQDAgMCBQUEBAMDAgMDAgIDAwMCAgUCAgIDAwMGAgIDAgICBAMDAgIDAgMDAgUDAgICAwMCAwUDAwMDAwIGAwIDBAIFAwUCAgEEAgMCAwQFAwAEAwMDAwEDAwICAwMCAgIEBAICBQMCAQIABQMDAwQCBQMDAgMDAwQCBAQDBgICAwIBBAMCBAIEBQICBgIFAgIDAQICAgQCAgADAwIFAwMCBQIBAwIDAgIEAwMCAwECAgEEAgQDAwEDAwMCAwIABAMCAwYEAwMDAwMDAwMDAgECBgICAwUDAQMDAwIDAwIGAgICAwMCAwIBAgIDAwECAwMCAwACAgIDAgQCBQADAwIDAwIDAwECAgIDBgEDAgIDAgIGAwMCAgIDBgMCAgICBgMCBQUDAgQDAgECAwIDAwACBQQCAQICAgIAAgIAAwYCAQICAwQCAwIDAAMGAwIEAwUEAgMDAQYDAgMBAgIEAgIBAwIDAgIFAgIDAwUABAQCAwUDBgICAgIBAwQGBAQEAQICBAUBBQMAAAMCBAMCAwIEAgEDAwIBBAIGAgAEAgMDAwIDAgICAAMEBQIAAwIDAwIDAgIEAgMDAgMCAgMCBQQCAgIEBgIFAgMCAgMCAwICAgMDBAQDAgMDAwICAgUCBAIGBgMCBQIFAgICAgICAgQCAgMCBQUDAgIEAgIDAgIDBQYCAgQFAwIDAgICBgMCAgMEBAQDAwIGAAMGAgICAgYFBAIEAwUEAAAEAgMCAwYGAAMCAgQBBQADAgACAAEDAAICAAMCBQQCAgMCAwMDAwICBQIGAgICAwIBAwMEAwMDAwIDAwIDAgICAwIDAwIFAgUBAgICAwIEAwAFBAUCAAMDAgICAwQCAgMDAwQCAwICAgMDAgUEAgIFAwMCBgUCAgEDAgMCAwMCAgQDAgMCAwMFAwIDAgQFAgMCAgYEAgMDAgQCAwMEAwMFAwUFAwQDAAICAwIDAwIABQUDAgMDBAMDAgMCAwMDAwIFAgICAwIFAgIDBgMCAgMDAgIAAAMCBgYDAgMDAgQDBgMGAwIEAwUEAgIDAgICAwICAgIFAgMCBQEDAgYCAwICAgMBAwICAwIDAwIDAgQDAgMDAgMFAwIDAwICAwICAgADBQMFAgMCAQIEAgIDAwIEBgICAgMCBQMDAwYDAgIDAQIEAgEGAwMFAgYDAwQGAgMDAwMCAwUAAgQDAgMDBAQDBAQDAwIFAwMCAQIEAgMDAwUFAwIDAwICAgIDAwIEAgMCAgICAgMDBQMFAgMBAwMCAwADAwICAwEDAwAEAwMDAgIAAwQCAgMDAwMCBgUGBgIDAgUBBAIGAgECAAQDAgIDAgYCBAMGAgMCAwEBAwMDAwIFBgMDAgIDAwIDAwIGAwMCAwIDAgQDAgQFBAIBAwIDAgICBQIDAwICAgMFAAMD",
            "dtype": "i1"
           }
          },
          {
           "label": "YearsAtCompany",
           "values": {
            "bdata": "BgoACAIHAQEJBwUJBQIECgYBGQMEBQwABA4KCRYCAQQKAQIFAwIBBQEBAQkMFgkBCQEBAgQEAg8JAgcHCQobFREFBgEDAQQFAQoBCw8ABQQKBgENBQYABAsJFgoLCgsEAwUlAwMBARABAwgGAgANCQUFAQULCQEZCgcFFAcFKAACDwMCAgkIAwQPAgsFBgMFCAMFBwUBFAoHEQkKAQEMBAICBQUBBQkKCAUFAAgMBQIDARgCBAMEAwQIFBgKByEHAQUUCAYFAQcCBwUHAQoECAMEDgsHCgUBBgYTBg0DChAFAQkLCgQCFgIHBREJIQQDAwMBCRgCAgsDAwETBgMDBAkVAQUFCAYHAAAJBhQPJAoFBQMFBwgGCgUUCgoFEQECAwUDCAIIBBQACwEEFgAICBIJDQoFBQIYAgoVCAcIBA0FBwcDCgoVAQcDCQUEAQoEBwMKCAYLCwcQBAUAAQQDCAAHAggBAwENAwcDAQUBCAQGAgEDAQUHBQcCBQUFAQYCCgESBQUBGQEEAw0DBQUNBBUHBQoKAgUCBQUFHQoGBQIBFAMFCgIBCQEbCxIFAwUBBwMNBwQDCAEDAgoCCQoOCxQIBgoIBwMGBQABCAAFCgEGAhIJCgQCAQYfBgUBIAcGAQYDAwcFAwEKAQAIAwIIBAMCAgUGAQ4KAQMKBhENCQMEAQoBAwMHCgIGARQIAhQKBAkJBwcSBRUCCRYCBwgBBRYIAQICBQQICgQHAgIBCgEAIgoGCAIFBgUKBAIIBAQFBAUPBgMCCAMYAAEFBAENAxoJCh8CBAIFDgEAAQkEBQkJBAkICAMIABQFBAkGEgUFBQUFCQEFAgMCBQURCgMFBAUKAgUGAwINBQwFBwofBQQBBAgEAQECARADAwcCAgEBBQMGBwoaAAkGDwMBAQcSCwEBCQEIEAUOCQMFCQERCAUKCAETBwMKAAMFBQYSAgkJBQwCCAQEBAAKEAgBAwgEAg8CFQMDAQEFAQgVAQIgDBIRFQIJCA8GBg8BAwEBAggEBwUCCQUOCQECARAKCgUGChMLAwMIFAMIDQQGAQcBAhYBAAMABQ8ICAcJDAEIEhQCBQsCBQUJAwcBCgcDAAUBAgYEBgULEhUGCAQBCAoBBw0CBAEFCgEDDgIGBwUAGgAFAQQAAgYEBwEKBwoUAgYECwIIBw4FBAsBDQkFCgEDCgYKBggBCwEFBgEHARYJAQEBCBghAgsDHQkLBBkKAwEVEAoCBwgHAwIKABMCCgUJBwcJAwUICQgKEwMDFBMHBAkJCQkhBwoDCgQPCgEFAAkGExMFDAgBBAQOBQoFBAYGBQMGAwUUBggEFAUDAgMHCgQIFAkHBQEDAwQBBQoDBgMGAxQFBAUECA0HAQoHAwIDAgIJBQUJAwMFBA0CDAEBDAgOAwUPAQABAgoFAwUFAAEEAwMIAAUOCRQCDQsEBQoHIAsBCgcFBRQIDxUBAgoFBwMIAQIKBgMEASEFBggBJAIBCQMBCgUHBgECAwEKCAUGARoBBB4DFgYKCgUDCQkHBxAFAgAFChIOBAkKBQ0IBAoCAgYDBAQFAwcFBA4CCwQPAwUKDgsNCgYJCgIEAwgCAgYDAgUABAkBBwQPAQ4GCgMIBQoFCgUNFwEXAxUFBQMBBgoHCgEKAgADBQkEFQUJAgQFBgIDBwULBQAGAQEHBwEBBQEJBQ8DCQIBBQEMAgUCDAUKCgoFBAIEAAcLBwoCAwMWBwUJBQoQBRYHBwMDBAUCAAECCAEHBQsABgIJAwcAAhMJARAWAQgHAgUBAQEKCgUDBQMJChMBCBYCBQQEBQ0FBAIHBAoHAQMFDwIIAAoUAQQFBQABBQUEBQ4IBwUFCgQBCgcBCgIECQoGCgEUFAsFBAUKCwIMAhEBDwIIBAUNAgMKCQYBAgcSDhAFCQQCBgEJBA0CFgoUCA8FBAkKBgYFAgoFBAQFAxQJBAUHBgkE",
            "dtype": "i1"
           }
          },
          {
           "label": "YearsInCurrentRole",
           "values": {
            "bdata": "BAcABwIHAAAHBwQFAgICCQIACAICAwYAAg0CBwYCAQIAAAADAgIBAwAAAAgIDwUABgAAAgMAAg4IAgcFCAMDEA4ABQACAAMEAQQABw0AAgIIBAALAgQAAgoIAwcICQgDAgQKAgIAAA0AAgMEAgAMBwMDAAMKBwAMBwcEEgcECgABCwICAgcHAgILAgkEBQIEBwIDBgAABwgHCQgHAAALAwICAgMBBAgJAwQCAAcJBAIBAA0CAgIDAgIHCA8JBxIHAAQIBwIDAAcCBwMCAAQCAQICCAgHCQIAAwIHAgsCCAoEAAgKBwMCEQIABA0HBwMCAgIACAACAgkBAgAGBQICAgYHAAQBBwIHAAAAAwcNCgcCBAICBwAFBAMQBwcDDAACAgMCAAIHAgQACQABCgADBwoICAgDAgIJAgYJBwECAwwEBwcCCAkJAAcCBwQDAAkDBwIJBwIKCQcGAgQAAAMCAAAHAgcAAgAJAgcCAAQABwMEAgACAQIFAgcCAgQCAAQBCQAHBAIACgACAgoCAgQLAggHBAcAAgQCAgQECAcFAwIADwIDAgIACAAKBw0AAgQAAwIIBgMCBwACAgMCBwkDCQYDBQkHBwIBBAAABwAEBwAFAhAFCQICAAUJBQMABQQDAAUBAgcDAAACAAAHAgICAwICAgAEAAcJAQIHAAsLBwICAAgAAgIHBwIFAAgHAgcHAwcHBwcNAQYCBwcCBwcAAgIHAAICAQMDBwIGAgIACAAABgkFBwIEBQIHAwIHAwIDAgMHBQICBwIHAAACAwAJAg4HBw8CAwICDQAAAAgDAggHAQgFBwIHAAYCAwgFDgIEAgQDCAABAgIBBAMOAgACAgIIAgMEAgAKBAkCBgAGBAMAAwcCAAACAAgCAgcCAgEABAIABwYJAAgCDAAAAAcNCAAABwEHBwABBwECCAANBAMJBwAKBwIIAAIDBAUQAggAAgsBBwICAwAHCgcAAgcDAgsCBgICAAADAAcQAAIOCwcNBgIDBwEEAwcAAgEAAgEDBwMCBAQIBwACAA0ABwMCBgkKAgIHBgIHBwICAAcBAgYAAAIABAoGBwUHCQAHBwcCBAkCAwIIAgUABwYBAAIAAgICBQQIBwkEAAMBBwMBBwkCAwACCAECCAIEBwQADwAEAAMAAgUCBwAHBwcLAQMDBwIHBwoBAwkAAgcEBQECCQUJAQcACgADAAAHAAkIAAAABQoJAgQCCgcIAgkJAgAHDgcCAAQHAgIHAAkCBAICBwYIAgQHAQcIAgICCAkDAgcIAwYJBwgCCQIHCQACAAcCBxAECwcAAgILAwIEAgIEBAIEAgMHAgIDBwQCAgIHCQMHBwgHBAACAgMAAAQCBQIFAhEEAwQCBwcHAAgHAgIBAgIIBAIIAgECAwkBCQAACQcIAgMJAAAAAgcDAgQEAAACAgIGAAIJBwYADAgDBAkCBgoACAcDBAgEDgcBAggDAQIHAAIIAwACAAcCBQIABgIACAIACQIGBAACAgAJAgQEAAABAggCBwQHBwICBwYHBw8DAgACCA8LAwIHBAwEAgcCAgMCAgICAgcEAgsCCAMLAgQICgkLAAIFAAIDAgcAAgUCAgQAAwcABwIKAAsDCQIHBAkDCAMHDwAFAgYCAgIAAgcHAAAGAgACBAgDCAAHAgICAgICBwAHAQABAAAABwAAAwAIAw4CBwIABAAHAgIBCAMABwgDAwIDAAcKAQMBAgIOBwEHAwgJBAsEAQICAgMCAAACBwAHBAgAAwIIAgAAAhEIAAwKAAcGAgIAAAAJCAMCAwIIAQcABxEAAgICBAcCAgIHAgQHAAIDCgAHAAALAAECBAAAAwMCBAgHBwMBCAEACAcABwIDBwkCCQAICQcCAwIJCAAIAg4BDQIDAwMIAgIHBwIAAgcQCgsDCAMCAAAHAgwCBgkHBwwEAgAHAwMDAgIDAwMEAgkEAgIHAgYD",
            "dtype": "i1"
           }
          },
          {
           "label": "YearsSinceLastPromotion",
           "values": {
            "bdata": "AAEAAwIDAAABBwAABAEACAAAAwEBAAIAAQQGBAUCAAEBAAIBAAIAAQAAAAEDDwgAAAAAAgECAAgBAgEABwkNBwwAAAABAAEAAQAAAQIAAAADAAEBAQAAAAoECwECCQUAAAABAQAAAQIAAgAAAgAMAAQBAAEFAgAEAAAEDwcEDwACBQECAgAFAAAFAgQAAAIAAAIBBwEAAgAEAAMAAAACAQICAAEABAEHAAEBAAcGAAIAAQ8CAAEAAAEBCQIBAQsAAAILAQEAAAECAQIDAAECAQAACQUABAAAAAEMAAMBAAUBAAUEAAACCwIAAAEBDwEBAQIABAECAAUAAAALAQAAAQcDAAEABwAHAAAHAQQKBAkAAAEABgcBAQELAAADBQABAAABBwIHAQQABgABAAAABwMABAABAAEJAggLAQAHAQsAAQACAQgNAAABAAEAAAkAAAIBAAACBAEAAAEAAAABAAAGAgcAAQABAQECAAAABwEBAgABAAAAAAACAAEAAAABCQAMAQEAAwABAQMBAAEKAwEHBAABAAAAAQAACwAAAQEAAQABAAEABwAPBg0AAAQABQEABwEBAAAAAgkBBgcBBgUAAAUDAQEAAAAAAAAABQABAQsHBgECAAQAAQEACgABAAEBAAUAAQACAAAEAAAAAAEAAgEAAAgIAAAHAQsEBwABAQkAAAEAAgIAAAMHAgsAAQEABwEBAQwCAQICAwAAAQsHAAICBAADAQIAAgIABAAAAQcBAwABAQEAAQIBAQEBAQQEAQAAAwEOAAABAAADAAMAAA0CAAIABgAAAAcBAQcHAQABBwABAAQCAAABBAAAAAABAAAAAgACAAAFBwAAAAMFAQEAAAIEAAMCBwAOAAAAAAcAAAAAAAQBAAECAgABAAAABQABAAAABQAAAAACAwAACAAGAwELAAABBwAPBwEAAAACAAEGAAAAAQEAAgAAAAEAAAMAAAAACgEAAQEBAgQCCwIBAAAEAAYFAAIGCwAPAgIBBwAAAAYAAQAAAgcABwECBwAHBgAAAQECAQEAAAELAQEBAwEEAwIAAAUAAg0AAAAAAgQEAgEBBAAACwQCAAACAAACAAEAAQUAAAAAAgECAQEDAg0BAQEAAAEABgQCAQAEAAAAAwEABAEADwABAAAAAgMAAQAAAQgNAgEAAQIABwQBAQUABAYBBwABAAABAAAAAAAAAQABAAMAAAABAgEPAgAACwUFAA4BAgAPBQACBwEHAQIAAA8CAQAGAQUHAQEHAAEJCwIBAgkHAAEIAQEAAQkBBQAGAAAAAAAAAw8ACwcAAwAEAAYBAwMBAQEAAQABBAcBAAAAAgAAAAEHDAEAAAAAAQEAAQEAAQIBAQUAAAAAAAkEAAQAAAIBAgIEAQAIAQEBAAMCBQAAAgAGAQAKAAAAAgABAQABAAABAQABAAABAA4CBQMBAQgHDQUAAwAAAA0HBQcAAgcEAgEHAAIGAQEBAAEBAQcAAgIABwEAAQAHAQACAAAGBwEAAAAAAQwAAQEBBAABBwEHAAEAAgABAA4CAAMDAAYHAwACAgEAAQABAAABAQECBwECAQAEBgYCAAABAAIDAQAAAAEAAgEAAQcABQEEAAIBCAAGAQgACAEGDgAOAAgBAAEAAQAAAAAAAgABAQUADAAAAgEAAQIAAQEBAAAAAAABAAEAAAABAAAAAQIBAAAFAgACBQIEBwcAAgIAAAEDAAACAQENAAEDAAQOAA4HAQIBAAECAAACBQAHAAMAAwIEAgEAAgIFAAYMAQAHAgAAAAABAAEBAAADAAsBAAQCAwEBAQUBAAIHAAAAAAEBBgIBAAcAAAAABAAAAAECAAIBBwABCAAAAAAAAAICAgABAQALAwQBAQEJBQEBAAwABQEHAQEFAgEACAQAAgEBBQYAAAEBAQEDAAECBAkAAQsAAQEBAAAAAgAAAQAAAgkBAAABAAAB",
            "dtype": "i1"
           }
          },
          {
           "label": "YearsWithCurrManager",
           "values": {
            "bdata": "BQcAAAIGAAAIBwMIAwIDCAUABwIDAwsAAwgHAhEBAAMIAAAEAgIAAwAAAQcHCAcACAEAAgMDAAwIAgcHCAkICQgCAwACAAMEAAkACAgAAgIABAAJAwIAAwgHCwAHBQcDAgQIAgIAAAoAAgcDAQAIBgQCAAMICAAMCQcDDwcDBgABCwIBAgcHAQMJAgcEAwIEBwICBwQADQYFDwcJAAALAgICAgQBBAgEBwQBAAIKAwICAAcBAgICAgMGCQ8JAAkDAQIIBwICAAcABwAHAAkCBwIDCAgHBwQAAQUIBQcBBw0EAAgBCAECDwIGBAkHDAICAgIABwcCAgkCAgAIBQICAggJAAQDBQQHAAAIBQoLDQkEAQACAgcEBgMGCQgDBwACAgICBwIEAggACQACBAAHBwcICAECAwALAggKBwcHAgkEBwcCCQkDAAEBAAQDAAgCBwICBwQJCgcNAgIAAAIABwAHAgcAAgAMAgcCAAMABwMAAgACAAQHAAcCBAIDAAQCAAARAwIBCQACAgwCAgMHAgYHBAcIAgQCBAICCggEBAAADAIEBwEACAAHBwsEAQMABwIIBwMCAAACAAcCBwcKCQ0HBQgHAAIFAQABBwADBwACAggHCQIBAAMJBAQABwYCAAMCAgcDAAACAAAHAgIGAgIBAgIFAAoIAAIIAggHAQIBAQcAAgIFCAIEAAgHAAoIAwgHBwcMAwYCBwoCBwUABA0HAAICAwIGAQMHAgIABwEAEAgEAQIDBAQJAgABAgMEAQMMAwICBwIJAAAEAwAHAgAFBwgCAgEECAAAAAgCAwcDAAgGBQIHABEDAQgBCwMDBAIDAAAEAgICAwMPCAIDAgQDAgMCAgIIAAgCBwkHBAMBAwECAAACAAsCAgACAgAAAwIEAgcHAAABCwIAAAcRCQAABQADBwQHCAIACAACBwMIBwAHBwIAAAICAwILAggHAQUCBwICAwAIAQcAAgMBAggBCAICAAADAAcKAAIJCw0OCAIBBwkEBAwAAgAAAgcBBQMCAAMIAgACAAcHCQMCCAkBAgIHBgIHCAIEAAYAAgcAAAIAAQwABwcHCQABBQkCAwkCBAIDAgEAAgACAAMAAgMCAwQKDQ4FBwIABwQABAkCAwACCAACCwICBwMACQAEAAMAAgMDBwABBwkRAgQDCQIHBwoDAQcADAgEBwACCQEIBQcABwADAAAHAAoIAQEAAgsAAggCCgQKAg0IAgARDAUCBwcHAgEIAAICAQMHBwcFAgAHCAcGCQICCgsHAAYIBwEKBwYCCQMNCAADAAAACAkACAcAAgMLBAcEAgMDAgIFAgIIBAcBCQQCAgIHCQMHBwUAAQACAAMABAgCAgIDAAYDAwIDBwkDAAcHAgICAgIIAwMIAgIDAwwCCAAACAcJAgAKAAAAAgQDAgICAAADAgIHAAAMBxECAQMCAAYHCQcABwcCAwkBBwcAAgcCBQIHAAIHAgIDAAkEAgYADQEABwIABQQGAwACAgEIBwICAQwAAw0CCgEEBQMBAgQHBwoAAgAABwwJAggJAgAHAwICAgMCAgMEAgcAAgsCCQMMAgQHCwcJCQQGAgIDAgACAgICAgIAAgcABwINAA0DBwIHBAgEBwIHBAAKAgYDAwIAAgkHCAADAgACBAgCCAMHAQICBAICBwIHBAAFAAAHBwAABAAHBAcCCAIABAAHAgMCBwMHBwYDAgICAAcIBwgCAgIFAgQHAwgOAwoHBwICAwICAAAABwAHAgoAAwAHAgYAAggIAA4JAAcDAgQAAAAHAgACBAIICBAABwcCAAADBAcEAQIHAwkHAAICCwIHAAkHAAMDAwAABAQDAgEBBgICBwMACQcACAIDCAkCBAAKBwgEAgQECgIHAgsACAIHAgAMAgIIAQEAAgcLBwgEAAICAwAEAgkCDggKBwsEAgcJAQABAgICAQMEAAYHAAMHAwgC",
            "dtype": "i1"
           }
          }
         ],
         "domain": {
          "x": [
           0,
           1
          ],
          "y": [
           0,
           1
          ]
         },
         "line": {
          "color": {
           "bdata": "AQABAAAAAAAAAAAAAAABAAAAAAAAAQAAAQABAAAAAAAAAQEAAQAAAAAAAQAAAQAAAAABAQAAAAAAAAAAAAAAAAAAAAAAAQAAAAAAAAAAAAAAAAAAAAAAAAABAAAAAAAAAAAAAAEAAQAAAAABAAAAAQAAAAAAAAAAAAABAAEAAQEAAAAAAQAAAAEAAAABAAAAAAAAAAAAAAAAAAAAAAAAAAAAAAAAAAAAAAAAAQAAAAAAAQAAAAABAAAAAAAAAAAAAQAAAAAAAAAAAAAAAQEAAAAAAQAAAAEAAQEAAAAAAAAAAAAAAAEAAAAAAQABAAABAAAAAAAAAAAAAAEAAAAAAAAAAAEAAAAAAQAAAAAAAAEAAAAAAAAAAAAAAAAAAAEAAQAAAAABAAABAAAAAAAAAAAAAAAAAAAAAAAAAAABAAAAAAABAAAAAQAAAAAAAAAAAQAAAAAAAAAAAAAAAAAAAAAAAAAAAQAAAAAAAQAAAQABAAEAAAAAAAAAAQAAAAEAAAEAAAAAAAAAAAAAAAAAAAAAAAAAAQAAAAAAAAAAAQEAAAAAAAEBAAAAAAAAAAAAAAAAAQEAAAEBAAABAAAAAAAAAAAAAQAAAAEAAAAAAAEAAAAAAAEAAAAAAAAAAAABAQABAAAAAAAAAAAAAAAAAQAAAAAAAAAAAQAAAAAAAAAAAQEAAAAAAAAAAAAAAQAAAQAAAAAAAAAAAAAAAQAAAAAAAAEAAAAAAAAAAAAAAAAAAAEAAAABAAEAAAAAAQAAAAAAAAAAAAAAAQAAAAEAAQAAAAEAAAEAAAAAAAAAAAEBAAAAAAABAAAAAAAAAAAAAAAAAAAAAAAAAAAAAQAAAAAAAAAAAQAAAAAAAAAAAAABAAAAAQABAQAAAQEAAQAAAAAAAAAAAAAAAAABAAAAAAEBAAAAAQABAAAAAAEAAAAAAAEAAAEAAQAAAAAAAAAAAQAAAAABAAAAAAABAQAAAAAAAAAAAAAAAQAAAAEBAAABAAAAAAAAAAABAQAAAAAAAAAAAAAAAAABAQABAQAAAAAAAAAAAQABAQAAAAEBAQABAQAAAAAAAAAAAAAAAQAAAAAAAAAAAAAAAAAAAQEAAQAAAAABAAEAAAABAAAAAAAAAQAAAAAAAAABAAABAAAAAQAAAAAAAAEAAAAAAAAAAAAAAAAAAAAAAAAAAAEAAAAAAAAAAAAAAAAAAAAAAAABAAEAAQAAAAAAAAAAAAAAAAEAAAABAAAAAAAAAQEAAAAAAAEBAAAAAAEBAAAAAAAAAAAAAAAAAQAAAAAAAAAAAQAAAAABAQAAAAEAAAAAAAAAAAAAAAEAAAAAAAAAAAEBAAAAAAEAAAABAAAAAAEAAAAAAAAAAAABAQEAAAEAAAEAAAAAAAAAAAAAAAAAAAAAAQEBAAEAAAAAAAAAAQAAAAAAAAAAAQAAAAAAAQABAAAAAAAAAAAAAAAAAAAAAAAAAAABAAAAAQEBAAAAAAAAAAAAAAAAAAAAAAAAAAAAAAABAAAAAAAAAAAAAAAAAAAAAAEAAAAAAAAAAAEAAAAAAQAAAAEAAAAAAAAAAAAAAAAAAAEAAAAAAAAAAAAAAAAAAAEAAAEBAAAAAAAAAAEAAAAAAAAAAAEBAAAAAAAAAAAAAAAAAQEAAAAAAAAAAAEAAAEAAAAAAAEAAQAAAAABAAAAAAAAAAABAAEAAAAAAAEAAQAAAAAAAAAAAQEAAAAAAAEBAAAAAAAAAAAAAAAAAAEBAAAAAAAAAAAAAAAAAQAAAAAAAQEAAAAAAQEAAAAAAAAAAAAAAAAAAQEAAAAAAAAAAAAAAQAAAAEAAAAAAAEAAAABAAAAAAAAAAAAAAEAAAAAAQEAAAAAAAAAAAAAAAAAAAAAAAAAAAAAAAAAAAAAAAAAAAAAAAAAAAAAAAEAAAABAAEAAAAAAAAAAQAAAAAAAAAAAQAAAAAAAAAA",
           "dtype": "i1"
          },
          "coloraxis": "coloraxis"
         },
         "name": "",
         "type": "parcoords"
        }
       ],
       "layout": {
        "coloraxis": {
         "colorbar": {
          "title": {
           "text": "Attrition"
          }
         },
         "colorscale": [
          [
           0,
           "#440154"
          ],
          [
           0.1111111111111111,
           "#482878"
          ],
          [
           0.2222222222222222,
           "#3e4989"
          ],
          [
           0.3333333333333333,
           "#31688e"
          ],
          [
           0.4444444444444444,
           "#26828e"
          ],
          [
           0.5555555555555556,
           "#1f9e89"
          ],
          [
           0.6666666666666666,
           "#35b779"
          ],
          [
           0.7777777777777778,
           "#6ece58"
          ],
          [
           0.8888888888888888,
           "#b5de2b"
          ],
          [
           1,
           "#fde725"
          ]
         ]
        },
        "legend": {
         "tracegroupgap": 0
        },
        "template": {
         "data": {
          "bar": [
           {
            "error_x": {
             "color": "#2a3f5f"
            },
            "error_y": {
             "color": "#2a3f5f"
            },
            "marker": {
             "line": {
              "color": "#E5ECF6",
              "width": 0.5
             },
             "pattern": {
              "fillmode": "overlay",
              "size": 10,
              "solidity": 0.2
             }
            },
            "type": "bar"
           }
          ],
          "barpolar": [
           {
            "marker": {
             "line": {
              "color": "#E5ECF6",
              "width": 0.5
             },
             "pattern": {
              "fillmode": "overlay",
              "size": 10,
              "solidity": 0.2
             }
            },
            "type": "barpolar"
           }
          ],
          "carpet": [
           {
            "aaxis": {
             "endlinecolor": "#2a3f5f",
             "gridcolor": "white",
             "linecolor": "white",
             "minorgridcolor": "white",
             "startlinecolor": "#2a3f5f"
            },
            "baxis": {
             "endlinecolor": "#2a3f5f",
             "gridcolor": "white",
             "linecolor": "white",
             "minorgridcolor": "white",
             "startlinecolor": "#2a3f5f"
            },
            "type": "carpet"
           }
          ],
          "choropleth": [
           {
            "colorbar": {
             "outlinewidth": 0,
             "ticks": ""
            },
            "type": "choropleth"
           }
          ],
          "contour": [
           {
            "colorbar": {
             "outlinewidth": 0,
             "ticks": ""
            },
            "colorscale": [
             [
              0,
              "#0d0887"
             ],
             [
              0.1111111111111111,
              "#46039f"
             ],
             [
              0.2222222222222222,
              "#7201a8"
             ],
             [
              0.3333333333333333,
              "#9c179e"
             ],
             [
              0.4444444444444444,
              "#bd3786"
             ],
             [
              0.5555555555555556,
              "#d8576b"
             ],
             [
              0.6666666666666666,
              "#ed7953"
             ],
             [
              0.7777777777777778,
              "#fb9f3a"
             ],
             [
              0.8888888888888888,
              "#fdca26"
             ],
             [
              1,
              "#f0f921"
             ]
            ],
            "type": "contour"
           }
          ],
          "contourcarpet": [
           {
            "colorbar": {
             "outlinewidth": 0,
             "ticks": ""
            },
            "type": "contourcarpet"
           }
          ],
          "heatmap": [
           {
            "colorbar": {
             "outlinewidth": 0,
             "ticks": ""
            },
            "colorscale": [
             [
              0,
              "#0d0887"
             ],
             [
              0.1111111111111111,
              "#46039f"
             ],
             [
              0.2222222222222222,
              "#7201a8"
             ],
             [
              0.3333333333333333,
              "#9c179e"
             ],
             [
              0.4444444444444444,
              "#bd3786"
             ],
             [
              0.5555555555555556,
              "#d8576b"
             ],
             [
              0.6666666666666666,
              "#ed7953"
             ],
             [
              0.7777777777777778,
              "#fb9f3a"
             ],
             [
              0.8888888888888888,
              "#fdca26"
             ],
             [
              1,
              "#f0f921"
             ]
            ],
            "type": "heatmap"
           }
          ],
          "histogram": [
           {
            "marker": {
             "pattern": {
              "fillmode": "overlay",
              "size": 10,
              "solidity": 0.2
             }
            },
            "type": "histogram"
           }
          ],
          "histogram2d": [
           {
            "colorbar": {
             "outlinewidth": 0,
             "ticks": ""
            },
            "colorscale": [
             [
              0,
              "#0d0887"
             ],
             [
              0.1111111111111111,
              "#46039f"
             ],
             [
              0.2222222222222222,
              "#7201a8"
             ],
             [
              0.3333333333333333,
              "#9c179e"
             ],
             [
              0.4444444444444444,
              "#bd3786"
             ],
             [
              0.5555555555555556,
              "#d8576b"
             ],
             [
              0.6666666666666666,
              "#ed7953"
             ],
             [
              0.7777777777777778,
              "#fb9f3a"
             ],
             [
              0.8888888888888888,
              "#fdca26"
             ],
             [
              1,
              "#f0f921"
             ]
            ],
            "type": "histogram2d"
           }
          ],
          "histogram2dcontour": [
           {
            "colorbar": {
             "outlinewidth": 0,
             "ticks": ""
            },
            "colorscale": [
             [
              0,
              "#0d0887"
             ],
             [
              0.1111111111111111,
              "#46039f"
             ],
             [
              0.2222222222222222,
              "#7201a8"
             ],
             [
              0.3333333333333333,
              "#9c179e"
             ],
             [
              0.4444444444444444,
              "#bd3786"
             ],
             [
              0.5555555555555556,
              "#d8576b"
             ],
             [
              0.6666666666666666,
              "#ed7953"
             ],
             [
              0.7777777777777778,
              "#fb9f3a"
             ],
             [
              0.8888888888888888,
              "#fdca26"
             ],
             [
              1,
              "#f0f921"
             ]
            ],
            "type": "histogram2dcontour"
           }
          ],
          "mesh3d": [
           {
            "colorbar": {
             "outlinewidth": 0,
             "ticks": ""
            },
            "type": "mesh3d"
           }
          ],
          "parcoords": [
           {
            "line": {
             "colorbar": {
              "outlinewidth": 0,
              "ticks": ""
             }
            },
            "type": "parcoords"
           }
          ],
          "pie": [
           {
            "automargin": true,
            "type": "pie"
           }
          ],
          "scatter": [
           {
            "fillpattern": {
             "fillmode": "overlay",
             "size": 10,
             "solidity": 0.2
            },
            "type": "scatter"
           }
          ],
          "scatter3d": [
           {
            "line": {
             "colorbar": {
              "outlinewidth": 0,
              "ticks": ""
             }
            },
            "marker": {
             "colorbar": {
              "outlinewidth": 0,
              "ticks": ""
             }
            },
            "type": "scatter3d"
           }
          ],
          "scattercarpet": [
           {
            "marker": {
             "colorbar": {
              "outlinewidth": 0,
              "ticks": ""
             }
            },
            "type": "scattercarpet"
           }
          ],
          "scattergeo": [
           {
            "marker": {
             "colorbar": {
              "outlinewidth": 0,
              "ticks": ""
             }
            },
            "type": "scattergeo"
           }
          ],
          "scattergl": [
           {
            "marker": {
             "colorbar": {
              "outlinewidth": 0,
              "ticks": ""
             }
            },
            "type": "scattergl"
           }
          ],
          "scattermap": [
           {
            "marker": {
             "colorbar": {
              "outlinewidth": 0,
              "ticks": ""
             }
            },
            "type": "scattermap"
           }
          ],
          "scattermapbox": [
           {
            "marker": {
             "colorbar": {
              "outlinewidth": 0,
              "ticks": ""
             }
            },
            "type": "scattermapbox"
           }
          ],
          "scatterpolar": [
           {
            "marker": {
             "colorbar": {
              "outlinewidth": 0,
              "ticks": ""
             }
            },
            "type": "scatterpolar"
           }
          ],
          "scatterpolargl": [
           {
            "marker": {
             "colorbar": {
              "outlinewidth": 0,
              "ticks": ""
             }
            },
            "type": "scatterpolargl"
           }
          ],
          "scatterternary": [
           {
            "marker": {
             "colorbar": {
              "outlinewidth": 0,
              "ticks": ""
             }
            },
            "type": "scatterternary"
           }
          ],
          "surface": [
           {
            "colorbar": {
             "outlinewidth": 0,
             "ticks": ""
            },
            "colorscale": [
             [
              0,
              "#0d0887"
             ],
             [
              0.1111111111111111,
              "#46039f"
             ],
             [
              0.2222222222222222,
              "#7201a8"
             ],
             [
              0.3333333333333333,
              "#9c179e"
             ],
             [
              0.4444444444444444,
              "#bd3786"
             ],
             [
              0.5555555555555556,
              "#d8576b"
             ],
             [
              0.6666666666666666,
              "#ed7953"
             ],
             [
              0.7777777777777778,
              "#fb9f3a"
             ],
             [
              0.8888888888888888,
              "#fdca26"
             ],
             [
              1,
              "#f0f921"
             ]
            ],
            "type": "surface"
           }
          ],
          "table": [
           {
            "cells": {
             "fill": {
              "color": "#EBF0F8"
             },
             "line": {
              "color": "white"
             }
            },
            "header": {
             "fill": {
              "color": "#C8D4E3"
             },
             "line": {
              "color": "white"
             }
            },
            "type": "table"
           }
          ]
         },
         "layout": {
          "annotationdefaults": {
           "arrowcolor": "#2a3f5f",
           "arrowhead": 0,
           "arrowwidth": 1
          },
          "autotypenumbers": "strict",
          "coloraxis": {
           "colorbar": {
            "outlinewidth": 0,
            "ticks": ""
           }
          },
          "colorscale": {
           "diverging": [
            [
             0,
             "#8e0152"
            ],
            [
             0.1,
             "#c51b7d"
            ],
            [
             0.2,
             "#de77ae"
            ],
            [
             0.3,
             "#f1b6da"
            ],
            [
             0.4,
             "#fde0ef"
            ],
            [
             0.5,
             "#f7f7f7"
            ],
            [
             0.6,
             "#e6f5d0"
            ],
            [
             0.7,
             "#b8e186"
            ],
            [
             0.8,
             "#7fbc41"
            ],
            [
             0.9,
             "#4d9221"
            ],
            [
             1,
             "#276419"
            ]
           ],
           "sequential": [
            [
             0,
             "#0d0887"
            ],
            [
             0.1111111111111111,
             "#46039f"
            ],
            [
             0.2222222222222222,
             "#7201a8"
            ],
            [
             0.3333333333333333,
             "#9c179e"
            ],
            [
             0.4444444444444444,
             "#bd3786"
            ],
            [
             0.5555555555555556,
             "#d8576b"
            ],
            [
             0.6666666666666666,
             "#ed7953"
            ],
            [
             0.7777777777777778,
             "#fb9f3a"
            ],
            [
             0.8888888888888888,
             "#fdca26"
            ],
            [
             1,
             "#f0f921"
            ]
           ],
           "sequentialminus": [
            [
             0,
             "#0d0887"
            ],
            [
             0.1111111111111111,
             "#46039f"
            ],
            [
             0.2222222222222222,
             "#7201a8"
            ],
            [
             0.3333333333333333,
             "#9c179e"
            ],
            [
             0.4444444444444444,
             "#bd3786"
            ],
            [
             0.5555555555555556,
             "#d8576b"
            ],
            [
             0.6666666666666666,
             "#ed7953"
            ],
            [
             0.7777777777777778,
             "#fb9f3a"
            ],
            [
             0.8888888888888888,
             "#fdca26"
            ],
            [
             1,
             "#f0f921"
            ]
           ]
          },
          "colorway": [
           "#636efa",
           "#EF553B",
           "#00cc96",
           "#ab63fa",
           "#FFA15A",
           "#19d3f3",
           "#FF6692",
           "#B6E880",
           "#FF97FF",
           "#FECB52"
          ],
          "font": {
           "color": "#2a3f5f"
          },
          "geo": {
           "bgcolor": "white",
           "lakecolor": "white",
           "landcolor": "#E5ECF6",
           "showlakes": true,
           "showland": true,
           "subunitcolor": "white"
          },
          "hoverlabel": {
           "align": "left"
          },
          "hovermode": "closest",
          "mapbox": {
           "style": "light"
          },
          "paper_bgcolor": "white",
          "plot_bgcolor": "#E5ECF6",
          "polar": {
           "angularaxis": {
            "gridcolor": "white",
            "linecolor": "white",
            "ticks": ""
           },
           "bgcolor": "#E5ECF6",
           "radialaxis": {
            "gridcolor": "white",
            "linecolor": "white",
            "ticks": ""
           }
          },
          "scene": {
           "xaxis": {
            "backgroundcolor": "#E5ECF6",
            "gridcolor": "white",
            "gridwidth": 2,
            "linecolor": "white",
            "showbackground": true,
            "ticks": "",
            "zerolinecolor": "white"
           },
           "yaxis": {
            "backgroundcolor": "#E5ECF6",
            "gridcolor": "white",
            "gridwidth": 2,
            "linecolor": "white",
            "showbackground": true,
            "ticks": "",
            "zerolinecolor": "white"
           },
           "zaxis": {
            "backgroundcolor": "#E5ECF6",
            "gridcolor": "white",
            "gridwidth": 2,
            "linecolor": "white",
            "showbackground": true,
            "ticks": "",
            "zerolinecolor": "white"
           }
          },
          "shapedefaults": {
           "line": {
            "color": "#2a3f5f"
           }
          },
          "ternary": {
           "aaxis": {
            "gridcolor": "white",
            "linecolor": "white",
            "ticks": ""
           },
           "baxis": {
            "gridcolor": "white",
            "linecolor": "white",
            "ticks": ""
           },
           "bgcolor": "#E5ECF6",
           "caxis": {
            "gridcolor": "white",
            "linecolor": "white",
            "ticks": ""
           }
          },
          "title": {
           "x": 0.05
          },
          "xaxis": {
           "automargin": true,
           "gridcolor": "white",
           "linecolor": "white",
           "ticks": "",
           "title": {
            "standoff": 15
           },
           "zerolinecolor": "white",
           "zerolinewidth": 2
          },
          "yaxis": {
           "automargin": true,
           "gridcolor": "white",
           "linecolor": "white",
           "ticks": "",
           "title": {
            "standoff": 15
           },
           "zerolinecolor": "white",
           "zerolinewidth": 2
          }
         }
        },
        "title": {
         "text": "Parallel Coordinates Plot",
         "x": 0.5
        }
       }
      }
     },
     "metadata": {},
     "output_type": "display_data"
    }
   ],
   "source": [
    "fig = px.parallel_coordinates(\n",
    "    df_norm,\n",
    "    color=target_column_name,\n",
    "    dimensions=nominal_columns,\n",
    "    color_continuous_scale=px.colors.sequential.Viridis,\n",
    "    title=\"Parallel Coordinates Plot\"\n",
    ")\n",
    "fig.update_layout(\n",
    "    title_text=\"Parallel Coordinates Plot\",\n",
    "    title_x=0.5,\n",
    "    # width=800,\n",
    "    # height=600\n",
    ")\n",
    "fig.show()"
   ]
  },
  {
   "cell_type": "code",
   "execution_count": 371,
   "metadata": {},
   "outputs": [
    {
     "data": {
      "application/vnd.plotly.v1+json": {
       "config": {
        "plotlyServerURL": "https://plot.ly"
       },
       "data": [
        {
         "hovertemplate": "Attrition=Yes<br>Age=%{r}<br>EmployeeNumber=%{theta}<extra></extra>",
         "legendgroup": "Yes",
         "marker": {
          "color": "#636efa",
          "symbol": "circle"
         },
         "mode": "markers",
         "name": "Yes",
         "r": {
          "bdata": "KSUcJCIgJxgyGikwHCQuJRQZIjgfOhMfMyATEykjJh0gHh4dHSEhICUfHC8sGhoSNBwnHRUhKSgVIhoeGRgiHRMhIR8iFhoSGiAYHh8bLRQhGDIcKiEvNxoXHSE6HDE3GiMdIDoUFRYpJxkTFCQlOigfHR4jFB4lGjQkJBoUFTMcLCMhGRohHDInEiEfHSocKywWKRgTGS0VLB0gJyg0Hyw6Nx8jHxsxHR8fGS4nHx8iHB0iGBwdKB8eIzUmHBIjIygjFzAgFxgvJCAeHSEfKxUWLCMiJRouHx0gHS4eFiI4HRwgGxwfNRcdODIy",
          "dtype": "i1"
         },
         "showlegend": true,
         "subplot": "polar",
         "theta": {
          "bdata": "AQAEABMAGwAfACEAKgAtAC8ANwA6AEAAQQBaAHYAhQCJAI4AkwChAKMApQCnAK8AswC+AOsA8wD4AAUBGgEbASMBKQErASwBOwFFAUgBSwFWAWMBbAF4AYgBigGRAZUBsQG4Ab0BxgHeAeUB6AHsAe4B9gH+AQICGgIqAisCNQI2AkYCSAJLAk4CUQJgAmYCbgJ3AocCiAKKApsCrAK9Ar4C0ALTAuUC8AIMAxEDEwMcAysDMAMzAzkDPANIA0oDUANxA4ADjwOWA5oDmwOeA58DpAO4A78DwAPHA8oD0QPaA98D4gPsA/ID+AP5AwkEDQQOBBIEHAQdBDUENwQ5BDoESgRMBE0EUgRTBFQEVwRZBGcEhASFBIgEjQSPBJcEpASwBLMEugTDBOAE+QT9BP8EDwUTBR0FHgUmBScFMwU1BVAFXAVjBWQFbQV9BYwFjQWTBZkFnwWxBbIFswW4BbsFzgXPBdEF1gXgBfIF/gUBBhoGIQYkBiUGRAZYBmcGbQZxBoMGlAabBpwGpgayBrQGxQbGBtMG2AbeBuEG5wb0BvcGAAcFBw8HEQcaBx0HMgc0B0YHTAdNB1QHVgdxB3MHiAeNB5MHmAeoB68HsAfnB+sH8Af8BwcI",
          "dtype": "i2"
         },
         "type": "scatterpolargl"
        },
        {
         "hovertemplate": "Attrition=No<br>Age=%{r}<br>EmployeeNumber=%{theta}<extra></extra>",
         "legendgroup": "No",
         "marker": {
          "color": "#EF553B",
          "symbol": "circle"
         },
         "mode": "markers",
         "name": "No",
         "r": {
          "bdata": "MSEbIDseJiQjHR8iHSAWNSYYIhU1KiwuISweKyMkISMbGx4iJS4jLCMaISMjHyUgJjI7JDckLSM7HR8gJB8jLSUuHiM3JiI4FzMeKDMeLiA2GBw6LCAiJTsyGRYzNhgiJSIkJCseITMaFjErMikaJCcZHi0mHiAeHikpEygjNS0gHTM6KCIWGxw5GzIpHiYgGyQeLTghLiYfIjI1ISg3IjM0GystJSMqJiYbMSIoFiQoLh4bMyktNiQhJSYfOyUdIzQqOzIrNCAnICkoLR8hIiUtJx0qHRkqKDMgJiAuHR8ZLSQ3HCUVJSMmGjI1Kh03GiUmHDEkHyUqIyQzKRIcHyckICY6Hx8tHyEnKzEbIBsfIB4fJyEvKxs2Ky0oHR4bJSYfHSMXKS8qHSogMCUeGiokJDkoFSUuMh8dIxscMTMkNxgeFiQlKColKyg2Ih8rKxklHyc4HikcNC00Kh48LiomKBoeHR45Mh48Ly4jNiIuHx4jKiQwNykjKCcfKi0dIR8oKRojIiUuKSU0GCYlMRgaGDIZIiMfGyUUKismKzAsIhUsFiEgHjUiGiUdIyE2JBsjFxkmHTAbJTIiJyAmGyAvKDUpPBspMiQmLC8eHSsiFyc4KBsdNSMgJiI0GS0XIiQ0Gh0iNhslJiIjHigiKhg0MiEvJB0jKiQgKB4tKiYiKxsjHCIbMywZISMkIB41LSA0JRwWLCokGSMgGTEYICYqHzUjJTUrLyUyJyEdLBwrJC8cGyIqITofIzEwHyQmICgaKSQfKCAhLR0jNDUeJiMnLyQhIS0yISkbLS8yJi4YHxI2Ix4aFjAwKScbIyoyOzcpJiwyJyEtICI7LTUiHCYyJSgaLjY4JDcrLhoeKSYoGzccIRwiJSohIjAtNCYdHC4mKygVJyQfHCMxIh0qHSYcKSUbIiMoKiMYGh4oIyIjIDgdEy0lFDUdLiwhHigyHC4jISQeLBQuKjwgICQhKBkeKiMbNiwdNh8fOysxJDAbHTAdIiwhExcaNy4iMzsiHCwiIyorJBwzHhwZIC0nOh4kLhwyHicfKSo3OCgiKCkjMyYiGSgkMBszEiMbOCIoIiYiHCczKSUhICcZNCsbGio0JSMZGh02OjckHh8iGyQkLyU4LxggIikoHy0fLTAoHCw1MSgsISIeKiweOTEiIxgsHR43IS8cHDEdHCEgNiwnLiMXIjIiKiUdIS0qKCEoGCgtIyAkMB0hJiMeIDAiNyIaJiYkHSMnHTIXJCojIigrIy4WMiAsHi0tHyQiMScbIxwVLycoIyUnLSYlKCwwGBsbHSQZJzEyFCIkMSQkNismHSEgHzEmLzEpFCEkLCY1GjciPCElIiwjKxgpHSQtGi0gHykoGC4jHi8uFx8nICgtHhgfGx0eIiExJh0eICYqNyEpIjUrIiYfMyUuJCUhHCcuKCojJicrKSkeKCI6Iy8oNh8cJho6Ei0kKxsdICovLhwdKi4bHSswGyc3HCQfIh0lIy0kKBobMCwkKSofIh8aLSEcJxsiLzgnJjomMSojHB8kIiIaHSAfJiMbIDYhKyY3HycqHzYYFygoGR4ZLyEmHyYqKS8jFiMhICggJyYgJRk0LBUnJCQ4KikiJCkgIyYkLSgjKCMdHScfGiQnGzEi",
          "dtype": "i1"
         },
         "showlegend": true,
         "subplot": "polar",
         "theta": {
          "bdata": "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",
          "dtype": "i2"
         },
         "type": "scatterpolargl"
        }
       ],
       "layout": {
        "height": 600,
        "legend": {
         "title": {
          "text": "Attrition"
         },
         "tracegroupgap": 0
        },
        "polar": {
         "angularaxis": {
          "direction": "clockwise",
          "rotation": 90
         },
         "domain": {
          "x": [
           0,
           1
          ],
          "y": [
           0,
           1
          ]
         }
        },
        "template": {
         "data": {
          "bar": [
           {
            "error_x": {
             "color": "#2a3f5f"
            },
            "error_y": {
             "color": "#2a3f5f"
            },
            "marker": {
             "line": {
              "color": "#E5ECF6",
              "width": 0.5
             },
             "pattern": {
              "fillmode": "overlay",
              "size": 10,
              "solidity": 0.2
             }
            },
            "type": "bar"
           }
          ],
          "barpolar": [
           {
            "marker": {
             "line": {
              "color": "#E5ECF6",
              "width": 0.5
             },
             "pattern": {
              "fillmode": "overlay",
              "size": 10,
              "solidity": 0.2
             }
            },
            "type": "barpolar"
           }
          ],
          "carpet": [
           {
            "aaxis": {
             "endlinecolor": "#2a3f5f",
             "gridcolor": "white",
             "linecolor": "white",
             "minorgridcolor": "white",
             "startlinecolor": "#2a3f5f"
            },
            "baxis": {
             "endlinecolor": "#2a3f5f",
             "gridcolor": "white",
             "linecolor": "white",
             "minorgridcolor": "white",
             "startlinecolor": "#2a3f5f"
            },
            "type": "carpet"
           }
          ],
          "choropleth": [
           {
            "colorbar": {
             "outlinewidth": 0,
             "ticks": ""
            },
            "type": "choropleth"
           }
          ],
          "contour": [
           {
            "colorbar": {
             "outlinewidth": 0,
             "ticks": ""
            },
            "colorscale": [
             [
              0,
              "#0d0887"
             ],
             [
              0.1111111111111111,
              "#46039f"
             ],
             [
              0.2222222222222222,
              "#7201a8"
             ],
             [
              0.3333333333333333,
              "#9c179e"
             ],
             [
              0.4444444444444444,
              "#bd3786"
             ],
             [
              0.5555555555555556,
              "#d8576b"
             ],
             [
              0.6666666666666666,
              "#ed7953"
             ],
             [
              0.7777777777777778,
              "#fb9f3a"
             ],
             [
              0.8888888888888888,
              "#fdca26"
             ],
             [
              1,
              "#f0f921"
             ]
            ],
            "type": "contour"
           }
          ],
          "contourcarpet": [
           {
            "colorbar": {
             "outlinewidth": 0,
             "ticks": ""
            },
            "type": "contourcarpet"
           }
          ],
          "heatmap": [
           {
            "colorbar": {
             "outlinewidth": 0,
             "ticks": ""
            },
            "colorscale": [
             [
              0,
              "#0d0887"
             ],
             [
              0.1111111111111111,
              "#46039f"
             ],
             [
              0.2222222222222222,
              "#7201a8"
             ],
             [
              0.3333333333333333,
              "#9c179e"
             ],
             [
              0.4444444444444444,
              "#bd3786"
             ],
             [
              0.5555555555555556,
              "#d8576b"
             ],
             [
              0.6666666666666666,
              "#ed7953"
             ],
             [
              0.7777777777777778,
              "#fb9f3a"
             ],
             [
              0.8888888888888888,
              "#fdca26"
             ],
             [
              1,
              "#f0f921"
             ]
            ],
            "type": "heatmap"
           }
          ],
          "histogram": [
           {
            "marker": {
             "pattern": {
              "fillmode": "overlay",
              "size": 10,
              "solidity": 0.2
             }
            },
            "type": "histogram"
           }
          ],
          "histogram2d": [
           {
            "colorbar": {
             "outlinewidth": 0,
             "ticks": ""
            },
            "colorscale": [
             [
              0,
              "#0d0887"
             ],
             [
              0.1111111111111111,
              "#46039f"
             ],
             [
              0.2222222222222222,
              "#7201a8"
             ],
             [
              0.3333333333333333,
              "#9c179e"
             ],
             [
              0.4444444444444444,
              "#bd3786"
             ],
             [
              0.5555555555555556,
              "#d8576b"
             ],
             [
              0.6666666666666666,
              "#ed7953"
             ],
             [
              0.7777777777777778,
              "#fb9f3a"
             ],
             [
              0.8888888888888888,
              "#fdca26"
             ],
             [
              1,
              "#f0f921"
             ]
            ],
            "type": "histogram2d"
           }
          ],
          "histogram2dcontour": [
           {
            "colorbar": {
             "outlinewidth": 0,
             "ticks": ""
            },
            "colorscale": [
             [
              0,
              "#0d0887"
             ],
             [
              0.1111111111111111,
              "#46039f"
             ],
             [
              0.2222222222222222,
              "#7201a8"
             ],
             [
              0.3333333333333333,
              "#9c179e"
             ],
             [
              0.4444444444444444,
              "#bd3786"
             ],
             [
              0.5555555555555556,
              "#d8576b"
             ],
             [
              0.6666666666666666,
              "#ed7953"
             ],
             [
              0.7777777777777778,
              "#fb9f3a"
             ],
             [
              0.8888888888888888,
              "#fdca26"
             ],
             [
              1,
              "#f0f921"
             ]
            ],
            "type": "histogram2dcontour"
           }
          ],
          "mesh3d": [
           {
            "colorbar": {
             "outlinewidth": 0,
             "ticks": ""
            },
            "type": "mesh3d"
           }
          ],
          "parcoords": [
           {
            "line": {
             "colorbar": {
              "outlinewidth": 0,
              "ticks": ""
             }
            },
            "type": "parcoords"
           }
          ],
          "pie": [
           {
            "automargin": true,
            "type": "pie"
           }
          ],
          "scatter": [
           {
            "fillpattern": {
             "fillmode": "overlay",
             "size": 10,
             "solidity": 0.2
            },
            "type": "scatter"
           }
          ],
          "scatter3d": [
           {
            "line": {
             "colorbar": {
              "outlinewidth": 0,
              "ticks": ""
             }
            },
            "marker": {
             "colorbar": {
              "outlinewidth": 0,
              "ticks": ""
             }
            },
            "type": "scatter3d"
           }
          ],
          "scattercarpet": [
           {
            "marker": {
             "colorbar": {
              "outlinewidth": 0,
              "ticks": ""
             }
            },
            "type": "scattercarpet"
           }
          ],
          "scattergeo": [
           {
            "marker": {
             "colorbar": {
              "outlinewidth": 0,
              "ticks": ""
             }
            },
            "type": "scattergeo"
           }
          ],
          "scattergl": [
           {
            "marker": {
             "colorbar": {
              "outlinewidth": 0,
              "ticks": ""
             }
            },
            "type": "scattergl"
           }
          ],
          "scattermap": [
           {
            "marker": {
             "colorbar": {
              "outlinewidth": 0,
              "ticks": ""
             }
            },
            "type": "scattermap"
           }
          ],
          "scattermapbox": [
           {
            "marker": {
             "colorbar": {
              "outlinewidth": 0,
              "ticks": ""
             }
            },
            "type": "scattermapbox"
           }
          ],
          "scatterpolar": [
           {
            "marker": {
             "colorbar": {
              "outlinewidth": 0,
              "ticks": ""
             }
            },
            "type": "scatterpolar"
           }
          ],
          "scatterpolargl": [
           {
            "marker": {
             "colorbar": {
              "outlinewidth": 0,
              "ticks": ""
             }
            },
            "type": "scatterpolargl"
           }
          ],
          "scatterternary": [
           {
            "marker": {
             "colorbar": {
              "outlinewidth": 0,
              "ticks": ""
             }
            },
            "type": "scatterternary"
           }
          ],
          "surface": [
           {
            "colorbar": {
             "outlinewidth": 0,
             "ticks": ""
            },
            "colorscale": [
             [
              0,
              "#0d0887"
             ],
             [
              0.1111111111111111,
              "#46039f"
             ],
             [
              0.2222222222222222,
              "#7201a8"
             ],
             [
              0.3333333333333333,
              "#9c179e"
             ],
             [
              0.4444444444444444,
              "#bd3786"
             ],
             [
              0.5555555555555556,
              "#d8576b"
             ],
             [
              0.6666666666666666,
              "#ed7953"
             ],
             [
              0.7777777777777778,
              "#fb9f3a"
             ],
             [
              0.8888888888888888,
              "#fdca26"
             ],
             [
              1,
              "#f0f921"
             ]
            ],
            "type": "surface"
           }
          ],
          "table": [
           {
            "cells": {
             "fill": {
              "color": "#EBF0F8"
             },
             "line": {
              "color": "white"
             }
            },
            "header": {
             "fill": {
              "color": "#C8D4E3"
             },
             "line": {
              "color": "white"
             }
            },
            "type": "table"
           }
          ]
         },
         "layout": {
          "annotationdefaults": {
           "arrowcolor": "#2a3f5f",
           "arrowhead": 0,
           "arrowwidth": 1
          },
          "autotypenumbers": "strict",
          "coloraxis": {
           "colorbar": {
            "outlinewidth": 0,
            "ticks": ""
           }
          },
          "colorscale": {
           "diverging": [
            [
             0,
             "#8e0152"
            ],
            [
             0.1,
             "#c51b7d"
            ],
            [
             0.2,
             "#de77ae"
            ],
            [
             0.3,
             "#f1b6da"
            ],
            [
             0.4,
             "#fde0ef"
            ],
            [
             0.5,
             "#f7f7f7"
            ],
            [
             0.6,
             "#e6f5d0"
            ],
            [
             0.7,
             "#b8e186"
            ],
            [
             0.8,
             "#7fbc41"
            ],
            [
             0.9,
             "#4d9221"
            ],
            [
             1,
             "#276419"
            ]
           ],
           "sequential": [
            [
             0,
             "#0d0887"
            ],
            [
             0.1111111111111111,
             "#46039f"
            ],
            [
             0.2222222222222222,
             "#7201a8"
            ],
            [
             0.3333333333333333,
             "#9c179e"
            ],
            [
             0.4444444444444444,
             "#bd3786"
            ],
            [
             0.5555555555555556,
             "#d8576b"
            ],
            [
             0.6666666666666666,
             "#ed7953"
            ],
            [
             0.7777777777777778,
             "#fb9f3a"
            ],
            [
             0.8888888888888888,
             "#fdca26"
            ],
            [
             1,
             "#f0f921"
            ]
           ],
           "sequentialminus": [
            [
             0,
             "#0d0887"
            ],
            [
             0.1111111111111111,
             "#46039f"
            ],
            [
             0.2222222222222222,
             "#7201a8"
            ],
            [
             0.3333333333333333,
             "#9c179e"
            ],
            [
             0.4444444444444444,
             "#bd3786"
            ],
            [
             0.5555555555555556,
             "#d8576b"
            ],
            [
             0.6666666666666666,
             "#ed7953"
            ],
            [
             0.7777777777777778,
             "#fb9f3a"
            ],
            [
             0.8888888888888888,
             "#fdca26"
            ],
            [
             1,
             "#f0f921"
            ]
           ]
          },
          "colorway": [
           "#636efa",
           "#EF553B",
           "#00cc96",
           "#ab63fa",
           "#FFA15A",
           "#19d3f3",
           "#FF6692",
           "#B6E880",
           "#FF97FF",
           "#FECB52"
          ],
          "font": {
           "color": "#2a3f5f"
          },
          "geo": {
           "bgcolor": "white",
           "lakecolor": "white",
           "landcolor": "#E5ECF6",
           "showlakes": true,
           "showland": true,
           "subunitcolor": "white"
          },
          "hoverlabel": {
           "align": "left"
          },
          "hovermode": "closest",
          "mapbox": {
           "style": "light"
          },
          "paper_bgcolor": "white",
          "plot_bgcolor": "#E5ECF6",
          "polar": {
           "angularaxis": {
            "gridcolor": "white",
            "linecolor": "white",
            "ticks": ""
           },
           "bgcolor": "#E5ECF6",
           "radialaxis": {
            "gridcolor": "white",
            "linecolor": "white",
            "ticks": ""
           }
          },
          "scene": {
           "xaxis": {
            "backgroundcolor": "#E5ECF6",
            "gridcolor": "white",
            "gridwidth": 2,
            "linecolor": "white",
            "showbackground": true,
            "ticks": "",
            "zerolinecolor": "white"
           },
           "yaxis": {
            "backgroundcolor": "#E5ECF6",
            "gridcolor": "white",
            "gridwidth": 2,
            "linecolor": "white",
            "showbackground": true,
            "ticks": "",
            "zerolinecolor": "white"
           },
           "zaxis": {
            "backgroundcolor": "#E5ECF6",
            "gridcolor": "white",
            "gridwidth": 2,
            "linecolor": "white",
            "showbackground": true,
            "ticks": "",
            "zerolinecolor": "white"
           }
          },
          "shapedefaults": {
           "line": {
            "color": "#2a3f5f"
           }
          },
          "ternary": {
           "aaxis": {
            "gridcolor": "white",
            "linecolor": "white",
            "ticks": ""
           },
           "baxis": {
            "gridcolor": "white",
            "linecolor": "white",
            "ticks": ""
           },
           "bgcolor": "#E5ECF6",
           "caxis": {
            "gridcolor": "white",
            "linecolor": "white",
            "ticks": ""
           }
          },
          "title": {
           "x": 0.05
          },
          "xaxis": {
           "automargin": true,
           "gridcolor": "white",
           "linecolor": "white",
           "ticks": "",
           "title": {
            "standoff": 15
           },
           "zerolinecolor": "white",
           "zerolinewidth": 2
          },
          "yaxis": {
           "automargin": true,
           "gridcolor": "white",
           "linecolor": "white",
           "ticks": "",
           "title": {
            "standoff": 15
           },
           "zerolinecolor": "white",
           "zerolinewidth": 2
          }
         }
        },
        "title": {
         "text": "Scatter Polar Plot",
         "x": 0.5
        },
        "width": 800
       }
      }
     },
     "metadata": {},
     "output_type": "display_data"
    }
   ],
   "source": [
    "px.scatter_polar(\n",
    "    df,\n",
    "    r=\"Age\",\n",
    "    theta=\"EmployeeNumber\",\n",
    "    color=target_column_name,\n",
    "    title=\"Scatter Polar Plot\",\n",
    "    color_continuous_scale=px.colors.sequential.Inferno,\n",
    ").update_layout(\n",
    "    title_text=\"Scatter Polar Plot\",\n",
    "    title_x=0.5,\n",
    "    width=800,\n",
    "    height=600,\n",
    ").show()\n",
    "\n"
   ]
  },
  {
   "cell_type": "code",
   "execution_count": null,
   "metadata": {},
   "outputs": [],
   "source": [
    "\n",
    "sns.pairplot(\n",
    "    df,\n",
    "    hue=target_column_name,\n",
    "    vars=[\n",
    "        \"Age\",\n",
    "        \"DistanceFromHome\",\n",
    "        \"JobInvolvement\",\n",
    "        \"JobLevel\",\n",
    "        \"JobSatisfaction\",\n",
    "        \"NumCompaniesWorked\",\n",
    "        \"TotalWorkingYears\"\n",
    "    ],\n",
    "    diag_kind=\"kde\"\n",
    ")\n",
    "plt.show()"
   ]
  },
  {
   "cell_type": "markdown",
   "metadata": {},
   "source": [
    "### PercentSalaryHike, YearsSinceLastPromotion, TotalWorkingYears\n",
    "The percentage of salary hike for the employee. **Numerical**\n",
    "\n",
    "Year passed since last promotion **Numerical**\n",
    "\n",
    "Total Working Years **Numerical**"
   ]
  },
  {
   "cell_type": "code",
   "execution_count": null,
   "metadata": {},
   "outputs": [],
   "source": [
    "plt.figure(figsize=(10, 5))\n",
    "\n",
    "plt.subplot(2, 2, 1)\n",
    "plt.hist(df[\"PercentSalaryHike\"], bins=20)\n",
    "plt.title(\"Percent Salary Hike Histogram\")\n",
    "plt.xlabel(\"Percent Salary Hike\")\n",
    "plt.ylabel(\"Number of Employees\")\n",
    "\n",
    "plt.subplot(2, 2, 2)\n",
    "plt.hist(df[\"YearsSinceLastPromotion\"], bins=20)\n",
    "plt.title(\"Years SinceLast Promotion Histogram\")\n",
    "plt.xlabel(\"Years SinceLast Promotion\")\n",
    "plt.ylabel(\"Number of Employees\")\n",
    "\n",
    "plt.subplot(2, 2, 3)\n",
    "plt.hist(df[\"TotalWorkingYears\"], bins=20)\n",
    "plt.title(\"Total Working Years Histogram\")\n",
    "plt.xlabel(\"Total Working Years\")\n",
    "plt.ylabel(\"Number of Employees\")\n",
    "\n",
    "plt.tight_layout()\n",
    "plt.show()"
   ]
  },
  {
   "cell_type": "markdown",
   "metadata": {},
   "source": [
    "### although there is no NULL values, if there are, I whould delete them "
   ]
  },
  {
   "cell_type": "code",
   "execution_count": null,
   "metadata": {},
   "outputs": [],
   "source": [
    "df = df.dropna()"
   ]
  },
  {
   "cell_type": "markdown",
   "metadata": {},
   "source": [
    "# Correlation HeatMap"
   ]
  },
  {
   "cell_type": "code",
   "execution_count": null,
   "metadata": {},
   "outputs": [],
   "source": [
    "# corr_mat = df.corr(method=\"pearson\")\n",
    "corr_mat = df_norm.corr()\n",
    "\n",
    "fig = go.Figure(\n",
    "    data=go.Heatmap(\n",
    "        z=corr_mat.values,\n",
    "        x = corr_mat.columns,\n",
    "        y = corr_mat.index,\n",
    "        colorscale=\"Viridis\"\n",
    "    )\n",
    ")\n",
    "fig.update_layout(\n",
    "    title=\"Corr HeatMap\",\n",
    "    height=600\n",
    ")\n",
    "fig.show()"
   ]
  },
  {
   "cell_type": "code",
   "execution_count": null,
   "metadata": {},
   "outputs": [],
   "source": []
  }
 ],
 "metadata": {
  "kaggle": {
   "accelerator": "none",
   "dataSources": [
    {
     "datasetId": 2888236,
     "sourceId": 4980019,
     "sourceType": "datasetVersion"
    }
   ],
   "dockerImageVersionId": 30886,
   "isGpuEnabled": false,
   "isInternetEnabled": false,
   "language": "python",
   "sourceType": "notebook"
  },
  "kernelspec": {
   "display_name": ".venv",
   "language": "python",
   "name": "python3"
  },
  "language_info": {
   "codemirror_mode": {
    "name": "ipython",
    "version": 3
   },
   "file_extension": ".py",
   "mimetype": "text/x-python",
   "name": "python",
   "nbconvert_exporter": "python",
   "pygments_lexer": "ipython3",
   "version": "3.12.10"
  }
 },
 "nbformat": 4,
 "nbformat_minor": 4
}
