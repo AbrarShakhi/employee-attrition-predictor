{
 "cells": [
  {
   "cell_type": "markdown",
   "metadata": {},
   "source": [
    "# Employee attrition predictor\n",
    "| COLUMN | DETAILS               |\n",
    "|---------|-----------------------|\n",
    "| Group   | B                     |\n",
    "| Name    | Md. Shakhiul Abrar    |\n",
    "| ID      | `2022-3-60-022`       |\n",
    "| Section | 05                    |\n",
    "| Course  | CSE303                |"
   ]
  },
  {
   "cell_type": "markdown",
   "metadata": {},
   "source": [
    "-----"
   ]
  },
  {
   "cell_type": "markdown",
   "metadata": {},
   "source": [
    "## Import nessesary libraries"
   ]
  },
  {
   "cell_type": "code",
   "execution_count": null,
   "metadata": {
    "_cell_guid": "04ce3127-bebc-4122-9e36-58030ba72497",
    "_uuid": "336ea956-83d7-4c64-8e68-e07189798001",
    "collapsed": false,
    "execution": {
     "iopub.execute_input": "2025-04-29T05:15:26.607247Z",
     "iopub.status.busy": "2025-04-29T05:15:26.606870Z",
     "iopub.status.idle": "2025-04-29T05:15:28.672336Z",
     "shell.execute_reply": "2025-04-29T05:15:28.671373Z",
     "shell.execute_reply.started": "2025-04-29T05:15:26.607217Z"
    },
    "jupyter": {
     "outputs_hidden": false
    },
    "trusted": true
   },
   "outputs": [],
   "source": [
    "import pandas as pd\n",
    "import numpy as np\n",
    "\n",
    "import matplotlib.pyplot as plt\n",
    "import plotly.express as px\n",
    "import seaborn as sns\n",
    "import plotly.graph_objects as go\n",
    "import plotly.figure_factory as ff\n",
    "\n",
    "import kagglehub\n",
    "from kagglehub import KaggleDatasetAdapter\n",
    "\n",
    "from os import path\n",
    "from sys import exit\n",
    "import math"
   ]
  },
  {
   "cell_type": "markdown",
   "metadata": {},
   "source": [
    "## A helper class to fetch the dataset\n",
    "Returns `None` if fails to fetch"
   ]
  },
  {
   "cell_type": "code",
   "execution_count": null,
   "metadata": {
    "execution": {
     "iopub.execute_input": "2025-04-29T05:15:40.006005Z",
     "iopub.status.busy": "2025-04-29T05:15:40.005707Z",
     "iopub.status.idle": "2025-04-29T05:15:40.011813Z",
     "shell.execute_reply": "2025-04-29T05:15:40.010840Z",
     "shell.execute_reply.started": "2025-04-29T05:15:40.005980Z"
    },
    "trusted": true
   },
   "outputs": [],
   "source": [
    "class DatasetLoader:\n",
    "    def __init__(self):\n",
    "        self.kaggle_url = \"thedevastator/employee-attrition-and-factors\"\n",
    "        \n",
    "        self.file_name = \"HR_Analytics.csv.csv\"\n",
    "        self.dir_name = \"dataset\"\n",
    "        \n",
    "        self.file_path = path.join(\"..\", self.dir_name, self.file_name)\n",
    "        self.github_url = f'https://raw.githubusercontent.com/AbrarShakhi/employee-attrition-predictor/main/{self.dir_name}/{self.file_name}'\n",
    "    \n",
    "    def load_from_kaggle(self):\n",
    "        try:\n",
    "            return kagglehub.load_dataset(KaggleDatasetAdapter.PANDAS, self.kaggle_url, self.file_name)\n",
    "        except:\n",
    "            return None\n",
    "\n",
    "    def load_from_github(self):\n",
    "        try:\n",
    "            return pd.read_csv(self.github_url)\n",
    "        except:\n",
    "            return None\n",
    "\n",
    "    def load_from_local(self):\n",
    "        try:\n",
    "            return pd.read_csv(self.file_path)\n",
    "        except:\n",
    "            return None"
   ]
  },
  {
   "cell_type": "markdown",
   "metadata": {},
   "source": [
    "## Fetch the dataset and show 5 rows\n",
    "* fetch from local. in case of failure, fetch from `github`\n",
    "* in case of failure, fetch from `kaggle`\n",
    "* in case of failure, exit"
   ]
  },
  {
   "cell_type": "code",
   "execution_count": null,
   "metadata": {
    "execution": {
     "iopub.execute_input": "2025-04-29T05:15:44.406899Z",
     "iopub.status.busy": "2025-04-29T05:15:44.406568Z",
     "iopub.status.idle": "2025-04-29T05:16:16.635320Z",
     "shell.execute_reply": "2025-04-29T05:16:16.634547Z",
     "shell.execute_reply.started": "2025-04-29T05:15:44.406868Z"
    },
    "trusted": true
   },
   "outputs": [],
   "source": [
    "loader = DatasetLoader()\n",
    "data = loader.load_from_local()\n",
    "if data is None:\n",
    "    data = loader.load_from_github()\n",
    "if data is None:\n",
    "    data = loader.load_from_kaggle()\n",
    "if data is None:\n",
    "    print(\"Unable to find dataset..\")\n",
    "    exit(1)\n",
    "\n",
    "data.head(5)"
   ]
  },
  {
   "cell_type": "markdown",
   "metadata": {},
   "source": [
    "## Number of null values in the dataset"
   ]
  },
  {
   "cell_type": "code",
   "execution_count": null,
   "metadata": {
    "execution": {
     "iopub.execute_input": "2025-04-29T05:17:44.039444Z",
     "iopub.status.busy": "2025-04-29T05:17:44.039109Z",
     "iopub.status.idle": "2025-04-29T05:17:44.045844Z",
     "shell.execute_reply": "2025-04-29T05:17:44.045033Z",
     "shell.execute_reply.started": "2025-04-29T05:17:44.039418Z"
    },
    "trusted": true
   },
   "outputs": [],
   "source": [
    "print(\"total number of null values in dataset: \",\n",
    "      sum(data.isnull().sum().to_numpy())\n",
    "     )"
   ]
  },
  {
   "cell_type": "markdown",
   "metadata": {},
   "source": [
    "## although there is no NULL values, if there are, I whould delete them "
   ]
  },
  {
   "cell_type": "code",
   "execution_count": null,
   "metadata": {},
   "outputs": [],
   "source": [
    "data = data.dropna()"
   ]
  },
  {
   "cell_type": "markdown",
   "metadata": {},
   "source": [
    "## Shape of the dataset"
   ]
  },
  {
   "cell_type": "code",
   "execution_count": null,
   "metadata": {},
   "outputs": [],
   "source": [
    "data.shape"
   ]
  },
  {
   "cell_type": "markdown",
   "metadata": {},
   "source": [
    "## Target column `Attrition`\n",
    "value that we want to predict"
   ]
  },
  {
   "cell_type": "code",
   "execution_count": null,
   "metadata": {
    "execution": {
     "iopub.execute_input": "2025-04-29T05:17:54.704500Z",
     "iopub.status.busy": "2025-04-29T05:17:54.704154Z",
     "iopub.status.idle": "2025-04-29T05:17:54.710452Z",
     "shell.execute_reply": "2025-04-29T05:17:54.709670Z",
     "shell.execute_reply.started": "2025-04-29T05:17:54.704475Z"
    },
    "trusted": true
   },
   "outputs": [],
   "source": [
    "target_column_name = \"Attrition\"\n",
    "data[target_column_name].head()"
   ]
  },
  {
   "cell_type": "markdown",
   "metadata": {},
   "source": [
    "## Check if the target column `Attrition` is balanced or not\n",
    "since the target column boolean value, so we will use **PIE** chart"
   ]
  },
  {
   "cell_type": "code",
   "execution_count": null,
   "metadata": {
    "execution": {
     "iopub.execute_input": "2025-04-29T05:24:15.690289Z",
     "iopub.status.busy": "2025-04-29T05:24:15.689918Z",
     "iopub.status.idle": "2025-04-29T05:24:15.783206Z",
     "shell.execute_reply": "2025-04-29T05:24:15.782475Z",
     "shell.execute_reply.started": "2025-04-29T05:24:15.690262Z"
    },
    "trusted": true
   },
   "outputs": [],
   "source": [
    "attrition_counts = data[target_column_name].value_counts().reset_index()\n",
    "attrition_counts.columns = [target_column_name, 'Count']\n",
    "\n",
    "fig = px.pie(attrition_counts, values='Count', names=target_column_name, \n",
    "             title='Attrition Pie chart', width=400, height=400)\n",
    "fig.show()\n"
   ]
  },
  {
   "cell_type": "markdown",
   "metadata": {},
   "source": [
    "## Remove columns that has only one value\n"
   ]
  },
  {
   "cell_type": "code",
   "execution_count": null,
   "metadata": {},
   "outputs": [],
   "source": [
    "for col in data.columns:\n",
    "    if len(data[col].unique()) == 1:\n",
    "        data.drop(col, axis=1, inplace=True)\n",
    "        print(f\"Removed column: {col}\")"
   ]
  },
  {
   "cell_type": "markdown",
   "metadata": {},
   "source": [
    "## Split Nominal and Ordinal columns\n",
    "and save them in a list"
   ]
  },
  {
   "cell_type": "code",
   "execution_count": null,
   "metadata": {
    "execution": {
     "iopub.execute_input": "2025-04-29T05:30:04.808404Z",
     "iopub.status.busy": "2025-04-29T05:30:04.808017Z",
     "iopub.status.idle": "2025-04-29T05:30:04.813883Z",
     "shell.execute_reply": "2025-04-29T05:30:04.813094Z",
     "shell.execute_reply.started": "2025-04-29T05:30:04.808373Z"
    },
    "trusted": true
   },
   "outputs": [],
   "source": [
    "nominal_columns = []\n",
    "ordinal_columns = []\n",
    "other_columns = []\n",
    "\n",
    "for col in data.columns:\n",
    "    if data[col].dtype == \"object\":\n",
    "        ordinal_columns.append(col)\n",
    "    elif data[col].dtype != \"int64\" and data[col].dtype != \"float64\":\n",
    "        other_columns.append(col)\n",
    "\n",
    "for col in [\n",
    "        \"Attrition\",\n",
    "        \"BusinessTravel\",\n",
    "        \"Department\",\n",
    "        \"EducationField\",\n",
    "        \"EnvironmentSatisfaction\",\n",
    "        \"Gender\",\n",
    "        \"JobInvolvement\",\n",
    "        \"JobLevel\",\n",
    "        \"JobRole\",\n",
    "        \"JobSatisfaction\",\n",
    "        \"MaritalStatus\",\n",
    "        \"OverTime\",\n",
    "        \"PerformanceRating\",\n",
    "        \"RelationshipSatisfaction\",\n",
    "        \"WorkLifeBalance\"\n",
    "    ]:\n",
    "    if col not in ordinal_columns:\n",
    "        ordinal_columns.append(col)\n",
    "\n",
    "for col in data.columns:\n",
    "    if col not in ordinal_columns and col not in other_columns:\n",
    "        if data[col].dtype != \"object\":\n",
    "            nominal_columns.append(col)\n",
    "        else:\n",
    "            other_columns.append(col)\n",
    "\n",
    "print(\"Nominal columns: \", nominal_columns)\n",
    "print(\"Ordinal columns: \", ordinal_columns)\n",
    "print(\"Other columns: \", other_columns)\n",
    "\n",
    "print(\"Total nominal columns: \", len(nominal_columns))\n",
    "print(\"Total ordinal columns: \", len(ordinal_columns))\n",
    "print(\"Total other columns: \", len(other_columns))\n",
    "print(\"Nominal + original + other columns: \", len(nominal_columns) + len(ordinal_columns) + len(other_columns))\n",
    "print(\"Total columns: \", len(data.columns))"
   ]
  },
  {
   "cell_type": "markdown",
   "metadata": {},
   "source": [
    "## Functions that will print statistical values of columns\n",
    "* Nominal column:\n",
    "    - Mean\n",
    "    - Median\n",
    "    - Varience\n",
    "    - Standared Deviation\n",
    "* Ordinal column:\n",
    "    - Frequency\n",
    "    - Percentage"
   ]
  },
  {
   "cell_type": "code",
   "execution_count": null,
   "metadata": {
    "execution": {
     "iopub.execute_input": "2025-04-29T05:34:42.100057Z",
     "iopub.status.busy": "2025-04-29T05:34:42.099713Z",
     "iopub.status.idle": "2025-04-29T05:34:42.105019Z",
     "shell.execute_reply": "2025-04-29T05:34:42.104000Z",
     "shell.execute_reply.started": "2025-04-29T05:34:42.100028Z"
    },
    "trusted": true
   },
   "outputs": [],
   "source": [
    "def print_nominal_info(col):\n",
    "    print(\"Column name: \", col)\n",
    "    print(\"Mean: \", data[col].mean())\n",
    "    print(\"Median: \", data[col].median())\n",
    "    print(\"Varience: \", data[col].var())\n",
    "    print(\"Std-dev: \", data[col].std())\n",
    "\n",
    "def print_ordinal_info(col):\n",
    "    counts = data[col].value_counts()\n",
    "    print(\n",
    "        pd.DataFrame({\n",
    "            \"Frequency\": counts,\n",
    "            \"Percentage\": counts / len(data) * 100\n",
    "        })\n",
    "    )"
   ]
  },
  {
   "cell_type": "markdown",
   "metadata": {},
   "source": [
    "## A quick info using a fucntion call for number type columns"
   ]
  },
  {
   "cell_type": "code",
   "execution_count": null,
   "metadata": {},
   "outputs": [],
   "source": [
    "data.describe().transpose()"
   ]
  },
  {
   "cell_type": "markdown",
   "metadata": {},
   "source": [
    "## A quick info using a fucntion call for object type columns"
   ]
  },
  {
   "cell_type": "code",
   "execution_count": null,
   "metadata": {},
   "outputs": [],
   "source": [
    "data.describe(include=\"object\").transpose()"
   ]
  },
  {
   "cell_type": "markdown",
   "metadata": {},
   "source": [
    "## Dataset info for nominal columns"
   ]
  },
  {
   "cell_type": "code",
   "execution_count": null,
   "metadata": {
    "execution": {
     "iopub.execute_input": "2025-04-29T05:34:45.030773Z",
     "iopub.status.busy": "2025-04-29T05:34:45.030447Z",
     "iopub.status.idle": "2025-04-29T05:34:45.067522Z",
     "shell.execute_reply": "2025-04-29T05:34:45.066661Z",
     "shell.execute_reply.started": "2025-04-29T05:34:45.030743Z"
    },
    "trusted": true
   },
   "outputs": [],
   "source": [
    "for col in nominal_columns:\n",
    "    print_nominal_info(col)\n",
    "    print()"
   ]
  },
  {
   "cell_type": "markdown",
   "metadata": {},
   "source": [
    "## Dataset info for ordinal columns"
   ]
  },
  {
   "cell_type": "code",
   "execution_count": null,
   "metadata": {
    "trusted": true
   },
   "outputs": [],
   "source": [
    "for col in ordinal_columns:\n",
    "    print_ordinal_info(col)\n",
    "    print()"
   ]
  },
  {
   "cell_type": "markdown",
   "metadata": {},
   "source": [
    "## Convert catagorical data into numbers\n",
    "`df` is original dataset,\n",
    "\n",
    "`df_norm` is converted dataset"
   ]
  },
  {
   "cell_type": "code",
   "execution_count": null,
   "metadata": {},
   "outputs": [],
   "source": [
    "data_norm = pd.DataFrame(data)\n",
    "def convert_categorical_to_numerical(col):\n",
    "    return data_norm[col].astype(\"category\").cat.codes\n",
    "\n",
    "def convert_categorical_to_numerical_all(columns):\n",
    "    for col in columns:\n",
    "        if data_norm[col].dtype == \"object\":\n",
    "            data_norm[col] = convert_categorical_to_numerical(col)\n",
    "    return data_norm\n",
    "\n",
    "convert_categorical_to_numerical_all(data_norm.columns)\n",
    "data_norm"
   ]
  },
  {
   "cell_type": "markdown",
   "metadata": {},
   "source": [
    "## histogram: `number of employees` in `Age` range group by `Attrition` color\n",
    "### Age\n",
    "The age of the employee. **Numerical**"
   ]
  },
  {
   "cell_type": "code",
   "execution_count": null,
   "metadata": {},
   "outputs": [],
   "source": [
    "fig = px.histogram(data, x=\"Age\", color=target_column_name, barmode=\"group\", )\n",
    "fig.update_layout(title=\"Age Distribution\", xaxis_title=\"Age\", yaxis_title=\"number of employees\", title_x=0.5)\n",
    "fig.update_traces(opacity=0.75)\n",
    "fig.update_traces(marker_line_width=1.5, marker_line_color=\"black\")\n",
    "fig.update_traces(marker=dict(line=dict(width=1, color='black')))\n",
    "fig.show()\n"
   ]
  },
  {
   "cell_type": "markdown",
   "metadata": {},
   "source": [
    "## Density HeatMap:`Age`, `Attrition`, `OverTime`, `TotalWorkingYears`"
   ]
  },
  {
   "cell_type": "code",
   "execution_count": null,
   "metadata": {},
   "outputs": [],
   "source": [
    "corr_mat= data_norm[[\"Age\", \"Attrition\", \"OverTime\", \"TotalWorkingYears\"]].corr()\n",
    "\n",
    "sns.heatmap(corr_mat, annot=True, fmt=\".2f\", cmap=\"coolwarm\")\n",
    "plt.title(\"Correlation Heatmap\")\n",
    "plt.show()\n"
   ]
  },
  {
   "cell_type": "markdown",
   "metadata": {},
   "source": [
    "## Pie Chart"
   ]
  },
  {
   "cell_type": "markdown",
   "metadata": {},
   "source": [
    "### BusinessTravel\n",
    "The frequency of business travel for the employee. **Categorical**"
   ]
  },
  {
   "cell_type": "code",
   "execution_count": null,
   "metadata": {},
   "outputs": [],
   "source": [
    "business_travel_counts = data['BusinessTravel'].value_counts().reset_index()\n",
    "business_travel_counts.columns = ['BusinessTravel', 'Count']\n",
    "\n",
    "fig = px.pie(business_travel_counts, values='Count', names='BusinessTravel', \n",
    "             title='Business Travel Pie chart', width=400, height=400)\n",
    "fig.show()"
   ]
  },
  {
   "cell_type": "markdown",
   "metadata": {},
   "source": [
    "## Box Plot"
   ]
  },
  {
   "cell_type": "markdown",
   "metadata": {},
   "source": [
    "### DailyRate\n",
    "The daily rate of pay for the employee. **Numerical**"
   ]
  },
  {
   "cell_type": "code",
   "execution_count": null,
   "metadata": {},
   "outputs": [],
   "source": [
    "fig = px.box(data, x=\"DailyRate\", title=\"Box plot of DailyRate\")\n",
    "fig.update_layout(xaxis_title=\"DailyRate\", height=300, title_x=0.50)\n",
    "fig.show()"
   ]
  },
  {
   "cell_type": "markdown",
   "metadata": {},
   "source": [
    "## Histogram: Number of employee count in each `department` group by `Attrition`\n",
    "### Department\n",
    "The department the employee works in. **Categorical**"
   ]
  },
  {
   "cell_type": "code",
   "execution_count": null,
   "metadata": {},
   "outputs": [],
   "source": [
    "fig = px.histogram(data, x=\"Department\", title=\"Department Histogram\", color=target_column_name, barmode=\"group\")\n",
    "fig.update_layout(xaxis_title=\"Department\", height=400, width=400)\n",
    "fig.show()"
   ]
  },
  {
   "cell_type": "markdown",
   "metadata": {},
   "source": [
    "## Dencity Carve of `Distance from home`\n",
    "### DistanceFromHome\n",
    "The distance from home in miles for the employee. **Numerical**"
   ]
  },
  {
   "cell_type": "code",
   "execution_count": null,
   "metadata": {},
   "outputs": [],
   "source": [
    "\n",
    "sns.histplot(data=data, x=\"DistanceFromHome\", kde=True, color=\"blue\", bins=10)\n",
    "plt.title(\"DistanceFromHome Histogram and dencity line\")\n",
    "plt.ylabel(\"number of employees\")\n",
    "plt.show()\n"
   ]
  },
  {
   "cell_type": "markdown",
   "metadata": {},
   "source": [
    "## 3D scatter plot: `Education`, `Age`, `EmployeeNumber`,\n",
    "### Education\n",
    "The level of education achieved by the employee. **Categorical**"
   ]
  },
  {
   "cell_type": "code",
   "execution_count": null,
   "metadata": {},
   "outputs": [],
   "source": [
    "fig = px.scatter_3d(\n",
    "    data,\n",
    "    x='Education',\n",
    "    y='Age',\n",
    "    z='EmployeeNumber',\n",
    "    color='Attrition',\n",
    "    opacity=0.5,\n",
    "    title=\"3D Scatter plot of Education, Age and EmployeeNumber\",\n",
    ")\n",
    "fig.update_layout(\n",
    "    title_x=0.5\n",
    ")\n",
    "fig.show()"
   ]
  },
  {
   "cell_type": "markdown",
   "metadata": {},
   "source": [
    "## Histogram: Number of employee count in each `Environment Satisfaction` level group by `Attrition`\n",
    "### EnvironmentSatisfaction\n",
    "The employee's satisfaction with their work environment. **Categorical**"
   ]
  },
  {
   "cell_type": "code",
   "execution_count": null,
   "metadata": {},
   "outputs": [],
   "source": [
    "px.histogram(\n",
    "    data,\n",
    "    x=\"EnvironmentSatisfaction\",\n",
    "    color=target_column_name,\n",
    "    barmode=\"group\"\n",
    ").update_layout(\n",
    "    title=\"Environment Satisfaction\",\n",
    "    width=300,\n",
    "    height=300\n",
    ").show()"
   ]
  },
  {
   "cell_type": "markdown",
   "metadata": {},
   "source": [
    "## Histogram: Number of employee count in each `job Satisfaction` level group by `Attrition`\n",
    "\n",
    "### JobSatisfaction\n",
    "The employee's satisfaction with their job. **Categorical**"
   ]
  },
  {
   "cell_type": "code",
   "execution_count": null,
   "metadata": {},
   "outputs": [],
   "source": [
    "fig = px.histogram(data, x=\"JobSatisfaction\", color=target_column_name, \n",
    "                   title=\"Job Satisfaction Histogram\", barmode='group')\n",
    "fig.update_layout(xaxis_title=\"Job Satisfaction\", height=300, width=700)\n",
    "fig.update_layout(title_text='Job Satisfaction vs number of employee', title_x=.5)\n",
    "fig.update_traces(textfont_size=12)\n",
    "fig.update_traces(textfont=dict(color=\"white\"))\n",
    "fig.show()\n"
   ]
  },
  {
   "cell_type": "markdown",
   "metadata": {},
   "source": [
    "## Bar Chart: Total `Working Years` vs `Monthly Income` group by `Attrition`\n",
    "### MonthlyIncome\n",
    "The monthly income of the employee. **Numerical**"
   ]
  },
  {
   "cell_type": "code",
   "execution_count": null,
   "metadata": {},
   "outputs": [],
   "source": [
    "px.bar(\n",
    "    data,\n",
    "    x=\"TotalWorkingYears\",\n",
    "    y=\"MonthlyIncome\",\n",
    "    color=target_column_name,\n",
    "    title=\"Total Working Years vs Monthly Income\",\n",
    "    barmode=\"group\"\n",
    ").update_layout(\n",
    "    title_x=0.5,\n",
    "    xaxis_title=\"Total Working Years\",\n",
    "    yaxis_title=\"Monthly Income\"\n",
    ").show()"
   ]
  },
  {
   "cell_type": "markdown",
   "metadata": {},
   "source": [
    "## Correlation HeatMap Monthly Income vs Attrition"
   ]
  },
  {
   "cell_type": "code",
   "execution_count": null,
   "metadata": {},
   "outputs": [],
   "source": [
    "fig = px.density_heatmap(data, x=\"MonthlyIncome\", y=target_column_name, color_continuous_scale=\"Viridis\",)\n",
    "fig.update_layout(title=\"Dencity Heamap with MonthlyIncome and Attrition\", title_x=0.5)\n",
    "fig.show()"
   ]
  },
  {
   "cell_type": "markdown",
   "metadata": {},
   "source": [
    "## Scatter `Employee number` vs `Years At Company`\n",
    "### YearsAtCompany\n",
    "The number of years the employee has been with the company. **Numerical**"
   ]
  },
  {
   "cell_type": "code",
   "execution_count": null,
   "metadata": {},
   "outputs": [],
   "source": [
    "fig = px.scatter(\n",
    "    data_norm,\n",
    "    x='EmployeeNumber',\n",
    "    y=\"YearsAtCompany\",\n",
    "    color=target_column_name,\n",
    "    title='P',\n",
    "    color_continuous_scale='viridis',\n",
    ")\n",
    "fig.update_layout(\n",
    "    title=\"EmployeeNumber Vs YearsAtCompany With attrition\"\n",
    ")\n",
    "fig.show()\n"
   ]
  },
  {
   "cell_type": "markdown",
   "metadata": {},
   "source": [
    "## Violin diagram `StockOptionLevel` and `Attrition`\n",
    "### StockOptionLevel\n",
    "The stock option level of the employee. **Numerical**"
   ]
  },
  {
   "cell_type": "code",
   "execution_count": null,
   "metadata": {},
   "outputs": [],
   "source": [
    "fig = px.violin(\n",
    "    data,\n",
    "    y=\"StockOptionLevel\",\n",
    "    x=target_column_name,\n",
    "    color=target_column_name,\n",
    "    box=True,\n",
    "    points=\"all\",\n",
    "    title=\"Stock Option Level vs Attrition\"\n",
    ")\n",
    "fig.update_layout(\n",
    "    title_x=0.5,\n",
    "    xaxis_title=\"Attrition\",\n",
    "    yaxis_title=\"Stock Option Level\"\n",
    ")\n",
    "fig.show()"
   ]
  },
  {
   "cell_type": "markdown",
   "metadata": {},
   "source": [
    "## Line PLot: Employee number vs `YearsSinceLastPromotion`\n",
    "### YearsSinceLastPromotion\n",
    "The number of years since the employee's last promotion. **Numerical**"
   ]
  },
  {
   "cell_type": "code",
   "execution_count": null,
   "metadata": {},
   "outputs": [],
   "source": [
    "sns.lineplot(data=data, x=\"EmployeeNumber\", y=\"YearsSinceLastPromotion\", hue=target_column_name)\n",
    "plt.show()"
   ]
  },
  {
   "cell_type": "markdown",
   "metadata": {},
   "source": [
    "## Parallel Coordinates\n",
    "Shows parallel coordinates graph for all nominal columns"
   ]
  },
  {
   "cell_type": "code",
   "execution_count": null,
   "metadata": {},
   "outputs": [],
   "source": [
    "fig = px.parallel_coordinates(\n",
    "    data_norm,\n",
    "    color=target_column_name,\n",
    "    dimensions=nominal_columns,\n",
    "    color_continuous_scale=px.colors.sequential.Aggrnyl,\n",
    "    title=\"Parallel Coordinates Plot\"\n",
    ")\n",
    "fig.update_layout(\n",
    "    title_text=\"Parallel Coordinates Plot\",\n",
    "    title_x=0.5,\n",
    "    # width=800,\n",
    "    height=800\n",
    ")\n",
    "fig.show()"
   ]
  },
  {
   "cell_type": "markdown",
   "metadata": {},
   "source": [
    "## Polar scatter plot\n",
    "* radius: `Age`\n",
    "* theta: `EmployeeNumber`\n",
    "* color `Attrition`"
   ]
  },
  {
   "cell_type": "code",
   "execution_count": null,
   "metadata": {},
   "outputs": [],
   "source": [
    "px.scatter_polar(\n",
    "    data,\n",
    "    r=\"Age\",\n",
    "    theta=\"EmployeeNumber\",\n",
    "    color=target_column_name,\n",
    "    title=\"Scatter Polar Plot\",\n",
    "    color_continuous_scale=px.colors.sequential.Inferno,\n",
    ").update_layout(\n",
    "    title_text=\"Scatter Polar Plot\",\n",
    "    title_x=0.5,\n",
    "    width=800,\n",
    "    height=600,\n",
    ").show()\n",
    "\n"
   ]
  },
  {
   "cell_type": "markdown",
   "metadata": {},
   "source": [
    "## Sankey diagram: `Attrition`, and `MaritalStatus`"
   ]
  },
  {
   "cell_type": "code",
   "execution_count": null,
   "metadata": {},
   "outputs": [],
   "source": [
    "columns = ['Attrition', 'MaritalStatus']\n",
    "\n",
    "labels = pd.unique(data[columns].values.ravel('K')).tolist()\n",
    "\n",
    "source = []\n",
    "target = []\n",
    "value = []\n",
    "\n",
    "for i in range(len(columns) - 1):\n",
    "    df_grouped = data.groupby([columns[i], columns[i+1]]).size().reset_index(name='count')\n",
    "    for _, row in df_grouped.iterrows():\n",
    "        source.append(labels.index(row[columns[i]]))\n",
    "        target.append(labels.index(row[columns[i+1]]))\n",
    "        value.append(row['count'])\n",
    "\n",
    "link = dict(source=source, target=target, value=value)\n",
    "node = dict(label=labels, pad=15, thickness=20, line=dict(color=\"black\", width=0.5))\n",
    "\n",
    "fig = go.Figure(go.Sankey(link=link, node=node, arrangement=\"snap\", textfont=dict(size=10, color=\"black\")))\n",
    "fig.update_layout(title_text=\"Sankey Diagram of Attrition, and MaritalStatus\", title_x=0.5)\n",
    "fig.show()\n"
   ]
  },
  {
   "cell_type": "markdown",
   "metadata": {},
   "source": [
    "## Pair plot `Age`, `DistanceFromHome`, `TotalWorkingYears`"
   ]
  },
  {
   "cell_type": "code",
   "execution_count": null,
   "metadata": {},
   "outputs": [],
   "source": [
    "sns.pairplot(\n",
    "    data,\n",
    "    hue=target_column_name,\n",
    "    vars=[\n",
    "        \"Age\",\n",
    "        \"DistanceFromHome\",\n",
    "        \"TotalWorkingYears\"\n",
    "    ],\n",
    "    diag_kind=\"kde\"\n",
    ")\n",
    "plt.show()"
   ]
  },
  {
   "cell_type": "markdown",
   "metadata": {},
   "source": [
    "## Histogram: PercentSalaryHike, YearsSinceLastPromotion, TotalWorkingYears\n",
    "The percentage of salary hike for the employee. **Numerical**\n",
    "\n",
    "Year passed since last promotion **Numerical**\n",
    "\n",
    "Total Working Years **Numerical**"
   ]
  },
  {
   "cell_type": "code",
   "execution_count": null,
   "metadata": {},
   "outputs": [],
   "source": [
    "columns = [\"PercentSalaryHike\", \"YearsSinceLastPromotion\", \"TotalWorkingYears\"]\n",
    "titles = [\"Percent Salary Hike Histogram\", \"Years Since Last Promotion Histogram\", \"Total Working Years Histogram\"]\n",
    "xlabels = [\"Percent Salary Hike\", \"Years Since Last Promotion\", \"Total Working Years\"]\n",
    "colors = [\"g\", \"b\", \"r\"]\n",
    "\n",
    "plt.figure(figsize=(10, 7))\n",
    "for i in range(len(columns)):\n",
    "    plt.subplot(2, 2, i+1)\n",
    "    sns.histplot(data[columns[i]], bins=10, color=colors[i], edgecolor='black', alpha=0.5, stat='density', kde=True)\n",
    "    plt.title(titles[i])\n",
    "    plt.xlabel(xlabels[i])\n",
    "    plt.ylabel(\"Density\")\n",
    "\n",
    "plt.tight_layout()\n",
    "plt.show()\n"
   ]
  },
  {
   "cell_type": "markdown",
   "metadata": {},
   "source": [
    "## Correlation HeatMap\n",
    "Corralation heatmap with each column"
   ]
  },
  {
   "cell_type": "code",
   "execution_count": null,
   "metadata": {},
   "outputs": [],
   "source": [
    "corr_mat = data_norm.corr(method=\"pearson\")\n",
    "# corr_mat = df_norm.corr()\n",
    "\n",
    "fig = go.Figure(\n",
    "    data=go.Heatmap(\n",
    "        z=corr_mat.values,\n",
    "        x = corr_mat.columns,\n",
    "        y = corr_mat.index,\n",
    "        colorscale=\"Viridis\",\n",
    "    )\n",
    ")\n",
    "fig.update_layout(\n",
    "    title=\"Correlation HeatMap\",\n",
    "    height=600,\n",
    "    title_x=0.5,\n",
    ")\n",
    "fig.show()"
   ]
  },
  {
   "cell_type": "markdown",
   "metadata": {},
   "source": [
    "## Correlation HeatMap with Attrition vs Every other column"
   ]
  },
  {
   "cell_type": "code",
   "execution_count": null,
   "metadata": {},
   "outputs": [],
   "source": [
    "corr_mat = data_norm.corr(method=\"pearson\")\n",
    "corr_mat = corr_mat[target_column_name].sort_values(ascending=False)\n",
    "fig = px.bar(\n",
    "    x=corr_mat.values,\n",
    "    y=corr_mat.index,\n",
    "    title=\"Correlation with Attrition\",\n",
    "    color=corr_mat.values,\n",
    "    color_continuous_scale=px.colors.sequential.Plasma\n",
    ")\n",
    "fig.update_layout(\n",
    "    title_x=0.5,\n",
    "    xaxis_title=\"Columns\",\n",
    "    yaxis_title=\"Correlation with Attrition\",\n",
    "    height=700\n",
    ")\n",
    "fig.show()"
   ]
  }
 ],
 "metadata": {
  "kaggle": {
   "accelerator": "none",
   "dataSources": [
    {
     "datasetId": 2888236,
     "sourceId": 4980019,
     "sourceType": "datasetVersion"
    }
   ],
   "dockerImageVersionId": 30886,
   "isGpuEnabled": false,
   "isInternetEnabled": false,
   "language": "python",
   "sourceType": "notebook"
  },
  "kernelspec": {
   "display_name": ".venv",
   "language": "python",
   "name": "python3"
  },
  "language_info": {
   "codemirror_mode": {
    "name": "ipython",
    "version": 3
   },
   "file_extension": ".py",
   "mimetype": "text/x-python",
   "name": "python",
   "nbconvert_exporter": "python",
   "pygments_lexer": "ipython3",
   "version": "3.12.10"
  }
 },
 "nbformat": 4,
 "nbformat_minor": 4
}
