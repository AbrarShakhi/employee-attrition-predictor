{
 "cells": [
  {
   "cell_type": "code",
   "execution_count": null,
   "metadata": {
    "_cell_guid": "04ce3127-bebc-4122-9e36-58030ba72497",
    "_uuid": "336ea956-83d7-4c64-8e68-e07189798001",
    "collapsed": false,
    "execution": {
     "iopub.execute_input": "2025-04-29T05:15:26.607247Z",
     "iopub.status.busy": "2025-04-29T05:15:26.606870Z",
     "iopub.status.idle": "2025-04-29T05:15:28.672336Z",
     "shell.execute_reply": "2025-04-29T05:15:28.671373Z",
     "shell.execute_reply.started": "2025-04-29T05:15:26.607217Z"
    },
    "jupyter": {
     "outputs_hidden": false
    },
    "trusted": true
   },
   "outputs": [],
   "source": [
    "import pandas as pd\n",
    "import numpy as np\n",
    "\n",
    "import matplotlib.pyplot as plt\n",
    "import plotly.express as px\n",
    "import seaborn as sns\n",
    "import plotly.graph_objects as go\n",
    "import plotly.figure_factory as ff\n",
    "\n",
    "import kagglehub\n",
    "from kagglehub import KaggleDatasetAdapter\n",
    "\n",
    "from os import path\n",
    "from sys import exit\n",
    "import math"
   ]
  },
  {
   "cell_type": "code",
   "execution_count": null,
   "metadata": {
    "execution": {
     "iopub.execute_input": "2025-04-29T05:15:40.006005Z",
     "iopub.status.busy": "2025-04-29T05:15:40.005707Z",
     "iopub.status.idle": "2025-04-29T05:15:40.011813Z",
     "shell.execute_reply": "2025-04-29T05:15:40.010840Z",
     "shell.execute_reply.started": "2025-04-29T05:15:40.005980Z"
    },
    "trusted": true
   },
   "outputs": [],
   "source": [
    "class DatasetLoader:\n",
    "    def __init__(self):\n",
    "        self.kaggle_url = \"thedevastator/employee-attrition-and-factors\"\n",
    "        \n",
    "        self.file_name = \"HR_Analytics.csv.csv\"\n",
    "        self.dir_name = \"dataset\"\n",
    "        \n",
    "        self.file_path = path.join(\"..\", self.dir_name, self.file_name)\n",
    "        self.github_url = f'https://raw.githubusercontent.com/AbrarShakhi/employee-attrition-predictor/main/{self.dir_name}/{self.file_name}'\n",
    "    \n",
    "    def load_from_kaggle(self):\n",
    "        try:\n",
    "            return kagglehub.load_dataset(KaggleDatasetAdapter.PANDAS, self.kaggle_url, self.file_name)\n",
    "        except:\n",
    "            return None\n",
    "\n",
    "    def load_from_github(self):\n",
    "        try:\n",
    "            return pd.read_csv(self.github_url)\n",
    "        except:\n",
    "            return None\n",
    "\n",
    "    def load_from_local(self):\n",
    "        try:\n",
    "            return pd.read_csv(self.file_path)\n",
    "        except:\n",
    "            return None"
   ]
  },
  {
   "cell_type": "code",
   "execution_count": null,
   "metadata": {
    "execution": {
     "iopub.execute_input": "2025-04-29T05:15:44.406899Z",
     "iopub.status.busy": "2025-04-29T05:15:44.406568Z",
     "iopub.status.idle": "2025-04-29T05:16:16.635320Z",
     "shell.execute_reply": "2025-04-29T05:16:16.634547Z",
     "shell.execute_reply.started": "2025-04-29T05:15:44.406868Z"
    },
    "trusted": true
   },
   "outputs": [],
   "source": [
    "loader = DatasetLoader()\n",
    "df = loader.load_from_local()\n",
    "if df is None:\n",
    "    df = loader.load_from_github()\n",
    "if df is None:\n",
    "    df = loader.load_from_kaggle()\n",
    "if df is None:\n",
    "    print(\"Unable to find data..\")\n",
    "    exit(1)\n",
    "\n",
    "df.head(5)"
   ]
  },
  {
   "cell_type": "code",
   "execution_count": null,
   "metadata": {
    "execution": {
     "iopub.execute_input": "2025-04-29T05:17:44.039444Z",
     "iopub.status.busy": "2025-04-29T05:17:44.039109Z",
     "iopub.status.idle": "2025-04-29T05:17:44.045844Z",
     "shell.execute_reply": "2025-04-29T05:17:44.045033Z",
     "shell.execute_reply.started": "2025-04-29T05:17:44.039418Z"
    },
    "trusted": true
   },
   "outputs": [],
   "source": [
    "print(\"total number of null values in dataset: \",\n",
    "      sum(df.isnull().sum().to_numpy())\n",
    "     )"
   ]
  },
  {
   "cell_type": "code",
   "execution_count": null,
   "metadata": {},
   "outputs": [],
   "source": [
    "df.shape"
   ]
  },
  {
   "cell_type": "code",
   "execution_count": null,
   "metadata": {
    "execution": {
     "iopub.execute_input": "2025-04-29T05:17:54.704500Z",
     "iopub.status.busy": "2025-04-29T05:17:54.704154Z",
     "iopub.status.idle": "2025-04-29T05:17:54.710452Z",
     "shell.execute_reply": "2025-04-29T05:17:54.709670Z",
     "shell.execute_reply.started": "2025-04-29T05:17:54.704475Z"
    },
    "trusted": true
   },
   "outputs": [],
   "source": [
    "target_column_name = \"Attrition\"\n",
    "df[target_column_name].head()"
   ]
  },
  {
   "cell_type": "code",
   "execution_count": null,
   "metadata": {
    "execution": {
     "iopub.execute_input": "2025-04-29T05:24:15.690289Z",
     "iopub.status.busy": "2025-04-29T05:24:15.689918Z",
     "iopub.status.idle": "2025-04-29T05:24:15.783206Z",
     "shell.execute_reply": "2025-04-29T05:24:15.782475Z",
     "shell.execute_reply.started": "2025-04-29T05:24:15.690262Z"
    },
    "trusted": true
   },
   "outputs": [],
   "source": [
    "attrition_counts = df[target_column_name].value_counts().reset_index()\n",
    "attrition_counts.columns = [target_column_name, 'Count']\n",
    "\n",
    "fig = px.pie(attrition_counts, values='Count', names=target_column_name, \n",
    "             title='Attrition Pie chart', width=400, height=400)\n",
    "fig.show()\n"
   ]
  },
  {
   "cell_type": "markdown",
   "metadata": {},
   "source": [
    "# Remove the columns that has only one value\n"
   ]
  },
  {
   "cell_type": "code",
   "execution_count": null,
   "metadata": {},
   "outputs": [],
   "source": [
    "for col in df.columns:\n",
    "    if len(df[col].unique()) == 1:\n",
    "        df.drop(col, axis=1, inplace=True)\n",
    "        print(f\"Removed column: {col}\")"
   ]
  },
  {
   "cell_type": "code",
   "execution_count": null,
   "metadata": {
    "execution": {
     "iopub.execute_input": "2025-04-29T05:30:04.808404Z",
     "iopub.status.busy": "2025-04-29T05:30:04.808017Z",
     "iopub.status.idle": "2025-04-29T05:30:04.813883Z",
     "shell.execute_reply": "2025-04-29T05:30:04.813094Z",
     "shell.execute_reply.started": "2025-04-29T05:30:04.808373Z"
    },
    "trusted": true
   },
   "outputs": [],
   "source": [
    "nominal_columns = []\n",
    "ordinal_columns = []\n",
    "other_columns = []\n",
    "\n",
    "for col in df.columns:\n",
    "    if df[col].dtype == \"object\":\n",
    "        ordinal_columns.append(col)\n",
    "    elif df[col].dtype != \"int64\" and df[col].dtype != \"float64\":\n",
    "        other_columns.append(col)\n",
    "\n",
    "for col in [\n",
    "        \"Attrition\",\n",
    "        \"BusinessTravel\",\n",
    "        \"Department\",\n",
    "        \"EducationField\",\n",
    "        \"EnvironmentSatisfaction\",\n",
    "        \"Gender\",\n",
    "        \"JobInvolvement\",\n",
    "        \"JobLevel\",\n",
    "        \"JobRole\",\n",
    "        \"JobSatisfaction\",\n",
    "        \"MaritalStatus\",\n",
    "        \"OverTime\",\n",
    "        \"PerformanceRating\",\n",
    "        \"RelationshipSatisfaction\",\n",
    "        \"WorkLifeBalance\"\n",
    "    ]:\n",
    "    if col not in ordinal_columns:\n",
    "        ordinal_columns.append(col)\n",
    "\n",
    "for col in df.columns:\n",
    "    if col not in ordinal_columns and col not in other_columns:\n",
    "        if df[col].dtype != \"object\":\n",
    "            nominal_columns.append(col)\n",
    "        else:\n",
    "            other_columns.append(col)\n",
    "\n",
    "print(\"Nominal columns: \", nominal_columns)\n",
    "print(\"Ordinal columns: \", ordinal_columns)\n",
    "print(\"Other columns: \", other_columns)\n",
    "\n",
    "print(\"Total nominal columns: \", len(nominal_columns))\n",
    "print(\"Total ordinal columns: \", len(ordinal_columns))\n",
    "print(\"Total other columns: \", len(other_columns))\n",
    "print(\"Nominal + original + other columns: \", len(nominal_columns) + len(ordinal_columns) + len(other_columns))\n",
    "print(\"Total columns: \", len(df.columns))"
   ]
  },
  {
   "cell_type": "code",
   "execution_count": null,
   "metadata": {
    "execution": {
     "iopub.execute_input": "2025-04-29T05:34:42.100057Z",
     "iopub.status.busy": "2025-04-29T05:34:42.099713Z",
     "iopub.status.idle": "2025-04-29T05:34:42.105019Z",
     "shell.execute_reply": "2025-04-29T05:34:42.104000Z",
     "shell.execute_reply.started": "2025-04-29T05:34:42.100028Z"
    },
    "trusted": true
   },
   "outputs": [],
   "source": [
    "def print_nominal_info(col):\n",
    "    print(\"Column name: \", col)\n",
    "    print(\"Mean: \", df[col].mean())\n",
    "    print(\"Median: \", df[col].median())\n",
    "    print(\"varience: \", df[col].var())\n",
    "    print(\"std-dev: \", df[col].std())\n",
    "\n",
    "def print_ordinal_info(col):\n",
    "    counts = df[col].value_counts()\n",
    "    print(\n",
    "        pd.DataFrame({\n",
    "            \"Frequency\": counts,\n",
    "            \"Percentage\": counts / len(df) * 100\n",
    "        })\n",
    "    )"
   ]
  },
  {
   "cell_type": "code",
   "execution_count": null,
   "metadata": {},
   "outputs": [],
   "source": [
    "df.describe().transpose()"
   ]
  },
  {
   "cell_type": "code",
   "execution_count": null,
   "metadata": {},
   "outputs": [],
   "source": [
    "df.describe(include=\"object\").transpose()"
   ]
  },
  {
   "cell_type": "code",
   "execution_count": null,
   "metadata": {
    "execution": {
     "iopub.execute_input": "2025-04-29T05:34:45.030773Z",
     "iopub.status.busy": "2025-04-29T05:34:45.030447Z",
     "iopub.status.idle": "2025-04-29T05:34:45.067522Z",
     "shell.execute_reply": "2025-04-29T05:34:45.066661Z",
     "shell.execute_reply.started": "2025-04-29T05:34:45.030743Z"
    },
    "trusted": true
   },
   "outputs": [],
   "source": [
    "for col in nominal_columns:\n",
    "    print_nominal_info(col)\n",
    "    print()"
   ]
  },
  {
   "cell_type": "code",
   "execution_count": null,
   "metadata": {
    "trusted": true
   },
   "outputs": [],
   "source": [
    "for col in ordinal_columns:\n",
    "    print_ordinal_info(col)\n",
    "    print()"
   ]
  },
  {
   "cell_type": "markdown",
   "metadata": {},
   "source": [
    "# Convert catagorical data into numbers"
   ]
  },
  {
   "cell_type": "code",
   "execution_count": null,
   "metadata": {},
   "outputs": [],
   "source": [
    "df_norm = pd.DataFrame(df)\n",
    "def convert_categorical_to_numerical(col):\n",
    "    return df_norm[col].astype(\"category\").cat.codes\n",
    "\n",
    "def convert_categorical_to_numerical_all(columns):\n",
    "    for col in columns:\n",
    "        if df_norm[col].dtype == \"object\":\n",
    "            df_norm[col] = convert_categorical_to_numerical(col)\n",
    "    return df_norm\n",
    "\n",
    "convert_categorical_to_numerical_all(df_norm.columns)\n",
    "df_norm"
   ]
  },
  {
   "cell_type": "markdown",
   "metadata": {},
   "source": [
    "### Age\n",
    "The age of the employee. **Numerical**"
   ]
  },
  {
   "cell_type": "code",
   "execution_count": null,
   "metadata": {},
   "outputs": [],
   "source": [
    "fig = px.histogram(df, x=\"Age\", color=target_column_name, barmode=\"group\", )\n",
    "fig.update_layout()\n",
    "fig.show()\n"
   ]
  },
  {
   "cell_type": "code",
   "execution_count": null,
   "metadata": {},
   "outputs": [],
   "source": [
    "fig = px.density_heatmap(df, x=\"Age\", y=target_column_name)\n",
    "fig.update_layout(title=\"Dencity Heamap with age and Attrition\")\n",
    "fig.show()"
   ]
  },
  {
   "cell_type": "markdown",
   "metadata": {},
   "source": [
    "### BusinessTravel\n",
    "The frequency of business travel for the employee. **Categorical**"
   ]
  },
  {
   "cell_type": "code",
   "execution_count": null,
   "metadata": {},
   "outputs": [],
   "source": [
    "business_travel_counts = df['BusinessTravel'].value_counts().reset_index()\n",
    "business_travel_counts.columns = ['BusinessTravel', 'Count']\n",
    "\n",
    "fig = px.pie(business_travel_counts, values='Count', names='BusinessTravel', \n",
    "             title='Business Travel Pie chart', width=400, height=400)\n",
    "fig.show()"
   ]
  },
  {
   "cell_type": "markdown",
   "metadata": {},
   "source": [
    "### DailyRate\n",
    "The daily rate of pay for the employee. **Numerical**"
   ]
  },
  {
   "cell_type": "code",
   "execution_count": null,
   "metadata": {},
   "outputs": [],
   "source": [
    "fig = px.box(df, x=\"DailyRate\", title=\"Box plot of DailyRate\")\n",
    "fig.update_layout(xaxis_title=\"DailyRate\", height=300)\n",
    "fig.show()"
   ]
  },
  {
   "cell_type": "markdown",
   "metadata": {},
   "source": [
    "### Department\n",
    "The department the employee works in. **Categorical**"
   ]
  },
  {
   "cell_type": "code",
   "execution_count": null,
   "metadata": {},
   "outputs": [],
   "source": [
    "fig = px.histogram(df, x=\"Department\", title=\"Department Histogram\", color=target_column_name, barmode=\"group\")\n",
    "fig.update_layout(xaxis_title=\"Department\", height=400, width=400)\n",
    "\n",
    "fig = px.density_heatmap(df, x=\"Attrition\", y=\"Department\")\n",
    "fig.show()"
   ]
  },
  {
   "cell_type": "markdown",
   "metadata": {},
   "source": [
    "### DistanceFromHome\n",
    "The distance from home in miles for the employee. **Numerical**"
   ]
  },
  {
   "cell_type": "code",
   "execution_count": null,
   "metadata": {},
   "outputs": [],
   "source": [
    "\n",
    "sns.histplot(data=df, x=\"DistanceFromHome\", kde=True, color=\"blue\", bins=10)\n",
    "plt.title(\"DistanceFromHome Histogram and dencity line\")\n",
    "plt.show()\n"
   ]
  },
  {
   "cell_type": "markdown",
   "metadata": {},
   "source": [
    "### Education\n",
    "The level of education achieved by the employee. **Categorical**"
   ]
  },
  {
   "cell_type": "code",
   "execution_count": null,
   "metadata": {},
   "outputs": [],
   "source": [
    "fig = px.scatter_3d(\n",
    "    df,\n",
    "    x='Education',\n",
    "    y='Age',\n",
    "    z='EmployeeNumber',\n",
    "    color='Attrition',\n",
    "    opacity=0.5\n",
    ")\n",
    "\n",
    "fig.show()"
   ]
  },
  {
   "cell_type": "markdown",
   "metadata": {},
   "source": [
    "### EnvironmentSatisfaction\n",
    "The employee's satisfaction with their work environment. **Categorical**"
   ]
  },
  {
   "cell_type": "code",
   "execution_count": null,
   "metadata": {},
   "outputs": [],
   "source": [
    "px.histogram(\n",
    "    df,\n",
    "    x=\"EnvironmentSatisfaction\",\n",
    "    color=target_column_name,\n",
    "    barmode=\"group\"\n",
    ").update_layout(\n",
    "    title=\"Environment Satisfaction\",\n",
    "    width=300,\n",
    "    height=300\n",
    ").show()"
   ]
  },
  {
   "cell_type": "markdown",
   "metadata": {},
   "source": [
    "### JobSatisfaction\n",
    "The employee's satisfaction with their job. **Categorical**"
   ]
  },
  {
   "cell_type": "code",
   "execution_count": null,
   "metadata": {},
   "outputs": [],
   "source": [
    "fig = px.histogram(df, x=\"JobSatisfaction\", color=target_column_name, \n",
    "                   title=\"Job Satisfaction Histogram\", barmode='group')\n",
    "fig.update_layout(xaxis_title=\"Job Satisfaction\", height=300, width=700)\n",
    "fig.update_layout(title_text='Job Satisfaction vs number of employee', title_x=.5)\n",
    "fig.update_traces(textfont_size=12)\n",
    "fig.update_traces(textfont=dict(color=\"white\"))\n",
    "fig.show()\n"
   ]
  },
  {
   "cell_type": "markdown",
   "metadata": {},
   "source": [
    "### MonthlyIncome\n",
    "The monthly income of the employee. **Numerical**"
   ]
  },
  {
   "cell_type": "code",
   "execution_count": null,
   "metadata": {},
   "outputs": [],
   "source": [
    "px.histogram(\n",
    "    df, x=\"MonthlyIncome\", color=target_column_name, barmode=\"group\"\n",
    ").update_layout(\n",
    "    title_text=\"Monthly Income vs number of employee\",\n",
    "    title_x=0.5,\n",
    "    xaxis_title=\"Monthly Income\",\n",
    "    height=300,\n",
    "    width=700,\n",
    "    xaxis=dict(\n",
    "        tickmode=\"array\",\n",
    "        tickvals=[0, 10000, 20000, 30000, 40000, 50000],\n",
    "        ticktext=[\"0\", \"10k\", \"20k\", \"30k\", \"40k\", \"50k\"],\n",
    "    ),\n",
    ").show()"
   ]
  },
  {
   "cell_type": "markdown",
   "metadata": {},
   "source": [
    "### OverTime\n",
    "Whether or not the employee works overtime. **Categorical**"
   ]
  },
  {
   "cell_type": "code",
   "execution_count": null,
   "metadata": {},
   "outputs": [],
   "source": [
    "fig = px.scatter(\n",
    "    df_norm,\n",
    "    x='EmployeeNumber',\n",
    "    y=\"Age\",\n",
    "    color=target_column_name,\n",
    "    title='P',\n",
    "    color_continuous_scale='viridis',\n",
    ")\n",
    "fig.update_layout(\n",
    "    title=\"EmployeeNumber Vs Age With attrition\"\n",
    ")\n",
    "fig.show()"
   ]
  },
  {
   "cell_type": "code",
   "execution_count": null,
   "metadata": {},
   "outputs": [],
   "source": [
    "sns.lineplot(data=df, x=\"EmployeeNumber\", y=\"YearsSinceLastPromotion\", hue=target_column_name)\n",
    "plt.show()"
   ]
  },
  {
   "cell_type": "code",
   "execution_count": null,
   "metadata": {},
   "outputs": [],
   "source": [
    "fig = px.parallel_coordinates(\n",
    "    df_norm,\n",
    "    color=target_column_name,\n",
    "    dimensions=nominal_columns,\n",
    "    color_continuous_scale=px.colors.sequential.Viridis,\n",
    "    title=\"Parallel Coordinates Plot\"\n",
    ")\n",
    "fig.update_layout(\n",
    "    title_text=\"Parallel Coordinates Plot\",\n",
    "    title_x=0.5,\n",
    "    # width=800,\n",
    "    # height=600\n",
    ")\n",
    "fig.show()"
   ]
  },
  {
   "cell_type": "code",
   "execution_count": null,
   "metadata": {},
   "outputs": [],
   "source": [
    "px.scatter_polar(\n",
    "    df,\n",
    "    r=\"Age\",\n",
    "    theta=\"EmployeeNumber\",\n",
    "    color=target_column_name,\n",
    "    title=\"Scatter Polar Plot\",\n",
    "    color_continuous_scale=px.colors.sequential.Inferno,\n",
    ").update_layout(\n",
    "    title_text=\"Scatter Polar Plot\",\n",
    "    title_x=0.5,\n",
    "    width=800,\n",
    "    height=600,\n",
    ").show()\n",
    "\n"
   ]
  },
  {
   "cell_type": "code",
   "execution_count": null,
   "metadata": {},
   "outputs": [],
   "source": [
    "\n",
    "sns.pairplot(\n",
    "    df,\n",
    "    hue=target_column_name,\n",
    "    vars=[\n",
    "        \"Age\",\n",
    "        \"DistanceFromHome\",\n",
    "        \"JobInvolvement\",\n",
    "        \"JobLevel\",\n",
    "        \"JobSatisfaction\",\n",
    "        \"NumCompaniesWorked\",\n",
    "        \"TotalWorkingYears\"\n",
    "    ],\n",
    "    diag_kind=\"kde\"\n",
    ")\n",
    "plt.show()"
   ]
  },
  {
   "cell_type": "markdown",
   "metadata": {},
   "source": [
    "### PercentSalaryHike, YearsSinceLastPromotion, TotalWorkingYears\n",
    "The percentage of salary hike for the employee. **Numerical**\n",
    "\n",
    "Year passed since last promotion **Numerical**\n",
    "\n",
    "Total Working Years **Numerical**"
   ]
  },
  {
   "cell_type": "code",
   "execution_count": null,
   "metadata": {},
   "outputs": [],
   "source": [
    "plt.figure(figsize=(10, 5))\n",
    "\n",
    "plt.subplot(2, 2, 1)\n",
    "plt.hist(df[\"PercentSalaryHike\"], bins=20)\n",
    "plt.title(\"Percent Salary Hike Histogram\")\n",
    "plt.xlabel(\"Percent Salary Hike\")\n",
    "plt.ylabel(\"Number of Employees\")\n",
    "\n",
    "plt.subplot(2, 2, 2)\n",
    "plt.hist(df[\"YearsSinceLastPromotion\"], bins=20)\n",
    "plt.title(\"Years SinceLast Promotion Histogram\")\n",
    "plt.xlabel(\"Years SinceLast Promotion\")\n",
    "plt.ylabel(\"Number of Employees\")\n",
    "\n",
    "plt.subplot(2, 2, 3)\n",
    "plt.hist(df[\"TotalWorkingYears\"], bins=20)\n",
    "plt.title(\"Total Working Years Histogram\")\n",
    "plt.xlabel(\"Total Working Years\")\n",
    "plt.ylabel(\"Number of Employees\")\n",
    "\n",
    "plt.tight_layout()\n",
    "plt.show()"
   ]
  },
  {
   "cell_type": "markdown",
   "metadata": {},
   "source": [
    "### although there is no NULL values, if there are, I whould delete them "
   ]
  },
  {
   "cell_type": "code",
   "execution_count": null,
   "metadata": {},
   "outputs": [],
   "source": [
    "df = df.dropna()"
   ]
  },
  {
   "cell_type": "markdown",
   "metadata": {},
   "source": [
    "# Correlation HeatMap"
   ]
  },
  {
   "cell_type": "code",
   "execution_count": null,
   "metadata": {},
   "outputs": [],
   "source": [
    "# corr_mat = df.corr(method=\"pearson\")\n",
    "corr_mat = df_norm.corr()\n",
    "\n",
    "fig = go.Figure(\n",
    "    data=go.Heatmap(\n",
    "        z=corr_mat.values,\n",
    "        x = corr_mat.columns,\n",
    "        y = corr_mat.index,\n",
    "        colorscale=\"Viridis\"\n",
    "    )\n",
    ")\n",
    "fig.update_layout(\n",
    "    title=\"Corr HeatMap\",\n",
    "    height=600\n",
    ")\n",
    "fig.show()"
   ]
  },
  {
   "cell_type": "code",
   "execution_count": null,
   "metadata": {},
   "outputs": [],
   "source": []
  }
 ],
 "metadata": {
  "kaggle": {
   "accelerator": "none",
   "dataSources": [
    {
     "datasetId": 2888236,
     "sourceId": 4980019,
     "sourceType": "datasetVersion"
    }
   ],
   "dockerImageVersionId": 30886,
   "isGpuEnabled": false,
   "isInternetEnabled": false,
   "language": "python",
   "sourceType": "notebook"
  },
  "kernelspec": {
   "display_name": ".venv",
   "language": "python",
   "name": "python3"
  },
  "language_info": {
   "codemirror_mode": {
    "name": "ipython",
    "version": 3
   },
   "file_extension": ".py",
   "mimetype": "text/x-python",
   "name": "python",
   "nbconvert_exporter": "python",
   "pygments_lexer": "ipython3",
   "version": "3.12.10"
  }
 },
 "nbformat": 4,
 "nbformat_minor": 4
}
