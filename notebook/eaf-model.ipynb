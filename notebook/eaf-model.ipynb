{
 "cells": [
  {
   "cell_type": "code",
   "execution_count": 1,
   "id": "296c6aff",
   "metadata": {
    "_cell_guid": "b1076dfc-b9ad-4769-8c92-a6c4dae69d19",
    "_uuid": "8f2839f25d086af736a60e9eeb907d3b93b6e0e5",
    "execution": {
     "iopub.execute_input": "2025-05-19T17:11:48.927296Z",
     "iopub.status.busy": "2025-05-19T17:11:48.926844Z",
     "iopub.status.idle": "2025-05-19T17:11:58.507321Z",
     "shell.execute_reply": "2025-05-19T17:11:58.505588Z"
    },
    "papermill": {
     "duration": 9.591057,
     "end_time": "2025-05-19T17:11:58.509757",
     "exception": false,
     "start_time": "2025-05-19T17:11:48.918700",
     "status": "completed"
    },
    "tags": []
   },
   "outputs": [],
   "source": [
    "try:\n",
    "    import pandas as pd\n",
    "    import numpy as np\n",
    "    \n",
    "    import matplotlib.pyplot as plt\n",
    "    import plotly.express as px\n",
    "    import seaborn as sns\n",
    "    import plotly.graph_objects as go\n",
    "    import plotly.figure_factory as ff\n",
    "\n",
    "    from sklearn.model_selection import train_test_split\n",
    "    from sklearn import svm\n",
    "    from sklearn import metrics\n",
    "    from sklearn import preprocessing\n",
    "    from sklearn.ensemble import RandomForestRegressor\n",
    "    \n",
    "    import kagglehub\n",
    "    from kagglehub import KaggleDatasetAdapter\n",
    "    \n",
    "    from os import path\n",
    "    from sys import exit\n",
    "    import math\n",
    "except:\n",
    "    !pip install ipywidgets matplotlib numpy pandas plotly scikit-learn seaborn scipy ipykernel jupyterlab kagglehub dash scikit-learn"
   ]
  },
  {
   "cell_type": "markdown",
   "id": "1eb5ddba",
   "metadata": {
    "papermill": {
     "duration": 0.00463,
     "end_time": "2025-05-19T17:11:58.520074",
     "exception": false,
     "start_time": "2025-05-19T17:11:58.515444",
     "status": "completed"
    },
    "tags": []
   },
   "source": [
    "# fetch Dataset"
   ]
  },
  {
   "cell_type": "code",
   "execution_count": 2,
   "id": "92d603ea",
   "metadata": {
    "execution": {
     "iopub.execute_input": "2025-05-19T17:11:58.533002Z",
     "iopub.status.busy": "2025-05-19T17:11:58.532301Z",
     "iopub.status.idle": "2025-05-19T17:11:59.233580Z",
     "shell.execute_reply": "2025-05-19T17:11:59.232393Z"
    },
    "papermill": {
     "duration": 0.710257,
     "end_time": "2025-05-19T17:11:59.235529",
     "exception": false,
     "start_time": "2025-05-19T17:11:58.525272",
     "status": "completed"
    },
    "tags": []
   },
   "outputs": [
    {
     "data": {
      "text/html": [
       "<div>\n",
       "<style scoped>\n",
       "    .dataframe tbody tr th:only-of-type {\n",
       "        vertical-align: middle;\n",
       "    }\n",
       "\n",
       "    .dataframe tbody tr th {\n",
       "        vertical-align: top;\n",
       "    }\n",
       "\n",
       "    .dataframe thead th {\n",
       "        text-align: right;\n",
       "    }\n",
       "</style>\n",
       "<table border=\"1\" class=\"dataframe\">\n",
       "  <thead>\n",
       "    <tr style=\"text-align: right;\">\n",
       "      <th></th>\n",
       "      <th>Age</th>\n",
       "      <th>Attrition</th>\n",
       "      <th>BusinessTravel</th>\n",
       "      <th>DailyRate</th>\n",
       "      <th>Department</th>\n",
       "      <th>DistanceFromHome</th>\n",
       "      <th>Education</th>\n",
       "      <th>EducationField</th>\n",
       "      <th>EmployeeCount</th>\n",
       "      <th>EmployeeNumber</th>\n",
       "      <th>...</th>\n",
       "      <th>RelationshipSatisfaction</th>\n",
       "      <th>StandardHours</th>\n",
       "      <th>StockOptionLevel</th>\n",
       "      <th>TotalWorkingYears</th>\n",
       "      <th>TrainingTimesLastYear</th>\n",
       "      <th>WorkLifeBalance</th>\n",
       "      <th>YearsAtCompany</th>\n",
       "      <th>YearsInCurrentRole</th>\n",
       "      <th>YearsSinceLastPromotion</th>\n",
       "      <th>YearsWithCurrManager</th>\n",
       "    </tr>\n",
       "  </thead>\n",
       "  <tbody>\n",
       "    <tr>\n",
       "      <th>0</th>\n",
       "      <td>41</td>\n",
       "      <td>Yes</td>\n",
       "      <td>Travel_Rarely</td>\n",
       "      <td>1102</td>\n",
       "      <td>Sales</td>\n",
       "      <td>1</td>\n",
       "      <td>2</td>\n",
       "      <td>Life Sciences</td>\n",
       "      <td>1</td>\n",
       "      <td>1</td>\n",
       "      <td>...</td>\n",
       "      <td>1</td>\n",
       "      <td>80</td>\n",
       "      <td>0</td>\n",
       "      <td>8</td>\n",
       "      <td>0</td>\n",
       "      <td>1</td>\n",
       "      <td>6</td>\n",
       "      <td>4</td>\n",
       "      <td>0</td>\n",
       "      <td>5</td>\n",
       "    </tr>\n",
       "    <tr>\n",
       "      <th>1</th>\n",
       "      <td>49</td>\n",
       "      <td>No</td>\n",
       "      <td>Travel_Frequently</td>\n",
       "      <td>279</td>\n",
       "      <td>Research &amp; Development</td>\n",
       "      <td>8</td>\n",
       "      <td>1</td>\n",
       "      <td>Life Sciences</td>\n",
       "      <td>1</td>\n",
       "      <td>2</td>\n",
       "      <td>...</td>\n",
       "      <td>4</td>\n",
       "      <td>80</td>\n",
       "      <td>1</td>\n",
       "      <td>10</td>\n",
       "      <td>3</td>\n",
       "      <td>3</td>\n",
       "      <td>10</td>\n",
       "      <td>7</td>\n",
       "      <td>1</td>\n",
       "      <td>7</td>\n",
       "    </tr>\n",
       "    <tr>\n",
       "      <th>2</th>\n",
       "      <td>37</td>\n",
       "      <td>Yes</td>\n",
       "      <td>Travel_Rarely</td>\n",
       "      <td>1373</td>\n",
       "      <td>Research &amp; Development</td>\n",
       "      <td>2</td>\n",
       "      <td>2</td>\n",
       "      <td>Other</td>\n",
       "      <td>1</td>\n",
       "      <td>4</td>\n",
       "      <td>...</td>\n",
       "      <td>2</td>\n",
       "      <td>80</td>\n",
       "      <td>0</td>\n",
       "      <td>7</td>\n",
       "      <td>3</td>\n",
       "      <td>3</td>\n",
       "      <td>0</td>\n",
       "      <td>0</td>\n",
       "      <td>0</td>\n",
       "      <td>0</td>\n",
       "    </tr>\n",
       "    <tr>\n",
       "      <th>3</th>\n",
       "      <td>33</td>\n",
       "      <td>No</td>\n",
       "      <td>Travel_Frequently</td>\n",
       "      <td>1392</td>\n",
       "      <td>Research &amp; Development</td>\n",
       "      <td>3</td>\n",
       "      <td>4</td>\n",
       "      <td>Life Sciences</td>\n",
       "      <td>1</td>\n",
       "      <td>5</td>\n",
       "      <td>...</td>\n",
       "      <td>3</td>\n",
       "      <td>80</td>\n",
       "      <td>0</td>\n",
       "      <td>8</td>\n",
       "      <td>3</td>\n",
       "      <td>3</td>\n",
       "      <td>8</td>\n",
       "      <td>7</td>\n",
       "      <td>3</td>\n",
       "      <td>0</td>\n",
       "    </tr>\n",
       "    <tr>\n",
       "      <th>4</th>\n",
       "      <td>27</td>\n",
       "      <td>No</td>\n",
       "      <td>Travel_Rarely</td>\n",
       "      <td>591</td>\n",
       "      <td>Research &amp; Development</td>\n",
       "      <td>2</td>\n",
       "      <td>1</td>\n",
       "      <td>Medical</td>\n",
       "      <td>1</td>\n",
       "      <td>7</td>\n",
       "      <td>...</td>\n",
       "      <td>4</td>\n",
       "      <td>80</td>\n",
       "      <td>1</td>\n",
       "      <td>6</td>\n",
       "      <td>3</td>\n",
       "      <td>3</td>\n",
       "      <td>2</td>\n",
       "      <td>2</td>\n",
       "      <td>2</td>\n",
       "      <td>2</td>\n",
       "    </tr>\n",
       "  </tbody>\n",
       "</table>\n",
       "<p>5 rows × 35 columns</p>\n",
       "</div>"
      ],
      "text/plain": [
       "   Age Attrition     BusinessTravel  DailyRate              Department  \\\n",
       "0   41       Yes      Travel_Rarely       1102                   Sales   \n",
       "1   49        No  Travel_Frequently        279  Research & Development   \n",
       "2   37       Yes      Travel_Rarely       1373  Research & Development   \n",
       "3   33        No  Travel_Frequently       1392  Research & Development   \n",
       "4   27        No      Travel_Rarely        591  Research & Development   \n",
       "\n",
       "   DistanceFromHome  Education EducationField  EmployeeCount  EmployeeNumber  \\\n",
       "0                 1          2  Life Sciences              1               1   \n",
       "1                 8          1  Life Sciences              1               2   \n",
       "2                 2          2          Other              1               4   \n",
       "3                 3          4  Life Sciences              1               5   \n",
       "4                 2          1        Medical              1               7   \n",
       "\n",
       "   ...  RelationshipSatisfaction StandardHours  StockOptionLevel  \\\n",
       "0  ...                         1            80                 0   \n",
       "1  ...                         4            80                 1   \n",
       "2  ...                         2            80                 0   \n",
       "3  ...                         3            80                 0   \n",
       "4  ...                         4            80                 1   \n",
       "\n",
       "   TotalWorkingYears  TrainingTimesLastYear WorkLifeBalance  YearsAtCompany  \\\n",
       "0                  8                      0               1               6   \n",
       "1                 10                      3               3              10   \n",
       "2                  7                      3               3               0   \n",
       "3                  8                      3               3               8   \n",
       "4                  6                      3               3               2   \n",
       "\n",
       "  YearsInCurrentRole  YearsSinceLastPromotion  YearsWithCurrManager  \n",
       "0                  4                        0                     5  \n",
       "1                  7                        1                     7  \n",
       "2                  0                        0                     0  \n",
       "3                  7                        3                     0  \n",
       "4                  2                        2                     2  \n",
       "\n",
       "[5 rows x 35 columns]"
      ]
     },
     "execution_count": 2,
     "metadata": {},
     "output_type": "execute_result"
    }
   ],
   "source": [
    "class DatasetLoader:\n",
    "    def __init__(self):\n",
    "        self.kaggle_url = \"thedevastator/employee-attrition-and-factors\"\n",
    "        \n",
    "        self.file_name = \"HR_Analytics.csv.csv\"\n",
    "        self.dir_name = \"dataset\"\n",
    "        \n",
    "        self.file_path = path.join(\"..\", self.dir_name, self.file_name)\n",
    "        self.github_url = f'https://raw.githubusercontent.com/AbrarShakhi/employee-attrition-predictor/main/{self.dir_name}/{self.file_name}'\n",
    "    \n",
    "    def load_from_kaggle(self):\n",
    "        try:\n",
    "            return kagglehub.load_dataset(KaggleDatasetAdapter.PANDAS, self.kaggle_url, self.file_name)\n",
    "        except:\n",
    "            return None\n",
    "\n",
    "    def load_from_github(self):\n",
    "        try:\n",
    "            return pd.read_csv(self.github_url)\n",
    "        except:\n",
    "            return None\n",
    "\n",
    "    def load_from_local(self):\n",
    "        try:\n",
    "            return pd.read_csv(self.file_path)\n",
    "        except:\n",
    "            return None\n",
    "\n",
    "loader = DatasetLoader()\n",
    "df = loader.load_from_local()\n",
    "if df is None:\n",
    "    df = loader.load_from_github()\n",
    "if df is None:\n",
    "    df = loader.load_from_kaggle()\n",
    "if df is None:\n",
    "    print(\"Unable to find dataset..\")\n",
    "    exit(1)\n",
    "\n",
    "df.head(5)"
   ]
  },
  {
   "cell_type": "markdown",
   "id": "8722b03a",
   "metadata": {
    "papermill": {
     "duration": 0.005026,
     "end_time": "2025-05-19T17:11:59.246025",
     "exception": false,
     "start_time": "2025-05-19T17:11:59.240999",
     "status": "completed"
    },
    "tags": []
   },
   "source": [
    "# datasset Analysing"
   ]
  },
  {
   "cell_type": "code",
   "execution_count": 3,
   "id": "31429091",
   "metadata": {
    "execution": {
     "iopub.execute_input": "2025-05-19T17:11:59.258769Z",
     "iopub.status.busy": "2025-05-19T17:11:59.258097Z",
     "iopub.status.idle": "2025-05-19T17:11:59.303568Z",
     "shell.execute_reply": "2025-05-19T17:11:59.301771Z"
    },
    "papermill": {
     "duration": 0.054905,
     "end_time": "2025-05-19T17:11:59.306086",
     "exception": false,
     "start_time": "2025-05-19T17:11:59.251181",
     "status": "completed"
    },
    "tags": []
   },
   "outputs": [
    {
     "name": "stdout",
     "output_type": "stream",
     "text": [
      "['EmployeeCount', 'Over18', 'StandardHours']\n"
     ]
    },
    {
     "data": {
      "text/html": [
       "<div>\n",
       "<style scoped>\n",
       "    .dataframe tbody tr th:only-of-type {\n",
       "        vertical-align: middle;\n",
       "    }\n",
       "\n",
       "    .dataframe tbody tr th {\n",
       "        vertical-align: top;\n",
       "    }\n",
       "\n",
       "    .dataframe thead th {\n",
       "        text-align: right;\n",
       "    }\n",
       "</style>\n",
       "<table border=\"1\" class=\"dataframe\">\n",
       "  <thead>\n",
       "    <tr style=\"text-align: right;\">\n",
       "      <th></th>\n",
       "      <th>Age</th>\n",
       "      <th>Attrition</th>\n",
       "      <th>BusinessTravel</th>\n",
       "      <th>DailyRate</th>\n",
       "      <th>Department</th>\n",
       "      <th>DistanceFromHome</th>\n",
       "      <th>Education</th>\n",
       "      <th>EducationField</th>\n",
       "      <th>EnvironmentSatisfaction</th>\n",
       "      <th>Gender</th>\n",
       "      <th>...</th>\n",
       "      <th>PerformanceRating</th>\n",
       "      <th>RelationshipSatisfaction</th>\n",
       "      <th>StockOptionLevel</th>\n",
       "      <th>TotalWorkingYears</th>\n",
       "      <th>TrainingTimesLastYear</th>\n",
       "      <th>WorkLifeBalance</th>\n",
       "      <th>YearsAtCompany</th>\n",
       "      <th>YearsInCurrentRole</th>\n",
       "      <th>YearsSinceLastPromotion</th>\n",
       "      <th>YearsWithCurrManager</th>\n",
       "    </tr>\n",
       "  </thead>\n",
       "  <tbody>\n",
       "    <tr>\n",
       "      <th>0</th>\n",
       "      <td>41</td>\n",
       "      <td>Yes</td>\n",
       "      <td>Travel_Rarely</td>\n",
       "      <td>1102</td>\n",
       "      <td>Sales</td>\n",
       "      <td>1</td>\n",
       "      <td>2</td>\n",
       "      <td>Life Sciences</td>\n",
       "      <td>2</td>\n",
       "      <td>Female</td>\n",
       "      <td>...</td>\n",
       "      <td>3</td>\n",
       "      <td>1</td>\n",
       "      <td>0</td>\n",
       "      <td>8</td>\n",
       "      <td>0</td>\n",
       "      <td>1</td>\n",
       "      <td>6</td>\n",
       "      <td>4</td>\n",
       "      <td>0</td>\n",
       "      <td>5</td>\n",
       "    </tr>\n",
       "    <tr>\n",
       "      <th>1</th>\n",
       "      <td>49</td>\n",
       "      <td>No</td>\n",
       "      <td>Travel_Frequently</td>\n",
       "      <td>279</td>\n",
       "      <td>Research &amp; Development</td>\n",
       "      <td>8</td>\n",
       "      <td>1</td>\n",
       "      <td>Life Sciences</td>\n",
       "      <td>3</td>\n",
       "      <td>Male</td>\n",
       "      <td>...</td>\n",
       "      <td>4</td>\n",
       "      <td>4</td>\n",
       "      <td>1</td>\n",
       "      <td>10</td>\n",
       "      <td>3</td>\n",
       "      <td>3</td>\n",
       "      <td>10</td>\n",
       "      <td>7</td>\n",
       "      <td>1</td>\n",
       "      <td>7</td>\n",
       "    </tr>\n",
       "  </tbody>\n",
       "</table>\n",
       "<p>2 rows × 31 columns</p>\n",
       "</div>"
      ],
      "text/plain": [
       "   Age Attrition     BusinessTravel  DailyRate              Department  \\\n",
       "0   41       Yes      Travel_Rarely       1102                   Sales   \n",
       "1   49        No  Travel_Frequently        279  Research & Development   \n",
       "\n",
       "   DistanceFromHome  Education EducationField  EnvironmentSatisfaction  \\\n",
       "0                 1          2  Life Sciences                        2   \n",
       "1                 8          1  Life Sciences                        3   \n",
       "\n",
       "   Gender  ...  PerformanceRating  RelationshipSatisfaction  StockOptionLevel  \\\n",
       "0  Female  ...                  3                         1                 0   \n",
       "1    Male  ...                  4                         4                 1   \n",
       "\n",
       "  TotalWorkingYears  TrainingTimesLastYear WorkLifeBalance  YearsAtCompany  \\\n",
       "0                 8                      0               1               6   \n",
       "1                10                      3               3              10   \n",
       "\n",
       "   YearsInCurrentRole  YearsSinceLastPromotion YearsWithCurrManager  \n",
       "0                   4                        0                    5  \n",
       "1                   7                        1                    7  \n",
       "\n",
       "[2 rows x 31 columns]"
      ]
     },
     "execution_count": 3,
     "metadata": {},
     "output_type": "execute_result"
    }
   ],
   "source": [
    "df = df.dropna()\n",
    "target_column = \"Attrition\"\n",
    "\n",
    "columns=[col for col in df.columns if len(df[col].unique()) == 1]\n",
    "df = df.drop(columns=columns, axis=1)\n",
    "\n",
    "df = df.drop(columns=[\"EmployeeNumber\"])\n",
    "print(columns)\n",
    "df.head(2)"
   ]
  },
  {
   "cell_type": "code",
   "execution_count": 4,
   "id": "69c62e59",
   "metadata": {
    "execution": {
     "iopub.execute_input": "2025-05-19T17:11:59.319405Z",
     "iopub.status.busy": "2025-05-19T17:11:59.318914Z",
     "iopub.status.idle": "2025-05-19T17:11:59.350631Z",
     "shell.execute_reply": "2025-05-19T17:11:59.349287Z"
    },
    "papermill": {
     "duration": 0.041189,
     "end_time": "2025-05-19T17:11:59.352912",
     "exception": false,
     "start_time": "2025-05-19T17:11:59.311723",
     "status": "completed"
    },
    "tags": []
   },
   "outputs": [],
   "source": [
    "df[target_column] = df[target_column].map({'Yes': 1, 'No': 0})\n",
    "\n",
    "for col in df.columns:\n",
    "    df[col] = df[col].astype(\"category\").cat.codes"
   ]
  },
  {
   "cell_type": "code",
   "execution_count": 5,
   "id": "62fe9abf",
   "metadata": {
    "execution": {
     "iopub.execute_input": "2025-05-19T17:11:59.366904Z",
     "iopub.status.busy": "2025-05-19T17:11:59.365471Z",
     "iopub.status.idle": "2025-05-19T17:11:59.379383Z",
     "shell.execute_reply": "2025-05-19T17:11:59.378210Z"
    },
    "papermill": {
     "duration": 0.023052,
     "end_time": "2025-05-19T17:11:59.381459",
     "exception": false,
     "start_time": "2025-05-19T17:11:59.358407",
     "status": "completed"
    },
    "tags": []
   },
   "outputs": [],
   "source": [
    "X = df.drop('Attrition', axis=1)  # Features\n",
    "y = df['Attrition']               # Lebels\n",
    "X = pd.get_dummies(X, drop_first=True)"
   ]
  },
  {
   "cell_type": "markdown",
   "id": "9280c095",
   "metadata": {
    "papermill": {
     "duration": 0.005031,
     "end_time": "2025-05-19T17:11:59.392117",
     "exception": false,
     "start_time": "2025-05-19T17:11:59.387086",
     "status": "completed"
    },
    "tags": []
   },
   "source": [
    "# Split dataset"
   ]
  },
  {
   "cell_type": "code",
   "execution_count": 6,
   "id": "f503c6e0",
   "metadata": {
    "execution": {
     "iopub.execute_input": "2025-05-19T17:11:59.405475Z",
     "iopub.status.busy": "2025-05-19T17:11:59.404056Z",
     "iopub.status.idle": "2025-05-19T17:11:59.416868Z",
     "shell.execute_reply": "2025-05-19T17:11:59.415709Z"
    },
    "papermill": {
     "duration": 0.021344,
     "end_time": "2025-05-19T17:11:59.418946",
     "exception": false,
     "start_time": "2025-05-19T17:11:59.397602",
     "status": "completed"
    },
    "tags": []
   },
   "outputs": [],
   "source": [
    "rseed = 42\n",
    "X_train, X_test, y_train, y_test = train_test_split(\n",
    "    X, y, test_size=0.2, random_state=rseed, stratify=y\n",
    ")"
   ]
  },
  {
   "cell_type": "markdown",
   "id": "2e69b164",
   "metadata": {
    "papermill": {
     "duration": 0.004889,
     "end_time": "2025-05-19T17:11:59.429336",
     "exception": false,
     "start_time": "2025-05-19T17:11:59.424447",
     "status": "completed"
    },
    "tags": []
   },
   "source": [
    "# Preprocessing"
   ]
  },
  {
   "cell_type": "code",
   "execution_count": 7,
   "id": "6ead426e",
   "metadata": {
    "execution": {
     "iopub.execute_input": "2025-05-19T17:11:59.441708Z",
     "iopub.status.busy": "2025-05-19T17:11:59.441315Z",
     "iopub.status.idle": "2025-05-19T17:11:59.475692Z",
     "shell.execute_reply": "2025-05-19T17:11:59.474052Z"
    },
    "papermill": {
     "duration": 0.043861,
     "end_time": "2025-05-19T17:11:59.478273",
     "exception": false,
     "start_time": "2025-05-19T17:11:59.434412",
     "status": "completed"
    },
    "tags": []
   },
   "outputs": [],
   "source": [
    "scaler = preprocessing.StandardScaler()\n",
    "# scaler = preprocessing.MinMaxScaler()\n",
    "\n",
    "X_train = scaler.fit_transform(X_train)\n",
    "X_test = scaler.transform(X_test)"
   ]
  },
  {
   "cell_type": "markdown",
   "id": "650e62d4",
   "metadata": {
    "papermill": {
     "duration": 0.005455,
     "end_time": "2025-05-19T17:11:59.489572",
     "exception": false,
     "start_time": "2025-05-19T17:11:59.484117",
     "status": "completed"
    },
    "tags": []
   },
   "source": [
    "# Defining train_predict function\n",
    "It will train the `model` and predicts `y`\n",
    "\n",
    "**params:** model\n",
    "\n",
    "**returns:** y_prediction"
   ]
  },
  {
   "cell_type": "code",
   "execution_count": 8,
   "id": "c6321611",
   "metadata": {
    "execution": {
     "iopub.execute_input": "2025-05-19T17:11:59.501701Z",
     "iopub.status.busy": "2025-05-19T17:11:59.501310Z",
     "iopub.status.idle": "2025-05-19T17:11:59.507340Z",
     "shell.execute_reply": "2025-05-19T17:11:59.506297Z"
    },
    "papermill": {
     "duration": 0.014325,
     "end_time": "2025-05-19T17:11:59.509323",
     "exception": false,
     "start_time": "2025-05-19T17:11:59.494998",
     "status": "completed"
    },
    "tags": []
   },
   "outputs": [],
   "source": [
    "def train_predict(model):\n",
    "    # train the model\n",
    "    model.fit(X_train, y_train)\n",
    "\n",
    "    # predict y from X test\n",
    "    y_pred = model.predict(X_test)\n",
    "\n",
    "    return y_pred"
   ]
  },
  {
   "cell_type": "markdown",
   "id": "d8421271",
   "metadata": {
    "papermill": {
     "duration": 0.004791,
     "end_time": "2025-05-19T17:11:59.519467",
     "exception": false,
     "start_time": "2025-05-19T17:11:59.514676",
     "status": "completed"
    },
    "tags": []
   },
   "source": [
    "# Defining train_predict function\n",
    "It will take `kernel` name as string and `y_pred`, and print `accuracy`, `confusion matrix`, `precision`, `recall`, `f1-score`, `support`\n",
    "\n",
    "**params:** kernel name as str\n",
    "\n",
    "**returns:** None"
   ]
  },
  {
   "cell_type": "code",
   "execution_count": 9,
   "id": "e712b582",
   "metadata": {
    "execution": {
     "iopub.execute_input": "2025-05-19T17:11:59.531338Z",
     "iopub.status.busy": "2025-05-19T17:11:59.530895Z",
     "iopub.status.idle": "2025-05-19T17:11:59.537343Z",
     "shell.execute_reply": "2025-05-19T17:11:59.536178Z"
    },
    "papermill": {
     "duration": 0.014772,
     "end_time": "2025-05-19T17:11:59.539347",
     "exception": false,
     "start_time": "2025-05-19T17:11:59.524575",
     "status": "completed"
    },
    "tags": []
   },
   "outputs": [],
   "source": [
    "def show_result(kernel, y_pred):\n",
    "    print(f\"Accuracy Score {kernel}:\", metrics.accuracy_score(y_test, y_pred))\n",
    "\n",
    "    print(f\"\\nConfusion Matrix {kernel}:\")\n",
    "    print(metrics.confusion_matrix(y_test, y_pred))\n",
    "\n",
    "    print(f\"\\nClassification Report {kernel}:\")\n",
    "    print(metrics.classification_report(y_test, y_pred))"
   ]
  },
  {
   "cell_type": "markdown",
   "id": "171dc433",
   "metadata": {
    "papermill": {
     "duration": 0.005627,
     "end_time": "2025-05-19T17:11:59.550557",
     "exception": false,
     "start_time": "2025-05-19T17:11:59.544930",
     "status": "completed"
    },
    "tags": []
   },
   "source": [
    "# Using RBF"
   ]
  },
  {
   "cell_type": "code",
   "execution_count": 10,
   "id": "769c1225",
   "metadata": {
    "execution": {
     "iopub.execute_input": "2025-05-19T17:11:59.563464Z",
     "iopub.status.busy": "2025-05-19T17:11:59.563005Z",
     "iopub.status.idle": "2025-05-19T17:11:59.707596Z",
     "shell.execute_reply": "2025-05-19T17:11:59.706018Z"
    },
    "papermill": {
     "duration": 0.153389,
     "end_time": "2025-05-19T17:11:59.709943",
     "exception": false,
     "start_time": "2025-05-19T17:11:59.556554",
     "status": "completed"
    },
    "tags": []
   },
   "outputs": [
    {
     "name": "stdout",
     "output_type": "stream",
     "text": [
      "Accuracy Score rbf: 0.8537414965986394\n",
      "\n",
      "Confusion Matrix rbf:\n",
      "[[235  12]\n",
      " [ 31  16]]\n",
      "\n",
      "Classification Report rbf:\n",
      "              precision    recall  f1-score   support\n",
      "\n",
      "           0       0.88      0.95      0.92       247\n",
      "           1       0.57      0.34      0.43        47\n",
      "\n",
      "    accuracy                           0.85       294\n",
      "   macro avg       0.73      0.65      0.67       294\n",
      "weighted avg       0.83      0.85      0.84       294\n",
      "\n"
     ]
    }
   ],
   "source": [
    "model = svm.SVC(kernel='rbf', C=17.0, gamma='scale', random_state=rseed)\n",
    "y_pred = train_predict(model)\n",
    "show_result(\"rbf\", y_pred)"
   ]
  },
  {
   "cell_type": "markdown",
   "id": "213b2c56",
   "metadata": {
    "papermill": {
     "duration": 0.004992,
     "end_time": "2025-05-19T17:11:59.720413",
     "exception": false,
     "start_time": "2025-05-19T17:11:59.715421",
     "status": "completed"
    },
    "tags": []
   },
   "source": [
    "# Using Poly"
   ]
  },
  {
   "cell_type": "code",
   "execution_count": 11,
   "id": "e1c25922",
   "metadata": {
    "execution": {
     "iopub.execute_input": "2025-05-19T17:11:59.733099Z",
     "iopub.status.busy": "2025-05-19T17:11:59.732356Z",
     "iopub.status.idle": "2025-05-19T17:11:59.807672Z",
     "shell.execute_reply": "2025-05-19T17:11:59.806304Z"
    },
    "papermill": {
     "duration": 0.083948,
     "end_time": "2025-05-19T17:11:59.809744",
     "exception": false,
     "start_time": "2025-05-19T17:11:59.725796",
     "status": "completed"
    },
    "tags": []
   },
   "outputs": [
    {
     "name": "stdout",
     "output_type": "stream",
     "text": [
      "Accuracy Score poly: 0.8503401360544217\n",
      "\n",
      "Confusion Matrix poly:\n",
      "[[245   2]\n",
      " [ 42   5]]\n",
      "\n",
      "Classification Report poly:\n",
      "              precision    recall  f1-score   support\n",
      "\n",
      "           0       0.85      0.99      0.92       247\n",
      "           1       0.71      0.11      0.19        47\n",
      "\n",
      "    accuracy                           0.85       294\n",
      "   macro avg       0.78      0.55      0.55       294\n",
      "weighted avg       0.83      0.85      0.80       294\n",
      "\n"
     ]
    }
   ],
   "source": [
    "model = svm.SVC(kernel='poly', degree=3, random_state=rseed)\n",
    "y_pred = train_predict(model)\n",
    "show_result(\"poly\", y_pred)"
   ]
  },
  {
   "cell_type": "markdown",
   "id": "3ce1513d",
   "metadata": {
    "papermill": {
     "duration": 0.005842,
     "end_time": "2025-05-19T17:11:59.821324",
     "exception": false,
     "start_time": "2025-05-19T17:11:59.815482",
     "status": "completed"
    },
    "tags": []
   },
   "source": [
    "# Using Linear With l1 penalty"
   ]
  },
  {
   "cell_type": "code",
   "execution_count": 12,
   "id": "02957ffa",
   "metadata": {
    "execution": {
     "iopub.execute_input": "2025-05-19T17:11:59.835465Z",
     "iopub.status.busy": "2025-05-19T17:11:59.833819Z",
     "iopub.status.idle": "2025-05-19T17:11:59.869774Z",
     "shell.execute_reply": "2025-05-19T17:11:59.868367Z"
    },
    "papermill": {
     "duration": 0.045647,
     "end_time": "2025-05-19T17:11:59.872531",
     "exception": false,
     "start_time": "2025-05-19T17:11:59.826884",
     "status": "completed"
    },
    "tags": []
   },
   "outputs": [
    {
     "name": "stdout",
     "output_type": "stream",
     "text": [
      "Accuracy Score linear l1: 0.8877551020408163\n",
      "\n",
      "Confusion Matrix linear l1:\n",
      "[[244   3]\n",
      " [ 30  17]]\n",
      "\n",
      "Classification Report linear l1:\n",
      "              precision    recall  f1-score   support\n",
      "\n",
      "           0       0.89      0.99      0.94       247\n",
      "           1       0.85      0.36      0.51        47\n",
      "\n",
      "    accuracy                           0.89       294\n",
      "   macro avg       0.87      0.67      0.72       294\n",
      "weighted avg       0.88      0.89      0.87       294\n",
      "\n"
     ]
    }
   ],
   "source": [
    "model = svm.LinearSVC(penalty='l1', loss='squared_hinge', dual=False, max_iter=1000000000, random_state=rseed)\n",
    "y_pred = train_predict(model)\n",
    "show_result(\"linear l1\", y_pred)"
   ]
  },
  {
   "cell_type": "markdown",
   "id": "ddd2779e",
   "metadata": {
    "papermill": {
     "duration": 0.005447,
     "end_time": "2025-05-19T17:11:59.884066",
     "exception": false,
     "start_time": "2025-05-19T17:11:59.878619",
     "status": "completed"
    },
    "tags": []
   },
   "source": [
    "# Using Linear With l2 penalty"
   ]
  },
  {
   "cell_type": "code",
   "execution_count": 13,
   "id": "6aeea56f",
   "metadata": {
    "execution": {
     "iopub.execute_input": "2025-05-19T17:11:59.897813Z",
     "iopub.status.busy": "2025-05-19T17:11:59.897373Z",
     "iopub.status.idle": "2025-05-19T17:12:00.104811Z",
     "shell.execute_reply": "2025-05-19T17:12:00.103493Z"
    },
    "papermill": {
     "duration": 0.216513,
     "end_time": "2025-05-19T17:12:00.106931",
     "exception": false,
     "start_time": "2025-05-19T17:11:59.890418",
     "status": "completed"
    },
    "tags": []
   },
   "outputs": [
    {
     "name": "stdout",
     "output_type": "stream",
     "text": [
      "Accuracy Score linear l2: 0.8877551020408163\n",
      "\n",
      "Confusion Matrix linear l2:\n",
      "[[244   3]\n",
      " [ 30  17]]\n",
      "\n",
      "Classification Report linear l2:\n",
      "              precision    recall  f1-score   support\n",
      "\n",
      "           0       0.89      0.99      0.94       247\n",
      "           1       0.85      0.36      0.51        47\n",
      "\n",
      "    accuracy                           0.89       294\n",
      "   macro avg       0.87      0.67      0.72       294\n",
      "weighted avg       0.88      0.89      0.87       294\n",
      "\n"
     ]
    }
   ],
   "source": [
    "model = svm.LinearSVC(penalty='l2', loss='squared_hinge', max_iter=1000000000, random_state=rseed)\n",
    "y_pred = train_predict(model)\n",
    "show_result(\"linear l2\", y_pred)"
   ]
  }
 ],
 "metadata": {
  "kaggle": {
   "accelerator": "none",
   "dataSources": [
    {
     "datasetId": 2888236,
     "sourceId": 4980019,
     "sourceType": "datasetVersion"
    }
   ],
   "dockerImageVersionId": 31012,
   "isGpuEnabled": false,
   "isInternetEnabled": true,
   "language": "python",
   "sourceType": "notebook"
  },
  "kernelspec": {
   "display_name": "Python 3",
   "language": "python",
   "name": "python3"
  },
  "language_info": {
   "codemirror_mode": {
    "name": "ipython",
    "version": 3
   },
   "file_extension": ".py",
   "mimetype": "text/x-python",
   "name": "python",
   "nbconvert_exporter": "python",
   "pygments_lexer": "ipython3",
   "version": "3.11.11"
  },
  "papermill": {
   "default_parameters": {},
   "duration": 19.290847,
   "end_time": "2025-05-19T17:12:01.146499",
   "environment_variables": {},
   "exception": null,
   "input_path": "__notebook__.ipynb",
   "output_path": "__notebook__.ipynb",
   "parameters": {},
   "start_time": "2025-05-19T17:11:41.855652",
   "version": "2.6.0"
  }
 },
 "nbformat": 4,
 "nbformat_minor": 5
}
