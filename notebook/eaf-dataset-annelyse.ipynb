{
 "cells": [
  {
   "cell_type": "markdown",
   "metadata": {},
   "source": [
    "# Employee attrition predictor\n",
    "\n",
    "Author: [@AbrarShakhi](https://www.kaggle.com/abrarshakhi)\n",
    "\n",
    "---"
   ]
  },
  {
   "cell_type": "markdown",
   "metadata": {},
   "source": [
    "## Import nessesary libraries"
   ]
  },
  {
   "cell_type": "code",
   "execution_count": null,
   "metadata": {
    "_cell_guid": "04ce3127-bebc-4122-9e36-58030ba72497",
    "_uuid": "336ea956-83d7-4c64-8e68-e07189798001",
    "collapsed": false,
    "execution": {
     "iopub.execute_input": "2025-05-03T12:35:35.974103Z",
     "iopub.status.busy": "2025-05-03T12:35:35.973790Z",
     "iopub.status.idle": "2025-05-03T12:35:35.980336Z",
     "shell.execute_reply": "2025-05-03T12:35:35.979197Z",
     "shell.execute_reply.started": "2025-05-03T12:35:35.974079Z"
    },
    "jupyter": {
     "outputs_hidden": false
    },
    "trusted": true
   },
   "outputs": [],
   "source": [
    "try:\n",
    "    import pandas as pd\n",
    "    import numpy as np\n",
    "    \n",
    "    import matplotlib.pyplot as plt\n",
    "    import plotly.express as px\n",
    "    import seaborn as sns\n",
    "    import plotly.graph_objects as go\n",
    "    import plotly.figure_factory as ff\n",
    "    \n",
    "    import kagglehub\n",
    "    from kagglehub import KaggleDatasetAdapter\n",
    "    \n",
    "    from os import path\n",
    "    from sys import exit\n",
    "    import math\n",
    "except:\n",
    "    %pip install ipywidgets matplotlib numpy pandas plotly scikit-learn seaborn scipy ipykernel jupyterlab kagglehub dash"
   ]
  },
  {
   "cell_type": "markdown",
   "metadata": {},
   "source": [
    "## A helper class to fetch the dataset\n",
    "Returns `None` if fails to fetch"
   ]
  },
  {
   "cell_type": "code",
   "execution_count": null,
   "metadata": {
    "execution": {
     "iopub.execute_input": "2025-05-03T12:35:35.982086Z",
     "iopub.status.busy": "2025-05-03T12:35:35.981816Z",
     "iopub.status.idle": "2025-05-03T12:35:36.008543Z",
     "shell.execute_reply": "2025-05-03T12:35:36.007395Z",
     "shell.execute_reply.started": "2025-05-03T12:35:35.982066Z"
    },
    "trusted": true
   },
   "outputs": [],
   "source": [
    "class DatasetLoader:\n",
    "    def __init__(self):\n",
    "        self.kaggle_url = \"thedevastator/employee-attrition-and-factors\"\n",
    "        \n",
    "        self.file_name = \"HR_Analytics.csv.csv\"\n",
    "        self.dir_name = \"dataset\"\n",
    "        \n",
    "        self.file_path = path.join(\"..\", self.dir_name, self.file_name)\n",
    "        self.github_url = f'https://raw.githubusercontent.com/AbrarShakhi/employee-attrition-predictor/main/{self.dir_name}/{self.file_name}'\n",
    "    \n",
    "    def load_from_kaggle(self):\n",
    "        try:\n",
    "            return kagglehub.load_dataset(KaggleDatasetAdapter.PANDAS, self.kaggle_url, self.file_name)\n",
    "        except:\n",
    "            return None\n",
    "\n",
    "    def load_from_github(self):\n",
    "        try:\n",
    "            return pd.read_csv(self.github_url)\n",
    "        except:\n",
    "            return None\n",
    "\n",
    "    def load_from_local(self):\n",
    "        try:\n",
    "            return pd.read_csv(self.file_path)\n",
    "        except:\n",
    "            return None"
   ]
  },
  {
   "cell_type": "markdown",
   "metadata": {},
   "source": [
    "## Fetch the dataset and show 5 rows\n",
    "* fetch from local. in case of failure, fetch from `github`\n",
    "* in case of failure, fetch from `kaggle`\n",
    "* in case of failure, exit"
   ]
  },
  {
   "cell_type": "code",
   "execution_count": null,
   "metadata": {
    "execution": {
     "iopub.execute_input": "2025-05-03T12:35:36.010334Z",
     "iopub.status.busy": "2025-05-03T12:35:36.010064Z",
     "iopub.status.idle": "2025-05-03T12:36:08.235035Z",
     "shell.execute_reply": "2025-05-03T12:36:08.234081Z",
     "shell.execute_reply.started": "2025-05-03T12:35:36.010315Z"
    },
    "trusted": true
   },
   "outputs": [],
   "source": [
    "loader = DatasetLoader()\n",
    "data = loader.load_from_local()\n",
    "if data is None:\n",
    "    data = loader.load_from_github()\n",
    "if data is None:\n",
    "    data = loader.load_from_kaggle()\n",
    "if data is None:\n",
    "    print(\"Unable to find dataset..\")\n",
    "    exit(1)\n",
    "\n",
    "data.head(5)"
   ]
  },
  {
   "cell_type": "markdown",
   "metadata": {},
   "source": [
    "## Number of null values in the dataset"
   ]
  },
  {
   "cell_type": "code",
   "execution_count": null,
   "metadata": {
    "execution": {
     "iopub.execute_input": "2025-05-03T12:36:08.236136Z",
     "iopub.status.busy": "2025-05-03T12:36:08.235904Z",
     "iopub.status.idle": "2025-05-03T12:36:08.242983Z",
     "shell.execute_reply": "2025-05-03T12:36:08.242052Z",
     "shell.execute_reply.started": "2025-05-03T12:36:08.236119Z"
    },
    "trusted": true
   },
   "outputs": [],
   "source": [
    "print(\"total number of null values in dataset: \",\n",
    "    sum(data.isnull().sum().to_numpy())\n",
    ")"
   ]
  },
  {
   "cell_type": "markdown",
   "metadata": {},
   "source": [
    "## Drop null contained rows "
   ]
  },
  {
   "cell_type": "code",
   "execution_count": null,
   "metadata": {
    "execution": {
     "iopub.execute_input": "2025-05-03T12:36:08.245138Z",
     "iopub.status.busy": "2025-05-03T12:36:08.244908Z",
     "iopub.status.idle": "2025-05-03T12:36:08.263450Z",
     "shell.execute_reply": "2025-05-03T12:36:08.262510Z",
     "shell.execute_reply.started": "2025-05-03T12:36:08.245121Z"
    },
    "trusted": true
   },
   "outputs": [],
   "source": [
    "data = data.dropna()"
   ]
  },
  {
   "cell_type": "markdown",
   "metadata": {},
   "source": [
    "## Shape of the dataset"
   ]
  },
  {
   "cell_type": "code",
   "execution_count": null,
   "metadata": {
    "execution": {
     "iopub.execute_input": "2025-05-03T12:36:08.265218Z",
     "iopub.status.busy": "2025-05-03T12:36:08.264884Z",
     "iopub.status.idle": "2025-05-03T12:36:08.281431Z",
     "shell.execute_reply": "2025-05-03T12:36:08.280448Z",
     "shell.execute_reply.started": "2025-05-03T12:36:08.265192Z"
    },
    "trusted": true
   },
   "outputs": [],
   "source": [
    "data.shape"
   ]
  },
  {
   "cell_type": "markdown",
   "metadata": {},
   "source": [
    "## Target column `Attrition`\n",
    "value that we want to predict"
   ]
  },
  {
   "cell_type": "code",
   "execution_count": null,
   "metadata": {
    "execution": {
     "iopub.execute_input": "2025-05-03T12:36:08.283265Z",
     "iopub.status.busy": "2025-05-03T12:36:08.282351Z",
     "iopub.status.idle": "2025-05-03T12:36:08.301674Z",
     "shell.execute_reply": "2025-05-03T12:36:08.300859Z",
     "shell.execute_reply.started": "2025-05-03T12:36:08.283233Z"
    },
    "trusted": true
   },
   "outputs": [],
   "source": [
    "target_column_name = \"Attrition\"\n",
    "data[target_column_name].head()"
   ]
  },
  {
   "cell_type": "markdown",
   "metadata": {},
   "source": [
    "## Defining my copyright 😢"
   ]
  },
  {
   "cell_type": "code",
   "execution_count": null,
   "metadata": {
    "execution": {
     "iopub.execute_input": "2025-05-03T12:59:51.638816Z",
     "iopub.status.busy": "2025-05-03T12:59:51.638525Z",
     "iopub.status.idle": "2025-05-03T12:59:51.644644Z",
     "shell.execute_reply": "2025-05-03T12:59:51.643694Z",
     "shell.execute_reply.started": "2025-05-03T12:59:51.638794Z"
    },
    "trusted": true
   },
   "outputs": [],
   "source": [
    "copyright_ply = [\n",
    "    dict(\n",
    "        text='© Shakhiul Abrar',\n",
    "        xref='paper', yref='paper',\n",
    "        x=0.9, y=-0.1,\n",
    "        showarrow=False,\n",
    "        font=dict(size=12)\n",
    "    )\n",
    "]\n",
    "def copyright_plt(plt):\n",
    "    plt.figtext(0.5, -0.1, '© Shakhiul Abrar', ha='center', fontsize=12)"
   ]
  },
  {
   "cell_type": "markdown",
   "metadata": {},
   "source": [
    "## Check if the target column `Attrition` is balanced or not\n",
    "since the target column boolean value, so we will use **PIE** chart"
   ]
  },
  {
   "cell_type": "code",
   "execution_count": null,
   "metadata": {
    "execution": {
     "iopub.execute_input": "2025-05-03T12:59:57.995191Z",
     "iopub.status.busy": "2025-05-03T12:59:57.994824Z",
     "iopub.status.idle": "2025-05-03T12:59:58.036420Z",
     "shell.execute_reply": "2025-05-03T12:59:58.035432Z",
     "shell.execute_reply.started": "2025-05-03T12:59:57.995166Z"
    },
    "trusted": true
   },
   "outputs": [],
   "source": [
    "attrition_counts = data[target_column_name].value_counts().reset_index()\n",
    "attrition_counts.columns = [target_column_name, 'Count']\n",
    "\n",
    "fig = px.pie(attrition_counts, values='Count', names=target_column_name, \n",
    "             title='Attrition Pie chart', width=400, height=400)\n",
    "fig.update_layout(annotations=copyright_ply)\n",
    "fig.show()"
   ]
  },
  {
   "cell_type": "markdown",
   "metadata": {},
   "source": [
    "## Remove columns that has only one value\n"
   ]
  },
  {
   "cell_type": "code",
   "execution_count": null,
   "metadata": {
    "execution": {
     "iopub.execute_input": "2025-05-03T12:36:08.355971Z",
     "iopub.status.busy": "2025-05-03T12:36:08.355648Z",
     "iopub.status.idle": "2025-05-03T12:36:08.369216Z",
     "shell.execute_reply": "2025-05-03T12:36:08.368231Z",
     "shell.execute_reply.started": "2025-05-03T12:36:08.355942Z"
    },
    "trusted": true
   },
   "outputs": [],
   "source": [
    "for col in data.columns:\n",
    "    if len(data[col].unique()) == 1:\n",
    "        data.drop(col, axis=1, inplace=True)\n",
    "        print(f\"Removed column: {col}\")"
   ]
  },
  {
   "cell_type": "markdown",
   "metadata": {},
   "source": [
    "## Split Numerical and Categorical columns\n",
    "and save them in a list"
   ]
  },
  {
   "cell_type": "code",
   "execution_count": null,
   "metadata": {
    "execution": {
     "iopub.execute_input": "2025-05-03T12:36:08.372930Z",
     "iopub.status.busy": "2025-05-03T12:36:08.372662Z",
     "iopub.status.idle": "2025-05-03T12:36:08.384801Z",
     "shell.execute_reply": "2025-05-03T12:36:08.383672Z",
     "shell.execute_reply.started": "2025-05-03T12:36:08.372910Z"
    },
    "trusted": true
   },
   "outputs": [],
   "source": [
    "categorical_columns = [\n",
    "    \"Education\",\n",
    "    \"EnvironmentSatisfaction\",\n",
    "    \"JobInvolvement\",\n",
    "    \"JobLevel\",\n",
    "    \"JobSatisfaction\",\n",
    "    \"PerformanceRating\",\n",
    "    \"RelationshipSatisfaction\",\n",
    "    \"WorkLifeBalance\"\n",
    "]\n",
    "for col in data.columns:\n",
    "    if data[col].dtype == \"object\":\n",
    "        categorical_columns.append(col)\n",
    "categorical_columns = sorted(categorical_columns)\n",
    "\n",
    "numerical_columns = sorted([col for col in data.columns if col not in categorical_columns])\n",
    "\n",
    "print(\"numerical columns:\", numerical_columns, \"\\n\")\n",
    "print(\"categorical columns:\", categorical_columns, \"\\n\")"
   ]
  },
  {
   "cell_type": "markdown",
   "metadata": {},
   "source": [
    "## A quick info using a fucntion call for number type columns"
   ]
  },
  {
   "cell_type": "code",
   "execution_count": null,
   "metadata": {
    "execution": {
     "iopub.execute_input": "2025-05-03T12:36:08.385931Z",
     "iopub.status.busy": "2025-05-03T12:36:08.385708Z",
     "iopub.status.idle": "2025-05-03T12:36:08.444662Z",
     "shell.execute_reply": "2025-05-03T12:36:08.443696Z",
     "shell.execute_reply.started": "2025-05-03T12:36:08.385914Z"
    },
    "trusted": true
   },
   "outputs": [],
   "source": [
    "data[numerical_columns].describe().transpose()"
   ]
  },
  {
   "cell_type": "markdown",
   "metadata": {},
   "source": [
    "## A quick info using a fucntion call for object type columns"
   ]
  },
  {
   "cell_type": "code",
   "execution_count": null,
   "metadata": {
    "execution": {
     "iopub.execute_input": "2025-05-03T12:36:08.445959Z",
     "iopub.status.busy": "2025-05-03T12:36:08.445639Z",
     "iopub.status.idle": "2025-05-03T12:36:08.467868Z",
     "shell.execute_reply": "2025-05-03T12:36:08.466996Z",
     "shell.execute_reply.started": "2025-05-03T12:36:08.445932Z"
    },
    "trusted": true
   },
   "outputs": [],
   "source": [
    "data[categorical_columns].describe(include=\"object\").transpose()"
   ]
  },
  {
   "cell_type": "markdown",
   "metadata": {},
   "source": [
    "## Dataset info for categorical columns\n",
    "* Categorical column:\n",
    "    - Frequency\n",
    "    - Percentage"
   ]
  },
  {
   "cell_type": "code",
   "execution_count": null,
   "metadata": {
    "execution": {
     "iopub.execute_input": "2025-05-03T12:40:52.988037Z",
     "iopub.status.busy": "2025-05-03T12:40:52.987715Z",
     "iopub.status.idle": "2025-05-03T12:40:53.024355Z",
     "shell.execute_reply": "2025-05-03T12:40:53.023319Z",
     "shell.execute_reply.started": "2025-05-03T12:40:52.988013Z"
    },
    "trusted": true
   },
   "outputs": [],
   "source": [
    "for col in categorical_columns:\n",
    "    counts = data[col].value_counts()\n",
    "    # cata_datas.append(\n",
    "    print(\n",
    "        pd.DataFrame({\n",
    "            \"Frequency\": counts,\n",
    "            \"Percentage\": counts / len(data) * 100\n",
    "        })\n",
    "    )"
   ]
  },
  {
   "cell_type": "markdown",
   "metadata": {},
   "source": [
    "## Convert catagorical data into numbers\n",
    "`df` is original dataset,\n",
    "\n",
    "`df_norm` is converted dataset"
   ]
  },
  {
   "cell_type": "code",
   "execution_count": null,
   "metadata": {
    "execution": {
     "iopub.execute_input": "2025-05-03T12:36:08.499513Z",
     "iopub.status.busy": "2025-05-03T12:36:08.499218Z",
     "iopub.status.idle": "2025-05-03T12:36:08.532941Z",
     "shell.execute_reply": "2025-05-03T12:36:08.532014Z",
     "shell.execute_reply.started": "2025-05-03T12:36:08.499483Z"
    },
    "trusted": true
   },
   "outputs": [],
   "source": [
    "data_norm = pd.DataFrame(data)\n",
    "def convert_categorical_to_numerical(col):\n",
    "    return data_norm[col].astype(\"category\").cat.codes\n",
    "\n",
    "def convert_categorical_to_numerical_all(columns):\n",
    "    for col in columns:\n",
    "        if data_norm[col].dtype == \"object\":\n",
    "            data_norm[col] = convert_categorical_to_numerical(col)\n",
    "    return data_norm\n",
    "\n",
    "convert_categorical_to_numerical_all(data_norm.columns)\n",
    "data_norm"
   ]
  },
  {
   "cell_type": "markdown",
   "metadata": {},
   "source": [
    "## histogram: `number of employees` in `Age` range group by `Attrition` color\n",
    "### Age\n",
    "The age of the employee. **Numerical**"
   ]
  },
  {
   "cell_type": "code",
   "execution_count": null,
   "metadata": {
    "execution": {
     "iopub.execute_input": "2025-05-03T12:57:19.466167Z",
     "iopub.status.busy": "2025-05-03T12:57:19.465854Z",
     "iopub.status.idle": "2025-05-03T12:57:19.529769Z",
     "shell.execute_reply": "2025-05-03T12:57:19.528642Z",
     "shell.execute_reply.started": "2025-05-03T12:57:19.466144Z"
    },
    "trusted": true
   },
   "outputs": [],
   "source": [
    "fig = px.histogram(data, x=\"Age\", color=target_column_name, barmode=\"group\", )\n",
    "fig.update_layout(title=\"Age Distribution\", xaxis_title=\"Age\", yaxis_title=\"number of employees\", title_x=0.5)\n",
    "fig.update_traces(opacity=0.75)\n",
    "fig.update_traces(marker_line_width=1.5, marker_line_color=\"black\")\n",
    "fig.update_traces(marker=dict(line=dict(width=1, color='black')))\n",
    "fig.update_layout(annotations=copyright_ply)\n",
    "fig.show()\n"
   ]
  },
  {
   "cell_type": "markdown",
   "metadata": {},
   "source": [
    "## HeatMap:`Age`, `Attrition`, `OverTime`, `TotalWorkingYears`"
   ]
  },
  {
   "cell_type": "code",
   "execution_count": null,
   "metadata": {
    "execution": {
     "iopub.execute_input": "2025-05-03T12:57:24.814035Z",
     "iopub.status.busy": "2025-05-03T12:57:24.813713Z",
     "iopub.status.idle": "2025-05-03T12:57:25.075787Z",
     "shell.execute_reply": "2025-05-03T12:57:25.074875Z",
     "shell.execute_reply.started": "2025-05-03T12:57:24.814011Z"
    },
    "trusted": true
   },
   "outputs": [],
   "source": [
    "corr_mat= data_norm[[\"Age\", \"Attrition\", \"OverTime\", \"TotalWorkingYears\"]].corr()\n",
    "\n",
    "sns.heatmap(corr_mat, annot=True, fmt=\".2f\", cmap=\"coolwarm\")\n",
    "plt.title(\"Correlation Heatmap\")\n",
    "copyright_plt(plt)\n",
    "plt.show()\n"
   ]
  },
  {
   "cell_type": "markdown",
   "metadata": {},
   "source": [
    "## Pie Chart"
   ]
  },
  {
   "cell_type": "markdown",
   "metadata": {},
   "source": [
    "### BusinessTravel\n",
    "The frequency of business travel for the employee. **Categorical**"
   ]
  },
  {
   "cell_type": "code",
   "execution_count": null,
   "metadata": {
    "execution": {
     "iopub.execute_input": "2025-05-03T12:57:42.849424Z",
     "iopub.status.busy": "2025-05-03T12:57:42.849073Z",
     "iopub.status.idle": "2025-05-03T12:57:42.891590Z",
     "shell.execute_reply": "2025-05-03T12:57:42.890504Z",
     "shell.execute_reply.started": "2025-05-03T12:57:42.849401Z"
    },
    "trusted": true
   },
   "outputs": [],
   "source": [
    "business_travel_counts = data['BusinessTravel'].value_counts().reset_index()\n",
    "business_travel_counts.columns = ['BusinessTravel', 'Count']\n",
    "\n",
    "fig = px.pie(business_travel_counts, values='Count', names='BusinessTravel', \n",
    "             title='Business Travel Pie chart', width=400, height=400)\n",
    "fig.update_layout(annotations=copyright_ply)\n",
    "fig.show()"
   ]
  },
  {
   "cell_type": "markdown",
   "metadata": {},
   "source": [
    "## Box Plot"
   ]
  },
  {
   "cell_type": "markdown",
   "metadata": {},
   "source": [
    "### DailyRate\n",
    "The daily rate of pay for the employee. **Numerical**"
   ]
  },
  {
   "cell_type": "code",
   "execution_count": null,
   "metadata": {
    "execution": {
     "iopub.execute_input": "2025-05-03T13:07:32.697168Z",
     "iopub.status.busy": "2025-05-03T13:07:32.696848Z",
     "iopub.status.idle": "2025-05-03T13:07:32.742467Z",
     "shell.execute_reply": "2025-05-03T13:07:32.741630Z",
     "shell.execute_reply.started": "2025-05-03T13:07:32.697143Z"
    },
    "trusted": true
   },
   "outputs": [],
   "source": [
    "fig = px.box(data, x=\"DailyRate\", title=\"Box plot of DailyRate\")\n",
    "fig.update_layout(xaxis_title=\"DailyRate\", height=300, title_x=0.50)\n",
    "fig.update_layout(annotations=[\n",
    "        dict(\n",
    "            text='© Shakhiul Abrar',\n",
    "            xref='paper', yref='paper',\n",
    "            x=0.9, y=1.2,\n",
    "            showarrow=False,\n",
    "            font=dict(size=12)\n",
    "        )\n",
    "    ]\n",
    ")\n",
    "fig.show()"
   ]
  },
  {
   "cell_type": "markdown",
   "metadata": {},
   "source": [
    "## Histogram: Number of employee count in each `department` group by `Attrition`\n",
    "### Department\n",
    "The department the employee works in. **Categorical**"
   ]
  },
  {
   "cell_type": "code",
   "execution_count": null,
   "metadata": {
    "execution": {
     "iopub.execute_input": "2025-05-03T13:07:16.809953Z",
     "iopub.status.busy": "2025-05-03T13:07:16.809663Z",
     "iopub.status.idle": "2025-05-03T13:07:16.868259Z",
     "shell.execute_reply": "2025-05-03T13:07:16.867151Z",
     "shell.execute_reply.started": "2025-05-03T13:07:16.809930Z"
    },
    "trusted": true
   },
   "outputs": [],
   "source": [
    "fig = px.histogram(data, x=\"Department\", title=\"Department Histogram\", color=target_column_name, barmode=\"group\")\n",
    "fig.update_layout(xaxis_title=\"Department\", height=400, width=400)\n",
    "fig.update_layout(annotations=[\n",
    "        dict(\n",
    "            text='© Shakhiul Abrar',\n",
    "            xref='paper', yref='paper',\n",
    "            x=0.9, y=1.15,\n",
    "            showarrow=False,\n",
    "            font=dict(size=12)\n",
    "        )\n",
    "    ]\n",
    ")\n",
    "fig.show()"
   ]
  },
  {
   "cell_type": "markdown",
   "metadata": {},
   "source": [
    "## Density Carve of `Distance from home`\n",
    "### DistanceFromHome\n",
    "The distance from home in miles for the employee. **Numerical**"
   ]
  },
  {
   "cell_type": "code",
   "execution_count": null,
   "metadata": {
    "execution": {
     "iopub.execute_input": "2025-05-03T13:01:46.338940Z",
     "iopub.status.busy": "2025-05-03T13:01:46.338280Z",
     "iopub.status.idle": "2025-05-03T13:01:46.584010Z",
     "shell.execute_reply": "2025-05-03T13:01:46.583127Z",
     "shell.execute_reply.started": "2025-05-03T13:01:46.338913Z"
    },
    "trusted": true
   },
   "outputs": [],
   "source": [
    "\n",
    "sns.histplot(data=data, x=\"DistanceFromHome\", kde=True, color=\"blue\", bins=10)\n",
    "plt.title(\"DistanceFromHome Histogram and dencity line\")\n",
    "plt.ylabel(\"number of employees\")\n",
    "copyright_plt(plt)\n",
    "plt.show()\n"
   ]
  },
  {
   "cell_type": "markdown",
   "metadata": {},
   "source": [
    "## 3D scatter plot: `Education`, `Age`, `EmployeeNumber`\n",
    "### Education\n",
    "The level of education achieved by the employee. **Categorical**"
   ]
  },
  {
   "cell_type": "code",
   "execution_count": null,
   "metadata": {
    "execution": {
     "iopub.execute_input": "2025-05-03T13:01:59.788437Z",
     "iopub.status.busy": "2025-05-03T13:01:59.788100Z",
     "iopub.status.idle": "2025-05-03T13:01:59.844741Z",
     "shell.execute_reply": "2025-05-03T13:01:59.843914Z",
     "shell.execute_reply.started": "2025-05-03T13:01:59.788401Z"
    },
    "trusted": true
   },
   "outputs": [],
   "source": [
    "fig = px.scatter_3d(\n",
    "    data,\n",
    "    x='Education',\n",
    "    y='Age',\n",
    "    z='EmployeeNumber',\n",
    "    color='Attrition',\n",
    "    opacity=0.5,\n",
    "    title=\"3D Scatter plot of Education, Age and EmployeeNumber\",\n",
    ")\n",
    "fig.update_layout(\n",
    "    title_x=0.5\n",
    ")\n",
    "fig.update_layout(annotations=copyright_ply)\n",
    "fig.show()"
   ]
  },
  {
   "cell_type": "markdown",
   "metadata": {},
   "source": [
    "## Histogram: Number of employee count in each `Environment Satisfaction` level group by `Attrition`\n",
    "### EnvironmentSatisfaction\n",
    "The employee's satisfaction with their work environment. **Categorical**"
   ]
  },
  {
   "cell_type": "code",
   "execution_count": null,
   "metadata": {
    "execution": {
     "iopub.execute_input": "2025-05-03T13:08:23.720092Z",
     "iopub.status.busy": "2025-05-03T13:08:23.719758Z",
     "iopub.status.idle": "2025-05-03T13:08:23.774891Z",
     "shell.execute_reply": "2025-05-03T13:08:23.773809Z",
     "shell.execute_reply.started": "2025-05-03T13:08:23.720063Z"
    },
    "trusted": true
   },
   "outputs": [],
   "source": [
    "px.histogram(\n",
    "    data,\n",
    "    x=\"EnvironmentSatisfaction\",\n",
    "    color=target_column_name,\n",
    "    barmode=\"group\"\n",
    ").update_layout(\n",
    "    title=\"Environment Satisfaction\",\n",
    "    width=300,\n",
    "    height=300\n",
    ").update_layout(annotations=[\n",
    "        dict(\n",
    "            text='© Shakhiul Abrar',\n",
    "            xref='paper', yref='paper',\n",
    "            x=0.9, y=1.15,\n",
    "            showarrow=False,\n",
    "            font=dict(size=12)\n",
    "        )\n",
    "    ]\n",
    ").show()"
   ]
  },
  {
   "cell_type": "markdown",
   "metadata": {},
   "source": [
    "## Histogram: Number of employee count in each `job Satisfaction` level group by `Attrition`\n",
    "\n",
    "### JobSatisfaction\n",
    "The employee's satisfaction with their job. **Categorical**"
   ]
  },
  {
   "cell_type": "code",
   "execution_count": null,
   "metadata": {
    "execution": {
     "iopub.execute_input": "2025-05-03T13:02:37.601702Z",
     "iopub.status.busy": "2025-05-03T13:02:37.601402Z",
     "iopub.status.idle": "2025-05-03T13:02:37.659203Z",
     "shell.execute_reply": "2025-05-03T13:02:37.658503Z",
     "shell.execute_reply.started": "2025-05-03T13:02:37.601680Z"
    },
    "trusted": true
   },
   "outputs": [],
   "source": [
    "fig = px.histogram(data, x=\"JobSatisfaction\", color=target_column_name, \n",
    "                   title=\"Job Satisfaction Histogram\", barmode='group')\n",
    "fig.update_layout(xaxis_title=\"Job Satisfaction\", height=300, width=700)\n",
    "fig.update_layout(title_text='Job Satisfaction vs number of employee', title_x=.5)\n",
    "fig.update_traces(textfont_size=12)\n",
    "fig.update_traces(textfont=dict(color=\"white\"))\n",
    "fig.update_layout(annotations=[\n",
    "        dict(\n",
    "            text='© Shakhiul Abrar',\n",
    "            xref='paper', yref='paper',\n",
    "            x=0.9, y=-0.4,\n",
    "            showarrow=False,\n",
    "            font=dict(size=12)\n",
    "        )\n",
    "    ]\n",
    ")\n",
    "fig.show()\n"
   ]
  },
  {
   "cell_type": "markdown",
   "metadata": {},
   "source": [
    "## Bar Chart: Total `Working Years` vs `Monthly Income` group by `Attrition`\n",
    "### MonthlyIncome\n",
    "The monthly income of the employee. **Numerical**"
   ]
  },
  {
   "cell_type": "code",
   "execution_count": null,
   "metadata": {
    "execution": {
     "iopub.execute_input": "2025-05-03T13:03:00.141422Z",
     "iopub.status.busy": "2025-05-03T13:03:00.141101Z",
     "iopub.status.idle": "2025-05-03T13:03:00.195433Z",
     "shell.execute_reply": "2025-05-03T13:03:00.194614Z",
     "shell.execute_reply.started": "2025-05-03T13:03:00.141393Z"
    },
    "trusted": true
   },
   "outputs": [],
   "source": [
    "px.bar(\n",
    "    data,\n",
    "    x=\"TotalWorkingYears\",\n",
    "    y=\"MonthlyIncome\",\n",
    "    color=target_column_name,\n",
    "    title=\"Total Working Years vs Monthly Income\",\n",
    "    barmode=\"group\"\n",
    ").update_layout(\n",
    "    title_x=0.5,\n",
    "    xaxis_title=\"Total Working Years\",\n",
    "    yaxis_title=\"Monthly Income\"\n",
    ").update_layout(annotations=copyright_ply).show()"
   ]
  },
  {
   "cell_type": "markdown",
   "metadata": {},
   "source": [
    "## Correlation HeatMap Monthly Income vs Attrition"
   ]
  },
  {
   "cell_type": "code",
   "execution_count": null,
   "metadata": {
    "execution": {
     "iopub.execute_input": "2025-05-03T13:03:09.212644Z",
     "iopub.status.busy": "2025-05-03T13:03:09.212283Z",
     "iopub.status.idle": "2025-05-03T13:03:09.263316Z",
     "shell.execute_reply": "2025-05-03T13:03:09.262459Z",
     "shell.execute_reply.started": "2025-05-03T13:03:09.212622Z"
    },
    "trusted": true
   },
   "outputs": [],
   "source": [
    "fig = px.density_heatmap(data, x=\"MonthlyIncome\", y=target_column_name, color_continuous_scale=\"Viridis\",)\n",
    "fig.update_layout(title=\"Dencity Heamap with MonthlyIncome and Attrition\", title_x=0.5)\n",
    "fig.update_layout(annotations=copyright_ply)\n",
    "fig.show()"
   ]
  },
  {
   "cell_type": "markdown",
   "metadata": {},
   "source": [
    "## Scatter `Employee number` vs `Years At Company`\n",
    "### YearsAtCompany\n",
    "The number of years the employee has been with the company. **Numerical**"
   ]
  },
  {
   "cell_type": "code",
   "execution_count": null,
   "metadata": {
    "execution": {
     "iopub.execute_input": "2025-05-03T13:03:18.199930Z",
     "iopub.status.busy": "2025-05-03T13:03:18.199610Z",
     "iopub.status.idle": "2025-05-03T13:03:18.251642Z",
     "shell.execute_reply": "2025-05-03T13:03:18.250768Z",
     "shell.execute_reply.started": "2025-05-03T13:03:18.199907Z"
    },
    "trusted": true
   },
   "outputs": [],
   "source": [
    "fig = px.scatter(\n",
    "    data_norm,\n",
    "    x='EmployeeNumber',\n",
    "    y=\"YearsAtCompany\",\n",
    "    color=target_column_name,\n",
    "    title='P',\n",
    "    color_continuous_scale='viridis',\n",
    ")\n",
    "fig.update_layout(\n",
    "    title=\"EmployeeNumber Vs YearsAtCompany With attrition\"\n",
    ")\n",
    "fig.update_layout(annotations=copyright_ply)\n",
    "fig.show()\n"
   ]
  },
  {
   "cell_type": "markdown",
   "metadata": {},
   "source": [
    "## Violin diagram `StockOptionLevel` and `Attrition`\n",
    "### StockOptionLevel\n",
    "The stock option level of the employee. **Numerical**"
   ]
  },
  {
   "cell_type": "code",
   "execution_count": null,
   "metadata": {
    "execution": {
     "iopub.execute_input": "2025-05-03T13:03:25.208630Z",
     "iopub.status.busy": "2025-05-03T13:03:25.208304Z",
     "iopub.status.idle": "2025-05-03T13:03:25.261944Z",
     "shell.execute_reply": "2025-05-03T13:03:25.261273Z",
     "shell.execute_reply.started": "2025-05-03T13:03:25.208611Z"
    },
    "trusted": true
   },
   "outputs": [],
   "source": [
    "fig = px.violin(\n",
    "    data,\n",
    "    y=\"StockOptionLevel\",\n",
    "    x=target_column_name,\n",
    "    color=target_column_name,\n",
    "    box=True,\n",
    "    points=\"all\",\n",
    "    title=\"Stock Option Level vs Attrition\"\n",
    ")\n",
    "fig.update_layout(\n",
    "    title_x=0.5,\n",
    "    xaxis_title=\"Attrition\",\n",
    "    yaxis_title=\"Stock Option Level\"\n",
    ")\n",
    "fig.update_layout(annotations=copyright_ply)\n",
    "fig.show()"
   ]
  },
  {
   "cell_type": "markdown",
   "metadata": {},
   "source": [
    "## Line Plot: Employee number vs `YearsSinceLastPromotion`\n",
    "### YearsSinceLastPromotion\n",
    "The number of years since the employee's last promotion. **Numerical**"
   ]
  },
  {
   "cell_type": "code",
   "execution_count": null,
   "metadata": {
    "execution": {
     "iopub.execute_input": "2025-05-03T13:03:37.895705Z",
     "iopub.status.busy": "2025-05-03T13:03:37.895291Z",
     "iopub.status.idle": "2025-05-03T13:03:38.138636Z",
     "shell.execute_reply": "2025-05-03T13:03:38.137792Z",
     "shell.execute_reply.started": "2025-05-03T13:03:37.895681Z"
    },
    "trusted": true
   },
   "outputs": [],
   "source": [
    "sns.lineplot(data=data, x=\"EmployeeNumber\", y=\"YearsSinceLastPromotion\", hue=target_column_name)\n",
    "copyright_plt(plt)\n",
    "plt.show()"
   ]
  },
  {
   "cell_type": "markdown",
   "metadata": {},
   "source": [
    "## Parallel Coordinates\n",
    "Shows parallel coordinates graph for all numerical columns"
   ]
  },
  {
   "cell_type": "code",
   "execution_count": null,
   "metadata": {
    "execution": {
     "iopub.execute_input": "2025-05-03T13:03:49.390514Z",
     "iopub.status.busy": "2025-05-03T13:03:49.389761Z",
     "iopub.status.idle": "2025-05-03T13:03:49.440460Z",
     "shell.execute_reply": "2025-05-03T13:03:49.439598Z",
     "shell.execute_reply.started": "2025-05-03T13:03:49.390485Z"
    },
    "trusted": true
   },
   "outputs": [],
   "source": [
    "fig = px.parallel_coordinates(\n",
    "    data_norm,\n",
    "    color=target_column_name,\n",
    "    dimensions=numerical_columns,\n",
    "    color_continuous_scale=px.colors.sequential.Aggrnyl,\n",
    "    title=\"Parallel Coordinates Plot\"\n",
    ")\n",
    "fig.update_layout(\n",
    "    title_text=\"Parallel Coordinates Plot\",\n",
    "    title_x=0.5,\n",
    "    # width=800,\n",
    "    height=800\n",
    ")\n",
    "fig.update_layout(annotations=copyright_ply)\n",
    "fig.show()"
   ]
  },
  {
   "cell_type": "markdown",
   "metadata": {},
   "source": [
    "## Polar scatter plot\n",
    "* radius: `Age`\n",
    "* theta: `EmployeeNumber`\n",
    "* color `Attrition`"
   ]
  },
  {
   "cell_type": "code",
   "execution_count": null,
   "metadata": {
    "execution": {
     "iopub.execute_input": "2025-05-03T13:04:07.075353Z",
     "iopub.status.busy": "2025-05-03T13:04:07.075028Z",
     "iopub.status.idle": "2025-05-03T13:04:07.126974Z",
     "shell.execute_reply": "2025-05-03T13:04:07.125904Z",
     "shell.execute_reply.started": "2025-05-03T13:04:07.075328Z"
    },
    "trusted": true
   },
   "outputs": [],
   "source": [
    "px.scatter_polar(\n",
    "    data,\n",
    "    r=\"Age\",\n",
    "    theta=\"EmployeeNumber\",\n",
    "    color=target_column_name,\n",
    "    title=\"Scatter Polar Plot\",\n",
    "    color_continuous_scale=px.colors.sequential.Inferno,\n",
    ").update_layout(\n",
    "    title_text=\"Scatter Polar Plot\",\n",
    "    title_x=0.5,\n",
    "    width=800,\n",
    "    height=600,\n",
    ").update_layout(annotations=copyright_ply).show()"
   ]
  },
  {
   "cell_type": "markdown",
   "metadata": {},
   "source": [
    "## Sankey diagram: `Attrition`, and `MaritalStatus`"
   ]
  },
  {
   "cell_type": "code",
   "execution_count": null,
   "metadata": {
    "execution": {
     "iopub.execute_input": "2025-05-03T13:04:24.162704Z",
     "iopub.status.busy": "2025-05-03T13:04:24.162393Z",
     "iopub.status.idle": "2025-05-03T13:04:24.183767Z",
     "shell.execute_reply": "2025-05-03T13:04:24.182909Z",
     "shell.execute_reply.started": "2025-05-03T13:04:24.162680Z"
    },
    "trusted": true
   },
   "outputs": [],
   "source": [
    "columns = ['Attrition', 'MaritalStatus']\n",
    "\n",
    "labels = pd.unique(data[columns].values.ravel('K')).tolist()\n",
    "\n",
    "source = []\n",
    "target = []\n",
    "value = []\n",
    "\n",
    "for i in range(len(columns) - 1):\n",
    "    df_grouped = data.groupby([columns[i], columns[i+1]]).size().reset_index(name='count')\n",
    "    for _, row in df_grouped.iterrows():\n",
    "        source.append(labels.index(row[columns[i]]))\n",
    "        target.append(labels.index(row[columns[i+1]]))\n",
    "        value.append(row['count'])\n",
    "\n",
    "link = dict(source=source, target=target, value=value)\n",
    "node = dict(label=labels, pad=15, thickness=20, line=dict(color=\"black\", width=0.5))\n",
    "\n",
    "fig = go.Figure(go.Sankey(link=link, node=node, arrangement=\"snap\", textfont=dict(size=10, color=\"black\")))\n",
    "fig.update_layout(title_text=\"Sankey Diagram of Attrition, and MaritalStatus\", title_x=0.5)\n",
    "fig.update_layout(annotations=copyright_ply)\n",
    "fig.show()"
   ]
  },
  {
   "cell_type": "markdown",
   "metadata": {},
   "source": [
    "## Pair plot `Age`, `DistanceFromHome`, `TotalWorkingYears`"
   ]
  },
  {
   "cell_type": "code",
   "execution_count": null,
   "metadata": {
    "execution": {
     "iopub.execute_input": "2025-05-03T13:04:36.156422Z",
     "iopub.status.busy": "2025-05-03T13:04:36.156059Z",
     "iopub.status.idle": "2025-05-03T13:04:39.445972Z",
     "shell.execute_reply": "2025-05-03T13:04:39.444921Z",
     "shell.execute_reply.started": "2025-05-03T13:04:36.156344Z"
    },
    "trusted": true
   },
   "outputs": [],
   "source": [
    "sns.pairplot(\n",
    "    data,\n",
    "    hue=target_column_name,\n",
    "    vars=[\n",
    "        \"Age\",\n",
    "        \"DistanceFromHome\",\n",
    "        \"TotalWorkingYears\"\n",
    "    ],\n",
    "    diag_kind=\"kde\"\n",
    ")\n",
    "copyright_plt(plt)\n",
    "plt.show()"
   ]
  },
  {
   "cell_type": "markdown",
   "metadata": {},
   "source": [
    "## Histogram: PercentSalaryHike, YearsSinceLastPromotion, TotalWorkingYears\n",
    "The percentage of salary hike for the employee. **Numerical**\n",
    "\n",
    "Year passed since last promotion **Numerical**\n",
    "\n",
    "Total Working Years **Numerical**"
   ]
  },
  {
   "cell_type": "code",
   "execution_count": null,
   "metadata": {
    "execution": {
     "iopub.execute_input": "2025-05-03T13:04:58.169716Z",
     "iopub.status.busy": "2025-05-03T13:04:58.169354Z",
     "iopub.status.idle": "2025-05-03T13:04:58.966140Z",
     "shell.execute_reply": "2025-05-03T13:04:58.965159Z",
     "shell.execute_reply.started": "2025-05-03T13:04:58.169692Z"
    },
    "trusted": true
   },
   "outputs": [],
   "source": [
    "columns = [\"PercentSalaryHike\", \"YearsSinceLastPromotion\", \"TotalWorkingYears\"]\n",
    "titles = [\"Percent Salary Hike Histogram\", \"Years Since Last Promotion Histogram\", \"Total Working Years Histogram\"]\n",
    "xlabels = [\"Percent Salary Hike\", \"Years Since Last Promotion\", \"Total Working Years\"]\n",
    "colors = [\"g\", \"b\", \"r\"]\n",
    "\n",
    "plt.figure(figsize=(10, 7))\n",
    "for i in range(len(columns)):\n",
    "    plt.subplot(2, 2, i+1)\n",
    "    sns.histplot(data[columns[i]], bins=10, color=colors[i], edgecolor='black', alpha=0.5, stat='density', kde=True)\n",
    "    plt.title(titles[i])\n",
    "    plt.xlabel(xlabels[i])\n",
    "    plt.ylabel(\"Density\")\n",
    "\n",
    "plt.tight_layout()\n",
    "copyright_plt(plt)\n",
    "plt.show()\n"
   ]
  },
  {
   "cell_type": "markdown",
   "metadata": {},
   "source": [
    "## Correlation HeatMap\n",
    "Corralation heatmap with each column"
   ]
  },
  {
   "cell_type": "code",
   "execution_count": null,
   "metadata": {
    "execution": {
     "iopub.execute_input": "2025-05-03T13:05:46.699610Z",
     "iopub.status.busy": "2025-05-03T13:05:46.699259Z",
     "iopub.status.idle": "2025-05-03T13:05:46.718598Z",
     "shell.execute_reply": "2025-05-03T13:05:46.717785Z",
     "shell.execute_reply.started": "2025-05-03T13:05:46.699587Z"
    },
    "trusted": true
   },
   "outputs": [],
   "source": [
    "corr_mat = data_norm.corr(method=\"pearson\")\n",
    "# corr_mat = df_norm.corr()\n",
    "\n",
    "fig = go.Figure(\n",
    "    data=go.Heatmap(\n",
    "        z=corr_mat.values,\n",
    "        x = corr_mat.columns,\n",
    "        y = corr_mat.index,\n",
    "        colorscale=\"Viridis\",\n",
    "    )\n",
    ")\n",
    "fig.update_layout(\n",
    "    title=\"Correlation HeatMap\",\n",
    "    height=600,\n",
    "    title_x=0.5,\n",
    ")\n",
    "fig.update_layout(annotations=[\n",
    "        dict(\n",
    "            text='© Shakhiul Abrar',\n",
    "            xref='paper', yref='paper',\n",
    "            x=0.9, y=1.1,\n",
    "            showarrow=False,\n",
    "            font=dict(size=12)\n",
    "        )\n",
    "    ]\n",
    ")\n",
    "fig.show()"
   ]
  },
  {
   "cell_type": "markdown",
   "metadata": {},
   "source": [
    "## Correlation HeatMap with Attrition vs Every other column"
   ]
  },
  {
   "cell_type": "code",
   "execution_count": null,
   "metadata": {
    "execution": {
     "iopub.execute_input": "2025-05-03T13:06:00.912809Z",
     "iopub.status.busy": "2025-05-03T13:06:00.912070Z",
     "iopub.status.idle": "2025-05-03T13:06:00.972614Z",
     "shell.execute_reply": "2025-05-03T13:06:00.971726Z",
     "shell.execute_reply.started": "2025-05-03T13:06:00.912777Z"
    },
    "trusted": true
   },
   "outputs": [],
   "source": [
    "corr_mat = data_norm.corr(method=\"pearson\")\n",
    "corr_mat = corr_mat[target_column_name].sort_values(ascending=False)\n",
    "fig = px.bar(\n",
    "    x=corr_mat.values,\n",
    "    y=corr_mat.index,\n",
    "    title=\"Correlation with Attrition\",\n",
    "    color=corr_mat.values,\n",
    "    color_continuous_scale=px.colors.sequential.Plasma\n",
    ")\n",
    "fig.update_layout(\n",
    "    title_x=0.5,\n",
    "    xaxis_title=\"Columns\",\n",
    "    yaxis_title=\"Correlation with Attrition\",\n",
    "    height=700\n",
    ")\n",
    "fig.update_layout(annotations=copyright_ply)\n",
    "fig.show()"
   ]
  }
 ],
 "metadata": {
  "kaggle": {
   "accelerator": "none",
   "dataSources": [
    {
     "datasetId": 2888236,
     "sourceId": 4980019,
     "sourceType": "datasetVersion"
    }
   ],
   "dockerImageVersionId": 31012,
   "isGpuEnabled": false,
   "isInternetEnabled": false,
   "language": "python",
   "sourceType": "notebook"
  },
  "kernelspec": {
   "display_name": ".venv",
   "language": "python",
   "name": "python3"
  },
  "language_info": {
   "codemirror_mode": {
    "name": "ipython",
    "version": 3
   },
   "file_extension": ".py",
   "mimetype": "text/x-python",
   "name": "python",
   "nbconvert_exporter": "python",
   "pygments_lexer": "ipython3",
   "version": "3.12.10"
  }
 },
 "nbformat": 4,
 "nbformat_minor": 4
}
