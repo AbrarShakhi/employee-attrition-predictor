{
 "cells": [
  {
   "cell_type": "code",
   "execution_count": 2,
   "metadata": {
    "_cell_guid": "04ce3127-bebc-4122-9e36-58030ba72497",
    "_uuid": "336ea956-83d7-4c64-8e68-e07189798001",
    "collapsed": false,
    "execution": {
     "iopub.execute_input": "2025-04-29T05:15:26.607247Z",
     "iopub.status.busy": "2025-04-29T05:15:26.606870Z",
     "iopub.status.idle": "2025-04-29T05:15:28.672336Z",
     "shell.execute_reply": "2025-04-29T05:15:28.671373Z",
     "shell.execute_reply.started": "2025-04-29T05:15:26.607217Z"
    },
    "jupyter": {
     "outputs_hidden": false
    },
    "trusted": true
   },
   "outputs": [
    {
     "name": "stderr",
     "output_type": "stream",
     "text": [
      "/home/abrarshakhi/Desktop/dev/employee-attrition-predictor/.venv/lib/python3.12/site-packages/tqdm/auto.py:21: TqdmWarning: IProgress not found. Please update jupyter and ipywidgets. See https://ipywidgets.readthedocs.io/en/stable/user_install.html\n",
      "  from .autonotebook import tqdm as notebook_tqdm\n"
     ]
    }
   ],
   "source": [
    "import pandas as pd\n",
    "import numpy as np\n",
    "import matplotlib.pyplot as plt\n",
    "\n",
    "import kagglehub\n",
    "from kagglehub import KaggleDatasetAdapter\n",
    "\n",
    "from os import path\n",
    "from sys import exit\n",
    "import math"
   ]
  },
  {
   "cell_type": "code",
   "execution_count": 3,
   "metadata": {
    "execution": {
     "iopub.execute_input": "2025-04-29T05:15:40.006005Z",
     "iopub.status.busy": "2025-04-29T05:15:40.005707Z",
     "iopub.status.idle": "2025-04-29T05:15:40.011813Z",
     "shell.execute_reply": "2025-04-29T05:15:40.010840Z",
     "shell.execute_reply.started": "2025-04-29T05:15:40.005980Z"
    },
    "trusted": true
   },
   "outputs": [],
   "source": [
    "class DatasetLoader:\n",
    "    def __init__(self):\n",
    "        self.kaggle_url = \"thedevastator/employee-attrition-and-factors\"\n",
    "        \n",
    "        self.file_name = \"HR_Analytics.csv.csv\"\n",
    "        self.dir_name = \"dataset\"\n",
    "        \n",
    "        self.file_path = path.join(\"..\", self.dir_name, self.file_name)\n",
    "        self.github_url = f'https://raw.githubusercontent.com/AbrarShakhi/employee-attrition-predictor/main/{self.dir_name}/{self.file_name}'\n",
    "    \n",
    "    def load_from_kaggle(self):\n",
    "        try:\n",
    "            return kagglehub.load_dataset(KaggleDatasetAdapter.PANDAS, self.kaggle_url, self.file_name)\n",
    "        except:\n",
    "            return None\n",
    "\n",
    "    def load_from_github(self):\n",
    "        try:\n",
    "            return pd.read_csv(self.github_url)\n",
    "        except:\n",
    "            return None\n",
    "\n",
    "    def load_from_local(self):\n",
    "        try:\n",
    "            return pd.read_csv(self.file_path)\n",
    "        except:\n",
    "            return None"
   ]
  },
  {
   "cell_type": "code",
   "execution_count": 4,
   "metadata": {
    "execution": {
     "iopub.execute_input": "2025-04-29T05:15:44.406899Z",
     "iopub.status.busy": "2025-04-29T05:15:44.406568Z",
     "iopub.status.idle": "2025-04-29T05:16:16.635320Z",
     "shell.execute_reply": "2025-04-29T05:16:16.634547Z",
     "shell.execute_reply.started": "2025-04-29T05:15:44.406868Z"
    },
    "trusted": true
   },
   "outputs": [
    {
     "data": {
      "application/vnd.microsoft.datawrangler.viewer.v0+json": {
       "columns": [
        {
         "name": "index",
         "rawType": "int64",
         "type": "integer"
        },
        {
         "name": "Age",
         "rawType": "int64",
         "type": "integer"
        },
        {
         "name": "Attrition",
         "rawType": "object",
         "type": "string"
        },
        {
         "name": "BusinessTravel",
         "rawType": "object",
         "type": "string"
        },
        {
         "name": "DailyRate",
         "rawType": "int64",
         "type": "integer"
        },
        {
         "name": "Department",
         "rawType": "object",
         "type": "string"
        },
        {
         "name": "DistanceFromHome",
         "rawType": "int64",
         "type": "integer"
        },
        {
         "name": "Education",
         "rawType": "int64",
         "type": "integer"
        },
        {
         "name": "EducationField",
         "rawType": "object",
         "type": "string"
        },
        {
         "name": "EmployeeCount",
         "rawType": "int64",
         "type": "integer"
        },
        {
         "name": "EmployeeNumber",
         "rawType": "int64",
         "type": "integer"
        },
        {
         "name": "EnvironmentSatisfaction",
         "rawType": "int64",
         "type": "integer"
        },
        {
         "name": "Gender",
         "rawType": "object",
         "type": "string"
        },
        {
         "name": "HourlyRate",
         "rawType": "int64",
         "type": "integer"
        },
        {
         "name": "JobInvolvement",
         "rawType": "int64",
         "type": "integer"
        },
        {
         "name": "JobLevel",
         "rawType": "int64",
         "type": "integer"
        },
        {
         "name": "JobRole",
         "rawType": "object",
         "type": "string"
        },
        {
         "name": "JobSatisfaction",
         "rawType": "int64",
         "type": "integer"
        },
        {
         "name": "MaritalStatus",
         "rawType": "object",
         "type": "string"
        },
        {
         "name": "MonthlyIncome",
         "rawType": "int64",
         "type": "integer"
        },
        {
         "name": "MonthlyRate",
         "rawType": "int64",
         "type": "integer"
        },
        {
         "name": "NumCompaniesWorked",
         "rawType": "int64",
         "type": "integer"
        },
        {
         "name": "Over18",
         "rawType": "object",
         "type": "string"
        },
        {
         "name": "OverTime",
         "rawType": "object",
         "type": "string"
        },
        {
         "name": "PercentSalaryHike",
         "rawType": "int64",
         "type": "integer"
        },
        {
         "name": "PerformanceRating",
         "rawType": "int64",
         "type": "integer"
        },
        {
         "name": "RelationshipSatisfaction",
         "rawType": "int64",
         "type": "integer"
        },
        {
         "name": "StandardHours",
         "rawType": "int64",
         "type": "integer"
        },
        {
         "name": "StockOptionLevel",
         "rawType": "int64",
         "type": "integer"
        },
        {
         "name": "TotalWorkingYears",
         "rawType": "int64",
         "type": "integer"
        },
        {
         "name": "TrainingTimesLastYear",
         "rawType": "int64",
         "type": "integer"
        },
        {
         "name": "WorkLifeBalance",
         "rawType": "int64",
         "type": "integer"
        },
        {
         "name": "YearsAtCompany",
         "rawType": "int64",
         "type": "integer"
        },
        {
         "name": "YearsInCurrentRole",
         "rawType": "int64",
         "type": "integer"
        },
        {
         "name": "YearsSinceLastPromotion",
         "rawType": "int64",
         "type": "integer"
        },
        {
         "name": "YearsWithCurrManager",
         "rawType": "int64",
         "type": "integer"
        }
       ],
       "conversionMethod": "pd.DataFrame",
       "ref": "9b8a391d-b447-4581-8e7f-1a4a3ad683cc",
       "rows": [
        [
         "0",
         "41",
         "Yes",
         "Travel_Rarely",
         "1102",
         "Sales",
         "1",
         "2",
         "Life Sciences",
         "1",
         "1",
         "2",
         "Female",
         "94",
         "3",
         "2",
         "Sales Executive",
         "4",
         "Single",
         "5993",
         "19479",
         "8",
         "Y",
         "Yes",
         "11",
         "3",
         "1",
         "80",
         "0",
         "8",
         "0",
         "1",
         "6",
         "4",
         "0",
         "5"
        ],
        [
         "1",
         "49",
         "No",
         "Travel_Frequently",
         "279",
         "Research & Development",
         "8",
         "1",
         "Life Sciences",
         "1",
         "2",
         "3",
         "Male",
         "61",
         "2",
         "2",
         "Research Scientist",
         "2",
         "Married",
         "5130",
         "24907",
         "1",
         "Y",
         "No",
         "23",
         "4",
         "4",
         "80",
         "1",
         "10",
         "3",
         "3",
         "10",
         "7",
         "1",
         "7"
        ],
        [
         "2",
         "37",
         "Yes",
         "Travel_Rarely",
         "1373",
         "Research & Development",
         "2",
         "2",
         "Other",
         "1",
         "4",
         "4",
         "Male",
         "92",
         "2",
         "1",
         "Laboratory Technician",
         "3",
         "Single",
         "2090",
         "2396",
         "6",
         "Y",
         "Yes",
         "15",
         "3",
         "2",
         "80",
         "0",
         "7",
         "3",
         "3",
         "0",
         "0",
         "0",
         "0"
        ],
        [
         "3",
         "33",
         "No",
         "Travel_Frequently",
         "1392",
         "Research & Development",
         "3",
         "4",
         "Life Sciences",
         "1",
         "5",
         "4",
         "Female",
         "56",
         "3",
         "1",
         "Research Scientist",
         "3",
         "Married",
         "2909",
         "23159",
         "1",
         "Y",
         "Yes",
         "11",
         "3",
         "3",
         "80",
         "0",
         "8",
         "3",
         "3",
         "8",
         "7",
         "3",
         "0"
        ],
        [
         "4",
         "27",
         "No",
         "Travel_Rarely",
         "591",
         "Research & Development",
         "2",
         "1",
         "Medical",
         "1",
         "7",
         "1",
         "Male",
         "40",
         "3",
         "1",
         "Laboratory Technician",
         "2",
         "Married",
         "3468",
         "16632",
         "9",
         "Y",
         "No",
         "12",
         "3",
         "4",
         "80",
         "1",
         "6",
         "3",
         "3",
         "2",
         "2",
         "2",
         "2"
        ]
       ],
       "shape": {
        "columns": 35,
        "rows": 5
       }
      },
      "text/html": [
       "<div>\n",
       "<style scoped>\n",
       "    .dataframe tbody tr th:only-of-type {\n",
       "        vertical-align: middle;\n",
       "    }\n",
       "\n",
       "    .dataframe tbody tr th {\n",
       "        vertical-align: top;\n",
       "    }\n",
       "\n",
       "    .dataframe thead th {\n",
       "        text-align: right;\n",
       "    }\n",
       "</style>\n",
       "<table border=\"1\" class=\"dataframe\">\n",
       "  <thead>\n",
       "    <tr style=\"text-align: right;\">\n",
       "      <th></th>\n",
       "      <th>Age</th>\n",
       "      <th>Attrition</th>\n",
       "      <th>BusinessTravel</th>\n",
       "      <th>DailyRate</th>\n",
       "      <th>Department</th>\n",
       "      <th>DistanceFromHome</th>\n",
       "      <th>Education</th>\n",
       "      <th>EducationField</th>\n",
       "      <th>EmployeeCount</th>\n",
       "      <th>EmployeeNumber</th>\n",
       "      <th>...</th>\n",
       "      <th>RelationshipSatisfaction</th>\n",
       "      <th>StandardHours</th>\n",
       "      <th>StockOptionLevel</th>\n",
       "      <th>TotalWorkingYears</th>\n",
       "      <th>TrainingTimesLastYear</th>\n",
       "      <th>WorkLifeBalance</th>\n",
       "      <th>YearsAtCompany</th>\n",
       "      <th>YearsInCurrentRole</th>\n",
       "      <th>YearsSinceLastPromotion</th>\n",
       "      <th>YearsWithCurrManager</th>\n",
       "    </tr>\n",
       "  </thead>\n",
       "  <tbody>\n",
       "    <tr>\n",
       "      <th>0</th>\n",
       "      <td>41</td>\n",
       "      <td>Yes</td>\n",
       "      <td>Travel_Rarely</td>\n",
       "      <td>1102</td>\n",
       "      <td>Sales</td>\n",
       "      <td>1</td>\n",
       "      <td>2</td>\n",
       "      <td>Life Sciences</td>\n",
       "      <td>1</td>\n",
       "      <td>1</td>\n",
       "      <td>...</td>\n",
       "      <td>1</td>\n",
       "      <td>80</td>\n",
       "      <td>0</td>\n",
       "      <td>8</td>\n",
       "      <td>0</td>\n",
       "      <td>1</td>\n",
       "      <td>6</td>\n",
       "      <td>4</td>\n",
       "      <td>0</td>\n",
       "      <td>5</td>\n",
       "    </tr>\n",
       "    <tr>\n",
       "      <th>1</th>\n",
       "      <td>49</td>\n",
       "      <td>No</td>\n",
       "      <td>Travel_Frequently</td>\n",
       "      <td>279</td>\n",
       "      <td>Research &amp; Development</td>\n",
       "      <td>8</td>\n",
       "      <td>1</td>\n",
       "      <td>Life Sciences</td>\n",
       "      <td>1</td>\n",
       "      <td>2</td>\n",
       "      <td>...</td>\n",
       "      <td>4</td>\n",
       "      <td>80</td>\n",
       "      <td>1</td>\n",
       "      <td>10</td>\n",
       "      <td>3</td>\n",
       "      <td>3</td>\n",
       "      <td>10</td>\n",
       "      <td>7</td>\n",
       "      <td>1</td>\n",
       "      <td>7</td>\n",
       "    </tr>\n",
       "    <tr>\n",
       "      <th>2</th>\n",
       "      <td>37</td>\n",
       "      <td>Yes</td>\n",
       "      <td>Travel_Rarely</td>\n",
       "      <td>1373</td>\n",
       "      <td>Research &amp; Development</td>\n",
       "      <td>2</td>\n",
       "      <td>2</td>\n",
       "      <td>Other</td>\n",
       "      <td>1</td>\n",
       "      <td>4</td>\n",
       "      <td>...</td>\n",
       "      <td>2</td>\n",
       "      <td>80</td>\n",
       "      <td>0</td>\n",
       "      <td>7</td>\n",
       "      <td>3</td>\n",
       "      <td>3</td>\n",
       "      <td>0</td>\n",
       "      <td>0</td>\n",
       "      <td>0</td>\n",
       "      <td>0</td>\n",
       "    </tr>\n",
       "    <tr>\n",
       "      <th>3</th>\n",
       "      <td>33</td>\n",
       "      <td>No</td>\n",
       "      <td>Travel_Frequently</td>\n",
       "      <td>1392</td>\n",
       "      <td>Research &amp; Development</td>\n",
       "      <td>3</td>\n",
       "      <td>4</td>\n",
       "      <td>Life Sciences</td>\n",
       "      <td>1</td>\n",
       "      <td>5</td>\n",
       "      <td>...</td>\n",
       "      <td>3</td>\n",
       "      <td>80</td>\n",
       "      <td>0</td>\n",
       "      <td>8</td>\n",
       "      <td>3</td>\n",
       "      <td>3</td>\n",
       "      <td>8</td>\n",
       "      <td>7</td>\n",
       "      <td>3</td>\n",
       "      <td>0</td>\n",
       "    </tr>\n",
       "    <tr>\n",
       "      <th>4</th>\n",
       "      <td>27</td>\n",
       "      <td>No</td>\n",
       "      <td>Travel_Rarely</td>\n",
       "      <td>591</td>\n",
       "      <td>Research &amp; Development</td>\n",
       "      <td>2</td>\n",
       "      <td>1</td>\n",
       "      <td>Medical</td>\n",
       "      <td>1</td>\n",
       "      <td>7</td>\n",
       "      <td>...</td>\n",
       "      <td>4</td>\n",
       "      <td>80</td>\n",
       "      <td>1</td>\n",
       "      <td>6</td>\n",
       "      <td>3</td>\n",
       "      <td>3</td>\n",
       "      <td>2</td>\n",
       "      <td>2</td>\n",
       "      <td>2</td>\n",
       "      <td>2</td>\n",
       "    </tr>\n",
       "  </tbody>\n",
       "</table>\n",
       "<p>5 rows × 35 columns</p>\n",
       "</div>"
      ],
      "text/plain": [
       "   Age Attrition     BusinessTravel  DailyRate              Department  \\\n",
       "0   41       Yes      Travel_Rarely       1102                   Sales   \n",
       "1   49        No  Travel_Frequently        279  Research & Development   \n",
       "2   37       Yes      Travel_Rarely       1373  Research & Development   \n",
       "3   33        No  Travel_Frequently       1392  Research & Development   \n",
       "4   27        No      Travel_Rarely        591  Research & Development   \n",
       "\n",
       "   DistanceFromHome  Education EducationField  EmployeeCount  EmployeeNumber  \\\n",
       "0                 1          2  Life Sciences              1               1   \n",
       "1                 8          1  Life Sciences              1               2   \n",
       "2                 2          2          Other              1               4   \n",
       "3                 3          4  Life Sciences              1               5   \n",
       "4                 2          1        Medical              1               7   \n",
       "\n",
       "   ...  RelationshipSatisfaction StandardHours  StockOptionLevel  \\\n",
       "0  ...                         1            80                 0   \n",
       "1  ...                         4            80                 1   \n",
       "2  ...                         2            80                 0   \n",
       "3  ...                         3            80                 0   \n",
       "4  ...                         4            80                 1   \n",
       "\n",
       "   TotalWorkingYears  TrainingTimesLastYear WorkLifeBalance  YearsAtCompany  \\\n",
       "0                  8                      0               1               6   \n",
       "1                 10                      3               3              10   \n",
       "2                  7                      3               3               0   \n",
       "3                  8                      3               3               8   \n",
       "4                  6                      3               3               2   \n",
       "\n",
       "  YearsInCurrentRole  YearsSinceLastPromotion  YearsWithCurrManager  \n",
       "0                  4                        0                     5  \n",
       "1                  7                        1                     7  \n",
       "2                  0                        0                     0  \n",
       "3                  7                        3                     0  \n",
       "4                  2                        2                     2  \n",
       "\n",
       "[5 rows x 35 columns]"
      ]
     },
     "execution_count": 4,
     "metadata": {},
     "output_type": "execute_result"
    }
   ],
   "source": [
    "loader = DatasetLoader()\n",
    "df = loader.load_from_local()\n",
    "if df is None:\n",
    "    df = loader.load_from_github()\n",
    "if df is None:\n",
    "    df = loader.load_from_kaggle()\n",
    "if df is None:\n",
    "    print(\"Unable to find data..\")\n",
    "    exit(1)\n",
    "\n",
    "df.head(5)"
   ]
  },
  {
   "cell_type": "code",
   "execution_count": 5,
   "metadata": {
    "execution": {
     "iopub.execute_input": "2025-04-29T05:17:44.039444Z",
     "iopub.status.busy": "2025-04-29T05:17:44.039109Z",
     "iopub.status.idle": "2025-04-29T05:17:44.045844Z",
     "shell.execute_reply": "2025-04-29T05:17:44.045033Z",
     "shell.execute_reply.started": "2025-04-29T05:17:44.039418Z"
    },
    "trusted": true
   },
   "outputs": [
    {
     "name": "stdout",
     "output_type": "stream",
     "text": [
      "total number of null values in dataset:  0\n"
     ]
    }
   ],
   "source": [
    "print(\"total number of null values in dataset: \",\n",
    "      sum(df.isnull().sum().to_numpy())\n",
    "     )"
   ]
  },
  {
   "cell_type": "code",
   "execution_count": 6,
   "metadata": {
    "execution": {
     "iopub.execute_input": "2025-04-29T05:17:54.704500Z",
     "iopub.status.busy": "2025-04-29T05:17:54.704154Z",
     "iopub.status.idle": "2025-04-29T05:17:54.710452Z",
     "shell.execute_reply": "2025-04-29T05:17:54.709670Z",
     "shell.execute_reply.started": "2025-04-29T05:17:54.704475Z"
    },
    "trusted": true
   },
   "outputs": [
    {
     "data": {
      "text/plain": [
       "0    Yes\n",
       "1     No\n",
       "2    Yes\n",
       "3     No\n",
       "4     No\n",
       "Name: Attrition, dtype: object"
      ]
     },
     "execution_count": 6,
     "metadata": {},
     "output_type": "execute_result"
    }
   ],
   "source": [
    "target_column_name = \"Attrition\"\n",
    "df[target_column_name].head()"
   ]
  },
  {
   "cell_type": "code",
   "execution_count": 7,
   "metadata": {
    "execution": {
     "iopub.execute_input": "2025-04-29T05:24:15.690289Z",
     "iopub.status.busy": "2025-04-29T05:24:15.689918Z",
     "iopub.status.idle": "2025-04-29T05:24:15.783206Z",
     "shell.execute_reply": "2025-04-29T05:24:15.782475Z",
     "shell.execute_reply.started": "2025-04-29T05:24:15.690262Z"
    },
    "trusted": true
   },
   "outputs": [
    {
     "data": {
      "image/png": "[encoded data removed]",
      "text/plain": [
       "<Figure size 400x400 with 1 Axes>"
      ]
     },
     "metadata": {},
     "output_type": "display_data"
    }
   ],
   "source": [
    "counts = df[target_column_name].value_counts()\n",
    "\n",
    "labels = counts.index.tolist()\n",
    "sizes = counts.values\n",
    "\n",
    "plt.style.use('fivethirtyeight')\n",
    "plt.figure(figsize=(4, 4))\n",
    "plt.pie(sizes, labels=labels, autopct='%1.1f%%', startangle=90)\n",
    "plt.title(f'Pie Chart of {target_column_name}')\n",
    "plt.axis('equal')\n",
    "plt.show()\n"
   ]
  },
  {
   "cell_type": "code",
   "execution_count": 8,
   "metadata": {
    "execution": {
     "iopub.execute_input": "2025-04-29T05:30:04.808404Z",
     "iopub.status.busy": "2025-04-29T05:30:04.808017Z",
     "iopub.status.idle": "2025-04-29T05:30:04.813883Z",
     "shell.execute_reply": "2025-04-29T05:30:04.813094Z",
     "shell.execute_reply.started": "2025-04-29T05:30:04.808373Z"
    },
    "trusted": true
   },
   "outputs": [
    {
     "name": "stdout",
     "output_type": "stream",
     "text": [
      "Nominal columns:  ['Age', 'DailyRate', 'DistanceFromHome', 'Education', 'EmployeeCount', 'EmployeeNumber', 'HourlyRate', 'MonthlyIncome', 'MonthlyRate', 'NumCompaniesWorked', 'PercentSalaryHike', 'StandardHours', 'StockOptionLevel', 'TotalWorkingYears', 'TrainingTimesLastYear', 'YearsAtCompany', 'YearsInCurrentRole', 'YearsSinceLastPromotion', 'YearsWithCurrManager']\n",
      "Ordinal columns:  ['Attrition', 'BusinessTravel', 'Department', 'EducationField', 'Gender', 'JobRole', 'MaritalStatus', 'Over18', 'OverTime', 'EnvironmentSatisfaction', 'JobInvolvement', 'JobLevel', 'JobSatisfaction', 'PerformanceRating', 'RelationshipSatisfaction', 'WorkLifeBalance']\n",
      "Other columns:  []\n",
      "Total nominal columns:  19\n",
      "Total ordinal columns:  16\n",
      "Total other columns:  0\n",
      "Nominal + original + other columns:  35\n",
      "Total columns:  35\n"
     ]
    }
   ],
   "source": [
    "nominal_columns = []\n",
    "ordinal_columns = []\n",
    "other_columns = []\n",
    "\n",
    "for col in df.columns:\n",
    "    if df[col].dtype == \"object\":\n",
    "        ordinal_columns.append(col)\n",
    "    elif df[col].dtype != \"int64\" and df[col].dtype != \"float64\":\n",
    "        other_columns.append(col)\n",
    "\n",
    "for col in [\n",
    "        \"Attrition\",\n",
    "        \"BusinessTravel\",\n",
    "        \"Department\",\n",
    "        \"EducationField\",\n",
    "        \"EnvironmentSatisfaction\",\n",
    "        \"Gender\",\n",
    "        \"JobInvolvement\",\n",
    "        \"JobLevel\",\n",
    "        \"JobRole\",\n",
    "        \"JobSatisfaction\",\n",
    "        \"MaritalStatus\",\n",
    "        \"Over18\",\n",
    "        \"OverTime\",\n",
    "        \"PerformanceRating\",\n",
    "        \"RelationshipSatisfaction\",\n",
    "        \"WorkLifeBalance\"\n",
    "    ]:\n",
    "    if col not in ordinal_columns:\n",
    "        ordinal_columns.append(col)\n",
    "\n",
    "for col in df.columns:\n",
    "    if col not in ordinal_columns and col not in other_columns:\n",
    "        if df[col].dtype != \"object\":\n",
    "            nominal_columns.append(col)\n",
    "        else:\n",
    "            other_columns.append(col)\n",
    "\n",
    "print(\"Nominal columns: \", nominal_columns)\n",
    "print(\"Ordinal columns: \", ordinal_columns)\n",
    "print(\"Other columns: \", other_columns)\n",
    "\n",
    "print(\"Total nominal columns: \", len(nominal_columns))\n",
    "print(\"Total ordinal columns: \", len(ordinal_columns))\n",
    "print(\"Total other columns: \", len(other_columns))\n",
    "print(\"Nominal + original + other columns: \", len(nominal_columns) + len(ordinal_columns) + len(other_columns))\n",
    "print(\"Total columns: \", len(df.columns))"
   ]
  },
  {
   "cell_type": "code",
   "execution_count": 9,
   "metadata": {
    "execution": {
     "iopub.execute_input": "2025-04-29T05:34:42.100057Z",
     "iopub.status.busy": "2025-04-29T05:34:42.099713Z",
     "iopub.status.idle": "2025-04-29T05:34:42.105019Z",
     "shell.execute_reply": "2025-04-29T05:34:42.104000Z",
     "shell.execute_reply.started": "2025-04-29T05:34:42.100028Z"
    },
    "trusted": true
   },
   "outputs": [],
   "source": [
    "def print_nominal_info(col):\n",
    "    print(\"Column name: \", col)\n",
    "    print(\"Mean: \", df[col].mean())\n",
    "    print(\"Median: \", df[col].median())\n",
    "    print(\"varience: \", df[col].var())\n",
    "    print(\"std-dev: \", df[col].std())\n",
    "\n",
    "def print_ordinal_info(col):\n",
    "    counts = df[col].value_counts()\n",
    "    print(\n",
    "        pd.DataFrame({\n",
    "            \"Frequency\": counts,\n",
    "            \"Percentage\": counts / len(df) * 100\n",
    "        })\n",
    "    )"
   ]
  },
  {
   "cell_type": "code",
   "execution_count": 10,
   "metadata": {
    "execution": {
     "iopub.execute_input": "2025-04-29T05:34:45.030773Z",
     "iopub.status.busy": "2025-04-29T05:34:45.030447Z",
     "iopub.status.idle": "2025-04-29T05:34:45.067522Z",
     "shell.execute_reply": "2025-04-29T05:34:45.066661Z",
     "shell.execute_reply.started": "2025-04-29T05:34:45.030743Z"
    },
    "trusted": true
   },
   "outputs": [
    {
     "name": "stdout",
     "output_type": "stream",
     "text": [
      "Column name:  Age\n",
      "Mean:  36.923809523809524\n",
      "Median:  36.0\n",
      "varience:  83.45504878602223\n",
      "std-dev:  9.135373489136732\n",
      "\n",
      "Column name:  DailyRate\n",
      "Mean:  802.4857142857143\n",
      "Median:  802.0\n",
      "varience:  162819.5937372362\n",
      "std-dev:  403.50909994352816\n",
      "\n",
      "Column name:  DistanceFromHome\n",
      "Mean:  9.19251700680272\n",
      "Median:  7.0\n",
      "varience:  65.72125097826742\n",
      "std-dev:  8.106864435666074\n",
      "\n",
      "Column name:  Education\n",
      "Mean:  2.912925170068027\n",
      "Median:  3.0\n",
      "varience:  1.0489138337431638\n",
      "std-dev:  1.0241649445978729\n",
      "\n",
      "Column name:  EmployeeCount\n",
      "Mean:  1.0\n",
      "Median:  1.0\n",
      "varience:  0.0\n",
      "std-dev:  0.0\n",
      "\n",
      "Column name:  EmployeeNumber\n",
      "Mean:  1024.865306122449\n",
      "Median:  1020.5\n",
      "varience:  362433.29974854476\n",
      "std-dev:  602.0243348474751\n",
      "\n",
      "Column name:  HourlyRate\n",
      "Mean:  65.89115646258503\n",
      "Median:  66.0\n",
      "varience:  413.28562629953274\n",
      "std-dev:  20.329427593996165\n",
      "\n",
      "Column name:  MonthlyIncome\n",
      "Mean:  6502.931292517007\n",
      "Median:  4919.0\n",
      "varience:  22164857.07151841\n",
      "std-dev:  4707.956783097994\n",
      "\n",
      "Column name:  MonthlyRate\n",
      "Mean:  14313.103401360544\n",
      "Median:  14235.5\n",
      "varience:  50662878.16901497\n",
      "std-dev:  7117.786044059976\n",
      "\n",
      "Column name:  NumCompaniesWorked\n",
      "Mean:  2.6931972789115646\n",
      "Median:  2.0\n",
      "varience:  6.240048994410563\n",
      "std-dev:  2.498009006070747\n",
      "\n",
      "Column name:  PercentSalaryHike\n",
      "Mean:  15.209523809523809\n",
      "Median:  14.0\n",
      "varience:  13.3951440889494\n",
      "std-dev:  3.6599377165396407\n",
      "\n",
      "Column name:  StandardHours\n",
      "Mean:  80.0\n",
      "Median:  80.0\n",
      "varience:  0.0\n",
      "std-dev:  0.0\n",
      "\n",
      "Column name:  StockOptionLevel\n",
      "Mean:  0.7938775510204081\n",
      "Median:  1.0\n",
      "varience:  0.7260346480321197\n",
      "std-dev:  0.852076667930838\n",
      "\n",
      "Column name:  TotalWorkingYears\n",
      "Mean:  11.279591836734694\n",
      "Median:  10.0\n",
      "varience:  60.54056348202997\n",
      "std-dev:  7.780781675514997\n",
      "\n",
      "Column name:  TrainingTimesLastYear\n",
      "Mean:  2.7993197278911564\n",
      "Median:  3.0\n",
      "varience:  1.662218733647305\n",
      "std-dev:  1.2892706207958455\n",
      "\n",
      "Column name:  YearsAtCompany\n",
      "Mean:  7.0081632653061225\n",
      "Median:  5.0\n",
      "varience:  37.534310443033576\n",
      "std-dev:  6.126525152403569\n",
      "\n",
      "Column name:  YearsInCurrentRole\n",
      "Mean:  4.229251700680272\n",
      "Median:  3.0\n",
      "varience:  13.127121972001872\n",
      "std-dev:  3.623137034670628\n",
      "\n",
      "Column name:  YearsSinceLastPromotion\n",
      "Mean:  2.1877551020408164\n",
      "Median:  1.0\n",
      "varience:  10.384056903905197\n",
      "std-dev:  3.222430279137967\n",
      "\n",
      "Column name:  YearsWithCurrManager\n",
      "Mean:  4.12312925170068\n",
      "Median:  3.0\n",
      "varience:  12.731595374705364\n",
      "std-dev:  3.5681361205404376\n",
      "\n"
     ]
    }
   ],
   "source": [
    "for col in nominal_columns:\n",
    "    print_nominal_info(col)\n",
    "    print()"
   ]
  },
  {
   "cell_type": "code",
   "execution_count": 11,
   "metadata": {
    "trusted": true
   },
   "outputs": [
    {
     "name": "stdout",
     "output_type": "stream",
     "text": [
      "           Frequency  Percentage\n",
      "Attrition                       \n",
      "No              1233   83.877551\n",
      "Yes              237   16.122449\n",
      "\n",
      "                   Frequency  Percentage\n",
      "BusinessTravel                          \n",
      "Travel_Rarely           1043   70.952381\n",
      "Travel_Frequently        277   18.843537\n",
      "Non-Travel               150   10.204082\n",
      "\n",
      "                        Frequency  Percentage\n",
      "Department                                   \n",
      "Research & Development        961   65.374150\n",
      "Sales                         446   30.340136\n",
      "Human Resources                63    4.285714\n",
      "\n",
      "                  Frequency  Percentage\n",
      "EducationField                         \n",
      "Life Sciences           606   41.224490\n",
      "Medical                 464   31.564626\n",
      "Marketing               159   10.816327\n",
      "Technical Degree        132    8.979592\n",
      "Other                    82    5.578231\n",
      "Human Resources          27    1.836735\n",
      "\n",
      "        Frequency  Percentage\n",
      "Gender                       \n",
      "Male          882        60.0\n",
      "Female        588        40.0\n",
      "\n",
      "                           Frequency  Percentage\n",
      "JobRole                                         \n",
      "Sales Executive                  326   22.176871\n",
      "Research Scientist               292   19.863946\n",
      "Laboratory Technician            259   17.619048\n",
      "Manufacturing Director           145    9.863946\n",
      "Healthcare Representative        131    8.911565\n",
      "Manager                          102    6.938776\n",
      "Sales Representative              83    5.646259\n",
      "Research Director                 80    5.442177\n",
      "Human Resources                   52    3.537415\n",
      "\n",
      "               Frequency  Percentage\n",
      "MaritalStatus                       \n",
      "Married              673   45.782313\n",
      "Single               470   31.972789\n",
      "Divorced             327   22.244898\n",
      "\n",
      "        Frequency  Percentage\n",
      "Over18                       \n",
      "Y            1470       100.0\n",
      "\n",
      "          Frequency  Percentage\n",
      "OverTime                       \n",
      "No             1054    71.70068\n",
      "Yes             416    28.29932\n",
      "\n",
      "                         Frequency  Percentage\n",
      "EnvironmentSatisfaction                       \n",
      "3                              453   30.816327\n",
      "4                              446   30.340136\n",
      "2                              287   19.523810\n",
      "1                              284   19.319728\n",
      "\n",
      "                Frequency  Percentage\n",
      "JobInvolvement                       \n",
      "3                     868   59.047619\n",
      "2                     375   25.510204\n",
      "4                     144    9.795918\n",
      "1                      83    5.646259\n",
      "\n",
      "          Frequency  Percentage\n",
      "JobLevel                       \n",
      "1               543   36.938776\n",
      "2               534   36.326531\n",
      "3               218   14.829932\n",
      "4               106    7.210884\n",
      "5                69    4.693878\n",
      "\n",
      "                 Frequency  Percentage\n",
      "JobSatisfaction                       \n",
      "4                      459   31.224490\n",
      "3                      442   30.068027\n",
      "1                      289   19.659864\n",
      "2                      280   19.047619\n",
      "\n",
      "                   Frequency  Percentage\n",
      "PerformanceRating                       \n",
      "3                       1244    84.62585\n",
      "4                        226    15.37415\n",
      "\n",
      "                          Frequency  Percentage\n",
      "RelationshipSatisfaction                       \n",
      "3                               459   31.224490\n",
      "4                               432   29.387755\n",
      "2                               303   20.612245\n",
      "1                               276   18.775510\n",
      "\n",
      "                 Frequency  Percentage\n",
      "WorkLifeBalance                       \n",
      "3                      893   60.748299\n",
      "2                      344   23.401361\n",
      "4                      153   10.408163\n",
      "1                       80    5.442177\n",
      "\n"
     ]
    }
   ],
   "source": [
    "for col in ordinal_columns:\n",
    "    print_ordinal_info(col)\n",
    "    print()"
   ]
  },
  {
   "cell_type": "markdown",
   "metadata": {},
   "source": [
    "### Target Column (Attrition)"
   ]
  },
  {
   "cell_type": "code",
   "execution_count": 12,
   "metadata": {},
   "outputs": [
    {
     "data": {
      "image/png": "[encoded data removed]",
      "text/plain": [
       "<Figure size 400x400 with 1 Axes>"
      ]
     },
     "metadata": {},
     "output_type": "display_data"
    }
   ],
   "source": [
    "counts = df[target_column_name].value_counts()\n",
    "\n",
    "plt.figure(figsize=(4, 4))\n",
    "\n",
    "plt.pie(counts.values, labels=counts.index.to_numpy(), autopct='%1.1f%%')\n",
    "plt.title(f\"{target_column_name}\")\n",
    "plt.axis('equal')\n",
    "plt.show()"
   ]
  },
  {
   "cell_type": "markdown",
   "metadata": {},
   "source": [
    "### Age"
   ]
  },
  {
   "cell_type": "code",
   "execution_count": null,
   "metadata": {},
   "outputs": [],
   "source": []
  }
 ],
 "metadata": {
  "kaggle": {
   "accelerator": "none",
   "dataSources": [
    {
     "datasetId": 2888236,
     "sourceId": 4980019,
     "sourceType": "datasetVersion"
    }
   ],
   "dockerImageVersionId": 30886,
   "isGpuEnabled": false,
   "isInternetEnabled": false,
   "language": "python",
   "sourceType": "notebook"
  },
  "kernelspec": {
   "display_name": ".venv",
   "language": "python",
   "name": "python3"
  },
  "language_info": {
   "codemirror_mode": {
    "name": "ipython",
    "version": 3
   },
   "file_extension": ".py",
   "mimetype": "text/x-python",
   "name": "python",
   "nbconvert_exporter": "python",
   "pygments_lexer": "ipython3",
   "version": "3.12.10"
  }
 },
 "nbformat": 4,
 "nbformat_minor": 4
}
